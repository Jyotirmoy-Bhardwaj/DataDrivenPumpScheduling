{
 "cells": [
  {
   "cell_type": "code",
   "execution_count": 1,
   "metadata": {
    "id": "qLTVIvmEV0bJ"
   },
   "outputs": [
    {
     "name": "stderr",
     "output_type": "stream",
     "text": [
      "Using TensorFlow backend.\n"
     ]
    }
   ],
   "source": [
    "#We are testing a DL model for Mixed integer formulation for Water distribution network.\n",
    "# The input data such as water demand and time-ahead dynamic energy prices are obtained from Singh et al (2019) paper.\n",
    "# We computed the time ahead pump switching using MATALB Gurobi solver\n",
    "# We obtained the time ahead pump switching for 2048 hours (85.33 days)\n",
    "# We train_test the neural network in the ratio of 80-20.\n",
    "# The nn is trained using ReLu and SoftMax (as the output is integer values)\n",
    "\n",
    "#In our  case y is (z)\n",
    "\n",
    "import numpy as np\n",
    "import pandas as pd   #data analysis and manipulation library\n",
    "import seaborn as sns #Python statistical data visualization library.\n",
    "import matplotlib.pyplot as plt\n",
    "from sklearn import model_selection #Tuning the hyperparameters, cross validation, model persistance are the important aspects of this.\n",
    "from sklearn.model_selection import train_test_split #ML library to data analysis\n",
    "from sklearn.metrics import accuracy_score, r2_score\n",
    "import sklearn.metrics as metrics\n",
    "from openpyxl import Workbook, load_workbook\n",
    "from openpyxl.utils.dataframe import dataframe_to_rows\n",
    "\n",
    "\n",
    "from sklearn.decomposition import PCA #dimensionality reduction\n",
    "\n",
    "%matplotlib inline\n",
    "\n",
    "#Libraries for Deep learning framework from Keras\n",
    "\n",
    "import tensorflow as tf\n",
    "from tensorflow.keras.models import Sequential\n",
    "from tensorflow.keras.layers import Dense, Activation\n",
    "from tensorflow.keras.layers import BatchNormalization\n",
    "\n",
    "import keras\n",
    "import keras.utils\n",
    "from keras import utils as np_utils\n",
    "from keras.models import Sequential\n",
    "\n",
    "from tensorflow.keras import layers\n",
    "from tensorflow.keras import utils as np_utils\n",
    "from tensorflow.keras import models \n",
    "from tensorflow.keras.models import Sequential\n",
    "from tensorflow.keras.layers import Activation, LeakyReLU, PReLU, ELU #Import activation functions from keras.layers\n",
    "from tensorflow.keras.layers import Dropout #Import dropout library, the objective of dropout is to prevent overfitting of data, However, we have to be careful while setting the dropout rate.\n",
    "from tensorflow.keras.optimizers import SGD, RMSprop\n",
    "from tensorflow.keras.callbacks import LearningRateScheduler #Learning rate scheduler, Here call back is an object that can perform\n",
    "                                                # at various actions at different stages of training \n",
    "from tensorflow.keras.callbacks import History #We can use the data collected from history to  [accuracy, loss, val_accuracy, val_loss]\n",
    "\n",
    "\n",
    "\n",
    "import io #Deal with various types of input output\n",
    "import os #Talk with os, like changing and modifying dirctories\n",
    "import requests #Allow you to send HTTP/1.1, headers, form data, multipart files r = requests.get(‘https://github.com/timeline.json’)\n",
    "\n",
    "\n",
    "import warnings\n",
    "warnings.simplefilter(action='ignore', category=FutureWarning)\n",
    "warnings.filterwarnings('ignore')\n",
    "warnings.filterwarnings('ignore', category=DeprecationWarning) #Deprecated warning: it is a base category of warning about deprecated features\n",
    "\n",
    "\n",
    "import dill\n",
    "# dill.dump_session('notebook_env.db')\n"
   ]
  },
  {
   "cell_type": "code",
   "execution_count": 2,
   "metadata": {
    "colab": {
     "base_uri": "https://localhost:8080/",
     "height": 35
    },
    "id": "3UAv55q5WBcM",
    "outputId": "3c021aa0-bd4d-494f-f943-eef9218e7517"
   },
   "outputs": [
    {
     "data": {
      "text/plain": [
       "'C:\\\\Users\\\\jyotib18\\\\OneDrive - Universitetet i Agder\\\\Data Files From Rahul'"
      ]
     },
     "execution_count": 2,
     "metadata": {},
     "output_type": "execute_result"
    }
   ],
   "source": [
    "pwd\n"
   ]
  },
  {
   "cell_type": "code",
   "execution_count": 3,
   "metadata": {
    "colab": {
     "base_uri": "https://localhost:8080/",
     "height": 35
    },
    "id": "IpVFTXeQXCXK",
    "outputId": "27426a81-8e08-46b7-8f2c-c8deaf83a9a4"
   },
   "outputs": [
    {
     "data": {
      "text/plain": [
       "(193619, 75)"
      ]
     },
     "execution_count": 3,
     "metadata": {},
     "output_type": "execute_result"
    }
   ],
   "source": [
    "import io\n",
    "#inputs = pd.read_csv(io.BytesIO(uploaded['1.csv']))\n",
    "\n",
    "inputs=pd.read_csv(r'C:\\Users\\jyotib18\\OPS_Data\\2T12Ts5\\feasible_input_log.csv')\n",
    "inputs=inputs.dropna()\n",
    "\n",
    "\n",
    "# Dataset is now stored in a Pandas Dataframe\n",
    "inputs.shape"
   ]
  },
  {
   "cell_type": "code",
   "execution_count": 4,
   "metadata": {
    "colab": {
     "base_uri": "https://localhost:8080/",
     "height": 35
    },
    "id": "JJOS8FKYX-NI",
    "outputId": "1b70258b-b9d3-487b-c10f-9a84707063e3"
   },
   "outputs": [
    {
     "data": {
      "text/plain": [
       "pandas.core.frame.DataFrame"
      ]
     },
     "execution_count": 4,
     "metadata": {},
     "output_type": "execute_result"
    }
   ],
   "source": [
    "type(inputs)"
   ]
  },
  {
   "cell_type": "code",
   "execution_count": 5,
   "metadata": {
    "colab": {
     "base_uri": "https://localhost:8080/",
     "height": 267
    },
    "id": "7kjRvcIjYBcE",
    "outputId": "fc4ba7fd-6de7-44fa-fddc-9bbd367a8a2d"
   },
   "outputs": [
    {
     "data": {
      "text/plain": [
       "<bound method NDFrame.head of          170.36   184.93  0  1  1.1  0.1  3  0.2  1.2  1.3  ...  47.818  \\\n",
       "0       188.680   95.997  0  0    1    0  4    0    1    1  ...  40.997   \n",
       "1        69.425   78.392  0  0    1    1  1    0    0    0  ...  39.418   \n",
       "2       108.830   69.571  1  1    0    0  2    0    0    1  ...  42.353   \n",
       "3       196.590  154.030  1  0    0    1  2    0    0    1  ...  30.652   \n",
       "4       143.160  100.200  0  0    0    0  2    1    0    0  ...  34.814   \n",
       "...         ...      ... .. ..  ...  ... ..  ...  ...  ...  ...     ...   \n",
       "193614  105.530   44.108  0  0    1    1  2    0    0    1  ...  38.873   \n",
       "193615  156.140  175.500  0  0    1    0  3    1    1    0  ...  46.673   \n",
       "193616  164.760   48.545  0  1    0    0  4    1    1    1  ...  45.461   \n",
       "193617  152.950  169.290  1  1    1    1  2    0    0    0  ...  43.121   \n",
       "193618   93.005  164.140  1  1    0    0  3    1    1    0  ...  47.009   \n",
       "\n",
       "        49.186  40.944  32.772  32.986   35.15  46.814  35.086  46.286   34.87  \n",
       "0       32.899  47.061  42.441  37.019  40.265  38.036  31.519  34.798  32.466  \n",
       "1       34.610  46.886  33.895  34.518  33.414  34.553  38.714  36.222  48.468  \n",
       "2       47.189  46.110  41.534  33.658  34.799  47.730  30.573  39.798  33.359  \n",
       "3       41.224  47.637  43.384  33.809  37.378  39.215  49.633  33.128  47.110  \n",
       "4       43.522  35.781  43.436  43.903  31.360  35.096  34.481  43.357  46.888  \n",
       "...        ...     ...     ...     ...     ...     ...     ...     ...     ...  \n",
       "193614  43.925  45.904  32.489  36.552  42.274  36.781  42.748  49.653  49.403  \n",
       "193615  49.782  32.178  46.541  30.276  39.246  35.929  38.957  37.951  37.795  \n",
       "193616  38.478  43.418  47.597  38.226  43.497  34.303  42.571  37.691  45.118  \n",
       "193617  36.369  39.802  32.721  43.570  34.551  36.117  34.702  41.056  37.087  \n",
       "193618  30.440  46.920  35.495  45.421  43.309  41.785  43.464  44.798  37.136  \n",
       "\n",
       "[193619 rows x 75 columns]>"
      ]
     },
     "execution_count": 5,
     "metadata": {},
     "output_type": "execute_result"
    }
   ],
   "source": [
    "inputs.head"
   ]
  },
  {
   "cell_type": "code",
   "execution_count": 6,
   "metadata": {
    "colab": {
     "base_uri": "https://localhost:8080/",
     "height": 35
    },
    "id": "3K06d0z3YLHZ",
    "outputId": "2f18508a-5444-4967-a6c7-42e5cfdeb656"
   },
   "outputs": [
    {
     "data": {
      "text/plain": [
       "(193619, 48)"
      ]
     },
     "execution_count": 6,
     "metadata": {},
     "output_type": "execute_result"
    }
   ],
   "source": [
    "import io\n",
    "outputs = pd.read_csv(r'C:\\Users\\jyotib18\\OPS_Data\\2T12Ts5\\feasible_output_log.csv')\n",
    "# Dataset is now stored in a Pandas Dataframe\n",
    "outputs=outputs.dropna()\n",
    "outputs.shape"
   ]
  },
  {
   "cell_type": "code",
   "execution_count": 7,
   "metadata": {
    "colab": {
     "base_uri": "https://localhost:8080/",
     "height": 267
    },
    "id": "c_Y34U9Eo9RK",
    "outputId": "a0beb83e-4aeb-4f67-e98b-175ffcb61b9b"
   },
   "outputs": [
    {
     "data": {
      "text/plain": [
       "<bound method NDFrame.head of         0   -0  -0.1  -0.2  -0.3  -0.4  -0.5  -0.6  -0.7    1  ...  -0.27  \\\n",
       "0       0  0.0   0.0   0.0   1.0   0.0   0.0   0.0   0.0  0.0  ...    0.0   \n",
       "1       0 -0.0  -0.0  -0.0  -0.0  -0.0  -0.0   1.0  -0.0 -0.0  ...    0.0   \n",
       "2       1 -0.0  -0.0  -0.0  -0.0  -0.0   1.0  -0.0   1.0 -0.0  ...    0.0   \n",
       "3       1  0.0   0.0   0.0   1.0  -0.0  -0.0   1.0   0.0  0.0  ...    0.0   \n",
       "4       0  1.0  -0.0  -0.0  -0.0   1.0  -0.0   1.0  -0.0 -0.0  ...    0.0   \n",
       "...    ..  ...   ...   ...   ...   ...   ...   ...   ...  ...  ...    ...   \n",
       "193614  0 -0.0  -0.0  -0.0   0.0   1.0   0.0   0.0   1.0  0.0  ...   -0.0   \n",
       "193615  0  0.0   0.0   1.0   0.0   1.0   0.0   1.0   0.0  0.0  ...    0.0   \n",
       "193616  0  1.0   1.0  -0.0   1.0  -0.0  -0.0  -0.0  -0.0 -0.0  ...   -0.0   \n",
       "193617  1  0.0  -0.0   0.0   1.0  -0.0   0.0   1.0   0.0  0.0  ...   -0.0   \n",
       "193618  1 -0.0   1.0  -0.0   1.0  -0.0  -0.0  -0.0  -0.0 -0.0  ...   -0.0   \n",
       "\n",
       "        1.6  -0.28  -0.29  -0.30  -0.31  -0.32  1.7  -0.33  0.5  \n",
       "0       0.0    0.0    0.0    1.0    0.0    1.0  0.0    1.0    0  \n",
       "1       1.0   -0.0   -0.0    0.0    1.0   -0.0  0.0    0.0    0  \n",
       "2       1.0   -0.0   -0.0    0.0   -0.0   -0.0  0.0    0.0    0  \n",
       "3       0.0    1.0   -0.0    0.0   -0.0    0.0  0.0    1.0    0  \n",
       "4       0.0    1.0   -0.0    0.0    0.0   -0.0  0.0    1.0    0  \n",
       "...     ...    ...    ...    ...    ...    ...  ...    ...  ...  \n",
       "193614 -0.0    0.0   -0.0    0.0    1.0    1.0  0.0    0.0    0  \n",
       "193615  0.0    0.0    0.0    0.0    0.0    0.0  0.0    0.0    0  \n",
       "193616 -0.0   -0.0    1.0    1.0    1.0   -0.0 -0.0   -0.0    0  \n",
       "193617  0.0    1.0    1.0    0.0   -0.0    0.0  0.0    0.0    0  \n",
       "193618 -0.0   -0.0   -0.0   -0.0    1.0   -0.0 -0.0    1.0    0  \n",
       "\n",
       "[193619 rows x 48 columns]>"
      ]
     },
     "execution_count": 7,
     "metadata": {},
     "output_type": "execute_result"
    }
   ],
   "source": [
    "outputs.head"
   ]
  },
  {
   "cell_type": "code",
   "execution_count": 8,
   "metadata": {
    "colab": {
     "base_uri": "https://localhost:8080/",
     "height": 142
    },
    "id": "7Q5rdfEcYUpm",
    "outputId": "e1c8aace-b467-4903-93de-00041281f93e"
   },
   "outputs": [
    {
     "data": {
      "text/plain": [
       "array([[188.68 ,  95.997,   0.   , ...,  31.519,  34.798,  32.466],\n",
       "       [ 69.425,  78.392,   0.   , ...,  38.714,  36.222,  48.468],\n",
       "       [108.83 ,  69.571,   1.   , ...,  30.573,  39.798,  33.359],\n",
       "       ...,\n",
       "       [164.76 ,  48.545,   0.   , ...,  42.571,  37.691,  45.118],\n",
       "       [152.95 , 169.29 ,   1.   , ...,  34.702,  41.056,  37.087],\n",
       "       [ 93.005, 164.14 ,   1.   , ...,  43.464,  44.798,  37.136]])"
      ]
     },
     "execution_count": 8,
     "metadata": {},
     "output_type": "execute_result"
    }
   ],
   "source": [
    "x = inputs.values #converting data frame to array frame\n",
    "x"
   ]
  },
  {
   "cell_type": "code",
   "execution_count": 9,
   "metadata": {
    "colab": {
     "base_uri": "https://localhost:8080/",
     "height": 35
    },
    "id": "u-1JFtEPZMI-",
    "outputId": "1a6530ce-97d3-43c1-e22d-afa1cc4cc523"
   },
   "outputs": [
    {
     "data": {
      "text/plain": [
       "pandas.core.frame.DataFrame"
      ]
     },
     "execution_count": 9,
     "metadata": {},
     "output_type": "execute_result"
    }
   ],
   "source": [
    "type(outputs)"
   ]
  },
  {
   "cell_type": "code",
   "execution_count": 10,
   "metadata": {
    "colab": {
     "base_uri": "https://localhost:8080/",
     "height": 142
    },
    "id": "ftCpb4JaZOCm",
    "outputId": "d1adf403-a25c-406b-af25-602b9fc6363a"
   },
   "outputs": [
    {
     "data": {
      "text/plain": [
       "array([[ 0.,  0.,  0., ...,  0.,  1.,  0.],\n",
       "       [ 0., -0., -0., ...,  0.,  0.,  0.],\n",
       "       [ 1., -0., -0., ...,  0.,  0.,  0.],\n",
       "       ...,\n",
       "       [ 0.,  1.,  1., ..., -0., -0.,  0.],\n",
       "       [ 1.,  0., -0., ...,  0.,  0.,  0.],\n",
       "       [ 1., -0.,  1., ..., -0.,  1.,  0.]])"
      ]
     },
     "execution_count": 10,
     "metadata": {},
     "output_type": "execute_result"
    }
   ],
   "source": [
    "y = outputs.values # converting dataframe \"outputc\" in array form i.e. 'y' is now in array form \n",
    "y # y is combination of power assignments and channel assignments both."
   ]
  },
  {
   "cell_type": "code",
   "execution_count": 11,
   "metadata": {
    "colab": {
     "base_uri": "https://localhost:8080/",
     "height": 35
    },
    "id": "ChIBpH6HZQxg",
    "outputId": "18f59c85-a710-4dfa-997d-b35308e72991"
   },
   "outputs": [
    {
     "data": {
      "text/plain": [
       "(193619, 48)"
      ]
     },
     "execution_count": 11,
     "metadata": {},
     "output_type": "execute_result"
    }
   ],
   "source": [
    "y.shape"
   ]
  },
  {
   "cell_type": "code",
   "execution_count": 12,
   "metadata": {},
   "outputs": [
    {
     "data": {
      "text/plain": [
       "(193619, 75)"
      ]
     },
     "execution_count": 12,
     "metadata": {},
     "output_type": "execute_result"
    }
   ],
   "source": [
    "x.shape"
   ]
  },
  {
   "cell_type": "code",
   "execution_count": 13,
   "metadata": {
    "colab": {
     "base_uri": "https://localhost:8080/",
     "height": 35
    },
    "id": "abgDkl9qZTMj",
    "outputId": "2d246909-8eff-48b5-f5d5-2a3ac593b867"
   },
   "outputs": [
    {
     "data": {
      "text/plain": [
       "numpy.ndarray"
      ]
     },
     "execution_count": 13,
     "metadata": {},
     "output_type": "execute_result"
    }
   ],
   "source": [
    "type(y)"
   ]
  },
  {
   "cell_type": "code",
   "execution_count": 14,
   "metadata": {
    "colab": {
     "base_uri": "https://localhost:8080/",
     "height": 142
    },
    "id": "feOJ4F4eZVDY",
    "outputId": "50399f6d-8241-46ee-c374-b53b7e17226b"
   },
   "outputs": [],
   "source": [
    "#y[0]"
   ]
  },
  {
   "cell_type": "code",
   "execution_count": 15,
   "metadata": {
    "colab": {
     "base_uri": "https://localhost:8080/",
     "height": 71
    },
    "id": "kL_w5EAOZXE9",
    "outputId": "e61df404-dd57-44dd-ed66-5e1662d55204"
   },
   "outputs": [],
   "source": [
    "#y[0:50, 0] # First row and initial 50 columns of y "
   ]
  },
  {
   "cell_type": "code",
   "execution_count": 16,
   "metadata": {
    "id": "Jt2OQ-dMZZ1x"
   },
   "outputs": [],
   "source": [
    "# Splitting data for training and testing \n",
    "# Here both x and y are in array form (non-scaled)\n",
    "\n",
    "from sklearn.model_selection import train_test_split\n",
    "x_train, x_test, y_train, y_test = train_test_split(x, y, test_size=0.1, shuffle=False, random_state=42) # old\n",
    "#x_train, x_test, y_train, y_test = train_test_split(x, y, test_size=0.2, shuffle=True)"
   ]
  },
  {
   "cell_type": "code",
   "execution_count": 17,
   "metadata": {
    "id": "gBhAhKzuZehe"
   },
   "outputs": [],
   "source": [
    "# Feature Scaling\n",
    "from sklearn.preprocessing import StandardScaler\n",
    "sc = StandardScaler()\n",
    "x_train = sc.fit_transform(x_train)\n",
    "x_test = sc.transform(x_test)"
   ]
  },
  {
   "cell_type": "code",
   "execution_count": 18,
   "metadata": {},
   "outputs": [],
   "source": [
    "#Building neural network\n",
    "\n",
    "\n",
    "model = tf.keras.Sequential()\n",
    "\n",
    "\n",
    "model.add(Dense(20, input_dim=x.shape[1], activation='relu', kernel_initializer='random_normal')) # Input layer and 1st hidden layer\n",
    "model.add(BatchNormalization())\n",
    "\n",
    "\n",
    "#model.add(Dense(20, input_dim=x.shape[1], kernel_initializer='random_normal')) # Input layer and 1st hidden layer\n",
    "#model.add(LeakyReLU(alpha=0.1)) # Leaky Relu for 1st hidden layer\n",
    "#model.add(BatchNormalization())\n",
    "\n",
    "\n",
    "model.add(Dense(20, input_dim=x.shape[1], activation='relu', kernel_initializer='random_normal'))\n",
    "#model.add(Dense(100,  kernel_initializer='random_normal')) # 2nd Hidden layer\n",
    "model.add(BatchNormalization())\n",
    "#model.add(LeakyReLU(alpha=0.1)) # Leaky Relu for 2nd hidden layer\n",
    "\n",
    "\n",
    "#model.add(Dense(40, kernel_initializer='random_normal')) # 3rd Hidden layer \n",
    "model.add(Dense(40, input_dim=x.shape[1], activation='relu', kernel_initializer='random_normal'))\n",
    "#model.add(LeakyReLU(alpha=0.1)) # Leaky Relu for 3rd hidden layer\n",
    "model.add(BatchNormalization())\n",
    "\n",
    "\n",
    "#model.add(Dense(60,  kernel_initializer='random_normal')) # 4th Hidden Layer \n",
    "model.add(Dense(60, input_dim=x.shape[1], activation='relu', kernel_initializer='random_normal'))\n",
    "#model.add(LeakyReLU(alpha=0.1)) # Leaky Relu for 4th hidden layer\n",
    "model.add(BatchNormalization())\n",
    "\n",
    "#model.add(Dense(80, kernel_initializer='random_normal')) # 5th Hidden Layer\n",
    "model.add(Dense(80, input_dim=x.shape[1], activation='relu', kernel_initializer='random_normal'))\n",
    "#model.add(LeakyReLU(alpha=0.1)) # Leaky Relu for 5th hidden layer\n",
    "model.add(BatchNormalization())\n",
    "\n",
    "#model.add(Dense(100, kernel_initializer='random_normal')) # 6th Hidden layer\n",
    "model.add(Dense(100, input_dim=x.shape[1], activation='relu', kernel_initializer='random_normal'))\n",
    "#model.add(LeakyReLU(alpha=0.1)) # Leaky Relu for 6th hidden layer\n",
    "model.add(BatchNormalization())\n",
    "\n",
    "#model.add(Dense(80, kernel_initializer='random_normal')) # 7th Hidden Layer \n",
    "model.add(Dense(80, input_dim=x.shape[1], activation='relu', kernel_initializer='random_normal'))\n",
    "#model.add(LeakyReLU(alpha=0.1)) # Leaky Relu for 4th hidden layer\n",
    "model.add(BatchNormalization())\n",
    "\n",
    "\n",
    "#model.add(Dense(60, kernel_initializer='random_normal')) # 7th Hidden Layer \n",
    "model.add(Dense(60, input_dim=x.shape[1], activation='relu', kernel_initializer='random_normal'))\n",
    "#model.add(LeakyReLU(alpha=0.1)) # Leaky Relu for 4th hidden layer\n",
    "model.add(BatchNormalization())\n",
    "\n",
    "model.add(Dense(40, input_dim=x.shape[1], activation='relu', kernel_initializer='random_normal'))\n",
    "#model.add(Dense(40, kernel_initializer='random_normal')) # 7th Hidden Layer \n",
    "#model.add(LeakyReLU(alpha=0.1)) # Leaky Relu for 4th hidden layer\n",
    "model.add(BatchNormalization())\n",
    "\n",
    "\n",
    "\n",
    "model.add(Dense(y.shape[1], activation='sigmoid', kernel_initializer='random_normal')) # Output Layer "
   ]
  },
  {
   "cell_type": "code",
   "execution_count": 19,
   "metadata": {},
   "outputs": [
    {
     "data": {
      "text/plain": [
       "75"
      ]
     },
     "execution_count": 19,
     "metadata": {},
     "output_type": "execute_result"
    }
   ],
   "source": [
    "x.shape[1]"
   ]
  },
  {
   "cell_type": "code",
   "execution_count": 20,
   "metadata": {
    "id": "xhwu9nzjaVYA"
   },
   "outputs": [
    {
     "data": {
      "text/plain": [
       "\"\\nfrom tensorflow.keras.callbacks import EarlyStopping\\nbce = tf.keras.losses.BinaryCrossentropy(reduction=tf.keras.losses.Reduction.NONE)\\n\\nmodel.compile(loss=bce, optimizer=keras.optimizers.Adam(), metrics=['accuracy'])\\n\\n#model.compile(optimizer='ADAM', loss= 'mean_squared_error' , metrics = ['accuracy']) \\n\\nmonitor = EarlyStopping(monitor='val_loss', min_delta=0.00001, patience=10, \\n                        verbose=1, mode='max', restore_best_weights=True)\\n\""
      ]
     },
     "execution_count": 20,
     "metadata": {},
     "output_type": "execute_result"
    }
   ],
   "source": [
    "# Compiling Neural network\n",
    "'''\n",
    "from tensorflow.keras.callbacks import EarlyStopping\n",
    "bce = tf.keras.losses.BinaryCrossentropy(reduction=tf.keras.losses.Reduction.NONE)\n",
    "\n",
    "model.compile(loss=bce, optimizer=keras.optimizers.Adam(), metrics=['accuracy'])\n",
    "\n",
    "#model.compile(optimizer='ADAM', loss= 'mean_squared_error' , metrics = ['accuracy']) \n",
    "\n",
    "monitor = EarlyStopping(monitor='val_loss', min_delta=0.00001, patience=10, \n",
    "                        verbose=1, mode='max', restore_best_weights=True)\n",
    "'''"
   ]
  },
  {
   "cell_type": "code",
   "execution_count": 21,
   "metadata": {},
   "outputs": [],
   "source": [
    "from tensorflow.keras.callbacks import LearningRateScheduler\n",
    "lrs = LearningRateScheduler(lambda x: 0.001)"
   ]
  },
  {
   "cell_type": "code",
   "execution_count": 22,
   "metadata": {},
   "outputs": [],
   "source": [
    "from tensorflow.keras.callbacks import EarlyStopping\n",
    "model.compile(optimizer='adam', loss=tf.keras.losses.BinaryCrossentropy(), metrics = ['mean_absolute_error']) \n",
    "#model.compile(optimizer='ADAM', loss='mean_squared_error', metrics = ['mean_absolute_error']) \n",
    "monitor = EarlyStopping(monitor='val_loss', min_delta=0.0001, patience=10, \n",
    "                        verbose=1, mode='auto', restore_best_weights=True)"
   ]
  },
  {
   "cell_type": "code",
   "execution_count": 23,
   "metadata": {
    "colab": {
     "base_uri": "https://localhost:8080/",
     "height": 1000
    },
    "id": "sUm7vYpNaZhk",
    "outputId": "bb1cd85f-4a22-4777-8674-4e053a532b6e"
   },
   "outputs": [
    {
     "name": "stdout",
     "output_type": "stream",
     "text": [
      "Train on 174257 samples, validate on 19362 samples\n",
      "Epoch 1/1000\n",
      "174257/174257 - 5s - loss: 0.4477 - mean_absolute_error: 0.3157 - val_loss: 0.3359 - val_mean_absolute_error: 0.2117\n",
      "Epoch 2/1000\n",
      "174257/174257 - 2s - loss: 0.3016 - mean_absolute_error: 0.1881 - val_loss: 0.2984 - val_mean_absolute_error: 0.1792\n",
      "Epoch 3/1000\n",
      "174257/174257 - 2s - loss: 0.2874 - mean_absolute_error: 0.1785 - val_loss: 0.2886 - val_mean_absolute_error: 0.1757\n",
      "Epoch 4/1000\n",
      "174257/174257 - 2s - loss: 0.2810 - mean_absolute_error: 0.1748 - val_loss: 0.2802 - val_mean_absolute_error: 0.1730\n",
      "Epoch 5/1000\n",
      "174257/174257 - 2s - loss: 0.2772 - mean_absolute_error: 0.1728 - val_loss: 0.2758 - val_mean_absolute_error: 0.1701\n",
      "Epoch 6/1000\n",
      "174257/174257 - 2s - loss: 0.2748 - mean_absolute_error: 0.1715 - val_loss: 0.2734 - val_mean_absolute_error: 0.1695\n",
      "Epoch 7/1000\n",
      "174257/174257 - 2s - loss: 0.2725 - mean_absolute_error: 0.1704 - val_loss: 0.2705 - val_mean_absolute_error: 0.1698\n",
      "Epoch 8/1000\n",
      "174257/174257 - 2s - loss: 0.2701 - mean_absolute_error: 0.1695 - val_loss: 0.2689 - val_mean_absolute_error: 0.1729\n",
      "Epoch 9/1000\n",
      "174257/174257 - 2s - loss: 0.2675 - mean_absolute_error: 0.1686 - val_loss: 0.2667 - val_mean_absolute_error: 0.1686\n",
      "Epoch 10/1000\n",
      "174257/174257 - 2s - loss: 0.2661 - mean_absolute_error: 0.1679 - val_loss: 0.2645 - val_mean_absolute_error: 0.1657\n",
      "Epoch 11/1000\n",
      "174257/174257 - 3s - loss: 0.2651 - mean_absolute_error: 0.1674 - val_loss: 0.2632 - val_mean_absolute_error: 0.1652\n",
      "Epoch 12/1000\n",
      "174257/174257 - 2s - loss: 0.2644 - mean_absolute_error: 0.1671 - val_loss: 0.2622 - val_mean_absolute_error: 0.1652\n",
      "Epoch 13/1000\n",
      "174257/174257 - 2s - loss: 0.2580 - mean_absolute_error: 0.1653 - val_loss: 0.2622 - val_mean_absolute_error: 0.1594\n",
      "Epoch 14/1000\n",
      "174257/174257 - 2s - loss: 0.2488 - mean_absolute_error: 0.1616 - val_loss: 0.2483 - val_mean_absolute_error: 0.1539\n",
      "Epoch 15/1000\n",
      "174257/174257 - 2s - loss: 0.2465 - mean_absolute_error: 0.1604 - val_loss: 0.2461 - val_mean_absolute_error: 0.1535\n",
      "Epoch 16/1000\n",
      "174257/174257 - 2s - loss: 0.2454 - mean_absolute_error: 0.1598 - val_loss: 0.2435 - val_mean_absolute_error: 0.1591\n",
      "Epoch 17/1000\n",
      "174257/174257 - 2s - loss: 0.2445 - mean_absolute_error: 0.1594 - val_loss: 0.2416 - val_mean_absolute_error: 0.1583\n",
      "Epoch 18/1000\n",
      "174257/174257 - 2s - loss: 0.2440 - mean_absolute_error: 0.1591 - val_loss: 0.2428 - val_mean_absolute_error: 0.1571\n",
      "Epoch 19/1000\n",
      "174257/174257 - 2s - loss: 0.2434 - mean_absolute_error: 0.1588 - val_loss: 0.2415 - val_mean_absolute_error: 0.1577\n",
      "Epoch 20/1000\n",
      "174257/174257 - 2s - loss: 0.2430 - mean_absolute_error: 0.1586 - val_loss: 0.2412 - val_mean_absolute_error: 0.1566\n",
      "Epoch 21/1000\n",
      "174257/174257 - 2s - loss: 0.2429 - mean_absolute_error: 0.1585 - val_loss: 0.2416 - val_mean_absolute_error: 0.1574\n",
      "Epoch 22/1000\n",
      "174257/174257 - 2s - loss: 0.2424 - mean_absolute_error: 0.1583 - val_loss: 0.2403 - val_mean_absolute_error: 0.1588\n",
      "Epoch 23/1000\n",
      "174257/174257 - 2s - loss: 0.2423 - mean_absolute_error: 0.1582 - val_loss: 0.2411 - val_mean_absolute_error: 0.1585\n",
      "Epoch 24/1000\n",
      "174257/174257 - 2s - loss: 0.2420 - mean_absolute_error: 0.1581 - val_loss: 0.2406 - val_mean_absolute_error: 0.1588\n",
      "Epoch 25/1000\n",
      "174257/174257 - 2s - loss: 0.2418 - mean_absolute_error: 0.1580 - val_loss: 0.2402 - val_mean_absolute_error: 0.1585\n",
      "Epoch 26/1000\n",
      "174257/174257 - 2s - loss: 0.2415 - mean_absolute_error: 0.1579 - val_loss: 0.2405 - val_mean_absolute_error: 0.1594\n",
      "Epoch 27/1000\n",
      "174257/174257 - 2s - loss: 0.2414 - mean_absolute_error: 0.1578 - val_loss: 0.2392 - val_mean_absolute_error: 0.1574\n",
      "Epoch 28/1000\n",
      "174257/174257 - 2s - loss: 0.2411 - mean_absolute_error: 0.1576 - val_loss: 0.2398 - val_mean_absolute_error: 0.1584\n",
      "Epoch 29/1000\n",
      "174257/174257 - 2s - loss: 0.2412 - mean_absolute_error: 0.1577 - val_loss: 0.2399 - val_mean_absolute_error: 0.1599\n",
      "Epoch 30/1000\n",
      "174257/174257 - 2s - loss: 0.2410 - mean_absolute_error: 0.1576 - val_loss: 0.2388 - val_mean_absolute_error: 0.1562\n",
      "Epoch 31/1000\n",
      "174257/174257 - 3s - loss: 0.2407 - mean_absolute_error: 0.1574 - val_loss: 0.2394 - val_mean_absolute_error: 0.1565\n",
      "Epoch 32/1000\n",
      "174257/174257 - 3s - loss: 0.2406 - mean_absolute_error: 0.1574 - val_loss: 0.2394 - val_mean_absolute_error: 0.1597\n",
      "Epoch 33/1000\n",
      "174257/174257 - 3s - loss: 0.2404 - mean_absolute_error: 0.1573 - val_loss: 0.2389 - val_mean_absolute_error: 0.1575\n",
      "Epoch 34/1000\n",
      "174257/174257 - 3s - loss: 0.2402 - mean_absolute_error: 0.1572 - val_loss: 0.2381 - val_mean_absolute_error: 0.1575\n",
      "Epoch 35/1000\n",
      "174257/174257 - 3s - loss: 0.2398 - mean_absolute_error: 0.1571 - val_loss: 0.2385 - val_mean_absolute_error: 0.1580\n",
      "Epoch 36/1000\n",
      "174257/174257 - 3s - loss: 0.2395 - mean_absolute_error: 0.1570 - val_loss: 0.2380 - val_mean_absolute_error: 0.1544\n",
      "Epoch 37/1000\n",
      "174257/174257 - 3s - loss: 0.2395 - mean_absolute_error: 0.1569 - val_loss: 0.2382 - val_mean_absolute_error: 0.1571\n",
      "Epoch 38/1000\n",
      "174257/174257 - 3s - loss: 0.2394 - mean_absolute_error: 0.1569 - val_loss: 0.2380 - val_mean_absolute_error: 0.1577\n",
      "Epoch 39/1000\n",
      "174257/174257 - 3s - loss: 0.2391 - mean_absolute_error: 0.1568 - val_loss: 0.2378 - val_mean_absolute_error: 0.1569\n",
      "Epoch 40/1000\n",
      "174257/174257 - 3s - loss: 0.2390 - mean_absolute_error: 0.1567 - val_loss: 0.2377 - val_mean_absolute_error: 0.1592\n",
      "Epoch 41/1000\n",
      "174257/174257 - 2s - loss: 0.2389 - mean_absolute_error: 0.1566 - val_loss: 0.2370 - val_mean_absolute_error: 0.1567\n",
      "Epoch 42/1000\n",
      "174257/174257 - 2s - loss: 0.2388 - mean_absolute_error: 0.1566 - val_loss: 0.2375 - val_mean_absolute_error: 0.1564\n",
      "Epoch 43/1000\n",
      "174257/174257 - 2s - loss: 0.2389 - mean_absolute_error: 0.1566 - val_loss: 0.2370 - val_mean_absolute_error: 0.1572\n",
      "Epoch 44/1000\n",
      "174257/174257 - 3s - loss: 0.2386 - mean_absolute_error: 0.1565 - val_loss: 0.2377 - val_mean_absolute_error: 0.1572\n",
      "Epoch 45/1000\n",
      "174257/174257 - 2s - loss: 0.2384 - mean_absolute_error: 0.1564 - val_loss: 0.2370 - val_mean_absolute_error: 0.1572\n",
      "Epoch 46/1000\n",
      "174257/174257 - 2s - loss: 0.2384 - mean_absolute_error: 0.1564 - val_loss: 0.2363 - val_mean_absolute_error: 0.1555\n",
      "Epoch 47/1000\n",
      "174257/174257 - 3s - loss: 0.2384 - mean_absolute_error: 0.1563 - val_loss: 0.2362 - val_mean_absolute_error: 0.1569\n",
      "Epoch 48/1000\n",
      "174257/174257 - 3s - loss: 0.2381 - mean_absolute_error: 0.1562 - val_loss: 0.2369 - val_mean_absolute_error: 0.1551\n",
      "Epoch 49/1000\n",
      "174257/174257 - 3s - loss: 0.2380 - mean_absolute_error: 0.1561 - val_loss: 0.2366 - val_mean_absolute_error: 0.1547\n",
      "Epoch 50/1000\n",
      "174257/174257 - 3s - loss: 0.2379 - mean_absolute_error: 0.1561 - val_loss: 0.2370 - val_mean_absolute_error: 0.1575\n",
      "Epoch 51/1000\n",
      "174257/174257 - 4s - loss: 0.2379 - mean_absolute_error: 0.1561 - val_loss: 0.2367 - val_mean_absolute_error: 0.1549\n",
      "Epoch 52/1000\n",
      "174257/174257 - 3s - loss: 0.2378 - mean_absolute_error: 0.1561 - val_loss: 0.2367 - val_mean_absolute_error: 0.1533\n",
      "Epoch 53/1000\n",
      "174257/174257 - 3s - loss: 0.2377 - mean_absolute_error: 0.1560 - val_loss: 0.2365 - val_mean_absolute_error: 0.1555\n",
      "Epoch 54/1000\n",
      "174257/174257 - 3s - loss: 0.2376 - mean_absolute_error: 0.1560 - val_loss: 0.2362 - val_mean_absolute_error: 0.1564\n",
      "Epoch 55/1000\n",
      "174257/174257 - 2s - loss: 0.2376 - mean_absolute_error: 0.1559 - val_loss: 0.2365 - val_mean_absolute_error: 0.1563\n",
      "Epoch 56/1000\n",
      "174257/174257 - 2s - loss: 0.2374 - mean_absolute_error: 0.1558 - val_loss: 0.2364 - val_mean_absolute_error: 0.1564\n",
      "Epoch 57/1000\n",
      "174257/174257 - 3s - loss: 0.2373 - mean_absolute_error: 0.1558 - val_loss: 0.2357 - val_mean_absolute_error: 0.1554\n",
      "Epoch 58/1000\n",
      "174257/174257 - 4s - loss: 0.2375 - mean_absolute_error: 0.1558 - val_loss: 0.2357 - val_mean_absolute_error: 0.1563\n",
      "Epoch 59/1000\n",
      "174257/174257 - 3s - loss: 0.2373 - mean_absolute_error: 0.1557 - val_loss: 0.2361 - val_mean_absolute_error: 0.1563\n",
      "Epoch 60/1000\n",
      "174257/174257 - 3s - loss: 0.2372 - mean_absolute_error: 0.1558 - val_loss: 0.2356 - val_mean_absolute_error: 0.1533\n",
      "Epoch 61/1000\n",
      "174257/174257 - 3s - loss: 0.2370 - mean_absolute_error: 0.1556 - val_loss: 0.2357 - val_mean_absolute_error: 0.1550\n",
      "Epoch 62/1000\n",
      "174257/174257 - 3s - loss: 0.2371 - mean_absolute_error: 0.1557 - val_loss: 0.2354 - val_mean_absolute_error: 0.1558\n",
      "Epoch 63/1000\n",
      "174257/174257 - 3s - loss: 0.2370 - mean_absolute_error: 0.1556 - val_loss: 0.2361 - val_mean_absolute_error: 0.1527\n"
     ]
    },
    {
     "name": "stdout",
     "output_type": "stream",
     "text": [
      "Epoch 64/1000\n",
      "174257/174257 - 3s - loss: 0.2369 - mean_absolute_error: 0.1556 - val_loss: 0.2355 - val_mean_absolute_error: 0.1550\n",
      "Epoch 65/1000\n",
      "174257/174257 - 3s - loss: 0.2369 - mean_absolute_error: 0.1555 - val_loss: 0.2362 - val_mean_absolute_error: 0.1564\n",
      "Epoch 66/1000\n",
      "174257/174257 - 3s - loss: 0.2366 - mean_absolute_error: 0.1554 - val_loss: 0.2360 - val_mean_absolute_error: 0.1556\n",
      "Epoch 67/1000\n",
      "174257/174257 - 2s - loss: 0.2368 - mean_absolute_error: 0.1555 - val_loss: 0.2354 - val_mean_absolute_error: 0.1549\n",
      "Epoch 68/1000\n",
      "174257/174257 - 3s - loss: 0.2367 - mean_absolute_error: 0.1554 - val_loss: 0.2352 - val_mean_absolute_error: 0.1537\n",
      "Epoch 69/1000\n",
      "174257/174257 - 3s - loss: 0.2365 - mean_absolute_error: 0.1553 - val_loss: 0.2353 - val_mean_absolute_error: 0.1538\n",
      "Epoch 70/1000\n",
      "174257/174257 - 3s - loss: 0.2365 - mean_absolute_error: 0.1553 - val_loss: 0.2356 - val_mean_absolute_error: 0.1562\n",
      "Epoch 71/1000\n",
      "174257/174257 - 3s - loss: 0.2366 - mean_absolute_error: 0.1554 - val_loss: 0.2353 - val_mean_absolute_error: 0.1555\n",
      "Epoch 72/1000\n",
      "174257/174257 - 3s - loss: 0.2365 - mean_absolute_error: 0.1553 - val_loss: 0.2355 - val_mean_absolute_error: 0.1562\n",
      "Epoch 73/1000\n",
      "174257/174257 - 3s - loss: 0.2364 - mean_absolute_error: 0.1553 - val_loss: 0.2353 - val_mean_absolute_error: 0.1529\n",
      "Epoch 74/1000\n",
      "174257/174257 - 2s - loss: 0.2363 - mean_absolute_error: 0.1552 - val_loss: 0.2347 - val_mean_absolute_error: 0.1546\n",
      "Epoch 75/1000\n",
      "174257/174257 - 2s - loss: 0.2363 - mean_absolute_error: 0.1552 - val_loss: 0.2346 - val_mean_absolute_error: 0.1529\n",
      "Epoch 76/1000\n",
      "174257/174257 - 3s - loss: 0.2363 - mean_absolute_error: 0.1552 - val_loss: 0.2364 - val_mean_absolute_error: 0.1573\n",
      "Epoch 77/1000\n",
      "174257/174257 - 2s - loss: 0.2362 - mean_absolute_error: 0.1551 - val_loss: 0.2351 - val_mean_absolute_error: 0.1550\n",
      "Epoch 78/1000\n",
      "174257/174257 - 2s - loss: 0.2361 - mean_absolute_error: 0.1551 - val_loss: 0.2345 - val_mean_absolute_error: 0.1538\n",
      "Epoch 79/1000\n",
      "174257/174257 - 2s - loss: 0.2361 - mean_absolute_error: 0.1551 - val_loss: 0.2348 - val_mean_absolute_error: 0.1546\n",
      "Epoch 80/1000\n",
      "174257/174257 - 2s - loss: 0.2360 - mean_absolute_error: 0.1551 - val_loss: 0.2351 - val_mean_absolute_error: 0.1521\n",
      "Epoch 81/1000\n",
      "174257/174257 - 2s - loss: 0.2360 - mean_absolute_error: 0.1550 - val_loss: 0.2356 - val_mean_absolute_error: 0.1553\n",
      "Epoch 82/1000\n",
      "174257/174257 - 2s - loss: 0.2359 - mean_absolute_error: 0.1550 - val_loss: 0.2346 - val_mean_absolute_error: 0.1536\n",
      "Epoch 83/1000\n",
      "174257/174257 - 2s - loss: 0.2358 - mean_absolute_error: 0.1549 - val_loss: 0.2349 - val_mean_absolute_error: 0.1558\n",
      "Epoch 84/1000\n",
      "174257/174257 - 2s - loss: 0.2360 - mean_absolute_error: 0.1550 - val_loss: 0.2343 - val_mean_absolute_error: 0.1542\n",
      "Epoch 85/1000\n",
      "174257/174257 - 2s - loss: 0.2359 - mean_absolute_error: 0.1550 - val_loss: 0.2352 - val_mean_absolute_error: 0.1568\n",
      "Epoch 86/1000\n",
      "174257/174257 - 2s - loss: 0.2359 - mean_absolute_error: 0.1550 - val_loss: 0.2348 - val_mean_absolute_error: 0.1558\n",
      "Epoch 87/1000\n",
      "174257/174257 - 2s - loss: 0.2357 - mean_absolute_error: 0.1549 - val_loss: 0.2356 - val_mean_absolute_error: 0.1551\n",
      "Epoch 88/1000\n",
      "174257/174257 - 3s - loss: 0.2357 - mean_absolute_error: 0.1549 - val_loss: 0.2350 - val_mean_absolute_error: 0.1520\n",
      "Epoch 89/1000\n",
      "174257/174257 - 2s - loss: 0.2357 - mean_absolute_error: 0.1549 - val_loss: 0.2347 - val_mean_absolute_error: 0.1527\n",
      "Epoch 90/1000\n",
      "174257/174257 - 2s - loss: 0.2358 - mean_absolute_error: 0.1549 - val_loss: 0.2347 - val_mean_absolute_error: 0.1545\n",
      "Epoch 91/1000\n",
      "174257/174257 - 2s - loss: 0.2356 - mean_absolute_error: 0.1548 - val_loss: 0.2344 - val_mean_absolute_error: 0.1544\n",
      "Epoch 92/1000\n",
      "174257/174257 - 2s - loss: 0.2358 - mean_absolute_error: 0.1548 - val_loss: 0.2344 - val_mean_absolute_error: 0.1546\n",
      "Epoch 93/1000\n",
      "174257/174257 - 2s - loss: 0.2355 - mean_absolute_error: 0.1548 - val_loss: 0.2340 - val_mean_absolute_error: 0.1537\n",
      "Epoch 94/1000\n",
      "174257/174257 - 2s - loss: 0.2355 - mean_absolute_error: 0.1547 - val_loss: 0.2343 - val_mean_absolute_error: 0.1544\n",
      "Epoch 95/1000\n",
      "174257/174257 - 2s - loss: 0.2355 - mean_absolute_error: 0.1547 - val_loss: 0.2350 - val_mean_absolute_error: 0.1580\n",
      "Epoch 96/1000\n",
      "174257/174257 - 2s - loss: 0.2355 - mean_absolute_error: 0.1548 - val_loss: 0.2343 - val_mean_absolute_error: 0.1538\n",
      "Epoch 97/1000\n",
      "174257/174257 - 2s - loss: 0.2355 - mean_absolute_error: 0.1547 - val_loss: 0.2346 - val_mean_absolute_error: 0.1541\n",
      "Epoch 98/1000\n",
      "174257/174257 - 3s - loss: 0.2354 - mean_absolute_error: 0.1547 - val_loss: 0.2344 - val_mean_absolute_error: 0.1533\n",
      "Epoch 99/1000\n",
      "174257/174257 - 2s - loss: 0.2354 - mean_absolute_error: 0.1547 - val_loss: 0.2344 - val_mean_absolute_error: 0.1544\n",
      "Epoch 100/1000\n",
      "174257/174257 - 2s - loss: 0.2353 - mean_absolute_error: 0.1547 - val_loss: 0.2346 - val_mean_absolute_error: 0.1561\n",
      "Epoch 101/1000\n",
      "174257/174257 - 2s - loss: 0.2353 - mean_absolute_error: 0.1546 - val_loss: 0.2344 - val_mean_absolute_error: 0.1572\n",
      "Epoch 102/1000\n",
      "174257/174257 - 2s - loss: 0.2352 - mean_absolute_error: 0.1546 - val_loss: 0.2339 - val_mean_absolute_error: 0.1547\n",
      "Epoch 103/1000\n",
      "174257/174257 - 2s - loss: 0.2352 - mean_absolute_error: 0.1545 - val_loss: 0.2341 - val_mean_absolute_error: 0.1547\n",
      "Epoch 104/1000\n",
      "174257/174257 - 2s - loss: 0.2352 - mean_absolute_error: 0.1546 - val_loss: 0.2343 - val_mean_absolute_error: 0.1540\n",
      "Epoch 105/1000\n",
      "174257/174257 - 2s - loss: 0.2352 - mean_absolute_error: 0.1546 - val_loss: 0.2337 - val_mean_absolute_error: 0.1541\n",
      "Epoch 106/1000\n",
      "174257/174257 - 2s - loss: 0.2351 - mean_absolute_error: 0.1545 - val_loss: 0.2343 - val_mean_absolute_error: 0.1551\n",
      "Epoch 107/1000\n",
      "174257/174257 - 2s - loss: 0.2352 - mean_absolute_error: 0.1546 - val_loss: 0.2341 - val_mean_absolute_error: 0.1548\n",
      "Epoch 108/1000\n",
      "174257/174257 - 2s - loss: 0.2350 - mean_absolute_error: 0.1545 - val_loss: 0.2345 - val_mean_absolute_error: 0.1571\n",
      "Epoch 109/1000\n",
      "174257/174257 - 2s - loss: 0.2352 - mean_absolute_error: 0.1545 - val_loss: 0.2344 - val_mean_absolute_error: 0.1531\n",
      "Epoch 110/1000\n",
      "174257/174257 - 3s - loss: 0.2349 - mean_absolute_error: 0.1545 - val_loss: 0.2339 - val_mean_absolute_error: 0.1542\n",
      "Epoch 111/1000\n",
      "174257/174257 - 2s - loss: 0.2350 - mean_absolute_error: 0.1545 - val_loss: 0.2343 - val_mean_absolute_error: 0.1560\n",
      "Epoch 112/1000\n",
      "174257/174257 - 2s - loss: 0.2349 - mean_absolute_error: 0.1544 - val_loss: 0.2343 - val_mean_absolute_error: 0.1516\n",
      "Epoch 113/1000\n",
      "174257/174257 - 2s - loss: 0.2350 - mean_absolute_error: 0.1544 - val_loss: 0.2340 - val_mean_absolute_error: 0.1555\n",
      "Epoch 114/1000\n",
      "174257/174257 - 2s - loss: 0.2349 - mean_absolute_error: 0.1544 - val_loss: 0.2340 - val_mean_absolute_error: 0.1547\n",
      "Epoch 115/1000\n",
      "174257/174257 - 2s - loss: 0.2349 - mean_absolute_error: 0.1544 - val_loss: 0.2335 - val_mean_absolute_error: 0.1544\n",
      "Epoch 116/1000\n",
      "174257/174257 - 2s - loss: 0.2348 - mean_absolute_error: 0.1544 - val_loss: 0.2342 - val_mean_absolute_error: 0.1538\n",
      "Epoch 117/1000\n",
      "174257/174257 - 2s - loss: 0.2349 - mean_absolute_error: 0.1544 - val_loss: 0.2343 - val_mean_absolute_error: 0.1531\n",
      "Epoch 118/1000\n",
      "174257/174257 - 2s - loss: 0.2348 - mean_absolute_error: 0.1543 - val_loss: 0.2336 - val_mean_absolute_error: 0.1536\n",
      "Epoch 119/1000\n",
      "174257/174257 - 2s - loss: 0.2348 - mean_absolute_error: 0.1543 - val_loss: 0.2337 - val_mean_absolute_error: 0.1528\n",
      "Epoch 120/1000\n",
      "174257/174257 - 2s - loss: 0.2347 - mean_absolute_error: 0.1543 - val_loss: 0.2336 - val_mean_absolute_error: 0.1542\n",
      "Epoch 121/1000\n",
      "174257/174257 - 2s - loss: 0.2347 - mean_absolute_error: 0.1543 - val_loss: 0.2338 - val_mean_absolute_error: 0.1544\n",
      "Epoch 122/1000\n",
      "174257/174257 - 2s - loss: 0.2347 - mean_absolute_error: 0.1543 - val_loss: 0.2342 - val_mean_absolute_error: 0.1567\n",
      "Epoch 123/1000\n",
      "174257/174257 - 2s - loss: 0.2347 - mean_absolute_error: 0.1543 - val_loss: 0.2336 - val_mean_absolute_error: 0.1533\n",
      "Epoch 124/1000\n",
      "174257/174257 - 3s - loss: 0.2346 - mean_absolute_error: 0.1543 - val_loss: 0.2340 - val_mean_absolute_error: 0.1546\n",
      "Epoch 125/1000\n",
      "Restoring model weights from the end of the best epoch.\n",
      "174257/174257 - 3s - loss: 0.2345 - mean_absolute_error: 0.1542 - val_loss: 0.2338 - val_mean_absolute_error: 0.1547\n"
     ]
    },
    {
     "name": "stdout",
     "output_type": "stream",
     "text": [
      "Epoch 00125: early stopping\n"
     ]
    }
   ],
   "source": [
    "# Fitting Neural network to training set\n",
    "\n",
    "model_history=model.fit(x_train, y_train, validation_data=(x_test, y_test), batch_size=512, verbose=2, callbacks=[monitor, lrs], epochs=1000)"
   ]
  },
  {
   "cell_type": "code",
   "execution_count": null,
   "metadata": {},
   "outputs": [],
   "source": []
  },
  {
   "cell_type": "code",
   "execution_count": 24,
   "metadata": {
    "colab": {
     "base_uri": "https://localhost:8080/",
     "height": 142
    },
    "id": "AT8SOvaeap0x",
    "outputId": "c1eec1b2-94c5-4a80-bc87-7ed372b14acf"
   },
   "outputs": [
    {
     "data": {
      "text/plain": [
       "array([[ 0.,  0.,  0., ...,  0.,  1.,  0.],\n",
       "       [ 0., -0., -0., ...,  0.,  0.,  0.],\n",
       "       [ 1., -0., -0., ...,  0.,  0.,  0.],\n",
       "       ...,\n",
       "       [ 1., -0., -0., ..., -0., -0.,  0.],\n",
       "       [ 1.,  0.,  1., ..., -0.,  0.,  0.],\n",
       "       [ 0.,  1.,  0., ..., -0.,  0.,  0.]])"
      ]
     },
     "execution_count": 24,
     "metadata": {},
     "output_type": "execute_result"
    }
   ],
   "source": [
    "y_train"
   ]
  },
  {
   "cell_type": "code",
   "execution_count": 25,
   "metadata": {},
   "outputs": [
    {
     "data": {
      "text/plain": [
       "array([[ 1., -0., -0., ...,  0.,  0.,  0.],\n",
       "       [ 0., -0., -0., ..., -0., -0.,  0.],\n",
       "       [ 1.,  0.,  0., ...,  1.,  0.,  0.],\n",
       "       ...,\n",
       "       [ 0.,  1.,  1., ..., -0., -0.,  0.],\n",
       "       [ 1.,  0., -0., ...,  0.,  0.,  0.],\n",
       "       [ 1., -0.,  1., ..., -0.,  1.,  0.]])"
      ]
     },
     "execution_count": 25,
     "metadata": {},
     "output_type": "execute_result"
    }
   ],
   "source": [
    "y_test = np.asarray(y_test)\n",
    "x_test = np.asarray(x_test)\n",
    "y_test\n"
   ]
  },
  {
   "cell_type": "code",
   "execution_count": 26,
   "metadata": {},
   "outputs": [
    {
     "data": {
      "text/plain": [
       "(19362, 48)"
      ]
     },
     "execution_count": 26,
     "metadata": {},
     "output_type": "execute_result"
    }
   ],
   "source": [
    "y_test.shape"
   ]
  },
  {
   "cell_type": "code",
   "execution_count": 27,
   "metadata": {
    "colab": {
     "base_uri": "https://localhost:8080/",
     "height": 53
    },
    "id": "jnvop5zhare2",
    "outputId": "f9e033be-f657-4367-e93a-750eee9cc444"
   },
   "outputs": [
    {
     "name": "stdout",
     "output_type": "stream",
     "text": [
      "\r",
      "19362/1 [============================================================================================================================================================================================================================================================================================================================================================================================================================================================================================================================================================================================================================================================================================================================================================================================================================================================================================================================================================================================================================================================================================================================================================================================================================================================================================================================================================================================================================================================================================================================================================================================================================================================================================================================================================================================================================================================================================================================================================================================================================================================================================================================================================================================================================================================================================================================================================================================================================================================================================================================================================================================================================================================================================================================================================================================================================================================================================================================================================================================================================================================================================================================================================================================================================================================================================================================================================================================================================================================================================================================================================================================================================================================================================================================================================================================================================================================================================================================================================================================================================================================================================================================================================================================================================================================================================================================================================================================================================================================================================================================================================================================================================================================================================================================================================================================================================================================================================================================================================================================================================================================================================================================================================================================================================================================================================================================================================================================================================================================================================================================================================================================================================================================================================================================================================================================================================================================================================================================================================================================================================================================================================================================================================================================================================================================================================================================================================================================================================================================================================================================================================================================================================================================================================================================================================================================================================================================================================================================================================================================================================================================================================================================================================================================================================================================================================================================================================================================================================================================================================================================================================================================================================================================================================================================================================================================================================================================================================================================================================================================================================================================================================================================================================================================================================================================================================================================================================================================================================================================================================================================================================================================================================================================================================================================================================================================================================================================================================================================================================================================================================================================================================================================================================================================================================================================================================================================================================================================================================================================================================================================================================================================================================================================================================================================================================================================================================================================================================================================================================================================================================================================================================================================================================================================================================================================================================================================================================================================================================================================================================================================================================================================================================================================================================================================================================================================================================================================================================================================================================================================================================================================================================================================================================================================================================================================================================================================================================================================================================================================================================================================================================================================================================================================================================================================================================================================================================================================================================================================================================================================================================================================================================================================================================================================================================================================================================================================================================================================================================================================================================================================================================================================================================================================================================================================================================================================================================================================================================================================================================================================================================================================================================================================================================================================================================================================================================================================================================================================================================================================================================================================================================================================================================================================================================================================================================================================================================================================================================================================================================================================================================================================================================================================================================================================================================================================================================================================================================================================================================================================================================================================================================================================================================================================================================================================================================================================================================================================================================================================================================================================================================================================================================================================================================================================================================================================================================================================================================================================================================================================================================================================================================================================================================================================================================================================================================================================================================================================================================================================================================================================================================================================================================================================================================================================================================================================================================================================================================================================================================================================================================================================================================================================================================================================================================================================================================================================================================================================================================================================================================================================================================================================================================================================================================================================================================================================================================================================================================================================================================================================================================================================================================================================================================================================================================================================================================================================================================================================================================================================================================================================================================================================================================================================================================================================================================================================================================================================================================================================================================================================================================================================================================================================================================================================================================================================================================================================================================================================================================================================================================================================================================================================================================================================================================================================================================================================================================================================================================================================================================================================================================================================================================================================================================================================================================================================================================================================================================================================================================================================================================================================================================================================================================================================================================================================================================================================================================================================================================================================================================================================================================================================================================================================================================================================================================================================================================================================================================================================================================================================================================================================================================================================================================================================================================================================================================================================================================================================================================================================================================================================================================================================================================================================================================================================================================================================================================================================================================================================================================================================================================================================================================================================================================================================================================================================================================================================================================================================================================================================================================================================================================================================================================================================================================================================================================================================================================================================================================================================================================================================================================================================================================================================================================================================================================================================================================================================================================================================================================================================================================================================================================================================================================================================================================================================================================================================================================================================================================================================================================================================================================================================================================================================================================================================================================================================================================================================================================================================================================================================================================================================================================================================================================================================================================================================================================================================================================================================================================================================================================================================================================================================================================================================================================================================================================================================================================================================================================================================================================================================================================================================================================================================================================================================================================================================================================================================================================================================================================================================================================================================================================================================================================================================================================================================================================================================================================================================================================================================================================================================================================================================================================================================================================================================================================================================================================================================================================================================================================================================================================================================================================================================================================================================================================================================================================================================================================================================================================================================================================================================================================================================================================================================================================================================================================================================================================================================================================================================================================================================================================================================================================================================================================================================================================================================================================================================================================================================================================================================================================================================================================================================================================================================================================================================================================================================================================================================================================================================================================================================================================================================================================================================================================================================================================================================================================================================================================================================================================================================================================================================================================================================================================================================================================================================================================================================================================================================================================================================================================================================================================================================================================================================================================================================================================================================================================================================================================================================================================================================================================================================================================================================================================================================================================================================================================================================================================================================================================================================================================================================================================================================================================================================================================================================================================================================================================================================================================================================================================================================================================================================================================================================================================================================================================================================================================================================================================================================================================================================================================================================================================================================================================================================================================================================================================================================================================================================================================================================================================================================================================================================================================================================================================================================================================================================================================================================================================================================================================================================================================================================================================================================================================================================================================================================================================================================================================================================================================================================================================================================================================================================================================================================================================================================================================================================================================================================================================================================================================================================================================================================================================================================================================================================================================================================================================================================================================================================================================================================================================================================================================================================================================================================================================================================================================================================================================================================================================================================================================================================================================================================================================================================================================================================================================================================================================================================================================================================================================================================================================================================================================================================================================================================================================================================================================================================================================================================================================================================================================================================================================================================================================================================================================================================================================================================================================================================================================================================================================================================================================================================================================================================================================================================================================================================================================================================================================================================================================================================================================================================================================================================================================================================================================================================================================================================================================================================================================================================================================================================================================================================================================================================================================================================================================================================================================================================================================================================================================================================================================================================================================================================================================================================================================================================================================================================================================================================================================================================================================================================================================================================================================================================================================================================================================================================================================================================================================================================================================================================================================================================================================================================================================================================================================================================================================================================================================================================================================================================================================================================================================================================================================================================================================================================================================================================================================================================================================================================================================================================================================================================================================================================================================================================================================================================================================================================================================================================================================================================================================================================================================================================================================================================================================================================================================================================================================================================================================================================================================================================================================================================================================================================================================================================================================================================================================================================================================================================================================================================================================================================================================================================================================================================================================================================================================================================================================================================================================================================================================================================================================================================================================================================================================================================================================================================================================================================================================================================================================================================================================================================================================================================================================================================================================================================================================================================================================================================================================================================================================================================================================================================================================================================================================================================================================================================================================================================================================================================================================================================================================================================================================================================================================================================================================================================================================================================================================================================================================================================================================================================================================================================================================================================================================================================================================================================================================================================================================================================================================================================================================================================================================================================================================================================================================================================================================================================================================================================================================================================================================================================================================================================================================================================================================================================================================================================================================================================================================================================================================================================================================================================================================================================================================================================================================================================================================================================================================================================================================================================================================================================================================================================================================================================================================================================================================================================================================================================================================================================================================================================================================================================================================================================================================================================================================================================================================================================================================================================================================================================================================================================================================================================================================================================================================================================================================================================================================================================================================================================================================================================================================================================================================================================================================================================================================================================================================================================================================================================================================================================================================================================================================================================================================================================================================================================================================================================================================================================================================================================================================================================================================================================================================================================================================================================================================================================================================================================================================================================================================================================================================================================================================================================================================================================================================================================================================================================================================================================================================================================================================================================================================================================================================================================================================================================================================================================================================================================================================================================================================================================================================================================================================================================================================================================================================================================================================================================================================================================================================================================================================================================================================================================================================================================================================================================================================================================================================================================================================================================================================================================================================================================================================================================================================================================================================================================================================================================================================================================================================================================================================================================================================================================================================================================================================================================================================================================================================================================================================================================================================================================================================================================================================================================================================================================================================================================================================================================================================================================================================================================================================================================================================================================================================================================================================================================================================================================================================================================================================================================================================================================================================================================================================================================================================================================================================================================================================================================================================================================================================================================================================================================================================================================================================================================================================================================================================================================================================================================================================================================================================================================================================================================================================================================================================================================================================================================================================================================================================================================================================================================================================================================================================================================================================================================================================================================================================================================================================================================================================================================================================================================================================================================================================================================================================================================================================================================================================================================================================================================================================================================================================================================================================================================================================================================================================================================================================================================================================================================================================================================================================================================================================================================================================================================================================================================================================================================================================================================================================================================================================================================================================================================================================================================================================================================================================================================================================================================================================================================================================================================================================================================================================================================================================================================================================================================================================================================================================================================================================================================================================================================================================================================================================================================================================================================================================================================================================================================================================================================================================================================================================================================================================================================================================================================================================================================================================================================================================================================================================================================================================================================================================================================================================================================================================================================================================================================================================================================================================================================================================================================================================================================================================================================================================================================================================================================================================================================================================================================================================================================================================================================================================================================================================================================================================================================================================================================================================================================================================================================================================================================================================================================================================================================================================================================================================================================================================================================================================================================================================================================================================================================================================================================================================================================================================================================================================================================================================================================================================================================================================================================================================================================================================================================================================================================================================================================================================================================================================================================================================================================================================================================================================================================================================================================================================================================================================================================================================================================================================================================================================================================================================================================================================================================================================================================================================================================================================================================================================================================================================================================================================================================================================================================================================================================================================================================================================================================================================================================================================================================================================================================================================================================================================================================================================================================================================================================================================================================================================================================================================================================================================================================================================================================================================================================================================================================================================================================================================================================================================================================================================================================================================================================================================================================================================================================================================================================================================================================================================================================================================================================================================================================================================================================================================================================================================================================================================================================================================================================================================================================================================================================================================================================================================================================================================================================================================================================================================================================================================================================================================================================================================================================================================================================================================================================================================================================================================================================================================================================================================================================================================================================================================================================================================================================================================================================================================================================================================================================================================================================================================================================================================================================================================================================================================================================================================================================================================================================================================================================================================================================================================================================================================================================================================================================================================================================================================================================================================================================================================================================================================================================================================================================================================================================================================================================================================================================================================================================================================================================================================================================================================================================================================================================================================================================================================================================================================================================================================================================================================================================================================================================================================================================================================================================================================================================================================================================================================================================================================================================================================================================================================================================================================================================================================================================================================================================================================================================================================================================================================================================================================================================================================================================================================================================================================================================================================================================================================================================================================================================================================================================================================================================================================================================================================================================================================================================================================================================================================================================================================================================================================================================================================================================================================================================================================================================================================================================================================================================================================================================================================================================================================================================================================================================================================================================================================================================================================================================================================================================================================================================================================================================================================================================================================================================================================================================================================================================================================================================================================================================================================================================================================================================================================================================================================================================================================================================================================================================================================================================================================================================================================================================================================================================================================================================================================================================================================================================================================================================================================================================================================================================================================================================================================================================================================================================================================================================================================================================================================================================================================================================================================================================================================================================================================================================================================================================================================================================================================================================================================================================================================================================================================================================================================================================================================================================================================================================================================================================================================================================================================================================================================================================================================================================================================================================================================================================================================================================================================================================================================================================================================================================================================================================================================================================================================================================================================================================================================================================================================================================================================================================================================================================================================================================================================================================================================================================================================================================================================================================================================================================================================================================================================================================================================================================================================================================================================================================================================================================================================================================================================================================================================================================================================================================================================================================================================================================================================================================================================================================================================================================================================================================================================================================================================================================================================================================================================================================================================================================================================================================================================================================================================================================================================================================================================================================================================================================================================================================================================================================================================================================================================================================================================================================================================================================================================================================================================================================================================================================================================================================================================================================================================================================================================================================================================================================================================================================================================================================================================================================================================================================================================================================================================================================================================================================================================================================================================================================================================================================================================================================================================================================================================================================================================================================================================================================================================================================================================================================================================================================================================================================================================================================================================================================================================================================================================================================================================================================================================================================================================================================================================================================================================================================================================================================================================================================================================================================================================================================================================================================================================================================================================================================================================================================================================================================================================================================================================================================================================================================================================================================================================================================================================================================================================================================================================================================================================================================================================================================================================================================================================================================================================================================================================================================================================================================================================================================================================================================================================================================================================================================================================================================================================================================================================================================================================================================================================================================================================================================================================================================================================================================================================================================================================================================================================================================================================================================================================================================================================================================================================================================================================================================================================================================================================================================================================================================================================================================================================================================================================================================================================================================================================================================================================================================================================================================================================================================================================================================================================================================================================================================================================================================================================================================================================================================================================================================================================================================================================================================================================================================================================================================================================================================================================================================================================================================================================================================================================================================================================================================================================================================================================================================================================================================================================================================================================================================================================================================================================================================================================================================================================================================================================================================================================================================================================================================================================================================================================================================================================================================================================================================================================================================================================================================================================================================================================================================================================================================================================================================================================================================================================================================================================================================================================================================================================================================================================================================================================================================================================================================================================================================================================================================================================================================================================================================================================================================================================================================================================================================================================================================================================================================================================================================================================================================================================================================================================================================================================================================================================================================================================================================================================================================================================================================================================================================================================================================================================================================================================================================================================================================================================================================================================================================================================================================================================================================================================================================================================================================================================================================================================================================================================================================================================================================================================================================================================================================================================================================================================================================================================================================================================================================================================================================================================================================================================================================================================================================================================================================================================================================================================================================================================================================================================================================================================================================================================================================================================================================================================================================================================================================================================================================================================================================================================================================================================================================================================================================================================================================================================================================================================================================================================================================================================================================================================================================================================================================================================================================================================================================================================================================================================================================================================================================================================================================================================================================================================================================================================================================================================================================================================================================================================================================================================================================================================================================================================================================================================================================================================================================================================================================================================================================================================================================================================================================================================================================================================================================================================================================================================================================================================================================================================================================================================================================================================================================================================================================================================================================================================================================================================================================================================================================================================================================================================================================================================================================================================================================================================================================================================================================================================================================================================================================================================================================================================================================================================================================================================================================================================================================================================================================================================================================================================================================================================================================================================================================================================================================================================================================================================================================================================================================================================================================================================================================================================================================================================================================================================================================================================================================================================================================================================================================================================================================================================================================================================================================================================================================================================================================================================================================================================================================================================================================================================================================================================================================================================================================================================================================================================================================================================================================================================================================================================================================================================================================================================================================================================================================================================================================================================================================================================================================================================================================================================================================================================================================================================================================================================================================================================================================================================================================================================================================================================================================================================================================================================================================================================================================================================================================================================================================================================================================================================================================================================================================================================================================================================================================================================================================================================================================================================================================================================================================================================================================================================================================================================================================================================================================================================================================================================================================================================================================================================================================================================================================================================================================================================================================================================================================================================================================================================================================================================================================================================================================================================================================================================================================================================================================================================================================================================================================================================================================================================================================================================================================================================================================================================================================================================================================================================================================================================================================================================================================================================================================================================================================================================================================================================================================================================================================================================================================================================================================================================================================================================================================================================================================================================================================================================================================================================================================================================================================================================================================================================================================================================================================================================================================================================================================================================================================================================================================================================================================================================================================================================================================================================================================================================================================================================================================================================================================================================================================================================================================================================================================================================================================================================================================================================================================================================================================================================================================================================================================================================================================================================================================================================================================================================================================================================================================================================================================================================================================================================================================================================================================================================================================================================================================================================================================================================================================================================================================================================================================================================================================================================================================================================================================================================================================================================================================================================================================================================================================================================================================================================================================================================================================================================================================================================================================================================================================================================================================================================================================================================================================================================================================================================================================================================================================================================================================================================================================================================================================================================================================================================================================================================================================================================================================================================================================================================================================================================================================================================================================================================================================================================================================================================================================================================================================================================================================================================================================================================================================================================================================================================================================================================================================================================================================================================================================================================================================================================================================================================================================================================================================================================================================================================================================================================================================================================================================================================================================================================================================================================================================================================================================================================================================================================================================================================================================================================================================================================================================================================================================================================================================================================================================================================================================================================================================================================================================================================================================================================================================================================================================================================================================================================================================================================================================================================================================================================================================================================================================================================================================================================================================================================================================================================================================================================================================================================================================================================================================================================================================================================================================================================================================================================================================================================================================================================================================================================================================================================================================================================================================================================================================================================================================================================================================================================================================================================================================================================================================================================================================================================================================================================================================================================================================================================================================================================================================================================================================================================================================================================================================================================================================================================================================================================================================================================================================================================================================================================================================================================================================================================================================================================================================================================================================================================================================================================================================================================================================================================================================================================================================================================================================================================================================================================================================================================================================================================================================================================================================================================================================================================================================================================================================================================================================================================================================================================================================================================================================================================================================================================================================================================================================================================================================================================================================================================================================================================================================================================================================================================================================================================================================================================================================================================================================================================================================================================================================================================================================================================================================================================================================================================================================================================================================================================================================================================================================================================================================================================================================================================================================================================================================================================================================================================================================================================================================================================================================================================================================================================================================================================================================================================================================================================================================================================================================================================================================================================================================================================================================================================================================================================================================================================================================================================================================================================================================================================================================================================================================================================================================================================================================================================================================================================================================================================================================================================================================================================================================================================================================================================================================================================================================================================================================================================================================================================================================================================================================================================================================================================================================================================================================================================================================================================================================================================================================================================================================================================================================================================================================================================================================================================================================================================================================================================================================================================================================================================================================================================================================================================================================================================================================================================================================================================================================================================================================================================================================================================================================================================================================================================================================================================================================================================================================================================================================================================================================================================================================================================================================================================================================================================================================================================================================================================================================================================================================================================================================================================================================================================================================================================================================================================================================================================================================================================================================================================================================================================================================================================================================================================================================================================================================================================================================================================================================================================================================================================================================================================================================================================================================================================================================================================================================================================================================================================================================================================================================================================================================================================================================================================================================================================================================================================================================================================================================================================================================================================================================================================================================================================================================================================================================================================================================================================================================================================================================================================================================================================================================================================================================================================================================================================================================================================================================================================================================================================================================================================================================================================================================================================================================================================================================================================================================================================================================================================================================================================================================================================================================================================================================================================================================================================================================================================================================================================================================================================================================================================================================================================================================================================================================================================================================================================================================================================================================================================================================================================================================================================================================================================================================================================================================================================================================================================================================================================================================================================================================================================================================================================================================================================================================================================================================================================================================================================================================================================================================================================================================================================================================================================================================================================================================================================================================================================================================================================================================================================================================================================================================================================================================================================================================================================================================================================================================================================================================================================================================================================================================================================================================================================================================================================================================================================================================================================================================================================================================================================================================================================================================================================================================================================================================================================================================================================================================================================================================================================================================================================================================================================================================================================================================================================================================================================================================================================================================================================================================================================================================================================================================================================================================================================================================================================================================================================================================================================================================================================================================================================================================================================================================================================================================================================================================================================================================================================================================================================================================================================================================================================================================================================================================================================================================================================================================================================================================================================================================================================================================================================================================================================================================================================================================================================================================================================================================================================================================================================================================================================================================================================================================================================================================================================================================================================================================================================================================================================================================================================================================================================================================================================================================================================================================================================================================================================================================================================================================================================================================================================================================================================================================================================================================================================================================================================================================================================================================================================================================================================================================================================================================================================================================================================================================================================================================================================================================================================================================================================================================================================================================================================================================================================================================================================================================================================================================================================================================================================================================================================================================================================================================================================================================================================================================================================================================================================================================================================================================================================================================================================================================================================================================================================================================================================================================================================================================================================================================================================================================================================================================================================================================================================================================================================================================================================================================================================================================================================================================================================================================================================================================================================================================================================================================================================================================================================================================================================================================================================================================================================================================================================================================================================================================================================================================================================================================================================================================================================================================================================================================================================================================================================================================================================================================================================================================================================================================================================================================================================================================================================================================================================================================================================================================================================================================================================================================================================================================================================================================================================================================================================================================================================================================================================================================================================================================================================================================================================================================================================================================================================================================================================================================================================================================================================================================================================================================================================================================================================================================================================================================================================================================================================================================================================================================================================================================================================================================================================================================================================================================================================================================================================================================================================================================================================================================================================================================================================================================================================================================================================================================================================================================================================================================================================================================================================================================================================================================================================================================================================================================================================================================================================================================================================================================================================================================================================================================================================================================================================================================================================================================================================================================================================================================================================================================================================================================================================================================================================================================================================================================================================================================================================================================================================================================================================================================================================================================================================================================================================================================================================================================================================================================================================================================================================================================================================================================================================================================================================================================================================================================================================================================================================================================================================================================================================================================================================================================================================================================================================================================================================================================================================================================================================================================================================================================================================================================================================================================================================================================================================================================================================================================================================================================================================================================================================================================================================================================================================================================================================================================================================================================================================================================================================================================================================================================================================================================================================================================================================================================================================================================================================================================================================================================================================================================================================================================================================================================================================================================================================================================================================================================================================================================================================================================================================================================================================================================================================================================================================================================================================================================================================================================================================================================================================================================================================================================================================================================================================================================================================================================================================================================================================================================================================================================================================================================================================================================================================================================================================================================================================================================================================================================================================================================================================================================================================================================================================================================================================================================================================================================================================================================================================================================================================================================================================================================================================================================================================================================================================================================================================================================================================================================================================================================================================================================================================================================================================================================================================================================================================================================================================================================================================================================================================================================================================================================================================================================================================================================================================================================================================================================================================================================================================================================================================================================================================================================================================================================================================================================================================================================================================================================================================================================================================================================================================================================================================================================================================================================================================================================================================================================================================================================================================================================================================================================================================================================================================================================================================================================================================================================================================================================================================================================================================================================================================================================================================================================================================================================================================================================================================================================================================================================================================================================================================================================================================================================================================================================================================================================================================================================================================================================================================================================================================================================================================================================================================================================================================================================================================================================================================================================================================================================================================================================================================================================================================================================================================================================================================================================================================================================================================================================================================================================================================================================================================================================================================================================================================================================================================================================================================================================================================================================================================================================================================================================================================================================================================================================================================================================================================================================================================================================================================================================================================================================================================================================================================================================================================================================================================================================================================================================================================================================================================================================================================================================================================================================================================================================================================================================================================================================================================================================================================================================================================================================================================================================================================================================================================================================================================================================================================================================================================================================================================================================================================================================================================================================================================================================================================================================================================================================================================================================================================================================================================================================================================================================================================================================================================================================================================================================================================================================================================================================================================================================================================================================================================================================================================================================================================================================================================================================================================================================================================================================================================================================================================================================================================================================================================================================================================================================================================================================================================================================================================================================================================================================================================================================================================================================================================================================================================================================================================================================================================================================================================================================================================================================================================================================================================================================================================================================================================================================================================================================================================================================================================================================================================================================================================================================================================================================================================================================================================================================================================================================================================================================================================================================================================================================================================================================================================================================================================================================================================================================================================================================================================================================================================================================================================================================================================================================================================================================================================================================================================================================================================================================================================================================================================================================================================================================================================================================================================================================================================================================================================================================================================================================================================================================================================================================================================================================================================================================================================================================================================================================================================================================================================================================================================================================================================================================================================================================================================================================================================================================================================================================================================================================================================================================================================================================================================================================================================================================================================================================================================================================================================================================================================================================================================================================================================================================================================================================================================================================================================================================================================================================================================================================================================================================================================================================================================================================================================================================================================================================================================================================================================================================================================================================================================================================================================================================================================================================================================================================================================================================================================================================================================================================================================================================================================================================================================================================================================================================================================================================================================================================================================================================================================================================================================================================================================================================================================================================================================================================================================================================================================================================================================================================================================================================================================================================================================================================================================================================================================================================================================================================================================================================================================================================================================================================================================================================================================================================================================================================================================================================================================================================================================================================================================================================================================================================================================================================================================================================================================================================================================================================================================================================================================================================================================================================================================================================================================================================================================================================================================================================================================================================================================================================================================================================================================================================================================================================================================================================================================================================================================================================================================================================================================================================================================================================================================================================================================================================================================================================================================================================================================================================================================================================================================================================================================================================================================================================================================================================================================================================================================================================================================================================================================================================================================================================================================================================================================================================================================================================================================================================================================================================================================================================================================================================================================================================================================================================================================================================================================================================================================================================================================================================================================================================================================================================================================================================================================================================================================================================================================================================================================================================================================================================================================================================================================================================================================================================================================================================================================================================================================================================================================================================================================================================================================================================================================================================================================================================================================================================================================================================================================================================================================================================================================================================================================================================================================================================================================================================================================================================================================================================================================================================================================================================================================================================================================================================================================================================================================================================================================================================================================================================================================================================================================================================================================================================================================================================================================================================================================================================================================================================================================================================================================================================================================================================================================================================================================================================================================================================================================================================================================================================================================================================================================================================================================================================================================================================================================================================================================================================================================================================================================================================================================================================================================================================================================================================================================================================================================================================================================================================================================================================================================================================================================================================================================================================================================================================================================================================================================================================================================================================================================================================================================================================================================================================================================================================================================================================================================================================================================================================================================================================================================================================================================================================================================================================================================================================================================================================================================================================================================================================================================================================================================================================================================================================================================================================================================================================================================================================================================================================================================================================================================================================================================================================================================================================================================================================================================================================================================================================================================================================================================================================================================================================================================================================================================================================================================================================================================================================================================================================================================================================================================================================================================================================================================================================================================================================================================================================================================================================================================================================================================================================================================================================================================================================================================================================================================================================================================================================================================================================================================================================================================================================================================================================================================================================================================================================================================================================================================================================================================================================================================================================================================================================================================================================================================================================================================================================================================================================================================================================================================================================================================================================================================================================================================================================================================================================================================================================================================================================================================================================================================================================================================================================================================================================================================================================================================================================================================================================================================================================================================================================================================================================================================================================================================================================================================================================================================================================================================================================================================================================================================================================================================================================================================================================================================================================================================================================================================================================================================================================================================================================================================================================================================================================================================================================================================================================================================================================================================================================================================================================================================================================================================================================================================================================================================================================================================================================================================================================================================================================================================================================================================================================================================================================================================================================================================================================================================================================================================================================================================================================================================================================================================================================================================================================================================================================================================================================================================================================================================================================================================================================================================================================================================================================================================================================================================================================================================================================================================================================================================================================================================================================================================================================================================================================================================================================================================================================================================================================================================================================================================================================================================================================================================================================================================================================================================================================================================================================================================================================================================================================================================================================================================================================================================================================================================================================================================================================================================================================================================================================================================================================================================================================================================================================================================================================================================================================================================================================================================================================================================================================================================================================================================================================================================================================================================================================================================================================================================================================================================================================================================================================================================================================================================================================================================================================================================================================================================================================================================================================================================================================================================================================================================================================================================================================================================================================================================================================================================================================================================================================================================================================================================================================================================================================================================================================================================================================================================================================================================================================================================================================================================================================================================================================================================================================================================================================================================================================================================================================================================================================================================================================================================================================================================================================================================================================================================================================================================================================================================================================================================================================================================================================================================================================================================================================================================================================================================================================================================================================================================================================================================================================================================================================================================================================================================================================================================================================================================================================================================================================================================================================================================================================================================================================================================================================================================================================================================================================================================================================================================================================================================================================================================================================================================================================================================================================================================================================================================================================================================================================================================================================================================================================================================================================================================================================================================================================================================================================================================================================================================================================================================================================================================================================================================================================================================================================================================================================================================================================================================================================================================================================================================================================================================================================================================================================================================================================================================================================================================================================================================================================================================================================================================================================================================================================================================================================================================================================================================================================================================================================================================================================================================================================================================================================================================================================================================================================================================================================================================================================================================================================================================================================================================================================================================================================================================================================================================================================================================================================================================================================================================================================================================================================================================================================================================================================================================================================================================================================================================================================================================================================================================================================================================================================================================================================================================================================================================================================================================================================================================================================================================================================================================================================================================================================================================================================================================================================================================================================================================================================================================================================================================================================================================================================================================================================================================================================================================================================================================================================================================================================================================================================================================================================================================================================================================================================================================================================================================================================================================================================================================================================================================================================================================================================================================================================================================================================================================================================================================================================================================================================================================================================================================================================================================================================================================================================================================================================================================================================================================================================================================================================================================================================================================================================================================================================================================================================================================================================================================================================================================================================================================================================================================================================================================================================================================================================================================================================================================================================================================================================================================================================================================================================================================================================================================================================================================================================================================================================================================================================================================================================================================================================================================================================================================================================================================================================================================================================================================================================================================================================================================================================================================================================================================================================================================================================================================================================================================================================================================================================================================================================================================================================================================================================================================================================================================================================================================================================================================================================================================================================================================================================================================================================================================================================================================================================================================================================================================================================================================================================================================================================================================================================================================================================================================================================================================================================================================================================================================================================================================================================================================================================================================================================================================================================================================================================================================================================================================================================================================================================================================================================================================================================================================================================================================================================================================================================================================================================================================================================================================================================================================================================================================================================================================================================================================================================================================================================================================================================================================================================================================================================================================================================================================================================================================================================================================================================================================================================================================================================================================================================================================================================================================================================================================================================================================================================================================================================================================================================================================================================================================================================================================================================================================================================================================================================================================================================================================================================================================================================================================================================================================================================================================================================================================================================================================================================================================================================================================================================================================================================================================================================================================================================================================================================================================================================================================================================================================================================================================================================================================================================================================================================================================================================================================================================================================================================================================================================================================================================================================================================================================================================================================================================================================================================================================================================================================================================================================================================================================================================================================================================================================================================================================================================================================================================================================================================================================================================================================================================================================================================================================================================================================================================================================================================================================================================================================================================================================================================================================================================================================================================================================================================================================================================================================================================================================================================================================================================================================================================================================================================================================================================================================================================================================================================================================================================================================================================================================================================================================================================================================================================================================================================================================================================================================================================================================================================================================================================================================================================================================================================================================================================================================================================================================================================================================================================================================================================================================================================================================================================================================================================================================================================================================================================================================================================================================================================================================================================================================================================================================================================================================================================================================================================================================================================================================================================================================================================================================================================================================================================================================================================================================================================================================================================================================================================================================================================================================================================================================================================================================================================================================================================================================================================================================================================================================================================================================================================================================================================================================================================================================================================================================================================================================================================================================================================================================================================================================================================================================================================================================================================================================================================================================================================================================================================================================================================================================================================================================================================================================================================================================================================================================================================================================================================================================================================================================================================================================================================================================================================================================================================================================================================================================================================================================================================================================================================================================================================================================================================================================================================================================================================================================================================================================================================================================================================================================================================================================================================================================================================================================================================================================================================================================================================================================================================================================================================================================================================================================================================================================================================================================================================================================================================================================================================================================================================================================================================================================================================================================================================================================================================================================================================================================================================================================================================================================================================================================================================================================================================================================================================================================================================================================================================================================================================================================================================================================================================================================================================================================================================================================================================================================================================================================================================================================================================================================================================================================================================================================================================================================================================================================================================================================================================================================================================================================================================================================================================================================================================================================================================================================================================================================================================================================================================================================================================================================================================================================================================================================================================================================================================================================================================================================================================================================================================================================================================================================================================================================================================================================================================================================================================================================================================================================================================================================================================================================================================================================================================================================================================================================================================================================================================================================================================================================================================================================================================================================================================================================================================================================================================================================================================================================================================================================================================================================================================================================================================================================================================================================================================================================================================================================================================================================================================================================================================================================================================================================================================================================================================================================================================================================================================================================================================================================================================================================================================================================================================================================================================================================================================================================================================================================================================================================================================================================================================================================================================================================================================================================================================================================================================================================================================================================================================================================================================================================================================================================================================================================================================================================================================================================================================================================================================================================================================================================================================================================================================================================================================================================================================================================================================================================================================================================================================================================================================================================================================================================================================================================================================================================================================================================================================================================================================================================================================================================================================================================================================================================================================================================================================================================================================================================================================================================================================================================================================================================================================================================================================================================================================================================================================================================================================================================================================================================================================================================================================================================================================================================================================================================================================================================================================================================================================================================================================================================================================================================================================================================================================================================================================================================================================================================================================================================================================================================================================================================================================================================================================================================================================================================================================================================================================================================================================================================================================================================================================================================================================================================================================================================================================================================================================================================================================================================================================================================================================================================================================================================================================================================================================================================================================================================================================================================================================================================================================================================================================================================================================================================================================================================================================================================================================================================================================================================================================================================================================================================================================================================================================================================================================================================================================================================================================================================================================================================================================================================================================================================================================================================================================================================================================================================================================================================================================================================================================================================================================================================================================================================================================================================================================================================================================================================================================================================================================================================================================================================================================================================================================================================================================================================================================================================================================================================================================================================================================================================================================================================================================================================================================================================================================================================================================================================================================================================================================================================================================================================================================================================================================================================================================================================================================================================================================================================================================================================================================================================================================================================================================================================================================================================================================================================================================================================================================================================================================================================================================================================================================================================================================================================================================================================================================================================================================================================================================================================================================================================================================================================================================================================================================================================================================================================================================================================================================================================================================================================================================================================================================================================================================================================================================================================================================================================================================================================================================================================================================================================================================================================================================================================================================================================================================================================================================================================================================================================================================================================================================================================================================================================================================================================================================================================================================================================================================================================================================================================================================================================================================================================================================================================================================================================================================================================================================================================================================================================================================================================================================================================================================================================================================================================================================================================================================================================================================================================================================================================================================================================================================================================================================================================================================================================================================================================================================================================================================================================================================================================================================================================================================================================================================================================================================================================================================================================================================================================================================================================================================================================================================================================================================================================================================================================================================================================================================================================================================================================================================================================================================================================================================================================================================================================================================================================================================================================================================================================================================================================================================================================================================================================================================================================================================================================================================================================================================================================================================================================================================================================================================================================================================================================================================================================================================================================================================================================================================================================================================================================================================================================================================================================================================================================================================================================================================================================================================================================================================================================================================================================================================================================================================================================================================================================================================================================================================================================================================================================================================================================================================================================================================================================================================================================================================================================================================================================================================================================================================================================================================================================================================================================================================================================================================================================================================================================================================================================================================================================================================================================================================================================================================================================================================================================================================================================================================================================================================================================================================================================================================================================================================================================================================================================================================================================================================================================================================================================================================================================================================================================================================================================================================================================================================================================================================================================================================================================================================================================================================================================================================================================================================================================================================================================================================================================================================================================================================================================================================================================================================================================================================================================================================================================================================================================================================================================================================================================================================================================================================================================================================================================================================================================================================================================================================================================================================================================================================================================================================================================================================================================================================================================================================================================================================================================================================================================================================================================================================================================================================================================================================================================================================================================================================================================================================================================================================================================================================================================================================================================================================================================================================================================================================================================================================================================================================================================================================================================================================================================================================================================================================================================================================================================================================================================================================================================================================================================================================================================================================================================================================================================================================================================================================================================================================================================================================================================================================================================================================================================================================================================================================================================================================================================================================================================================================================================================================================================================================================================================================================================================================================================================================================================================================================================================================================================================================================================================================================================================================================================================================================================================================================================================================================================================================================================================================================================================================================================================================================================================================================================================================================================================================================================================================================================================================================================================================================================================================================================================================================================================================================================================================================================================================================================================================================================================================================================================================================================================================================================================================================================================================================================================================================================================================================================================================================================================================================================================================================================================================================================================================================================================================================================================================================================================================================================================================================================================================================================================================================================================================================================================================================================================================================================================================================================================================================================================================================================================================================================================================================================================================================================================================================================================================================================================================================================================================================================================================================================================================================================================================================================================================================================================================================================================================================================================================================================================================================================================================================================================================================================================================================================================================================================================================================================================================================================================================================================================================================================================================================================================================================================================================================================================================================================================================================================================================================================================================================================================================================================================================================================================================================================================================================================================================================================================================================================================================================================================================================================================================================================================================================================================================================================================================================================================================================================================================================================================================================================================================================================================================================================================================================================================================================================================================================================================================================================================================================================================================================================================================================================================================================================================================================================================================================================================================================================================================================================================================================================================================================================================================================================================================================================================================================================================================================================================================================================================================================================================================================================================================================================================================================================================================================================================================================================================================================================================================================================================================================================================================================================================================================================================================================================================================================================================================================================================================================================================================================================================================================================================================================================================================================================================================================================================================================================================================================================================================================================================================================================================================================================================================================================================================================================================================================================================================================================================================================================================================================================================================================================================================================================================================================================================================================================================================================================================================================================================================================================================================================================================================================================================================================================================================================================================================================================================================================================================================================================================================================================================================================================================================================================================================================================================================================================================================================================================================================================================================================================================================================================================================================================================================================================================================================================================================================================================================================================================================================================================================================================================================================================================================================================================================================================================================================================================================================================================================================================================================================================================================================================================================================================================================================================================================================================================================================================================================================================================================================================================================================================================================================================================================================================================================================================================================================================================================================================================================================================================================================================================================================================================================================================================================================================================================================================================================================================================================================================================================================================================================================================================================================================================================================================================================================================================================================================================================================================================================================================================================================================================================================================================================================================================================================================================================================================================================================================================================================================================================================================================================================================================================================================================================================================================================================================================================================================================================================================================================================================================================================================================================================================================================================================================================================================================================================================================================================================================================================================================================================================================================================================================================================================================================================================================================================================================================================================================================================================================================================================================================================================================================================================================================================================================================================================================================================================================================================================================================================================================================================================================================================================================================================================================================================================================================================================================================================================================================================================================================================================================================================================================================================================================================================================================================================================================================================================================================================================================================================================================================================================================================================================================================================================================================================================================================================================================================================================================================================================================================================================================================================================================================================================================================================================================================================================================================================================================================================================================================================================================================================================================================================================================================================================================================================================================================================================================================================================================================================================================================================================================================================================================================================================================================================================================================================================================================================================================================================================================================================================================================================================================================================================================================================================================================================================================================================================================================================================================================================================================================================================================================================================================================================================================================================================================================================================================================================================================================================================================================================================================================================================================================================================================================================================================================================================================================================================================================================================================================================================================================================================================================================================================================================================================================================================================================================================================================================================================================================================================================================================================================================================================================================================================================================================================================================================================================================================================================================================================================================================================================================================================================================================================================================================================================================================================================================================================================================================================================================================================================================================================================================================================================================================================================================================================================================================================================================================================================================================================================================================================================================================================================================================================================================================================================================================================================================================================================================================================================================================================================================================================================================================================================================================================================================================================================================================================================================================================================================================================================================================================================================================================================================================================================================================================================================================================================================================================================================================================================================================================================================================================================================================================================================================================================================================================================================================================================================================================================================================================================================================================================================================================================================================================================================================================================================================================================================================================================================================================================================================================================================================================================================================================================================================================================================================================================================================================================================================================================================================================================================================================================================================================================================================================================================================================================================================================================================================================================================================================================================================================================================================================================================================================================================================================================================================================================================================================================================================================================================================================================================================================================================================================================================================================================================================================================================================================================================================================================================================================================================================================================================================================================================================================================================================================================================================================================================================================================================================================================================================================================================================================================================================================================================================================================================================================================================================================================================================================================================================================================================================================================================================================================================================================================================================================================================================================================================================================================================================================================================================================================================================================================================================================================================================================================================================================================================================================================================================================================================================================================================================================================================================================================================================================================================================================================================================================================================================================================================================================================================================================================================================================================================================================================================================================================================================================================================================================================================================================================================================================================================================================================================================================================================================================================================================================================================================================================================================================================================================================================================================================================================================================================================================================================================================================================================================================================================================================================================================================================================================================================================================================================================================================================================================================================================================================================================================================================================================================================================================================================================================================================================================================================================================================================================================================================================================================================================================================================================================================================================================================================================================================================================================================================================================================================================================================================================================================================================================================================================================================================================================================================================================================================================================================================================================================================================================================================================================================================================================================================================================================================================================================================================================================================================================================================================================================================================================================================================================================================================================================================================================================================================================================================================================================================================================================================================================================================================================================================================================================================================================================================================================================================================================================================================================================================================================================================================================================================================================================================================================================================================================================================================================================================================================================================================================================================================================================================================================================================================================================================================================================================================================================================================================================================================================================================================================================================================================================================================================================================================================================================================================================================================================================================================================================================================================================================================================================================================================================================================================================================================================================================================================================================================================================================================================================================================================================================================================================================================================================================================================================================================================================================================================================================================================================================================================================================================================================================================================================================================================================================================================================================================================================================================================================================================================================================================================================================================================================================================================================================================================================================================================================================================================================================================================================================================================================================================================================================================================================================================================================================================================================================================================================================================================================================================================================================================================================================================================================================================================================================================================================================================================================================================================================================================================================================================================================================================================================================================================================================================================================================================================================================================================================================================================================================================================================================================================================================================================================================================================================================================================================================================================================================================================================================================================================================================================================================================================================================================================================================================================================================================================================================================================================================================================================================================================================================================================================================================================================================================================================================================================================================================================================================================================================================================================================================================================================================================================================================================================================================================================================================================================================================================================================================================================================================================================================================================================================================================================================================================================================================================================================================================================================================================================================================================================================================================================================================================================================================================================================================================================================================================================================================================================================================================================================================================================================================================================================================================================================================================================================================================================================================================================================================================================================================================================================================================================================================================================================================================================================================================================================================================================================================================================================================================================================================================================================================================================================================================================================================================================================================================================================================================================================================================================================================================================================================================================================================================================================================================================================================================================================================================================================================================================================================================================================================================================================================================================================================================================================================================================================================================================================================================================================================================================================================================================================================================================================================================================================================================================================================================================================================================================================================================================================================================================================================================================================================================================================================================================================================================================================================================================================================================================================================================================================================================================================================================================================================================================================================================================================================================================================================================================================================================================================================================================================================================================================================================================================================================================================================================================================================================================================================================================================================================================================================================================================================================================================================================================================================================================================================================================================================================================================================================================================================================================================================================================================================================================================================================================================================================================================================================================================================================================================================================================================================================================================================================================================================================================================================================================================================================================================================================================================================================================================================================================================================================================================================================================================================================================================================================================================================================================================================================================================================================================================================================================================================================================================================================================================================================================================================================================================================================================================================================================================================================================================================================================================================================================================================================================================================================================================================================================================================================================================================================================================================================================================================================================================================================================================================================================================================================================================================================================================================================================================================================================================================================================================================================================================================================================================================================================================================================================================================================================================================================================================================================================================================================================================================================================================================================================================================================================================================================================================================================================================================================================================================================================================================================================================================================================================================================================================================================================================================================================================================================================================================================================================================================================================================================================================================================================================================================================================================================================================================================================================================================================================================================================================================================================================================================================================================================================================================================================================================================================================================================================================================================================================================================================================================================================================================================================================================================================================================================================================================================================================================================================================================================================================================================================================================================================================================================================================================================================================================================================================================================================================================================================================================================================================================================================================================================================================================================================================================================================================================================================================================================================================================================================================================================================================================================================================================================================================================================================================================================================================================================================================================================================================================================================================================================================================================================================================================================================================================================================================================================================================================================================================================================================================================================================================================================================================================================================================================================================================================================================================================================================================================================================================================================================================================================================================================================================================================================================================================================================================================================================================================================================================================================================================================================================================================================================================================================================================================================================================================================================================================================================================================================================================================================================================================================================================================================================================================================================================================================================================================================================================================================================================================================================================================================================================================================================================================================================================================================================================================================================================================================================================================================================================================================================================================================================================================================================================================================================================================================================================================================================================================================================================================================================================================================================================================================================================================================================================================================================================================================================================================================================================================================================================================================================================================================================================================================================================================================================================================================================================================================================================================================================================================================================================================================================================================================================================================================================================================================================================================================================================================================================================================================================================================================================================================================================================================================================================================================================================================================================================================================================================================================================================================================================================================================================================================================================================================================================================================================================================================================================================================================================================================================================================================================================================================================================================================================================================================================================================================================================================================================================================================================================================================================================================================================================================================================================================================================================================================================================================================================================================================================================================================================================================================================================================================================================================================================================================================================================================================================================================================================================================================================================================================================================================================================================================================================================================================================================================================================================================================================================================================================================================================================================================================================================================================================================================================================================================================================================================================================================================================================================================================================================================================================================================================================================================================================================================================================================================================================================================================================================================================================================================================================================================================================================================================================================================================================================================================================================================================================================================================================================================================================================================================================================================================================================================================================================================================================================================================================================================================================================================================================================================================================================================================================================================================================================================================================================================================================================================================================================================================================================================================================================================================================================================================================================================================================================================================================================================================================================================================================================================================================================================================================================================================================================================================================================================================================================================================================================================================================================================================================================================================================================================================================================================================================================================================================================================================================================================================================================================================================================================================================================================================================================================================================================================================================================================================================================================================================================================================================================================================================================================================================================================================================================================================================================================================================================================================================================================================================================================================================================================================================================================================================================================================================================================================================================================================================================================================================================================================================================================================================================================================================================================================================================================================================================================================================================================================================================================================================================================================================================================================================================================================================================================================================================================================================================================================================================================================================================================================================================================================================================================================================================================================================================================================================================================================================================================================================================================================================================================================================================================================================================================================================================================================================================================================================================================================================================================================================================================================================================================================================================================================================================================================================================================================================================================================================================================================================================================================================================================================================================================================================================================================================================================================================================================================================================================================================================================================================================================================================================================================================================================================================================================================================================================================================================================================================================================================================================================================================================================================================================================================================================================================================================================================================================================================================================================================================================================================================================================================================================================================================================================================================================================================================================================================================================================================================================================================================================================================================================================================================================================================================================================================================================================================================================================================================================================================================================================================================================================================================================================================================================================================================================================================================================================================================================================================================================================================================================================================================================================================================================================================================================================================================================================================================================================================================================================================================================================================================================================================================================================================================================================================================================================================================================================================================================================================================================================================================================================================================================================================================================================================================================================================================================================================================================================================================================================================================================================================================================================================================================================================================================================================================================================================================================================================================================================================================================================================================================================================================================================================================================================================================================================================================================================================================================================================================================================================================================================================================================================================================================================================================================================================================================================================================================================================================================================================================================================================================================================================================================================================================================================================================================================================================================================================================================================================================================================================================================================================================================================================================================================================================================================================================================================================================================================================================================================================================================================================================================================================================================================================================================================================================================================================================================================================================================================================================================================================================================================================================================================================================================================================================================================================================================================================================================================================================================================================================================================================================================================================================================================================================================================================================================================================================================================================================================================================================================================================================================================================================================================================================================================================================================================================================================================================================================================================================================================================================================================================================================================================================================================================================================================================================================================================================================================================================================================================================================================================================================================================================================================================================================================================================================================================================================================================================================================================================================================================================================================================================================================================================================================================================================================================================================================================================================================================================================================================================================================================================================================================================================================================================================================================================================================================================================================================================================================================================================================================================================================================================================================================================================================================================================================================================================================================================================================================================================================================================================================================================================================================================================================================================================================================================================================================================================================================================================================================================================================================================================================================================================================================================================================================================================================================================================================================================================================================================================================================================================================================================================================================================================================================================================================================================================================================================================================================================================================================================================================================================================================================================================================================================================================================================================================================================================================================================================================================================================================================================================================================================================================================================================================================================================================================================================================================================================================================================================================================================================================================================================================================================================================================================================================================================================================================================================================================================================================================================================================================================================================================================================================================================================================================================================================================================================================================================================================================================================================================================================================================================================================================================================================================================================================================================================================================================================================================================================================================================================================================================================================================================================================================================================================================================================================================================================================================================================================================================================================================================================================================================================================================================================================================================================================================================================================================================================================================================================================================================================================================================================================================================================================================================================================================================================================================================================================================================================================================================================================================================================================================================================================================================================================================================================================================================================================================================================================================================================================================================================================================================================================================================================================================================================================================================================================================================================================================================================================================================================================================================================================================================================================================================================================================================================================================================================================================================================================================================================================================================================================================================================================================================================================================================================================================================================================================================================================================================================================================================================================================================================================================================================================================================================================================================================================================================================================================================================================================================================================================================================================================================================================================================================================================================================================================================================================================================================================================================================================================================================================================================================================================================================================================================================================================================================================================================================================================================================================================================================================================================================================================================================================================================================================================================================================================================================================================================================================================================================================================================================================================================================================================================================================================================================================================================================================================================================================================================================================================================================================================================================================================================================================================================================================================================================================================================================================================================================================================================================================================================================================================================================================================================================================================================================================================================================================================================================================================================================================================================================================================================================================================================================================================================================================================================================================================================================================================================================================================================================================================================================================================================================================================================================================================================================================================================================================================================================================================================================================================================================================================================================================================================================================================================================================================================================================================================================================================================================================================================================================================================================================================================================================================================================================================================================================================================================================================================================================================================================================================================================================================================================================================================================================================================================================================================================================================================================================================================================================================================================================================================================================================================================================================================================================================================================================================================================================================================================================================================================================================================================================================================================================================================================================================================================================================================================================================================================================================================================================================================================================================================================================================================================================================================================================================================================================================================================================================================================================================================================================================================================================================================================================================================================================================================================================================================================================================================================================================================================================================================================================================================================================================================================================================================================================================================================================================================================================================================================================================================================================================================================================================================================================================================================================================================================================================================================================================================================================================================================================================================================================================================================================================================================================================================================================================================================================================================================================================================================================================================================================================================================================================================================================================================================================================================================================================================================================================================================================================================================================================================================================================================================================================================================================================================================================================================================================================================================================================================================================================================================================================================================================================================================================================================================================================================================================================================================================================================================================================================================================================================================================================================================================================================================================================================================================================================================================================================================================================================================================================================================================================================================================================================================================================================================================================================================================================================================================================================================================================================================================================================================================================================================================================================================================================================================================================================================================================================================================================================================================================================================================================================================================================================================================================================================================================================================================================================================================================================================================================================================================================================================================================================================================================================================================================================================================================================================================================================================================================================================================================================================================================================================================================================================================================================================================================================================================================================================================================================================================================================================================================================================================================================================================================================================================================================================================================================================================================================================================================================================================================================================================================================================================================================================================================================================================================================================================================================================================================================================================================================================================================================================================================================================================================================================================================================================================================================================================================================================================================================================================================================================================================================================================================================================================================================================================================================================================================================================================================================================================================================================================================================================================================================================================================================================================================================================================================================================================================================================================================================================================================================================================================================================================================================================================================================================================================================================================================================================================================================================================================================================================================================================================================================================================================================================================================================================================================================================================================================================================================================================================================================================================================================================================================================================================================================================================================================================================================================================================================================================================================================================================================================================================================================================================================================================================================================================================================================================================================================================================================================================================================================================================================================================================================================================================================================================================================================================================================================================================================================================================================================================================================================================================================================================================================================================================================================================================================================================================================================================================================================================================================================================================================================================================================================================================================================================================================================================================================================================================================================================================================================================================================================================================================================================================================================================================================================================================================================================================================================================================================================================================================================================================================================================================================================================================================================================================================================================================================================================================================================================================================================================================================================================================================================================================================================================================================================================================================================================================================================================================================================================================================================================================================================================================================================================================================================================================================================================================================================================================================================================================================================================================================================================================================================================================================================================================================================================================================================================================================================================================================================================================================================================================================================================================================================================================================================================================================================================================================================================================================================================================================================================================================================================================================================================================================================================================================================================================================================================================================================================================================================================================================================================================================================================================================================================================================================================================================================================================================================================================================================================================================================================================================================================================================================================================================================================================================================================================================================================================================================================================================================================================================================================================================================================================================================================================================================================================================================================================================================================================================================================================================================================================================================================================================================================================================================================================================================================================================================================================================================================================================================================================================================================================================================================================================================================================================================================================================================================================================================================================================================================================================================================================================================================================================================================================================================================================================================================================================================================================================================================================================================================================================================================================================================================================================================================================================================================================================================================================================================================================================================================================================================================================================================================================================================================================================================================================================================================================================================================================================================================================================================================================================================================================================================================================================================================================================================================================================================================================================================================================================================================================================================================================================================================================================================================================================================================================================================================================================================================================================================================================================================================================================================================================================================================================================================================================================================================================================================================================================================================================================================================================================================================================================================================================================================================================================================================================================================================================================================================================================================================================================================================================================================================================================================================================================================================================================================================================================================================================================================================================================================================================================================================================================================================================================================================================================================================================================================================================================================================================================================================================================================================================================================================================================================================================================================================================================================================================================================================================================================================================================================================================================================================================================================================================================================================================================================================================================================================================================================================================================================================================================================================================================================================================================================================================================================================================================================================================================================================================================================================================================================================================================================================================================================================================================================================================================================================================================================================================================================================================================================================================================================================================================================================================================================================================================================================================================================================================================================================================================================================================================================================================================================================================================================================================================================================================================================================================================================================================================================================================================================================================================================================================================================================================================================================================================================================================================================================================================================================================================================================================================================================================================================================================================================================================================================================================================================================================================================================================================================================================================================================================================================================================================================================================================================================================================================================================================================================================================================================================================================================================================================================================================================================================================================================================================================================================================================================================================================================================================================================================================================================================================================================================================================================================================================================================================================================================================================================================================================================================================================================================================================================================================================================================================================================================================================================================================================================================================================================================================================================================================================================================================================================================================================================================================================================================================================================================================================================================================================================================================================================================================================================================================================================================================================================================================================================================================================================================================================================================================================================================================================================================================================================================================================================================================================================================================================================================================================================================================================================================================================================================================================================================================================================================================================================================================================================================================================================================================================================================================================================================================================================================================================================================================================================================================================================================================================================================================================================================================================================================================================================================================================================================================================================================================================================================================================================================================================================================================================================================================================================================================================================================================================================================================================================================================================================================================================================================================================================================================================================================================================================================================================================================================================================================================================================================================================================================================================================================================================================================================================================================================================================================================================================================================================================================================================================================================================================================================================================================================================================================================================================================================================================================================================================================================================================================================================================================================================================================================================================================================================================================================================================================================================================================================================================================================================================================================================================================================================================================================================================================================================================================================================================================================================================================================================================================================================================================================================================================================================================================================================================================================================================================================================================================================================================================================================================================================================================================================================================================================================================================================================================================================================================================================================================================================================================================================================================================================================================================================================================================================================================================================================================================================================================================================================================================================================================================================================================================================================================================================================================================================================================================================================================================================================================================================================================================================================================================================================================================================================================================================================================================================================================================================================================================================================================================================================================================================================================================================================================================================================================================================================================================================================================================================================================================================================================================================================================================================================================================================================================================================================================================================================================================================================================================================================================================================================================================================================================================================================================================================================================================================================================================================================================================================================================================================================================================================================================================================================================================================================================================================================================================================================================================================================================================================================================================================================================================================================================================================================================================================================================================================================================================================================================================================================================================================================================================================================================================================================================================================================================================================================================================================================================================================================================================================================================================================================================================================================================================================================================================================================================================================================================================================================================================================================================================================================================================================================================================================================================================================================================================================================================================================================================================================================================================================================================================================================================================================================================================================================================================================================================================================================================================================================================================================================================================================================================================================================================================================================================================================================================================================================================================================================================================================================================================================================================================================================================================================================================================================================================================================================================================================================================================================================================================================================================================================================================================================================================================================================================================================================================================================================================================================================================================================================================================================================================================================================================================================================================================================================================================================================================================================================================================================================================================================================================================================================================================================================================================================================================================================================================================================================================================================================================================================================================================================================================================================================================================================================================================================================================================================================================================================================================================================================================================================================================================================================================================================================================================================================================================================================================================================================================================================================================================================================================================================================================================================================================================================================================================================================================================================================================================================================================================================================================================================================================================================================================================================================================================================================================================================================================================================================================================================================================================================================================================================================================================================================================================================================================================================================================================================================================================================================================================================================================================================================================================================================================================================================================================================================================================================================================================================================================================================================================================================================================================================================================================================================================================================================================================================================================================================================================================================================================================================================================================================================================================================================================================================================================================================================================================================================================================================================================================================================================================================================================================================================================================================================================================================================================================================================================================================================================================================================================================================================================================================================================================================================================================================================================================================================================================================================================================================================================================================================================================================================================================================================================================================================================================================================================================================================================================================================================================================================================================================================================================================================================================================================================================================================================================================================================================================================================================================================================================================================================================================================================================================================================================================================================================================================================================================================================================================================================================================================================================================================================================================================================================================================================================================================================================================================================================================================================================================================================================================================================================================================================================================================================================================================================================================================================================================================================================================================================================================================================================================================================================================================================================================================================================================================================================================================================================================================================================================================================================================================================================================================================================================================================================================================================================================================================================================================================================================================================================================================================================================================================================================================================================================================================================================================================================================================================================================================================================================================================================================================================================================================================================================================================================================================================================================================================================================================================================================================================================================================================================================================================================================================================================================================================================================================================================================================================================================================================================================================================================================================================================================================================================================================================================================================================================================================================================================================================================================================================================================================================================================================================================================================================================================================================================================================================================================================================================================================================================================================================================================================================================================================================================================================================================================================================================================================================================================================================================================================================================================================================================================================================================================================================================================================================================================================================================================================================================================================================================================================================================================================================================================================================================================================================================================================================================================================================================================================================================================================================================================================================================================================================================================================================================================================================================================================================================================================================================================================================================================================================================================================================================================================================================================================================================================================================================================================================================================================================================================================================================================================================================================================================================================================================================================================================================================================================================================================================================================================================================================================================================================================================================================================================================================================================================================================================================================================================================================================================================================================================================================================================================================================================================================================================================================================================================================================================================================================================================================================================================================================================================================================================================================================================================================================================================================================================================================================================================================================================================================================================================================================================================================================================================================================================================================================================================================================================================================================================================================================================================================================================================================================================================================================================================================================================================================================================================================================================================================================================================================================================================================================================================================================================================================================================================================================================================================================================================================================================================================================================================================================================================================================================================================================================================================================================================================================================================================================================================================================================================================================================================================================================================================================================================================================================================================================================================================================================================================================================================================================================================================================================================================================================================================================================================================================================================================================================================================================================================================================================================================================================================================================================================================================================================================================================================================================================================================================================================================================================================================================================================================================================================================================================================================================================================================================================================================================================================================================================================================================================================================================================================================================================================================================================================================================================================================================================================================================================================================================================================================================================================================================================================================================================================================================================================================================================================================================================================================================================================================================================================================================================================================================================================================================================================================================================================================================================================================================================================================================================================================================================================================================================================================================================================================================================================================================================================================================================================================================================================================================================================================================================================================================================================================================================================================================================================================================================================================================================================================================================================================================================================================================================================================================================================================================================================================================================================================================================================================================================================================================================================================================================================================================================================================================================================================================================================================================================================================================================================================================================================================================================================================================================================================================================================================================================================================================================================================================================================================================================================================================================================================================================================================================================================================================================================================================================================================================================================================================================================================================================================================================================================================================================================================================================================================================================================================================================================================================================================================================================================================================================================================================================================================================================================================================================================================================================================================================================================================================================================================================================================================================================================================================================================================================================================================================================================================================================================================================================================================================================================================================================================================================================================================================================================================================================================================================================================================================================================================================================================================================================================================================================================================================================================================================================================================================================================================================================================================================================================================================================================================================================================================================================================================================================================================================================================================================================================================================================================================================================================================================================================================================================================================================================================================================================================================================================================================================================================================================================================================================================================================================================================================================================================================================================================================================================================================================================================================================================================================================================================================================================================================================================================================================================================================================================================================================================================================================================================================================================================================================================================================================================================================================================================================================================================================================================================================================================================================================================================================================================================================================================================================================================================================================================================================================================================================================================================================================================================================================================================================================================================================================================================================================================================================================================================================================================================================================================================================================================================================================================================================================================================================================================================================================================================================================================================================================================================================================================================================================================================================================================================================================================================================================================================================================================================================================================================================================================================================================================================================================================================================================================================================================================================================================================================================================================================================================================================================================================================================================================================================================================================================================================================================================================================================================================================================================================================================================================================================================================================================================================================================================================================================================================================================================================================================================================================================================================================================================================================================================================================================================================================================================================================================================================================================================================================================================================================================================================================================================================================================================================================================================================================================================================================================================================================================================================================================================================================================================================================================================================================================================================================================================================================================================================================================================================================================================================================================================================================================================================================================================================================================================================================================================================================================================================================================================================================================================================================================================================================================================================================================================================================================================================================================================================================================================================================================================================================================================================================================================================================================================================================================================================================================================================================================================================================================================================================================================================================================================================================================================================================================================================================================================================================================================================================================================================================================================================================================================================================================================================================================================================================================================================================================================================================================================================================================================================================================================================================================================================================================================================================================================================================================================================================================================================================================================================================================================================================================================================================================================================================================================================================================================================================================================================================================================================================================================================================================================================================================================================================================================================================================================================================================================================================================================================================================================================================================================================================================================================================================================================================================================================================================================================================================================================================================================================================================================================================================================================================================================================================================================================================================================================================================================================================================================================================================================================================================================================================================================================================================================================================================================================================================================================================================================================================================================================================================================================================================================================================================================================================================================================================================================================================================================================================================================================================================================================================================================================================================================================================================================================================================================================================================================================================================================================================================================================================================================================================================================================================================================================================================================================================================================================================================================================================================================================================================================================================================================================================================================================================================================================================================================================================================================================================================================================================================================================================================================================================================================================================================================================================================================================================================================================================================================================================================================================================================================================================================================================================================================================================================================================================================================================================================================================================================================================================================================================================================================================================================================================================================================================================================================================================================================================================================================================================================================================================================================================================================================================================================================================================================================================================================================================================================================================================================================================================================================================================================================================================================================================================================================================================================================================================================================================================================================================================================================================================================================================================================================================================================================================================================================================================================================================================================================================================================================================================================================================================================================================================================================================================================================================================================================================================================================================================================================================================================================================================================================================================================================================================================================================================================================================================================================================================================================================================================================================================================================================================================================================================================================================================================================================================================================================================================================================================================================================================================================================================================================================================================================================================================================================================================================================================================================================================================================================================================================================================================================================================================================================================================================================================================================================================================================================================================================================================================================================================================================================================================================================================================================================================================================================================================================================================================================================================================================================================================================================================================================================================================================================================================================================================================================================================================================================================================================================================================================================================================================================================================================================================================================================================================================================================================================================================================================================================================================================================================================================================================================================================================================================================================================================================================================================================================================================================================================================================================================================================================================================================================================================================================================================================================================================================================================================================================================================================================================================================================================================================================================================================================================================================================================================================================================================================================================================================================================================================================================================================================================================================================================================================================================================================================================================================================================================================================================================================================================================================================================================================================================================================================================================================================================================================================================================================================================================================================================================================================================================================================================================================================================================================================================================================================================================================================================================================================================================================================================================================================================================================================================================================================================================================================================================================================================================================================================================================================================================================================================================================================================================================================================================================================================================================================================================================================================================================================================================================================================================================================================================================================================================================================================================================================================================================================================================================================================================================================================================================================================================================================================================================================================================================================================================================================================================================================================================================================================================================================================================================================================================================================================================================================================================================================================================================================================================================================================================================================================================================================================================================================================================================================================================================================================================================================================================================================================================================================================================================================================================================================================================================================================================================================================================================================================================================================================================================================================================================================================================================================================================================================================================================================================================================================================================================================================================================================================================================================================================================================================================================================================================================================================================================================================================================================================================================================================================================================================================================================================================================================================================================================================================================================================================================================================================================================================================================================================================================================================================================================================================================================================================================================================================================================================================================================================================================================================================================================================================================================================================================================================================================================================================================================================================================================================================================================================================================================================================================================================================================================================================================================================================================================================================================================================================================================================================================================================================================================================================================================================================================================================================================================================================================================================================================================================================================================================================================================================================================================================================================================================================================================================================================================================================================================================================================================================================================================================================================================================================================================================================================================================================================================================================================================================================================================================================================================================================================================================================================================================================================================================================================================================================================================================================================================================================================================================================================================================================================================================================================================================================================================================================================================================================================================================================================================================================================================================================================================================================================================================================================================================================================================================================================================================================================================================================================================================================================================================================================================================================================================================================================================================================================================================================================================================================================================================================================================================================================================================================================================================================================================================================================================================================================================================================================================================================================================================================================================================================================================================================================================================================================================================================================================================================================================================================================================================================================================================================================================================================================================================================================================================================================================================================================================================================================================================================================================================================================================================================================================================================================================================================================================================================================================================================================================================================================================================================================================================================================================================================================================================================================================================================================================================================================================================================================================================================================================================================================================================================================================================================================================================================================================================================================================================================================================================================================================================================================================================================================================================================================================================================================================================================================================================================================================================================================================================================================================================================================================================================================================================================================================================================================================================================================================================================================================================================================================================================================================================================================================================================================================================================================================================================================================================================================================================================================================================================================================================================================================================================================================================================================================================================================================================================================================================================================================================================================================================================================================================================================================================================================================================================================================================================================================================================================================================================================================================================================================================================================================================================================================================================================================================================================================================================================================================================================================================================================================================================================================================================================================================================================================================================================================================================================================================================================================================================================================================================================================================================================================================================================================================================================================================================================================================================================================================================================================================================================================================================================================================================================================================================================================================================================================================================================================================================================================================================================================================================================================================================================================================================================================================================================================================================================================================================================================================================================================================================================================================================================================================================================================================================================================================================================================================================================================================================================================================================================================================================================================================================================================================================================================================================================================================================================================================================================================================================================================================================================================================================================================================================================================================================================================================================================================================================================================================================================================================================================================================================================================================================================================================================================================================================================================================================================================================================================================================================================================================================================================================================================================================================================================================================================================================================================================================================================================================================================================================================================================================================================================================================================================================================================================================================================================================================================================================================================================================================================================================================================================================================================================================================================================================================================================================================================================================================================================================================================================================================================================================================================================================================================================================================================================================================================================================================================================================================================================================================================================================================================================================================================================================================================================================================================================================================================================================================================================================================================================================================================================================================================================================================================================================================================================================================================================================================================================================================================================================================================================================================================================================================================================================================================================================================================================================================================================================================================================================================================================================================================================================================================================================================================================================================================================================================================================================================================================================================================================================================================================================================================================================================================================================================================================================================================================================================================================================================================================================================================================================================================================================================================================================================================================================================================================================================================================================================================================================================================================================================================================================================================================================================================================================================================================================================================================================================================================================================================================================================================================================================================================================================================================================================================================================================================================================================================================================================================================================================================================================================================================================================================================================================================================================================================================================================================================================================================================================================================================================================================================================================================================================================================================================================================================================================================================================================================================================================================================================================================================================================================================================================================================================================================================================================================================================================================================================================================================================================================================================================================================================================================================================================================================================================================================================================================================================================================================================================================================================================================================================================================================================================================================================================================================================================================================================================================================================================================================================================================================================================================================================================================================================================================================================================================================================================================================================================================================================================================================================================================================================================================================================================================================================================================================================================================================================================================================================================================================================================================================================================================================================================================================================================================================================================================================================================================================================================================================================================================================================================================================================================================================================================================================================================================================================================================================================================================================================================================================================================================================================================================================================================================================================================================================================================================================================================================================================================================================================================================================================================================================================================================================================================================================================================================================================================================================================================================================================================================================================================================================================================================================================================================================================================================================================================================================================================================================================================================================================================================================================================================================================================================================================================================================================================================================================================================================================================================================================================================================================================================================================================================================================================================================================================================================================================================================================================================================================================================================================================================================================================================================================================================================================================================================================================================================================================================================================================================================================================================================================================================================================================================================================================================================================================================================================================================================================================================================================================================================================================================================================================================================================================================================================================================================================================================================================================================================================================================================================================================================================================================================================================================================================================================================================================================================================================================================================================================================================================================================================================================================================================================================================================================================================================================================================================================================================================================================================================================================================================================================================================================================================================================================================================================================================================================================================================================================================================================================================================================================================================================================================================================================================================================================================================================================================================================================================================================================================================================================================================================================================================================================================================================================================================================================================================================================================================================================================================================================================================================================================================================================================================================================================================================================================================================================================================================================================================================================================================================================================================================================================================================================================================================================================================================================================================================================================================================================================================================================================================================================================================================================================================================================================================================================================================================================================================================================================================================================================================================================================================================================================================================================================================================================================================================================================================================================================================================================================================================================================================================================================================================================================================================================================================================================================================================================================================================================================================================================================================================================================================================================================================================================================================================================================================================================================================================================================================================================================================================================================================================================================================================================================================================================================================================================================================================================================================================================================================================================================================================================================================================================================================================================================================================================================================================================================================================================================================================================================================================================================================================================================================================================================================================================================================================================================================================================================================================================================================================================================================================================================================================================================================================================================================================================================================================================================================================================================================================================================================================================================================================================================================================================================================================================================================================================================================================================================================================================================================================================================================================================================================================================================================================================================================================================================================================================================================================================================================================================================================================================================================================================================================================================================================================================================================================================================================================================================================================================================================================================================================================================================================================================================================================================================================================================================================================================================================================================================================================================================================================================================================================================================================================================================================================================================================================================================================================================================================================================================================================================================================================================================================================================================================================================================================================================================================================================================================================================================================================================================================================================================================================================================================================================================================================================================================================================================================================================================================================================================================================================================================================================================================================================================================================================================================================================================================================================================================================================================================================================================================================================================================================================================================================================================================================================================================================================================================================================================================================================================================================================================================================================================================================================================================================================================================================================================================================================================================================================================================================================================================================================================================================================================================================================================================================================================================================================================================================================================================================================================================================================================================================================================================================================================================================================================================================================================================================================================================================================================================================================================================================================================================================================================================================================================================================================================================================================================================================================================================================================================================================================================================================================================================================================================================================================================================================================================================================================================================================================================================================================================================================================================================================================================================================================================================================================================================================================================================================================================================================================================================================================================================================================================================================================================================================================================================================================================================================================================================================================================================================================================================================================================================================================================================================================================================================================================================================================================================================================================================================================================================================================================================================================================================================================================================================================================================================================================================================================================================================================================================================================================================================================================================================================================================================================================================================================================================================================================================================================================================================================================================================================================================================================================================================================================================================================================================================================================================================================================================================================================================================================================================================================================================================================================================================================================================================================================================================================================================================================================================================================================================================================================================================================================================================================================================================================================================================================================================================================================================================================================================================================================================================================================================================================================================================================================================================================================================================================================================================================================================================================================================================================================================================================================================================================================================================================================================================================================================================================================================================================================================================================================================================================================================================================================================================================================================================================================================================================================================================================================================================================================================================================================================================================================================================================================================================================================================================================================================================================================================================================================================================================================================================================================================================================================================================================================================================================================================================================================================================================================================================================================================================================================================================================================================================================================================================================================================================================================================================================================================================================================================================================================================================================================================================================================================================================================================================================================================================================================================================================================================================================================================================================================================================================================================================================================================================================================================================================================================================================================================================================================================================================================================================================================================================================================================================================================================================================================================================================================================================================================================================================================================================================================================================================================================================================================================================================================================================================================================================================================================================================================================================================================================================================================================================================================================================================================================================================================================================================================================================================================================================================================================================================================================================================================================================================================================================================================================================================================================================================================================================================================================================================================================================================================================================================================================================================================================================================================================================================================================================================================================================================================================================================================================================================================================================================================================================================================================================================================================================================================================================================================================================================================================================================================================================================================================================================================================================================================================================================================================================================================================================================================================================================================================================================================================================================================================================================================================================================================================================================================================================================================================================================================================================================================================================================================================================================================================================================================================================================================================================================================================================================================================================================================================================================================================================================================================================================================================================================================================================================================================================================================================================================================================================================================================================================================================================================================================================================================================================================================================================================================================================================================================================================================================================================================================================================================================================================================================================================================================================================================================================================================================================================================================================================================================================================================================================================================================================================================================================================================================================================================================================================================================================================================================================================================================================================================================================================================================================================================================================================================================================================================================================================================================================================================================================================================================================================================================================================================================================================================================================================================================================================================================================================================================================================================================================================================================================================================================================================================================================================================================================================================================================================================================================================================================================================================================================================================================================================================================================================================================================================================================================================================================================================================================================================================================================================================================================================================================================================================================================================================================================================================================================================================================================================================================================================================================================================================================================================================================================================================================================================================================================================================================================================================================================================================================================================================================================================================================================================================================================================================================================================================================================================================================================================================================================================================================================================================================================================================================================================================================================================================================================================================================================================================================================================================================================================================================================================================================================================================================================================================================================================================================================================================================================================================================================================================================================================================================================================================================================================================================================================================================================================================================================================================================================================================================================================================================================================================================================================================================================================================================================================================================================================================================================================================================================================================================================================================================================================================================================================================================================================================================================================================================================================================================================================================================================================================================================================================================================================================================================================================================================================================================================================================================================================================================================================================================================================================================================================================================================================================================================================================================================================================================================================================================================================================================================================================================================================================================================================================================================================================================================================================================================================================================================================================================================================================================================================================================================================================================================================================================================================================================================================================================================================================================================================================================================================================================================================================================================================================================================================================================================================================================================================================================================================================================================================================================================================================================================================================================================================================================================================================================================================================================================================================================================================================================================================================================================================================================================================================================================================================================================================================================================================================================================================================================================================================================================================================================================================================================================================================================================================================================================================================================================================================================================================================================================================================================================================================================================================================================================================================================================================================================================================================================================================================================================================================================================================================================================================================================================================================================================================================================================================================================================================================================================================================================================================================================================================================================================================================================================================================================================================================================================================================================================================================================================================================================================================================================================================================================================================================================================================================================================================================================================================================================================================================================================================================================================================================================================================================================================================================================================================================================================================================================================================================================================================================================================================================================================================================================================================================================================================================================================================================================================================================================================================================================================================================================================================================================================================================================================================================================================================================================================================================================================================================================================================================================================================================================================================================================================================================================================================================================================================================================================================================================================================================================================================================================================================================================================================================================================================================================================================================================================================================================================================================================================================================================================================================================================================================================================================================================================================================================================================================================================================================================================================================================================================================================================================================================================================================================================================================================================================================================================================================================================================================================================================================================================================================================================================================================================================================================================================================================================================================================================================================================================================================================================================================================================================================================================================================================================================================================================================================================================================================================================================================================================================================================================================================================================================================================================================================================================================================================================================================================================================================================================================================================================================================================================================================================================================================================================================================================================================================================================================================================================================================================================================================================================================================================================================================================================================================================================================================================================================================================================================================================================================================================================================================================================================================================================================================================================================================================================================================================================================================================================================================================================================================================================================================================================================================================================================================================================================================================================================================================================================================================================================================================================================================================================================================================================================================================================================================================================================================================================================================================================================================================================================================================================================================================================================================================================================================================================================================================================================================================================================================================================================================================================================================================================================================================================================================================================================================================================================================================================================================================================================================================================================================================================================================================================================================================================================================================================================================================================================================================================================================================================================================================================================================================================================================================================================================================================================================================================================================================================================================================================================================================================================================================================================================================================================================================================================================================================================================================================================================================================================================================================================================================================================================================================================================================================================================================================================================================================================================================================================================================================================================================================================================================================================================================================================================================================================================================================================================================================================================================================================================================================================================================================================================================================================================================================================================================================================================================================================================================================================================================================================================================================================================================================================================================================================================================================================================================================================================================================================================================================================================================================================================================================================================================================================================================================================================================================================================================================================================================================================================================================================================================================================================================================================================================================================================================================================================================================================================================================================================================================================================================================================================================================================================================================================================================================================================================================================================================================================================================================================================================================================================================================================================================================================================================================================================================================================================================================================================================================================================================================================================================================================================================================================================================================================================================================================================================================================================================================================================================================================================================================================================================================================================================================================================================================================================================================================================================================================================================================================================================================================================================================================================================================================================================================================================================================================================================================================================================================================================================================================================================================================================================================================================================================================================================================================================================================================================================================================================================================================================================================================================================================================================================================================================================================================================================================================================================================================================================================================================================================================================================================================================================================================================================================================================================================================================================================================================================================================================================================================================================================================================================================================================================================================================================================================================================================================================================================================================================================================================================================================================================================================================================================================================================================================================================================================================================================================================================================================================================================================================================================================================================================================================================================================================================================================================================================================================================================================================================================================================================================================================================================================================================================================================================================================================================================================================================================================================================================================================================================================================================================================================================================================================================================================================================================================================================================================================================================================================================================================================================================================================================================================================================================================================================================================================================================================================================================================================================================================================================================================================================================================================================================================================================================================================================================================================================================================================================================================================================================================================================================================================================================================================================================================================================================================================================================================================================================================================================================================================================================================================================================================================================================================================================================================================================================================================================================================================================================================================================================================================================================================================================================================================================================================================================================================================================================================================================================================================================================================================================================================================================================================================================================================================================================================================================================================================================================================================================================================================================================================================================================================================================================================================================================================================================================================================================================================================================================================================================================================================================================================================================================================================================================================================================================================================================================================================================================================================================================================================================================================================================================================================================================================================================================================================================================================================================================================================================================================================================================================================================================================================================================================================================================================================================================================================================================================================================================================================================================================================================================================================================================================================================================================================================================================================================================================================================================================================================================================================================================================================================================================================================================================================================================================================================================================================================================================================================================================================================================================================================================================================================================================================================================================================================================================================================================================================================================================================================================================================================================================================================================================================================================================================================================================================================================================================================================================================================================================================================================================================================================================================================================================================================================================================================================================================================================================================================================================================================================================================================================================================================================================================================================================================================================================================================================================================================================================================================================================================================================================================================================================================================================================================================================================================================================================================================================================================================================================================================================================================================================================================================================================================================================================================================================================================================================================================================================================================================================================================================================================================================================================================================================================================================================================================================================================================================================================================================================================================================================================================================================================================================================================================================================================================================================================================================================================================================================================================================================================================================================================================================================================================================================================================================================================================================================================================================================================================================================================================================================================================================================================================================================================================================================================================================================================================================================================================================================================================================================================================================================================================================================================================================================================================================================================================================================================================================================================================================================================================================================================================================================================================================================================================================================================================================================================================================================================================================================================================================================================================================================================================================================================================================================================================================================================================================================================================================================================================================================================================================================================================================================================================================================================================================================================================================================================================================================================================================================================================================================================================================================================================================================================================================================================================================================================================================================================================================================================================================================================================================================================================================================================================================================================================================================================================================================================================================================================================================================================================================================================================================================================================================================================================================================================================================================================================================================================================================================================================================================================================================================================================================================================================================================================================================================================================================================================================================================================================================================================================================================================================================================================================================================================================================================================================================================================================================================================================================================================================================================================================================================================================================================================================================================================================================================================================================================================================================================================================================================================================================================================================================================================================================================================================================================================================================================================================================================================================================================================================================================================================================================================================================================================================================================================================================================================================================================================================================================================================================================================================================================================================================================================================================================================================================================================================================================================================================================================================================================================================================================================================================================================================================================================================================================================================================================================================================================================================================================================================================================================================================================================================================================================================================================================================================================================================================================================================================================================================================================================================================================================================================================================================================================================================================================================================================================================================================================================================================================================================================================================================================================================================================================================================================================================================================================================================================================================================================================================================================================================================================================================================================================================================================================================================================================================================================================================================================================================================================================================================================================================================================================================================================================================================================================================================================================================================================================================================================================================================================================================================================================================================================================================================================================================================================================================================================================================================================================================================================================================================================================================================================================================================================================================================================================================================================================================================================================================================================================================================================================================================================================================================================================================================================================================================================================================================================================================================================================================================================================================================================================================================================================================================================================================================================================================================================================================================================================================================================================================================================================================================================================================================================================================================================================================================================================================================================================================================================================================================================================================================================================================================================================================================================================================================================================================================================================================================================================================================================================================================================================================================================================================================================================================================================================================================================================================================================================================================================================================================================================================================================================================================================================================================================================================================================================================================================================================================================================================================================================================================================================================================================================================================================================================================================================================================================================================================================================================================================================================================================================================================================================================================================================================================================================================================================================================================================================================================================================================================================================================================================================================================================================================================================================================================================================================================================================================================================================================================================================================================================================================================================================================================================================================================================================================================================================================================================================================================================================================================================================================================================================================================================================================================================================================================================================================================================================================================================================================================================================================================================================================================================================================================================================================================================================================================================================================================================================================================================================================================================================================================================================================================================================================================================================================================================================================================================================================================================================================================================================================================================================================================================================================================================================================================================================================================================================================================================================================================================================================================================================================================================================================================================================================================================================================================================================================================================================================================================================================================================================================================================================================================================================================================================================================================================================================================================================================================================================================================================================================================================================================================================================================================================================================================================================================================================================================================================================================================================================================================================================================================================================================================================================================================================================================================================================================================================================================================================================================================================================================================================================================================================================================================================================================================================================================================================================================================================================================================================================================================================================================================================================================================================================================================================================================================================================================================================================================================================================================================================================================================================================================================================================================================================================================================================================================================================================================================================================================================================================================================================================================================================================================================================================================================================================================================================================================================================================================================================================================================================================================================================================================================================================================================================================================================================================================================================================================================================================================================================================================================================================================================================================================================================================================================================================================================================================================================================================================================================================================================================================================================================================================================================================================================================================================================================================================================================================================================================================================================================================================================================================================================================================================================================================================================================================================================================================================================================================================================================================================================================================================================================================================================================================================================================================================================================================================================================================================================================================================================================================================================================================================================================================================================================================================================================================================================================================================================================================================================================================================================================================================================================================================================================================================================================================================================================================================================================================================================================================================================================================================================================================================================================================================================================================================================================================================================================================================================================================================================================================================================================================================================================================================================================================================================================================================================================================================================================================================================================================================================================================================================================================================================================================================================================================================================================================================================================================================================================================================================================================================================================================================================================================================================================================================================================================================================================================================================================================================================================================================================================================================================================================================================================================================================================================================================================================================================================================================================================================================================================================================================================================================================================================================================================================================================================================================================================================================================================================================================================================================================================================================================================================================================================================================================================================================================================================================================================================================================================================================================================================================================================================================================================================================================================================================================================================================================================================================================================================================================================================================================================================================================================================================================================================================================================================================================================================================================================================================================================================================================================================================================================================================================================================================================================================================================================================================================================================================================================================================================================================================================================================================================================================================================================================================================================================================================================================================================================================================================================================================================================================================================================================================================================================================================================================================================================================================================================================================================================================================================================================================================================================================================================================================================================================================================================================================================================================================================================================================================================================================================================================================================================================================================================================================================================================================================================================================================================================================================================================================================================================================================================================================================================================================================================================================================================================================================================================================================================================================================================================================================================================================================================================================================================================================================================================================================================================================================================================================================================================================================================================================================================================================================================================================================================================================================================================================================================================================================================================================================================================================================================================================================================================================================================================================================================================================================================================================================================================================================================================================================================================================================================================================================================================================================================================================================================================================================================================================================================================================================================================================================================================================================================================================================================================================================================================================================================================================================================================================================================================================================================================================================================================================================================================================================================================================================================================================================================================================================================================================================================================================================================================================================================================================================================================================================================================================================================================================================================================================================================================================================================================================================================================================================================================================================================================================================================================================================================================================================================================================================================================================================================================================================================================================================================================================================================================================================================================================================================================================================================================================================================================================================================================================================================================================================================================================================================================================================================================================================================================================================================================================================================================================================================================================================================================================================================================================================================================================================================================================================================================================================================================================================================================================================================================================================================================================================================================================================================================================================================================================================================================================================================================================================================================================================================================================================================================================================================================================================================================================================================================================================================================================================================================================================================================================================================================================================================================================================================================================================================================================================================================================================================================================================================================================================================================================================================================================================================================================================================================================================================================================================================================================================================================================================================================================================================================================================================================================================================================================================================================================================================================================================================================================================================================================================================================================================================================================================================================================================================================================================================================================================================================================================================================================================================================================================================================================================================================================================================================================================================================================================================================================================================================================================================================================================================================================================================================================================================================================================================================================================================================================================================================================================================================================================================================================================================================================================================================================================================================================================================================================================================================================================================================================================================================================================================================================================================================================================================================================================================================================================================================================================================================================================================================================================================================================================================================================================================================================================================================================================================================================================================================================================================================================================================================================================================================================================================================================================================================================================================================================================================================================================================================================================================================================================================================================================================================================================================================================================================================================================================================================================================================================================================================================================================================================================================================================================================================================================================================================================================================================================================================================================================================================================================================================================================================================================================================================================================================================================================================================================================================================================================================================================================================================================================================================================================================================================================================================================================================================================================================================================================================================================================================================================================================================================================================================================================================================================================================================================================================================================================================================================================================================================================================================================================================================================================================================================================================================================================================================================================================================================================================================================================================================================================================================================================================================================================================================================================================================================================================================================================================================================================================================================================================================================================================================================================================================================================================================================================================================================================================================================================================================================================================================================================================================================================================================================================================================================================================================================================================================================================================================================================================================================================================================================================================================================================================================================================================================================================================================================================================================================================================================================================================================================================================================================================================================================================================================================================================================================================================================================================================================================================================================================================================================================================================================================================================================================================================================================================================================================================================================================================================================================================================================================================================================================================================================================================================================================================================================================================================================================================================================================================================================================================================================================================================================================================================================================================================================================================================================================================================================================================================================================================================================================================================================================================================================================================================================================================================================================================================================================================================================================================================================================================================================================================================================================================================================================================================================================================================================================================================================================================================================================================================================================================================================================================================================================================================================================================================================================================================================================================================================================================================================================================================================================================================================================================================================================================================================================================================================================================================================================================================================================================================================================================================================================================================================================================================================================================================================================================================================================================================================================================================================================================================================================================================================================================================================================================================================================================================================================================================================================================================================================================================================================================================================================================================================================================================================================================================================================================================================================================================================================================================================================================================================================================================================================================================================================================================================================================================================================================================================================================================================================================================================================================================================================================================================================================================================================================================================================================================================================================================================================================================================================================================================================================================================================================================================================================================================================================================================================================================================================================================================================================================================================================================================================================================================================================================================================================================================================================================================================================================================================================================================================================================================================================================================================================================================================================================================================================================================================================================================================================================================================================================================================================================================================================================================================================================================================================================================================================================================================================================================================================================================================================================================================================================================================================================================================================================================================================================================================================================================================================================================================================================================================================================================================================================================================================================================================================================================================================================================================================================================================================================================================================================================================================================================================================================================================================================================================================================================================================================================================================================================================================================================================================================================================================================================================================================================================================================================================================================================================================================================================================================================================================================================================================================================================================================================================================================================================================================================================================================================================================================================================================================================================================================================================================================================================================================================================================================================================================================================================================================================================================================================================================================================================================================================================================================================================================================================================================================================================================================================================================================================================================================================================================================================================================================================================================================================================================================================================================================================================================================================================================================================================================================================================================================================================================================================================================================================================================================================================================================================================================================================================================================================================================================================================================================================================================================================================================================================================================================================================================================================================================================================================================================================================================================================================================================================================================================================================================================================================================================================================================================================================================================================================================================================================================================================================================================================================================================================================================================================================================================================================================================================================================================================================================================================================================================================================================================================================================================================================================================================================================================================================================================================================================================================================================================================================================================================================================================================================================================================================================================================================================================================================================================================================================================================================================================================================================================================================================================================================================================================================================================================================================================================================================================================================================================================================================================================================================================================================================================================================================================================================================================================================================================================================================================================================================================================================================================================================================================================================================================================================================================================================================================================================================================================================================================================================================================================================================================================================================================================================================================================================================================================================================================================================================================================================================================================================================================================================================================================================================================================================================================================================================================================================================================================================================================================================================================================================================================================================================================================================================================================================================================================================================================================================================================================================================================================================================================================================================================================================================================================================================================================================================================================================================================================================================================================================================================================================================================================================================================================================================================================================================================================================================================================================================================================================================================================================================================================================================================================================================================================================================================================================================================================================================================================] - 1s 30us/sample - loss: 0.2171 - mean_absolute_error: 0.1544\n"
     ]
    },
    {
     "data": {
      "text/plain": [
       "[0.23346392288396162, 0.1544112]"
      ]
     },
     "execution_count": 27,
     "metadata": {},
     "output_type": "execute_result"
    }
   ],
   "source": [
    "# To evaluate model test loss\n",
    "\n",
    "test_loss = model.evaluate(x_test, y_test)\n",
    "test_loss"
   ]
  },
  {
   "cell_type": "code",
   "execution_count": 28,
   "metadata": {},
   "outputs": [
    {
     "data": {
      "text/plain": [
       "(19362, 75)"
      ]
     },
     "execution_count": 28,
     "metadata": {},
     "output_type": "execute_result"
    }
   ],
   "source": [
    "\n",
    "x_test.shape"
   ]
  },
  {
   "cell_type": "code",
   "execution_count": 29,
   "metadata": {},
   "outputs": [
    {
     "data": {
      "text/plain": [
       "(19362, 48)"
      ]
     },
     "execution_count": 29,
     "metadata": {},
     "output_type": "execute_result"
    }
   ],
   "source": [
    "y_test.shape"
   ]
  },
  {
   "cell_type": "code",
   "execution_count": 30,
   "metadata": {
    "colab": {
     "base_uri": "https://localhost:8080/",
     "height": 280
    },
    "id": "K6jxwKI-au9s",
    "outputId": "4824a9db-6941-4ac8-87d8-5d749bc8497d"
   },
   "outputs": [
    {
     "data": {
      "image/png": "[encoded data removed]",
      "text/plain": [
       "<Figure size 432x288 with 1 Axes>"
      ]
     },
     "metadata": {
      "needs_background": "light"
     },
     "output_type": "display_data"
    }
   ],
   "source": [
    "# To plot training loss only\n",
    "\n",
    "loss = model_history.history['loss']\n",
    "epochs = range(1, len(loss)+1)\n",
    "plt.plot(epochs, loss, 'ro', label='Training loss')\n",
    "plt.xlabel('epoch')\n",
    "plt.legend()\n",
    "plt.show()"
   ]
  },
  {
   "cell_type": "code",
   "execution_count": 31,
   "metadata": {
    "colab": {
     "base_uri": "https://localhost:8080/",
     "height": 313
    },
    "id": "gr4ZQqHQayfv",
    "outputId": "b292d2fe-9161-4bfc-9b6f-fe09e9543f33"
   },
   "outputs": [
    {
     "name": "stdout",
     "output_type": "stream",
     "text": [
      "dict_keys(['loss', 'mean_absolute_error', 'val_loss', 'val_mean_absolute_error', 'lr'])\n"
     ]
    },
    {
     "data": {
      "image/png": "[encoded data removed]",
      "text/plain": [
       "<Figure size 432x288 with 1 Axes>"
      ]
     },
     "metadata": {
      "needs_background": "light"
     },
     "output_type": "display_data"
    }
   ],
   "source": [
    "# list all data in history\n",
    "\n",
    "print(model_history.history.keys())\n",
    "hfont = {'fontname':'Arial'}\n",
    "# summarize history for accuracy\n",
    "acc = model_history.history['mean_absolute_error']\n",
    "val_acc = model_history.history['val_mean_absolute_error']\n",
    "\n",
    "plt.plot(acc,color='red',linewidth=3)\n",
    "plt.plot(val_acc,color='blue',linewidth=3)\n",
    "#plt.title('model accuracy')\n",
    "plt.ylabel('Mean Absolute Error', fontsize=16, **hfont)\n",
    "plt.xlabel('Number of epochs', fontsize=16, **hfont)\n",
    "\n",
    "#ylim(top=0.2)  # adjust the top leaving bottom unchanged\n",
    "#ylim(bottom=0.05)  # adjust the bottom leaving top unchanged\n",
    "plt.legend(['Training (ReLU), T=20', 'Testing (ReLU), T=20'], loc='upper right', prop={\"size\":14})\n",
    "plt.ylim(top=0.185)  # adjust the top leaving bottom unchanged\n",
    "plt.grid()\n",
    "plt.savefig('accuracy_3_layer.pdf')\n",
    "plt.show()"
   ]
  },
  {
   "cell_type": "code",
   "execution_count": 32,
   "metadata": {
    "colab": {
     "base_uri": "https://localhost:8080/",
     "height": 295
    },
    "id": "pgrdmzrca2id",
    "outputId": "7698718b-fba5-415a-c5a5-abfbfe868c6c"
   },
   "outputs": [
    {
     "data": {
      "image/png": "[encoded data removed]",
      "text/plain": [
       "<Figure size 432x288 with 1 Axes>"
      ]
     },
     "metadata": {
      "needs_background": "light"
     },
     "output_type": "display_data"
    }
   ],
   "source": [
    "# summarize history for loss\n",
    "\n",
    "loss = model_history.history['loss']\n",
    "val_loss = model_history.history['val_loss']\n",
    "plt.plot(loss)\n",
    "plt.plot(val_loss)\n",
    "plt.title('Model loss')\n",
    "plt.ylabel('loss')\n",
    "plt.xlabel('epoch')\n",
    "plt.legend(['train', 'test'], loc='upper right')\n",
    "plt.savefig('loss_3_layer.pdf')\n",
    "plt.grid()\n",
    "plt.show()\n",
    "\n",
    "\n",
    "\n"
   ]
  },
  {
   "cell_type": "code",
   "execution_count": 33,
   "metadata": {
    "colab": {
     "base_uri": "https://localhost:8080/",
     "height": 249
    },
    "id": "V_KxSfNKa666",
    "outputId": "c668ae3d-01ef-4869-e191-af2122733da1"
   },
   "outputs": [
    {
     "data": {
      "text/plain": [
       "array([[9.9998915e-01, 1.0753572e-03, 1.8831310e-01, ..., 1.0823968e-01,\n",
       "        7.0273876e-04, 0.0000000e+00],\n",
       "       [1.9615889e-04, 5.5059385e-01, 4.8154891e-03, ..., 2.5307834e-03,\n",
       "        1.3163686e-04, 0.0000000e+00],\n",
       "       [9.9999982e-01, 5.9792399e-04, 4.3387809e-01, ..., 3.7167925e-01,\n",
       "        7.5456500e-04, 0.0000000e+00],\n",
       "       ...,\n",
       "       [2.9802322e-08, 1.2235972e-01, 8.5065067e-02, ..., 2.4059284e-01,\n",
       "        2.1394366e-01, 2.0861626e-07],\n",
       "       [9.9998510e-01, 2.2312894e-01, 2.5074539e-01, ..., 2.7260184e-04,\n",
       "        1.4731288e-03, 0.0000000e+00],\n",
       "       [9.9999970e-01, 5.6949258e-04, 3.0394292e-01, ..., 6.1090589e-02,\n",
       "        2.5591099e-01, 0.0000000e+00]], dtype=float32)"
      ]
     },
     "execution_count": 33,
     "metadata": {},
     "output_type": "execute_result"
    }
   ],
   "source": [
    "# Making the predictions for testing\n",
    "\n",
    "# Predicting the Test set results\n",
    "y_pred = model.predict(x_test) \n",
    "y_pred"
   ]
  },
  {
   "cell_type": "code",
   "execution_count": 34,
   "metadata": {
    "colab": {
     "base_uri": "https://localhost:8080/",
     "height": 142
    },
    "id": "nTiknlOLaTPp",
    "outputId": "70722f3f-835d-4abe-ca27-4cd0d3b285f1"
   },
   "outputs": [
    {
     "data": {
      "text/plain": [
       "(19362, 48)"
      ]
     },
     "execution_count": 34,
     "metadata": {},
     "output_type": "execute_result"
    }
   ],
   "source": [
    "y_test.shape\n"
   ]
  },
  {
   "cell_type": "code",
   "execution_count": 35,
   "metadata": {
    "id": "5x9nZKCHa9ZI"
   },
   "outputs": [
    {
     "data": {
      "text/plain": [
       "(19362, 48)"
      ]
     },
     "execution_count": 35,
     "metadata": {},
     "output_type": "execute_result"
    }
   ],
   "source": [
    "y_pred.shape"
   ]
  },
  {
   "cell_type": "code",
   "execution_count": 36,
   "metadata": {
    "id": "ACY5x1V7a_vo"
   },
   "outputs": [
    {
     "name": "stdout",
     "output_type": "stream",
     "text": [
      "Test Mean Squared error (MSE): 0.07700937705587814\n",
      "Test Root mean squared error (RMSE): 0.27750563427771724\n",
      "Test Mean absolute error (MAE): 0.1544111897995147\n"
     ]
    }
   ],
   "source": [
    "# Evaluating the model # Test error\n",
    "\n",
    "# Measure MSE error  \n",
    "mse_test = metrics.mean_squared_error(y_test, y_pred)\n",
    "print(\"Test Mean Squared error (MSE): {}\".format(mse_test))\n",
    "\n",
    "# Measure RMSE error \n",
    "rmse_test = np.sqrt(metrics.mean_squared_error(y_test, y_pred))\n",
    "print(\"Test Root mean squared error (RMSE): {}\".format(rmse_test))\n",
    "\n",
    "# Measure MAE error\n",
    "mae_test = metrics.mean_absolute_error(y_test, y_pred)\n",
    "print(\"Test Mean absolute error (MAE): {}\".format(mae_test))"
   ]
  },
  {
   "cell_type": "code",
   "execution_count": 37,
   "metadata": {
    "id": "EpTj4zULbQMd"
   },
   "outputs": [
    {
     "data": {
      "text/plain": [
       "array([[2.6822090e-07, 1.5092066e-01, 5.7379127e-02, ..., 7.0572793e-03,\n",
       "        2.1443883e-01, 0.0000000e+00],\n",
       "       [1.1920929e-07, 2.5063753e-05, 4.1019917e-03, ..., 6.7204237e-05,\n",
       "        8.2790852e-05, 0.0000000e+00],\n",
       "       [9.9999857e-01, 4.2080879e-05, 9.2685223e-06, ..., 8.7052584e-04,\n",
       "        2.4765730e-04, 0.0000000e+00],\n",
       "       ...,\n",
       "       [9.9999940e-01, 4.8965931e-02, 2.5099516e-04, ..., 5.8192015e-04,\n",
       "        9.7692013e-05, 0.0000000e+00],\n",
       "       [9.9999988e-01, 2.0370781e-03, 4.5782021e-01, ..., 4.7924945e-01,\n",
       "        3.5756826e-04, 0.0000000e+00],\n",
       "       [1.4990568e-05, 3.7323934e-01, 1.6018748e-04, ..., 6.8194830e-01,\n",
       "        2.9253960e-04, 0.0000000e+00]], dtype=float32)"
      ]
     },
     "execution_count": 37,
     "metadata": {},
     "output_type": "execute_result"
    }
   ],
   "source": [
    "# Making the predictions for training\n",
    "\n",
    "# Predicting the Training set results\n",
    "y_pred_train = model.predict(x_train) \n",
    "y_pred_train"
   ]
  },
  {
   "cell_type": "code",
   "execution_count": 38,
   "metadata": {
    "id": "Of9BhiCTbU01"
   },
   "outputs": [
    {
     "data": {
      "text/plain": [
       "(174257, 48)"
      ]
     },
     "execution_count": 38,
     "metadata": {},
     "output_type": "execute_result"
    }
   ],
   "source": [
    "y_pred_train.shape "
   ]
  },
  {
   "cell_type": "code",
   "execution_count": 39,
   "metadata": {
    "id": "FWK7_bNJbXME"
   },
   "outputs": [
    {
     "name": "stdout",
     "output_type": "stream",
     "text": [
      "Training Mean Squared error (MSE): 0.07652950759060735\n",
      "Training Root mean squared error (RMSE): 0.27663967103545967\n",
      "Training Mean absolute error (MAE): 0.15408638603385308\n"
     ]
    }
   ],
   "source": [
    "# Evaluating the model # Training error\n",
    "\n",
    "# Measure MSE error  \n",
    "mse_train = metrics.mean_squared_error(y_train, y_pred_train)\n",
    "print(\"Training Mean Squared error (MSE): {}\".format(mse_train))\n",
    "\n",
    "# Measure RMSE error \n",
    "rmse_train = np.sqrt(metrics.mean_squared_error(y_train, y_pred_train))\n",
    "print(\"Training Root mean squared error (RMSE): {}\".format(rmse_train))\n",
    "\n",
    "# Measure MAE error\n",
    "mae_train = metrics.mean_absolute_error(y_train, y_pred_train)\n",
    "print(\"Training Mean absolute error (MAE): {}\".format(mae_train))"
   ]
  },
  {
   "cell_type": "code",
   "execution_count": 40,
   "metadata": {
    "id": "1Yw2ek-lRAmD"
   },
   "outputs": [
    {
     "data": {
      "text/plain": [
       "array([0.99998915, 0.00107536, 0.1883131 , ..., 0.06109059, 0.255911  ,\n",
       "       0.        ], dtype=float32)"
      ]
     },
     "execution_count": 40,
     "metadata": {},
     "output_type": "execute_result"
    }
   ],
   "source": [
    "y_pred_flat = y_pred.flatten()\n",
    "y_pred_flat"
   ]
  },
  {
   "cell_type": "code",
   "execution_count": 41,
   "metadata": {
    "id": "zrHf4K-yRWEW"
   },
   "outputs": [
    {
     "data": {
      "text/plain": [
       "array([ 1., -0., -0., ..., -0.,  1.,  0.])"
      ]
     },
     "execution_count": 41,
     "metadata": {},
     "output_type": "execute_result"
    }
   ],
   "source": [
    "y_test_flat = y_test.flatten()\n",
    "y_test_flat"
   ]
  },
  {
   "cell_type": "code",
   "execution_count": 42,
   "metadata": {
    "id": "3sCT93VyRYOz"
   },
   "outputs": [
    {
     "name": "stdout",
     "output_type": "stream",
     "text": [
      "R2 Score Test: 0.4859520064663644\n"
     ]
    }
   ],
   "source": [
    "# Regression score for test\n",
    "\n",
    "r2_score_test = metrics.r2_score(y_test_flat, y_pred_flat)\n",
    "print(\"R2 Score Test: {}\".format(r2_score_test))"
   ]
  },
  {
   "cell_type": "code",
   "execution_count": 43,
   "metadata": {
    "id": "5oZLTaS6Rdpb"
   },
   "outputs": [
    {
     "data": {
      "text/plain": [
       "array([2.6822090e-07, 1.5092066e-01, 5.7379127e-02, ..., 6.8194830e-01,\n",
       "       2.9253960e-04, 0.0000000e+00], dtype=float32)"
      ]
     },
     "execution_count": 43,
     "metadata": {},
     "output_type": "execute_result"
    }
   ],
   "source": [
    "y_pred_train_flat = y_pred_train.flatten()\n",
    "y_pred_train_flat"
   ]
  },
  {
   "cell_type": "code",
   "execution_count": 44,
   "metadata": {
    "id": "imceUpMlRfrV"
   },
   "outputs": [
    {
     "data": {
      "text/plain": [
       "array([ 0.,  0.,  0., ..., -0.,  0.,  0.])"
      ]
     },
     "execution_count": 44,
     "metadata": {},
     "output_type": "execute_result"
    }
   ],
   "source": [
    "y_train_flat = y_train.flatten()\n",
    "y_train_flat"
   ]
  },
  {
   "cell_type": "code",
   "execution_count": 45,
   "metadata": {
    "id": "IywAjABTRjex"
   },
   "outputs": [
    {
     "name": "stdout",
     "output_type": "stream",
     "text": [
      "R2 Score Train: 0.48920650164844215\n"
     ]
    }
   ],
   "source": [
    "# Regression score for training\n",
    "\n",
    "r2_score_train = metrics.r2_score(y_train_flat, y_pred_train_flat)\n",
    "print(\"R2 Score Train: {}\".format(r2_score_train))"
   ]
  },
  {
   "cell_type": "code",
   "execution_count": 46,
   "metadata": {
    "id": "hr_f0cdyWpil"
   },
   "outputs": [],
   "source": [
    "######################### Constraint verification for test data ##########################"
   ]
  },
  {
   "cell_type": "code",
   "execution_count": 47,
   "metadata": {
    "colab": {
     "base_uri": "https://localhost:8080/",
     "height": 249
    },
    "id": "aS9k-9lwW0hY",
    "outputId": "32c16051-3a86-49a8-d7cb-77e547ad3e64"
   },
   "outputs": [
    {
     "data": {
      "text/plain": [
       "array([[9.9998915e-01, 1.0753572e-03, 1.8831310e-01, ..., 1.0823968e-01,\n",
       "        7.0273876e-04, 0.0000000e+00],\n",
       "       [1.9615889e-04, 5.5059385e-01, 4.8154891e-03, ..., 2.5307834e-03,\n",
       "        1.3163686e-04, 0.0000000e+00],\n",
       "       [9.9999982e-01, 5.9792399e-04, 4.3387809e-01, ..., 3.7167925e-01,\n",
       "        7.5456500e-04, 0.0000000e+00],\n",
       "       ...,\n",
       "       [2.9802322e-08, 1.2235972e-01, 8.5065067e-02, ..., 2.4059284e-01,\n",
       "        2.1394366e-01, 2.0861626e-07],\n",
       "       [9.9998510e-01, 2.2312894e-01, 2.5074539e-01, ..., 2.7260184e-04,\n",
       "        1.4731288e-03, 0.0000000e+00],\n",
       "       [9.9999970e-01, 5.6949258e-04, 3.0394292e-01, ..., 6.1090589e-02,\n",
       "        2.5591099e-01, 0.0000000e+00]], dtype=float32)"
      ]
     },
     "execution_count": 47,
     "metadata": {},
     "output_type": "execute_result"
    }
   ],
   "source": [
    "y_pred = model.predict(x_test)\n",
    "y_pred"
   ]
  },
  {
   "cell_type": "code",
   "execution_count": 48,
   "metadata": {
    "colab": {
     "base_uri": "https://localhost:8080/",
     "height": 249
    },
    "id": "qdcimHOXZsH2",
    "outputId": "1585d70d-b16d-4e2a-d7d5-6f381a4521fd"
   },
   "outputs": [
    {
     "data": {
      "text/plain": [
       "array([[ 0.84120747, -0.44126682,  0.9782966 , ...,  0.07901042,\n",
       "         0.33098094,  0.40812796],\n",
       "       [-0.22813583,  1.58224603, -1.02218489, ..., -1.55020281,\n",
       "        -0.8943241 , -0.35519562],\n",
       "       [-1.59644805,  0.70660328,  0.9782966 , ...,  0.55921964,\n",
       "        -1.49202966,  1.71821713],\n",
       "       ...,\n",
       "       [ 0.96791522, -1.57697218, -1.02218489, ...,  0.44613756,\n",
       "        -0.39632253,  0.88680772],\n",
       "       [ 0.70901927,  1.06957309,  0.9782966 , ..., -0.91656216,\n",
       "         0.18514009, -0.50453401],\n",
       "       [-0.60508044,  0.95669298,  0.9782966 , ...,  0.6007812 ,\n",
       "         0.83174727, -0.49604493]])"
      ]
     },
     "execution_count": 48,
     "metadata": {},
     "output_type": "execute_result"
    }
   ],
   "source": [
    "x_test"
   ]
  },
  {
   "cell_type": "code",
   "execution_count": 49,
   "metadata": {
    "colab": {
     "base_uri": "https://localhost:8080/",
     "height": 35
    },
    "id": "ruqLSKwaZ06X",
    "outputId": "42dd9de3-1395-4349-8ec3-f163ef502a0e"
   },
   "outputs": [
    {
     "data": {
      "text/plain": [
       "(19362, 75)"
      ]
     },
     "execution_count": 49,
     "metadata": {},
     "output_type": "execute_result"
    }
   ],
   "source": [
    "x_test.shape"
   ]
  },
  {
   "cell_type": "code",
   "execution_count": 50,
   "metadata": {
    "colab": {
     "base_uri": "https://localhost:8080/",
     "height": 35
    },
    "id": "fOj5D4GRW7Ac",
    "outputId": "e4223fa4-dd8e-400f-eefc-bbd0178e4d99"
   },
   "outputs": [
    {
     "data": {
      "text/plain": [
       "(19362, 48)"
      ]
     },
     "execution_count": 50,
     "metadata": {},
     "output_type": "execute_result"
    }
   ],
   "source": [
    "y_test.shape"
   ]
  },
  {
   "cell_type": "code",
   "execution_count": 51,
   "metadata": {},
   "outputs": [
    {
     "data": {
      "text/plain": [
       "array([[9.9998915e-01, 1.0753572e-03, 1.8831310e-01, ..., 1.0823968e-01,\n",
       "        7.0273876e-04, 0.0000000e+00],\n",
       "       [1.9615889e-04, 5.5059385e-01, 4.8154891e-03, ..., 2.5307834e-03,\n",
       "        1.3163686e-04, 0.0000000e+00],\n",
       "       [9.9999982e-01, 5.9792399e-04, 4.3387809e-01, ..., 3.7167925e-01,\n",
       "        7.5456500e-04, 0.0000000e+00],\n",
       "       ...,\n",
       "       [2.9802322e-08, 1.2235972e-01, 8.5065067e-02, ..., 2.4059284e-01,\n",
       "        2.1394366e-01, 2.0861626e-07],\n",
       "       [9.9998510e-01, 2.2312894e-01, 2.5074539e-01, ..., 2.7260184e-04,\n",
       "        1.4731288e-03, 0.0000000e+00],\n",
       "       [9.9999970e-01, 5.6949258e-04, 3.0394292e-01, ..., 6.1090589e-02,\n",
       "        2.5591099e-01, 0.0000000e+00]], dtype=float32)"
      ]
     },
     "execution_count": 51,
     "metadata": {},
     "output_type": "execute_result"
    }
   ],
   "source": [
    "y_pred"
   ]
  },
  {
   "cell_type": "code",
   "execution_count": 52,
   "metadata": {
    "colab": {
     "base_uri": "https://localhost:8080/",
     "height": 142
    },
    "id": "Yn9ruPcpOQq0",
    "outputId": "c187ee9b-7905-455c-cee3-fa098f0966e1"
   },
   "outputs": [
    {
     "name": "stdout",
     "output_type": "stream",
     "text": [
      "[[1. 0. 0. ... 0. 0. 0.]\n",
      " [0. 1. 0. ... 0. 0. 0.]\n",
      " [1. 0. 0. ... 0. 0. 0.]\n",
      " ...\n",
      " [0. 0. 0. ... 0. 0. 0.]\n",
      " [1. 0. 0. ... 0. 0. 0.]\n",
      " [1. 0. 0. ... 0. 0. 0.]]\n"
     ]
    }
   ],
   "source": [
    "#round-off the y_pred\n",
    "\n",
    "import numpy as np\n",
    "a_list = np.array(y_pred)\n",
    "y_pred_binary = np.round(a_list)\n",
    "print(y_pred_binary)\n",
    "\n"
   ]
  },
  {
   "cell_type": "code",
   "execution_count": 53,
   "metadata": {
    "colab": {
     "base_uri": "https://localhost:8080/",
     "height": 35
    },
    "id": "zus7h7n3PMDh",
    "outputId": "ce6a354b-6dfa-40b8-c6c3-adead6f2d051"
   },
   "outputs": [
    {
     "data": {
      "text/plain": [
       "(19362, 48)"
      ]
     },
     "execution_count": 53,
     "metadata": {},
     "output_type": "execute_result"
    }
   ],
   "source": [
    "y_pred_binary.shape"
   ]
  },
  {
   "cell_type": "code",
   "execution_count": 54,
   "metadata": {
    "colab": {
     "base_uri": "https://localhost:8080/",
     "height": 142
    },
    "id": "RKVmQiPemWnf",
    "outputId": "8fa5f012-e7b4-4262-e8c9-06ad35d44c13"
   },
   "outputs": [
    {
     "data": {
      "text/plain": [
       "array([[1., 0., 0., ..., 0., 0., 0.],\n",
       "       [0., 1., 0., ..., 0., 0., 0.],\n",
       "       [1., 0., 0., ..., 0., 0., 0.],\n",
       "       ...,\n",
       "       [0., 0., 0., ..., 0., 0., 0.],\n",
       "       [1., 0., 0., ..., 0., 0., 0.],\n",
       "       [1., 0., 0., ..., 0., 0., 0.]], dtype=float32)"
      ]
     },
     "execution_count": 54,
     "metadata": {},
     "output_type": "execute_result"
    }
   ],
   "source": [
    "y_pred_binary"
   ]
  },
  {
   "cell_type": "code",
   "execution_count": 55,
   "metadata": {},
   "outputs": [
    {
     "data": {
      "text/plain": [
       "array([[ 1., -0., -0., ...,  0.,  0.,  0.],\n",
       "       [ 0., -0., -0., ..., -0., -0.,  0.],\n",
       "       [ 1.,  0.,  0., ...,  1.,  0.,  0.],\n",
       "       ...,\n",
       "       [ 0.,  1.,  1., ..., -0., -0.,  0.],\n",
       "       [ 1.,  0., -0., ...,  0.,  0.,  0.],\n",
       "       [ 1., -0.,  1., ..., -0.,  1.,  0.]])"
      ]
     },
     "execution_count": 55,
     "metadata": {},
     "output_type": "execute_result"
    }
   ],
   "source": [
    "y_test"
   ]
  },
  {
   "cell_type": "code",
   "execution_count": 56,
   "metadata": {
    "colab": {
     "base_uri": "https://localhost:8080/",
     "height": 35
    },
    "id": "0Y2CI1jdPzWz",
    "outputId": "7de20c4e-215b-40c2-b415-72ad1edead13"
   },
   "outputs": [
    {
     "data": {
      "text/plain": [
       "19362"
      ]
     },
     "execution_count": 56,
     "metadata": {},
     "output_type": "execute_result"
    }
   ],
   "source": [
    "len(y_pred_binary)"
   ]
  },
  {
   "cell_type": "code",
   "execution_count": null,
   "metadata": {},
   "outputs": [],
   "source": []
  },
  {
   "cell_type": "code",
   "execution_count": 57,
   "metadata": {
    "colab": {
     "base_uri": "https://localhost:8080/",
     "height": 35
    },
    "id": "W0EhQiatZWyj",
    "outputId": "67776725-788b-47d7-a3bd-288348bd211c"
   },
   "outputs": [
    {
     "data": {
      "text/plain": [
       "(193619, 75)"
      ]
     },
     "execution_count": 57,
     "metadata": {},
     "output_type": "execute_result"
    }
   ],
   "source": [
    "inputs.shape"
   ]
  },
  {
   "cell_type": "code",
   "execution_count": 58,
   "metadata": {},
   "outputs": [
    {
     "data": {
      "text/plain": [
       "array([[ 0.84120747, -0.44126682,  0.9782966 , ...,  0.07901042,\n",
       "         0.33098094,  0.40812796],\n",
       "       [-0.22813583,  1.58224603, -1.02218489, ..., -1.55020281,\n",
       "        -0.8943241 , -0.35519562],\n",
       "       [-1.59644805,  0.70660328,  0.9782966 , ...,  0.55921964,\n",
       "        -1.49202966,  1.71821713],\n",
       "       ...,\n",
       "       [ 0.96791522, -1.57697218, -1.02218489, ...,  0.44613756,\n",
       "        -0.39632253,  0.88680772],\n",
       "       [ 0.70901927,  1.06957309,  0.9782966 , ..., -0.91656216,\n",
       "         0.18514009, -0.50453401],\n",
       "       [-0.60508044,  0.95669298,  0.9782966 , ...,  0.6007812 ,\n",
       "         0.83174727, -0.49604493]])"
      ]
     },
     "execution_count": 58,
     "metadata": {},
     "output_type": "execute_result"
    }
   ],
   "source": [
    "x_test"
   ]
  },
  {
   "cell_type": "code",
   "execution_count": 59,
   "metadata": {},
   "outputs": [
    {
     "data": {
      "text/plain": [
       "<bound method NDFrame.head of              0         1         2         3         4         5         6   \\\n",
       "0      0.841207 -0.441267  0.978297 -1.023818 -1.020742 -1.020754  0.444335   \n",
       "1     -0.228136  1.582246 -1.022185 -1.023818 -1.020742 -1.020754 -0.446897   \n",
       "2     -1.596448  0.706603  0.978297 -1.023818 -1.020742  0.979668 -0.446897   \n",
       "3      0.909384  1.339170  0.978297  0.976736 -1.020742 -1.020754 -0.446897   \n",
       "4      0.963092  0.757016  0.978297 -1.023818  0.979679 -1.020754 -1.338129   \n",
       "...         ...       ...       ...       ...       ...       ...       ...   \n",
       "19357 -0.330510 -1.674224 -1.022185 -1.023818  0.979679  0.979668 -0.446897   \n",
       "19358  0.778950  1.205687 -1.022185 -1.023818  0.979679 -1.020754  0.444335   \n",
       "19359  0.967915 -1.576972 -1.022185  0.976736 -1.020742 -1.020754  1.335567   \n",
       "19360  0.709019  1.069573  0.978297  0.976736  0.979679  0.979668 -0.446897   \n",
       "19361 -0.605080  0.956693  0.978297  0.976736 -1.020742 -1.020754  0.444335   \n",
       "\n",
       "             7         8         9   ...        65        66        67  \\\n",
       "0      0.994968 -0.998274  0.999455  ...  0.061704 -1.644265 -0.251431   \n",
       "1     -1.005057 -0.998274 -1.000545  ... -1.682381 -0.878948  0.317764   \n",
       "2     -1.005057 -0.998274 -1.000545  ...  1.481212 -0.264511  1.480546   \n",
       "3     -1.005057 -0.998274 -1.000545  ...  0.559321  0.076573  1.105293   \n",
       "4      0.994968 -0.998274 -1.000545  ...  0.814024  0.662773 -1.237400   \n",
       "...         ...       ...       ...  ...       ...       ...       ...   \n",
       "19357 -1.005057 -0.998274  0.999455  ... -0.198547  0.682694  1.022423   \n",
       "19358  0.994968  1.001729 -1.000545  ...  1.153860  1.697285 -1.352277   \n",
       "19359  0.994968  1.001729  0.999455  ...  0.943717 -0.260873  0.592326   \n",
       "19360 -1.005057 -0.998274 -1.000545  ...  0.537994 -0.626209 -0.033268   \n",
       "19361  0.994968  1.001729 -1.000545  ...  1.212118 -1.653273  1.198198   \n",
       "\n",
       "             68        69        70        71        72        73        74  \n",
       "0      0.151995  0.879052 -1.657719  1.124126  0.079010  0.330981  0.408128  \n",
       "1     -0.164794  0.225635  1.277274 -1.053068 -1.550203 -0.894324 -0.355196  \n",
       "2      0.338636 -0.291985 -0.867887  0.127995  0.559220 -1.492030  1.718217  \n",
       "3     -1.696400  0.226326  1.467041 -0.653540 -0.547011 -1.104964  1.456962  \n",
       "4     -0.472224 -0.744816 -0.603631 -0.390715  0.364227 -0.520391 -0.934878  \n",
       "...         ...       ...       ...       ...       ...       ...       ...  \n",
       "19357 -1.300587 -0.590705  0.392905 -0.560033  0.476789  1.670678  1.629168  \n",
       "19358  1.134593 -1.675011 -0.130423 -0.707839 -0.179710 -0.351395 -0.381876  \n",
       "19359  1.317596 -0.301487  0.604276 -0.989920  0.446138 -0.396323  0.886808  \n",
       "19360 -1.260382  0.621797 -0.941858 -0.675225 -0.916562  0.185140 -0.504534  \n",
       "19361 -0.779654  0.941595  0.571784  0.308069  0.600781  0.831747 -0.496045  \n",
       "\n",
       "[19362 rows x 75 columns]>"
      ]
     },
     "execution_count": 59,
     "metadata": {},
     "output_type": "execute_result"
    }
   ],
   "source": [
    "x_p = pd.DataFrame(x_test)\n",
    "#pi = x_p.iloc[:, 27:50]\n",
    "#pi\n",
    "x_p.head"
   ]
  },
  {
   "cell_type": "code",
   "execution_count": 60,
   "metadata": {},
   "outputs": [],
   "source": [
    "#In the next cells, we are going to compute the suboptimality of the DNN solution vs others "
   ]
  },
  {
   "cell_type": "code",
   "execution_count": 61,
   "metadata": {},
   "outputs": [
    {
     "data": {
      "text/html": [
       "<div>\n",
       "<style scoped>\n",
       "    .dataframe tbody tr th:only-of-type {\n",
       "        vertical-align: middle;\n",
       "    }\n",
       "\n",
       "    .dataframe tbody tr th {\n",
       "        vertical-align: top;\n",
       "    }\n",
       "\n",
       "    .dataframe thead th {\n",
       "        text-align: right;\n",
       "    }\n",
       "</style>\n",
       "<table border=\"1\" class=\"dataframe\">\n",
       "  <thead>\n",
       "    <tr style=\"text-align: right;\">\n",
       "      <th></th>\n",
       "      <th>19</th>\n",
       "      <th>20</th>\n",
       "      <th>21</th>\n",
       "      <th>22</th>\n",
       "      <th>23</th>\n",
       "      <th>24</th>\n",
       "      <th>25</th>\n",
       "      <th>26</th>\n",
       "      <th>27</th>\n",
       "      <th>28</th>\n",
       "      <th>29</th>\n",
       "      <th>30</th>\n",
       "    </tr>\n",
       "  </thead>\n",
       "  <tbody>\n",
       "    <tr>\n",
       "      <th>0</th>\n",
       "      <td>0.797424</td>\n",
       "      <td>1.624837</td>\n",
       "      <td>1.408079</td>\n",
       "      <td>-0.705660</td>\n",
       "      <td>1.616163</td>\n",
       "      <td>0.105408</td>\n",
       "      <td>-1.314863</td>\n",
       "      <td>-0.213379</td>\n",
       "      <td>1.194943</td>\n",
       "      <td>0.309817</td>\n",
       "      <td>1.370577</td>\n",
       "      <td>0.695563</td>\n",
       "    </tr>\n",
       "    <tr>\n",
       "      <th>1</th>\n",
       "      <td>0.910248</td>\n",
       "      <td>-1.324470</td>\n",
       "      <td>0.972869</td>\n",
       "      <td>1.258758</td>\n",
       "      <td>-1.473333</td>\n",
       "      <td>-0.616448</td>\n",
       "      <td>-0.003166</td>\n",
       "      <td>-0.262597</td>\n",
       "      <td>-0.610148</td>\n",
       "      <td>-0.461709</td>\n",
       "      <td>1.331932</td>\n",
       "      <td>0.443176</td>\n",
       "    </tr>\n",
       "    <tr>\n",
       "      <th>2</th>\n",
       "      <td>0.678214</td>\n",
       "      <td>1.111967</td>\n",
       "      <td>-1.010459</td>\n",
       "      <td>0.009737</td>\n",
       "      <td>0.178206</td>\n",
       "      <td>-0.099478</td>\n",
       "      <td>1.643045</td>\n",
       "      <td>-0.832653</td>\n",
       "      <td>-0.001646</td>\n",
       "      <td>0.558960</td>\n",
       "      <td>1.513044</td>\n",
       "      <td>1.515312</td>\n",
       "    </tr>\n",
       "    <tr>\n",
       "      <th>3</th>\n",
       "      <td>1.009185</td>\n",
       "      <td>0.503984</td>\n",
       "      <td>0.891488</td>\n",
       "      <td>-1.280884</td>\n",
       "      <td>0.381883</td>\n",
       "      <td>-0.674822</td>\n",
       "      <td>-1.309120</td>\n",
       "      <td>1.442949</td>\n",
       "      <td>0.922354</td>\n",
       "      <td>-0.394573</td>\n",
       "      <td>-1.353021</td>\n",
       "      <td>0.667208</td>\n",
       "    </tr>\n",
       "    <tr>\n",
       "      <th>4</th>\n",
       "      <td>1.231449</td>\n",
       "      <td>-1.507154</td>\n",
       "      <td>0.553851</td>\n",
       "      <td>1.499620</td>\n",
       "      <td>-1.669532</td>\n",
       "      <td>0.819872</td>\n",
       "      <td>-0.231033</td>\n",
       "      <td>-0.800033</td>\n",
       "      <td>0.995345</td>\n",
       "      <td>1.384765</td>\n",
       "      <td>0.414492</td>\n",
       "      <td>-0.123149</td>\n",
       "    </tr>\n",
       "    <tr>\n",
       "      <th>...</th>\n",
       "      <td>...</td>\n",
       "      <td>...</td>\n",
       "      <td>...</td>\n",
       "      <td>...</td>\n",
       "      <td>...</td>\n",
       "      <td>...</td>\n",
       "      <td>...</td>\n",
       "      <td>...</td>\n",
       "      <td>...</td>\n",
       "      <td>...</td>\n",
       "      <td>...</td>\n",
       "      <td>...</td>\n",
       "    </tr>\n",
       "    <tr>\n",
       "      <th>19357</th>\n",
       "      <td>0.823504</td>\n",
       "      <td>0.169564</td>\n",
       "      <td>0.522083</td>\n",
       "      <td>1.263679</td>\n",
       "      <td>0.883790</td>\n",
       "      <td>0.062629</td>\n",
       "      <td>0.882360</td>\n",
       "      <td>0.612090</td>\n",
       "      <td>-0.956307</td>\n",
       "      <td>-0.601101</td>\n",
       "      <td>0.332818</td>\n",
       "      <td>1.587773</td>\n",
       "    </tr>\n",
       "    <tr>\n",
       "      <th>19358</th>\n",
       "      <td>-1.257069</td>\n",
       "      <td>-1.707736</td>\n",
       "      <td>1.614223</td>\n",
       "      <td>-1.520823</td>\n",
       "      <td>-0.057309</td>\n",
       "      <td>-1.331297</td>\n",
       "      <td>0.971741</td>\n",
       "      <td>-1.105858</td>\n",
       "      <td>-0.006269</td>\n",
       "      <td>1.003390</td>\n",
       "      <td>-0.190829</td>\n",
       "      <td>-1.079945</td>\n",
       "    </tr>\n",
       "    <tr>\n",
       "      <th>19359</th>\n",
       "      <td>-0.247845</td>\n",
       "      <td>-0.240955</td>\n",
       "      <td>0.539159</td>\n",
       "      <td>-0.070115</td>\n",
       "      <td>-1.051024</td>\n",
       "      <td>-1.164839</td>\n",
       "      <td>-1.547933</td>\n",
       "      <td>-0.253239</td>\n",
       "      <td>-1.214336</td>\n",
       "      <td>1.023754</td>\n",
       "      <td>-0.691713</td>\n",
       "      <td>-1.217684</td>\n",
       "    </tr>\n",
       "    <tr>\n",
       "      <th>19360</th>\n",
       "      <td>1.402320</td>\n",
       "      <td>-1.474820</td>\n",
       "      <td>-1.338674</td>\n",
       "      <td>-0.968397</td>\n",
       "      <td>-1.354419</td>\n",
       "      <td>-0.734736</td>\n",
       "      <td>0.407741</td>\n",
       "      <td>-0.562029</td>\n",
       "      <td>0.641753</td>\n",
       "      <td>0.048972</td>\n",
       "      <td>-0.141879</td>\n",
       "      <td>1.615398</td>\n",
       "    </tr>\n",
       "    <tr>\n",
       "      <th>19361</th>\n",
       "      <td>0.112246</td>\n",
       "      <td>-0.491308</td>\n",
       "      <td>-1.281215</td>\n",
       "      <td>-1.178311</td>\n",
       "      <td>-1.657313</td>\n",
       "      <td>-1.138887</td>\n",
       "      <td>-0.389483</td>\n",
       "      <td>-1.597157</td>\n",
       "      <td>0.975624</td>\n",
       "      <td>1.095933</td>\n",
       "      <td>0.639132</td>\n",
       "      <td>-0.824907</td>\n",
       "    </tr>\n",
       "  </tbody>\n",
       "</table>\n",
       "<p>19362 rows × 12 columns</p>\n",
       "</div>"
      ],
      "text/plain": [
       "             19        20        21        22        23        24        25  \\\n",
       "0      0.797424  1.624837  1.408079 -0.705660  1.616163  0.105408 -1.314863   \n",
       "1      0.910248 -1.324470  0.972869  1.258758 -1.473333 -0.616448 -0.003166   \n",
       "2      0.678214  1.111967 -1.010459  0.009737  0.178206 -0.099478  1.643045   \n",
       "3      1.009185  0.503984  0.891488 -1.280884  0.381883 -0.674822 -1.309120   \n",
       "4      1.231449 -1.507154  0.553851  1.499620 -1.669532  0.819872 -0.231033   \n",
       "...         ...       ...       ...       ...       ...       ...       ...   \n",
       "19357  0.823504  0.169564  0.522083  1.263679  0.883790  0.062629  0.882360   \n",
       "19358 -1.257069 -1.707736  1.614223 -1.520823 -0.057309 -1.331297  0.971741   \n",
       "19359 -0.247845 -0.240955  0.539159 -0.070115 -1.051024 -1.164839 -1.547933   \n",
       "19360  1.402320 -1.474820 -1.338674 -0.968397 -1.354419 -0.734736  0.407741   \n",
       "19361  0.112246 -0.491308 -1.281215 -1.178311 -1.657313 -1.138887 -0.389483   \n",
       "\n",
       "             26        27        28        29        30  \n",
       "0     -0.213379  1.194943  0.309817  1.370577  0.695563  \n",
       "1     -0.262597 -0.610148 -0.461709  1.331932  0.443176  \n",
       "2     -0.832653 -0.001646  0.558960  1.513044  1.515312  \n",
       "3      1.442949  0.922354 -0.394573 -1.353021  0.667208  \n",
       "4     -0.800033  0.995345  1.384765  0.414492 -0.123149  \n",
       "...         ...       ...       ...       ...       ...  \n",
       "19357  0.612090 -0.956307 -0.601101  0.332818  1.587773  \n",
       "19358 -1.105858 -0.006269  1.003390 -0.190829 -1.079945  \n",
       "19359 -0.253239 -1.214336  1.023754 -0.691713 -1.217684  \n",
       "19360 -0.562029  0.641753  0.048972 -0.141879  1.615398  \n",
       "19361 -1.597157  0.975624  1.095933  0.639132 -0.824907  \n",
       "\n",
       "[19362 rows x 12 columns]"
      ]
     },
     "execution_count": 61,
     "metadata": {},
     "output_type": "execute_result"
    }
   ],
   "source": [
    "x_pi = pd.DataFrame(x_test)\n",
    "x_pi = x_pi.iloc[:, 19:31]\n",
    "x_pi #Saving the energy prize"
   ]
  },
  {
   "cell_type": "code",
   "execution_count": 62,
   "metadata": {},
   "outputs": [
    {
     "data": {
      "text/html": [
       "<div>\n",
       "<style scoped>\n",
       "    .dataframe tbody tr th:only-of-type {\n",
       "        vertical-align: middle;\n",
       "    }\n",
       "\n",
       "    .dataframe tbody tr th {\n",
       "        vertical-align: top;\n",
       "    }\n",
       "\n",
       "    .dataframe thead th {\n",
       "        text-align: right;\n",
       "    }\n",
       "</style>\n",
       "<table border=\"1\" class=\"dataframe\">\n",
       "  <thead>\n",
       "    <tr style=\"text-align: right;\">\n",
       "      <th></th>\n",
       "      <th>0</th>\n",
       "      <th>1</th>\n",
       "      <th>2</th>\n",
       "      <th>3</th>\n",
       "      <th>4</th>\n",
       "      <th>5</th>\n",
       "      <th>6</th>\n",
       "      <th>7</th>\n",
       "      <th>8</th>\n",
       "      <th>9</th>\n",
       "      <th>...</th>\n",
       "      <th>38</th>\n",
       "      <th>39</th>\n",
       "      <th>40</th>\n",
       "      <th>41</th>\n",
       "      <th>42</th>\n",
       "      <th>43</th>\n",
       "      <th>44</th>\n",
       "      <th>45</th>\n",
       "      <th>46</th>\n",
       "      <th>47</th>\n",
       "    </tr>\n",
       "  </thead>\n",
       "  <tbody>\n",
       "    <tr>\n",
       "      <th>0</th>\n",
       "      <td>9.999892e-01</td>\n",
       "      <td>0.001075</td>\n",
       "      <td>0.188313</td>\n",
       "      <td>0.516241</td>\n",
       "      <td>0.000179</td>\n",
       "      <td>0.002838</td>\n",
       "      <td>0.474394</td>\n",
       "      <td>0.204195</td>\n",
       "      <td>0.001322</td>\n",
       "      <td>0.104158</td>\n",
       "      <td>...</td>\n",
       "      <td>0.385565</td>\n",
       "      <td>0.685749</td>\n",
       "      <td>0.000053</td>\n",
       "      <td>0.000697</td>\n",
       "      <td>0.779461</td>\n",
       "      <td>0.168245</td>\n",
       "      <td>0.000765</td>\n",
       "      <td>0.108240</td>\n",
       "      <td>0.000703</td>\n",
       "      <td>0.000000e+00</td>\n",
       "    </tr>\n",
       "    <tr>\n",
       "      <th>1</th>\n",
       "      <td>1.961589e-04</td>\n",
       "      <td>0.550594</td>\n",
       "      <td>0.004815</td>\n",
       "      <td>0.000383</td>\n",
       "      <td>0.461167</td>\n",
       "      <td>0.181265</td>\n",
       "      <td>0.001244</td>\n",
       "      <td>0.015498</td>\n",
       "      <td>0.543299</td>\n",
       "      <td>0.001929</td>\n",
       "      <td>...</td>\n",
       "      <td>0.001438</td>\n",
       "      <td>0.000203</td>\n",
       "      <td>0.794515</td>\n",
       "      <td>0.127899</td>\n",
       "      <td>0.000745</td>\n",
       "      <td>0.002833</td>\n",
       "      <td>0.463075</td>\n",
       "      <td>0.002531</td>\n",
       "      <td>0.000132</td>\n",
       "      <td>0.000000e+00</td>\n",
       "    </tr>\n",
       "    <tr>\n",
       "      <th>2</th>\n",
       "      <td>9.999998e-01</td>\n",
       "      <td>0.000598</td>\n",
       "      <td>0.433878</td>\n",
       "      <td>0.223845</td>\n",
       "      <td>0.127910</td>\n",
       "      <td>0.310105</td>\n",
       "      <td>0.001759</td>\n",
       "      <td>0.274163</td>\n",
       "      <td>0.104468</td>\n",
       "      <td>0.144586</td>\n",
       "      <td>...</td>\n",
       "      <td>0.360882</td>\n",
       "      <td>0.252009</td>\n",
       "      <td>0.087537</td>\n",
       "      <td>0.492812</td>\n",
       "      <td>0.000918</td>\n",
       "      <td>0.510433</td>\n",
       "      <td>0.159910</td>\n",
       "      <td>0.371679</td>\n",
       "      <td>0.000755</td>\n",
       "      <td>0.000000e+00</td>\n",
       "    </tr>\n",
       "    <tr>\n",
       "      <th>3</th>\n",
       "      <td>9.999982e-01</td>\n",
       "      <td>0.000065</td>\n",
       "      <td>0.000035</td>\n",
       "      <td>0.368476</td>\n",
       "      <td>0.000125</td>\n",
       "      <td>0.001797</td>\n",
       "      <td>0.725934</td>\n",
       "      <td>0.000180</td>\n",
       "      <td>0.000475</td>\n",
       "      <td>0.005775</td>\n",
       "      <td>...</td>\n",
       "      <td>0.000013</td>\n",
       "      <td>0.414567</td>\n",
       "      <td>0.000038</td>\n",
       "      <td>0.000495</td>\n",
       "      <td>0.670986</td>\n",
       "      <td>0.000036</td>\n",
       "      <td>0.000255</td>\n",
       "      <td>0.005796</td>\n",
       "      <td>0.400359</td>\n",
       "      <td>0.000000e+00</td>\n",
       "    </tr>\n",
       "    <tr>\n",
       "      <th>4</th>\n",
       "      <td>9.999944e-01</td>\n",
       "      <td>0.067530</td>\n",
       "      <td>0.000282</td>\n",
       "      <td>0.000007</td>\n",
       "      <td>0.824709</td>\n",
       "      <td>0.000362</td>\n",
       "      <td>0.002351</td>\n",
       "      <td>0.594385</td>\n",
       "      <td>0.000733</td>\n",
       "      <td>0.000136</td>\n",
       "      <td>...</td>\n",
       "      <td>0.000054</td>\n",
       "      <td>0.000006</td>\n",
       "      <td>0.785791</td>\n",
       "      <td>0.000034</td>\n",
       "      <td>0.001268</td>\n",
       "      <td>0.397283</td>\n",
       "      <td>0.000159</td>\n",
       "      <td>0.000036</td>\n",
       "      <td>0.001199</td>\n",
       "      <td>0.000000e+00</td>\n",
       "    </tr>\n",
       "    <tr>\n",
       "      <th>...</th>\n",
       "      <td>...</td>\n",
       "      <td>...</td>\n",
       "      <td>...</td>\n",
       "      <td>...</td>\n",
       "      <td>...</td>\n",
       "      <td>...</td>\n",
       "      <td>...</td>\n",
       "      <td>...</td>\n",
       "      <td>...</td>\n",
       "      <td>...</td>\n",
       "      <td>...</td>\n",
       "      <td>...</td>\n",
       "      <td>...</td>\n",
       "      <td>...</td>\n",
       "      <td>...</td>\n",
       "      <td>...</td>\n",
       "      <td>...</td>\n",
       "      <td>...</td>\n",
       "      <td>...</td>\n",
       "      <td>...</td>\n",
       "      <td>...</td>\n",
       "    </tr>\n",
       "    <tr>\n",
       "      <th>19357</th>\n",
       "      <td>1.186132e-05</td>\n",
       "      <td>0.211546</td>\n",
       "      <td>0.237516</td>\n",
       "      <td>0.004013</td>\n",
       "      <td>0.203331</td>\n",
       "      <td>0.365588</td>\n",
       "      <td>0.000652</td>\n",
       "      <td>0.087878</td>\n",
       "      <td>0.539257</td>\n",
       "      <td>0.025982</td>\n",
       "      <td>...</td>\n",
       "      <td>0.181510</td>\n",
       "      <td>0.001079</td>\n",
       "      <td>0.185825</td>\n",
       "      <td>0.571367</td>\n",
       "      <td>0.000251</td>\n",
       "      <td>0.117194</td>\n",
       "      <td>0.588657</td>\n",
       "      <td>0.063771</td>\n",
       "      <td>0.000435</td>\n",
       "      <td>0.000000e+00</td>\n",
       "    </tr>\n",
       "    <tr>\n",
       "      <th>19358</th>\n",
       "      <td>6.109476e-06</td>\n",
       "      <td>0.313960</td>\n",
       "      <td>0.000121</td>\n",
       "      <td>0.353713</td>\n",
       "      <td>0.000333</td>\n",
       "      <td>0.537215</td>\n",
       "      <td>0.000321</td>\n",
       "      <td>0.444644</td>\n",
       "      <td>0.000351</td>\n",
       "      <td>0.000050</td>\n",
       "      <td>...</td>\n",
       "      <td>0.000016</td>\n",
       "      <td>0.394385</td>\n",
       "      <td>0.000088</td>\n",
       "      <td>0.250565</td>\n",
       "      <td>0.000090</td>\n",
       "      <td>0.216519</td>\n",
       "      <td>0.000157</td>\n",
       "      <td>0.000012</td>\n",
       "      <td>0.001280</td>\n",
       "      <td>0.000000e+00</td>\n",
       "    </tr>\n",
       "    <tr>\n",
       "      <th>19359</th>\n",
       "      <td>2.980232e-08</td>\n",
       "      <td>0.122360</td>\n",
       "      <td>0.085065</td>\n",
       "      <td>0.264344</td>\n",
       "      <td>0.243237</td>\n",
       "      <td>0.201891</td>\n",
       "      <td>0.249877</td>\n",
       "      <td>0.200541</td>\n",
       "      <td>0.208571</td>\n",
       "      <td>0.172490</td>\n",
       "      <td>...</td>\n",
       "      <td>0.268515</td>\n",
       "      <td>0.295265</td>\n",
       "      <td>0.278879</td>\n",
       "      <td>0.235084</td>\n",
       "      <td>0.241844</td>\n",
       "      <td>0.303638</td>\n",
       "      <td>0.253431</td>\n",
       "      <td>0.240593</td>\n",
       "      <td>0.213944</td>\n",
       "      <td>2.086163e-07</td>\n",
       "    </tr>\n",
       "    <tr>\n",
       "      <th>19360</th>\n",
       "      <td>9.999851e-01</td>\n",
       "      <td>0.223129</td>\n",
       "      <td>0.250745</td>\n",
       "      <td>0.001850</td>\n",
       "      <td>0.571361</td>\n",
       "      <td>0.259995</td>\n",
       "      <td>0.000564</td>\n",
       "      <td>0.465280</td>\n",
       "      <td>0.000219</td>\n",
       "      <td>0.000591</td>\n",
       "      <td>...</td>\n",
       "      <td>0.087284</td>\n",
       "      <td>0.001850</td>\n",
       "      <td>0.197502</td>\n",
       "      <td>0.121263</td>\n",
       "      <td>0.000435</td>\n",
       "      <td>0.346236</td>\n",
       "      <td>0.000092</td>\n",
       "      <td>0.000273</td>\n",
       "      <td>0.001473</td>\n",
       "      <td>0.000000e+00</td>\n",
       "    </tr>\n",
       "    <tr>\n",
       "      <th>19361</th>\n",
       "      <td>9.999997e-01</td>\n",
       "      <td>0.000569</td>\n",
       "      <td>0.303943</td>\n",
       "      <td>0.004450</td>\n",
       "      <td>0.566881</td>\n",
       "      <td>0.137841</td>\n",
       "      <td>0.004039</td>\n",
       "      <td>0.362649</td>\n",
       "      <td>0.156134</td>\n",
       "      <td>0.046734</td>\n",
       "      <td>...</td>\n",
       "      <td>0.308408</td>\n",
       "      <td>0.002274</td>\n",
       "      <td>0.486735</td>\n",
       "      <td>0.147865</td>\n",
       "      <td>0.001015</td>\n",
       "      <td>0.594886</td>\n",
       "      <td>0.176310</td>\n",
       "      <td>0.061091</td>\n",
       "      <td>0.255911</td>\n",
       "      <td>0.000000e+00</td>\n",
       "    </tr>\n",
       "  </tbody>\n",
       "</table>\n",
       "<p>19362 rows × 48 columns</p>\n",
       "</div>"
      ],
      "text/plain": [
       "                 0         1         2         3         4         5   \\\n",
       "0      9.999892e-01  0.001075  0.188313  0.516241  0.000179  0.002838   \n",
       "1      1.961589e-04  0.550594  0.004815  0.000383  0.461167  0.181265   \n",
       "2      9.999998e-01  0.000598  0.433878  0.223845  0.127910  0.310105   \n",
       "3      9.999982e-01  0.000065  0.000035  0.368476  0.000125  0.001797   \n",
       "4      9.999944e-01  0.067530  0.000282  0.000007  0.824709  0.000362   \n",
       "...             ...       ...       ...       ...       ...       ...   \n",
       "19357  1.186132e-05  0.211546  0.237516  0.004013  0.203331  0.365588   \n",
       "19358  6.109476e-06  0.313960  0.000121  0.353713  0.000333  0.537215   \n",
       "19359  2.980232e-08  0.122360  0.085065  0.264344  0.243237  0.201891   \n",
       "19360  9.999851e-01  0.223129  0.250745  0.001850  0.571361  0.259995   \n",
       "19361  9.999997e-01  0.000569  0.303943  0.004450  0.566881  0.137841   \n",
       "\n",
       "             6         7         8         9   ...        38        39  \\\n",
       "0      0.474394  0.204195  0.001322  0.104158  ...  0.385565  0.685749   \n",
       "1      0.001244  0.015498  0.543299  0.001929  ...  0.001438  0.000203   \n",
       "2      0.001759  0.274163  0.104468  0.144586  ...  0.360882  0.252009   \n",
       "3      0.725934  0.000180  0.000475  0.005775  ...  0.000013  0.414567   \n",
       "4      0.002351  0.594385  0.000733  0.000136  ...  0.000054  0.000006   \n",
       "...         ...       ...       ...       ...  ...       ...       ...   \n",
       "19357  0.000652  0.087878  0.539257  0.025982  ...  0.181510  0.001079   \n",
       "19358  0.000321  0.444644  0.000351  0.000050  ...  0.000016  0.394385   \n",
       "19359  0.249877  0.200541  0.208571  0.172490  ...  0.268515  0.295265   \n",
       "19360  0.000564  0.465280  0.000219  0.000591  ...  0.087284  0.001850   \n",
       "19361  0.004039  0.362649  0.156134  0.046734  ...  0.308408  0.002274   \n",
       "\n",
       "             40        41        42        43        44        45        46  \\\n",
       "0      0.000053  0.000697  0.779461  0.168245  0.000765  0.108240  0.000703   \n",
       "1      0.794515  0.127899  0.000745  0.002833  0.463075  0.002531  0.000132   \n",
       "2      0.087537  0.492812  0.000918  0.510433  0.159910  0.371679  0.000755   \n",
       "3      0.000038  0.000495  0.670986  0.000036  0.000255  0.005796  0.400359   \n",
       "4      0.785791  0.000034  0.001268  0.397283  0.000159  0.000036  0.001199   \n",
       "...         ...       ...       ...       ...       ...       ...       ...   \n",
       "19357  0.185825  0.571367  0.000251  0.117194  0.588657  0.063771  0.000435   \n",
       "19358  0.000088  0.250565  0.000090  0.216519  0.000157  0.000012  0.001280   \n",
       "19359  0.278879  0.235084  0.241844  0.303638  0.253431  0.240593  0.213944   \n",
       "19360  0.197502  0.121263  0.000435  0.346236  0.000092  0.000273  0.001473   \n",
       "19361  0.486735  0.147865  0.001015  0.594886  0.176310  0.061091  0.255911   \n",
       "\n",
       "                 47  \n",
       "0      0.000000e+00  \n",
       "1      0.000000e+00  \n",
       "2      0.000000e+00  \n",
       "3      0.000000e+00  \n",
       "4      0.000000e+00  \n",
       "...             ...  \n",
       "19357  0.000000e+00  \n",
       "19358  0.000000e+00  \n",
       "19359  2.086163e-07  \n",
       "19360  0.000000e+00  \n",
       "19361  0.000000e+00  \n",
       "\n",
       "[19362 rows x 48 columns]"
      ]
     },
     "execution_count": 62,
     "metadata": {},
     "output_type": "execute_result"
    }
   ],
   "source": [
    "#saving the test and predicted switching\n",
    "y_test= pd.DataFrame(y_test)\n",
    "y_train= pd.DataFrame(y_train)\n",
    "y_pred= pd.DataFrame(y_pred)\n",
    "y_pred\n"
   ]
  },
  {
   "cell_type": "code",
   "execution_count": 63,
   "metadata": {
    "id": "ZQpsT-B6aMra"
   },
   "outputs": [
    {
     "data": {
      "text/plain": [
       "'\\nx_p = pd.DataFrame(inputs.values)            #Energy price of inputs\\nx_p = x_p.iloc[65544:81881, 18:50]            # Saving the Energy price\\nx_p.index = range(len(x_p))\\nx_p.columns = range(x_p.shape[1])\\n\\n\\ny_test= pd.DataFrame(y_test)\\ny_test = y_test.iloc[0:16377, 0:14]\\ny_test.index = range(len(y_test))\\ny_test.columns = range(y_test.shape[1])\\n\\ny_pred= pd.DataFrame(y_pred_binary)\\ny_pred = y_pred.iloc[0:16377, 0:14]\\ny_pred.index = range(len(y_pred))\\ny_pred.columns = range(y_pred.shape[1])\\n'"
      ]
     },
     "execution_count": 63,
     "metadata": {},
     "output_type": "execute_result"
    }
   ],
   "source": [
    "'''\n",
    "x_p = pd.DataFrame(inputs.values)            #Energy price of inputs\n",
    "x_p = x_p.iloc[65544:81881, 18:50]            # Saving the Energy price\n",
    "x_p.index = range(len(x_p))\n",
    "x_p.columns = range(x_p.shape[1])\n",
    "\n",
    "\n",
    "y_test= pd.DataFrame(y_test)\n",
    "y_test = y_test.iloc[0:16377, 0:14]\n",
    "y_test.index = range(len(y_test))\n",
    "y_test.columns = range(y_test.shape[1])\n",
    "\n",
    "y_pred= pd.DataFrame(y_pred_binary)\n",
    "y_pred = y_pred.iloc[0:16377, 0:14]\n",
    "y_pred.index = range(len(y_pred))\n",
    "y_pred.columns = range(y_pred.shape[1])\n",
    "'''\n",
    "#testing = pd.concat([x_pi, y_test, y_pred], axis=1)\n",
    "#testing.to_excel('testing.xlsx', index = False)"
   ]
  },
  {
   "cell_type": "code",
   "execution_count": 64,
   "metadata": {
    "id": "cmavpKE-GMCX"
   },
   "outputs": [],
   "source": [
    "concat_x_pi =  pd.concat([x_pi, x_pi, x_pi, x_pi], ignore_index=True, axis=1)\n",
    "concat_x_pi= pd.DataFrame(concat_x_pi)\n",
    "#concat_x_pi.index = new_index\n",
    "concat_x_pi = concat_x_pi.T\n"
   ]
  },
  {
   "cell_type": "code",
   "execution_count": 65,
   "metadata": {},
   "outputs": [
    {
     "data": {
      "text/plain": [
       "(48, 19362)"
      ]
     },
     "execution_count": 65,
     "metadata": {},
     "output_type": "execute_result"
    }
   ],
   "source": [
    "concat_x_pi = abs(concat_x_pi)\n",
    "concat_x_pi.shape"
   ]
  },
  {
   "cell_type": "code",
   "execution_count": 66,
   "metadata": {
    "colab": {
     "base_uri": "https://localhost:8080/",
     "height": 35
    },
    "id": "kyDfSEAnHTYC",
    "outputId": "a6daab74-55ac-445e-8835-2a1869120f5f"
   },
   "outputs": [
    {
     "data": {
      "text/plain": [
       "(19362, 48)"
      ]
     },
     "execution_count": 66,
     "metadata": {},
     "output_type": "execute_result"
    }
   ],
   "source": [
    "y_pred.shape\n"
   ]
  },
  {
   "cell_type": "code",
   "execution_count": 67,
   "metadata": {},
   "outputs": [],
   "source": [
    "y_pred = y_pred"
   ]
  },
  {
   "cell_type": "code",
   "execution_count": 68,
   "metadata": {},
   "outputs": [
    {
     "data": {
      "text/html": [
       "<div>\n",
       "<style scoped>\n",
       "    .dataframe tbody tr th:only-of-type {\n",
       "        vertical-align: middle;\n",
       "    }\n",
       "\n",
       "    .dataframe tbody tr th {\n",
       "        vertical-align: top;\n",
       "    }\n",
       "\n",
       "    .dataframe thead th {\n",
       "        text-align: right;\n",
       "    }\n",
       "</style>\n",
       "<table border=\"1\" class=\"dataframe\">\n",
       "  <thead>\n",
       "    <tr style=\"text-align: right;\">\n",
       "      <th></th>\n",
       "      <th>0</th>\n",
       "      <th>1</th>\n",
       "      <th>2</th>\n",
       "      <th>3</th>\n",
       "      <th>4</th>\n",
       "      <th>5</th>\n",
       "      <th>6</th>\n",
       "      <th>7</th>\n",
       "      <th>8</th>\n",
       "      <th>9</th>\n",
       "      <th>...</th>\n",
       "      <th>38</th>\n",
       "      <th>39</th>\n",
       "      <th>40</th>\n",
       "      <th>41</th>\n",
       "      <th>42</th>\n",
       "      <th>43</th>\n",
       "      <th>44</th>\n",
       "      <th>45</th>\n",
       "      <th>46</th>\n",
       "      <th>47</th>\n",
       "    </tr>\n",
       "  </thead>\n",
       "  <tbody>\n",
       "    <tr>\n",
       "      <th>0</th>\n",
       "      <td>9.999892e-01</td>\n",
       "      <td>0.001075</td>\n",
       "      <td>0.188313</td>\n",
       "      <td>0.516241</td>\n",
       "      <td>0.000179</td>\n",
       "      <td>0.002838</td>\n",
       "      <td>0.474394</td>\n",
       "      <td>0.204195</td>\n",
       "      <td>0.001322</td>\n",
       "      <td>0.104158</td>\n",
       "      <td>...</td>\n",
       "      <td>0.385565</td>\n",
       "      <td>0.685749</td>\n",
       "      <td>0.000053</td>\n",
       "      <td>0.000697</td>\n",
       "      <td>0.779461</td>\n",
       "      <td>0.168245</td>\n",
       "      <td>0.000765</td>\n",
       "      <td>0.108240</td>\n",
       "      <td>0.000703</td>\n",
       "      <td>0.000000e+00</td>\n",
       "    </tr>\n",
       "    <tr>\n",
       "      <th>1</th>\n",
       "      <td>1.961589e-04</td>\n",
       "      <td>0.550594</td>\n",
       "      <td>0.004815</td>\n",
       "      <td>0.000383</td>\n",
       "      <td>0.461167</td>\n",
       "      <td>0.181265</td>\n",
       "      <td>0.001244</td>\n",
       "      <td>0.015498</td>\n",
       "      <td>0.543299</td>\n",
       "      <td>0.001929</td>\n",
       "      <td>...</td>\n",
       "      <td>0.001438</td>\n",
       "      <td>0.000203</td>\n",
       "      <td>0.794515</td>\n",
       "      <td>0.127899</td>\n",
       "      <td>0.000745</td>\n",
       "      <td>0.002833</td>\n",
       "      <td>0.463075</td>\n",
       "      <td>0.002531</td>\n",
       "      <td>0.000132</td>\n",
       "      <td>0.000000e+00</td>\n",
       "    </tr>\n",
       "    <tr>\n",
       "      <th>2</th>\n",
       "      <td>9.999998e-01</td>\n",
       "      <td>0.000598</td>\n",
       "      <td>0.433878</td>\n",
       "      <td>0.223845</td>\n",
       "      <td>0.127910</td>\n",
       "      <td>0.310105</td>\n",
       "      <td>0.001759</td>\n",
       "      <td>0.274163</td>\n",
       "      <td>0.104468</td>\n",
       "      <td>0.144586</td>\n",
       "      <td>...</td>\n",
       "      <td>0.360882</td>\n",
       "      <td>0.252009</td>\n",
       "      <td>0.087537</td>\n",
       "      <td>0.492812</td>\n",
       "      <td>0.000918</td>\n",
       "      <td>0.510433</td>\n",
       "      <td>0.159910</td>\n",
       "      <td>0.371679</td>\n",
       "      <td>0.000755</td>\n",
       "      <td>0.000000e+00</td>\n",
       "    </tr>\n",
       "    <tr>\n",
       "      <th>3</th>\n",
       "      <td>9.999982e-01</td>\n",
       "      <td>0.000065</td>\n",
       "      <td>0.000035</td>\n",
       "      <td>0.368476</td>\n",
       "      <td>0.000125</td>\n",
       "      <td>0.001797</td>\n",
       "      <td>0.725934</td>\n",
       "      <td>0.000180</td>\n",
       "      <td>0.000475</td>\n",
       "      <td>0.005775</td>\n",
       "      <td>...</td>\n",
       "      <td>0.000013</td>\n",
       "      <td>0.414567</td>\n",
       "      <td>0.000038</td>\n",
       "      <td>0.000495</td>\n",
       "      <td>0.670986</td>\n",
       "      <td>0.000036</td>\n",
       "      <td>0.000255</td>\n",
       "      <td>0.005796</td>\n",
       "      <td>0.400359</td>\n",
       "      <td>0.000000e+00</td>\n",
       "    </tr>\n",
       "    <tr>\n",
       "      <th>4</th>\n",
       "      <td>9.999944e-01</td>\n",
       "      <td>0.067530</td>\n",
       "      <td>0.000282</td>\n",
       "      <td>0.000007</td>\n",
       "      <td>0.824709</td>\n",
       "      <td>0.000362</td>\n",
       "      <td>0.002351</td>\n",
       "      <td>0.594385</td>\n",
       "      <td>0.000733</td>\n",
       "      <td>0.000136</td>\n",
       "      <td>...</td>\n",
       "      <td>0.000054</td>\n",
       "      <td>0.000006</td>\n",
       "      <td>0.785791</td>\n",
       "      <td>0.000034</td>\n",
       "      <td>0.001268</td>\n",
       "      <td>0.397283</td>\n",
       "      <td>0.000159</td>\n",
       "      <td>0.000036</td>\n",
       "      <td>0.001199</td>\n",
       "      <td>0.000000e+00</td>\n",
       "    </tr>\n",
       "    <tr>\n",
       "      <th>...</th>\n",
       "      <td>...</td>\n",
       "      <td>...</td>\n",
       "      <td>...</td>\n",
       "      <td>...</td>\n",
       "      <td>...</td>\n",
       "      <td>...</td>\n",
       "      <td>...</td>\n",
       "      <td>...</td>\n",
       "      <td>...</td>\n",
       "      <td>...</td>\n",
       "      <td>...</td>\n",
       "      <td>...</td>\n",
       "      <td>...</td>\n",
       "      <td>...</td>\n",
       "      <td>...</td>\n",
       "      <td>...</td>\n",
       "      <td>...</td>\n",
       "      <td>...</td>\n",
       "      <td>...</td>\n",
       "      <td>...</td>\n",
       "      <td>...</td>\n",
       "    </tr>\n",
       "    <tr>\n",
       "      <th>19357</th>\n",
       "      <td>1.186132e-05</td>\n",
       "      <td>0.211546</td>\n",
       "      <td>0.237516</td>\n",
       "      <td>0.004013</td>\n",
       "      <td>0.203331</td>\n",
       "      <td>0.365588</td>\n",
       "      <td>0.000652</td>\n",
       "      <td>0.087878</td>\n",
       "      <td>0.539257</td>\n",
       "      <td>0.025982</td>\n",
       "      <td>...</td>\n",
       "      <td>0.181510</td>\n",
       "      <td>0.001079</td>\n",
       "      <td>0.185825</td>\n",
       "      <td>0.571367</td>\n",
       "      <td>0.000251</td>\n",
       "      <td>0.117194</td>\n",
       "      <td>0.588657</td>\n",
       "      <td>0.063771</td>\n",
       "      <td>0.000435</td>\n",
       "      <td>0.000000e+00</td>\n",
       "    </tr>\n",
       "    <tr>\n",
       "      <th>19358</th>\n",
       "      <td>6.109476e-06</td>\n",
       "      <td>0.313960</td>\n",
       "      <td>0.000121</td>\n",
       "      <td>0.353713</td>\n",
       "      <td>0.000333</td>\n",
       "      <td>0.537215</td>\n",
       "      <td>0.000321</td>\n",
       "      <td>0.444644</td>\n",
       "      <td>0.000351</td>\n",
       "      <td>0.000050</td>\n",
       "      <td>...</td>\n",
       "      <td>0.000016</td>\n",
       "      <td>0.394385</td>\n",
       "      <td>0.000088</td>\n",
       "      <td>0.250565</td>\n",
       "      <td>0.000090</td>\n",
       "      <td>0.216519</td>\n",
       "      <td>0.000157</td>\n",
       "      <td>0.000012</td>\n",
       "      <td>0.001280</td>\n",
       "      <td>0.000000e+00</td>\n",
       "    </tr>\n",
       "    <tr>\n",
       "      <th>19359</th>\n",
       "      <td>2.980232e-08</td>\n",
       "      <td>0.122360</td>\n",
       "      <td>0.085065</td>\n",
       "      <td>0.264344</td>\n",
       "      <td>0.243237</td>\n",
       "      <td>0.201891</td>\n",
       "      <td>0.249877</td>\n",
       "      <td>0.200541</td>\n",
       "      <td>0.208571</td>\n",
       "      <td>0.172490</td>\n",
       "      <td>...</td>\n",
       "      <td>0.268515</td>\n",
       "      <td>0.295265</td>\n",
       "      <td>0.278879</td>\n",
       "      <td>0.235084</td>\n",
       "      <td>0.241844</td>\n",
       "      <td>0.303638</td>\n",
       "      <td>0.253431</td>\n",
       "      <td>0.240593</td>\n",
       "      <td>0.213944</td>\n",
       "      <td>2.086163e-07</td>\n",
       "    </tr>\n",
       "    <tr>\n",
       "      <th>19360</th>\n",
       "      <td>9.999851e-01</td>\n",
       "      <td>0.223129</td>\n",
       "      <td>0.250745</td>\n",
       "      <td>0.001850</td>\n",
       "      <td>0.571361</td>\n",
       "      <td>0.259995</td>\n",
       "      <td>0.000564</td>\n",
       "      <td>0.465280</td>\n",
       "      <td>0.000219</td>\n",
       "      <td>0.000591</td>\n",
       "      <td>...</td>\n",
       "      <td>0.087284</td>\n",
       "      <td>0.001850</td>\n",
       "      <td>0.197502</td>\n",
       "      <td>0.121263</td>\n",
       "      <td>0.000435</td>\n",
       "      <td>0.346236</td>\n",
       "      <td>0.000092</td>\n",
       "      <td>0.000273</td>\n",
       "      <td>0.001473</td>\n",
       "      <td>0.000000e+00</td>\n",
       "    </tr>\n",
       "    <tr>\n",
       "      <th>19361</th>\n",
       "      <td>9.999997e-01</td>\n",
       "      <td>0.000569</td>\n",
       "      <td>0.303943</td>\n",
       "      <td>0.004450</td>\n",
       "      <td>0.566881</td>\n",
       "      <td>0.137841</td>\n",
       "      <td>0.004039</td>\n",
       "      <td>0.362649</td>\n",
       "      <td>0.156134</td>\n",
       "      <td>0.046734</td>\n",
       "      <td>...</td>\n",
       "      <td>0.308408</td>\n",
       "      <td>0.002274</td>\n",
       "      <td>0.486735</td>\n",
       "      <td>0.147865</td>\n",
       "      <td>0.001015</td>\n",
       "      <td>0.594886</td>\n",
       "      <td>0.176310</td>\n",
       "      <td>0.061091</td>\n",
       "      <td>0.255911</td>\n",
       "      <td>0.000000e+00</td>\n",
       "    </tr>\n",
       "  </tbody>\n",
       "</table>\n",
       "<p>19362 rows × 48 columns</p>\n",
       "</div>"
      ],
      "text/plain": [
       "                 0         1         2         3         4         5   \\\n",
       "0      9.999892e-01  0.001075  0.188313  0.516241  0.000179  0.002838   \n",
       "1      1.961589e-04  0.550594  0.004815  0.000383  0.461167  0.181265   \n",
       "2      9.999998e-01  0.000598  0.433878  0.223845  0.127910  0.310105   \n",
       "3      9.999982e-01  0.000065  0.000035  0.368476  0.000125  0.001797   \n",
       "4      9.999944e-01  0.067530  0.000282  0.000007  0.824709  0.000362   \n",
       "...             ...       ...       ...       ...       ...       ...   \n",
       "19357  1.186132e-05  0.211546  0.237516  0.004013  0.203331  0.365588   \n",
       "19358  6.109476e-06  0.313960  0.000121  0.353713  0.000333  0.537215   \n",
       "19359  2.980232e-08  0.122360  0.085065  0.264344  0.243237  0.201891   \n",
       "19360  9.999851e-01  0.223129  0.250745  0.001850  0.571361  0.259995   \n",
       "19361  9.999997e-01  0.000569  0.303943  0.004450  0.566881  0.137841   \n",
       "\n",
       "             6         7         8         9   ...        38        39  \\\n",
       "0      0.474394  0.204195  0.001322  0.104158  ...  0.385565  0.685749   \n",
       "1      0.001244  0.015498  0.543299  0.001929  ...  0.001438  0.000203   \n",
       "2      0.001759  0.274163  0.104468  0.144586  ...  0.360882  0.252009   \n",
       "3      0.725934  0.000180  0.000475  0.005775  ...  0.000013  0.414567   \n",
       "4      0.002351  0.594385  0.000733  0.000136  ...  0.000054  0.000006   \n",
       "...         ...       ...       ...       ...  ...       ...       ...   \n",
       "19357  0.000652  0.087878  0.539257  0.025982  ...  0.181510  0.001079   \n",
       "19358  0.000321  0.444644  0.000351  0.000050  ...  0.000016  0.394385   \n",
       "19359  0.249877  0.200541  0.208571  0.172490  ...  0.268515  0.295265   \n",
       "19360  0.000564  0.465280  0.000219  0.000591  ...  0.087284  0.001850   \n",
       "19361  0.004039  0.362649  0.156134  0.046734  ...  0.308408  0.002274   \n",
       "\n",
       "             40        41        42        43        44        45        46  \\\n",
       "0      0.000053  0.000697  0.779461  0.168245  0.000765  0.108240  0.000703   \n",
       "1      0.794515  0.127899  0.000745  0.002833  0.463075  0.002531  0.000132   \n",
       "2      0.087537  0.492812  0.000918  0.510433  0.159910  0.371679  0.000755   \n",
       "3      0.000038  0.000495  0.670986  0.000036  0.000255  0.005796  0.400359   \n",
       "4      0.785791  0.000034  0.001268  0.397283  0.000159  0.000036  0.001199   \n",
       "...         ...       ...       ...       ...       ...       ...       ...   \n",
       "19357  0.185825  0.571367  0.000251  0.117194  0.588657  0.063771  0.000435   \n",
       "19358  0.000088  0.250565  0.000090  0.216519  0.000157  0.000012  0.001280   \n",
       "19359  0.278879  0.235084  0.241844  0.303638  0.253431  0.240593  0.213944   \n",
       "19360  0.197502  0.121263  0.000435  0.346236  0.000092  0.000273  0.001473   \n",
       "19361  0.486735  0.147865  0.001015  0.594886  0.176310  0.061091  0.255911   \n",
       "\n",
       "                 47  \n",
       "0      0.000000e+00  \n",
       "1      0.000000e+00  \n",
       "2      0.000000e+00  \n",
       "3      0.000000e+00  \n",
       "4      0.000000e+00  \n",
       "...             ...  \n",
       "19357  0.000000e+00  \n",
       "19358  0.000000e+00  \n",
       "19359  2.086163e-07  \n",
       "19360  0.000000e+00  \n",
       "19361  0.000000e+00  \n",
       "\n",
       "[19362 rows x 48 columns]"
      ]
     },
     "execution_count": 68,
     "metadata": {},
     "output_type": "execute_result"
    }
   ],
   "source": [
    "y_pred"
   ]
  },
  {
   "cell_type": "code",
   "execution_count": 69,
   "metadata": {
    "colab": {
     "base_uri": "https://localhost:8080/",
     "height": 427
    },
    "id": "8M0aZBT7HFzP",
    "outputId": "2ae09b1c-2193-41da-e402-43a5475e2eeb"
   },
   "outputs": [
    {
     "data": {
      "text/plain": [
       "(19362, 19362)"
      ]
     },
     "execution_count": 69,
     "metadata": {},
     "output_type": "execute_result"
    }
   ],
   "source": [
    "result_predict = y_pred.dot(concat_x_pi);\n",
    "result_predict.shape"
   ]
  },
  {
   "cell_type": "code",
   "execution_count": 70,
   "metadata": {},
   "outputs": [
    {
     "data": {
      "text/plain": [
       "(19362, 19362)"
      ]
     },
     "execution_count": 70,
     "metadata": {},
     "output_type": "execute_result"
    }
   ],
   "source": [
    "result_test = y_test.dot(concat_x_pi);\n",
    "result_test.shape"
   ]
  },
  {
   "cell_type": "code",
   "execution_count": 71,
   "metadata": {
    "id": "2_iywgm_0Ivw"
   },
   "outputs": [],
   "source": [
    "sub = abs(result_test - result_predict)\n"
   ]
  },
  {
   "cell_type": "code",
   "execution_count": 72,
   "metadata": {},
   "outputs": [
    {
     "data": {
      "text/html": [
       "<div>\n",
       "<style scoped>\n",
       "    .dataframe tbody tr th:only-of-type {\n",
       "        vertical-align: middle;\n",
       "    }\n",
       "\n",
       "    .dataframe tbody tr th {\n",
       "        vertical-align: top;\n",
       "    }\n",
       "\n",
       "    .dataframe thead th {\n",
       "        text-align: right;\n",
       "    }\n",
       "</style>\n",
       "<table border=\"1\" class=\"dataframe\">\n",
       "  <thead>\n",
       "    <tr style=\"text-align: right;\">\n",
       "      <th></th>\n",
       "      <th>0</th>\n",
       "      <th>1</th>\n",
       "      <th>2</th>\n",
       "      <th>3</th>\n",
       "      <th>4</th>\n",
       "      <th>5</th>\n",
       "      <th>6</th>\n",
       "      <th>7</th>\n",
       "      <th>8</th>\n",
       "      <th>9</th>\n",
       "      <th>...</th>\n",
       "      <th>19352</th>\n",
       "      <th>19353</th>\n",
       "      <th>19354</th>\n",
       "      <th>19355</th>\n",
       "      <th>19356</th>\n",
       "      <th>19357</th>\n",
       "      <th>19358</th>\n",
       "      <th>19359</th>\n",
       "      <th>19360</th>\n",
       "      <th>19361</th>\n",
       "    </tr>\n",
       "  </thead>\n",
       "  <tbody>\n",
       "    <tr>\n",
       "      <th>0</th>\n",
       "      <td>0.066973</td>\n",
       "      <td>0.487886</td>\n",
       "      <td>0.263920</td>\n",
       "      <td>0.042783</td>\n",
       "      <td>0.789300</td>\n",
       "      <td>0.053795</td>\n",
       "      <td>0.019421</td>\n",
       "      <td>0.638210</td>\n",
       "      <td>0.181825</td>\n",
       "      <td>0.067521</td>\n",
       "      <td>...</td>\n",
       "      <td>0.745897</td>\n",
       "      <td>0.242513</td>\n",
       "      <td>0.037534</td>\n",
       "      <td>0.395560</td>\n",
       "      <td>0.196382</td>\n",
       "      <td>0.345858</td>\n",
       "      <td>0.394911</td>\n",
       "      <td>0.158644</td>\n",
       "      <td>0.063014</td>\n",
       "      <td>0.268915</td>\n",
       "    </tr>\n",
       "    <tr>\n",
       "      <th>1</th>\n",
       "      <td>1.272909</td>\n",
       "      <td>1.304441</td>\n",
       "      <td>0.475292</td>\n",
       "      <td>0.601064</td>\n",
       "      <td>1.531763</td>\n",
       "      <td>1.395771</td>\n",
       "      <td>1.569041</td>\n",
       "      <td>1.224006</td>\n",
       "      <td>1.642795</td>\n",
       "      <td>1.208214</td>\n",
       "      <td>...</td>\n",
       "      <td>1.421441</td>\n",
       "      <td>0.675740</td>\n",
       "      <td>0.675950</td>\n",
       "      <td>1.068968</td>\n",
       "      <td>0.771853</td>\n",
       "      <td>0.433809</td>\n",
       "      <td>1.156760</td>\n",
       "      <td>1.007441</td>\n",
       "      <td>1.357839</td>\n",
       "      <td>1.263485</td>\n",
       "    </tr>\n",
       "    <tr>\n",
       "      <th>2</th>\n",
       "      <td>0.603041</td>\n",
       "      <td>0.242418</td>\n",
       "      <td>1.023399</td>\n",
       "      <td>0.605742</td>\n",
       "      <td>0.211595</td>\n",
       "      <td>0.062376</td>\n",
       "      <td>0.560223</td>\n",
       "      <td>0.043408</td>\n",
       "      <td>0.578898</td>\n",
       "      <td>0.093933</td>\n",
       "      <td>...</td>\n",
       "      <td>0.533441</td>\n",
       "      <td>0.115090</td>\n",
       "      <td>1.045781</td>\n",
       "      <td>0.539704</td>\n",
       "      <td>0.858709</td>\n",
       "      <td>0.216594</td>\n",
       "      <td>0.514242</td>\n",
       "      <td>0.157869</td>\n",
       "      <td>0.617419</td>\n",
       "      <td>1.070753</td>\n",
       "    </tr>\n",
       "    <tr>\n",
       "      <th>3</th>\n",
       "      <td>1.356812</td>\n",
       "      <td>0.328649</td>\n",
       "      <td>2.168980</td>\n",
       "      <td>0.983656</td>\n",
       "      <td>0.585229</td>\n",
       "      <td>0.300289</td>\n",
       "      <td>0.592392</td>\n",
       "      <td>0.341222</td>\n",
       "      <td>0.130640</td>\n",
       "      <td>1.143972</td>\n",
       "      <td>...</td>\n",
       "      <td>0.416955</td>\n",
       "      <td>0.161472</td>\n",
       "      <td>0.093268</td>\n",
       "      <td>0.472580</td>\n",
       "      <td>0.375008</td>\n",
       "      <td>0.207296</td>\n",
       "      <td>0.077366</td>\n",
       "      <td>1.736055</td>\n",
       "      <td>0.147747</td>\n",
       "      <td>0.143386</td>\n",
       "    </tr>\n",
       "    <tr>\n",
       "      <th>4</th>\n",
       "      <td>0.841096</td>\n",
       "      <td>0.739238</td>\n",
       "      <td>0.346602</td>\n",
       "      <td>0.372590</td>\n",
       "      <td>0.888613</td>\n",
       "      <td>0.466571</td>\n",
       "      <td>0.839601</td>\n",
       "      <td>0.617125</td>\n",
       "      <td>0.823682</td>\n",
       "      <td>0.415317</td>\n",
       "      <td>...</td>\n",
       "      <td>0.472529</td>\n",
       "      <td>0.225281</td>\n",
       "      <td>0.531409</td>\n",
       "      <td>0.748881</td>\n",
       "      <td>0.463386</td>\n",
       "      <td>0.390227</td>\n",
       "      <td>0.427151</td>\n",
       "      <td>0.427154</td>\n",
       "      <td>0.755179</td>\n",
       "      <td>0.797845</td>\n",
       "    </tr>\n",
       "    <tr>\n",
       "      <th>...</th>\n",
       "      <td>...</td>\n",
       "      <td>...</td>\n",
       "      <td>...</td>\n",
       "      <td>...</td>\n",
       "      <td>...</td>\n",
       "      <td>...</td>\n",
       "      <td>...</td>\n",
       "      <td>...</td>\n",
       "      <td>...</td>\n",
       "      <td>...</td>\n",
       "      <td>...</td>\n",
       "      <td>...</td>\n",
       "      <td>...</td>\n",
       "      <td>...</td>\n",
       "      <td>...</td>\n",
       "      <td>...</td>\n",
       "      <td>...</td>\n",
       "      <td>...</td>\n",
       "      <td>...</td>\n",
       "      <td>...</td>\n",
       "      <td>...</td>\n",
       "    </tr>\n",
       "    <tr>\n",
       "      <th>19357</th>\n",
       "      <td>1.131068</td>\n",
       "      <td>0.901844</td>\n",
       "      <td>0.512272</td>\n",
       "      <td>0.335891</td>\n",
       "      <td>1.172503</td>\n",
       "      <td>0.166888</td>\n",
       "      <td>0.443934</td>\n",
       "      <td>0.595864</td>\n",
       "      <td>0.837790</td>\n",
       "      <td>0.093089</td>\n",
       "      <td>...</td>\n",
       "      <td>0.759203</td>\n",
       "      <td>0.575962</td>\n",
       "      <td>0.221278</td>\n",
       "      <td>0.764409</td>\n",
       "      <td>0.129170</td>\n",
       "      <td>0.524057</td>\n",
       "      <td>0.706646</td>\n",
       "      <td>1.095503</td>\n",
       "      <td>0.515855</td>\n",
       "      <td>0.290108</td>\n",
       "    </tr>\n",
       "    <tr>\n",
       "      <th>19358</th>\n",
       "      <td>0.358880</td>\n",
       "      <td>0.801409</td>\n",
       "      <td>0.247611</td>\n",
       "      <td>0.442224</td>\n",
       "      <td>0.821158</td>\n",
       "      <td>0.708122</td>\n",
       "      <td>0.595750</td>\n",
       "      <td>0.786845</td>\n",
       "      <td>0.396517</td>\n",
       "      <td>0.284932</td>\n",
       "      <td>...</td>\n",
       "      <td>1.371069</td>\n",
       "      <td>0.827320</td>\n",
       "      <td>0.137578</td>\n",
       "      <td>0.862616</td>\n",
       "      <td>0.060049</td>\n",
       "      <td>0.544975</td>\n",
       "      <td>0.871009</td>\n",
       "      <td>0.261818</td>\n",
       "      <td>0.569744</td>\n",
       "      <td>0.457713</td>\n",
       "    </tr>\n",
       "    <tr>\n",
       "      <th>19359</th>\n",
       "      <td>1.141981</td>\n",
       "      <td>0.179982</td>\n",
       "      <td>1.230555</td>\n",
       "      <td>0.264565</td>\n",
       "      <td>0.071453</td>\n",
       "      <td>0.703204</td>\n",
       "      <td>0.543082</td>\n",
       "      <td>0.130405</td>\n",
       "      <td>0.954999</td>\n",
       "      <td>1.017067</td>\n",
       "      <td>...</td>\n",
       "      <td>0.221125</td>\n",
       "      <td>1.060654</td>\n",
       "      <td>0.293468</td>\n",
       "      <td>0.476597</td>\n",
       "      <td>0.313362</td>\n",
       "      <td>0.670562</td>\n",
       "      <td>0.392153</td>\n",
       "      <td>0.788289</td>\n",
       "      <td>0.648959</td>\n",
       "      <td>0.028911</td>\n",
       "    </tr>\n",
       "    <tr>\n",
       "      <th>19360</th>\n",
       "      <td>0.043769</td>\n",
       "      <td>0.390291</td>\n",
       "      <td>1.513108</td>\n",
       "      <td>1.105477</td>\n",
       "      <td>0.480065</td>\n",
       "      <td>1.586159</td>\n",
       "      <td>0.148410</td>\n",
       "      <td>0.575204</td>\n",
       "      <td>0.513746</td>\n",
       "      <td>1.211341</td>\n",
       "      <td>...</td>\n",
       "      <td>0.712718</td>\n",
       "      <td>0.779762</td>\n",
       "      <td>1.419385</td>\n",
       "      <td>0.694908</td>\n",
       "      <td>0.120464</td>\n",
       "      <td>0.266302</td>\n",
       "      <td>2.226033</td>\n",
       "      <td>0.905019</td>\n",
       "      <td>0.198935</td>\n",
       "      <td>0.202964</td>\n",
       "    </tr>\n",
       "    <tr>\n",
       "      <th>19361</th>\n",
       "      <td>0.466072</td>\n",
       "      <td>0.313044</td>\n",
       "      <td>0.944463</td>\n",
       "      <td>0.526629</td>\n",
       "      <td>0.702263</td>\n",
       "      <td>0.748102</td>\n",
       "      <td>0.020122</td>\n",
       "      <td>0.470871</td>\n",
       "      <td>1.013157</td>\n",
       "      <td>0.169987</td>\n",
       "      <td>...</td>\n",
       "      <td>1.220105</td>\n",
       "      <td>0.270205</td>\n",
       "      <td>0.626930</td>\n",
       "      <td>0.426139</td>\n",
       "      <td>0.425019</td>\n",
       "      <td>0.259615</td>\n",
       "      <td>0.072620</td>\n",
       "      <td>1.241073</td>\n",
       "      <td>0.513290</td>\n",
       "      <td>0.124793</td>\n",
       "    </tr>\n",
       "  </tbody>\n",
       "</table>\n",
       "<p>19362 rows × 19362 columns</p>\n",
       "</div>"
      ],
      "text/plain": [
       "          0         1         2         3         4         5         6      \\\n",
       "0      0.066973  0.487886  0.263920  0.042783  0.789300  0.053795  0.019421   \n",
       "1      1.272909  1.304441  0.475292  0.601064  1.531763  1.395771  1.569041   \n",
       "2      0.603041  0.242418  1.023399  0.605742  0.211595  0.062376  0.560223   \n",
       "3      1.356812  0.328649  2.168980  0.983656  0.585229  0.300289  0.592392   \n",
       "4      0.841096  0.739238  0.346602  0.372590  0.888613  0.466571  0.839601   \n",
       "...         ...       ...       ...       ...       ...       ...       ...   \n",
       "19357  1.131068  0.901844  0.512272  0.335891  1.172503  0.166888  0.443934   \n",
       "19358  0.358880  0.801409  0.247611  0.442224  0.821158  0.708122  0.595750   \n",
       "19359  1.141981  0.179982  1.230555  0.264565  0.071453  0.703204  0.543082   \n",
       "19360  0.043769  0.390291  1.513108  1.105477  0.480065  1.586159  0.148410   \n",
       "19361  0.466072  0.313044  0.944463  0.526629  0.702263  0.748102  0.020122   \n",
       "\n",
       "          7         8         9      ...     19352     19353     19354  \\\n",
       "0      0.638210  0.181825  0.067521  ...  0.745897  0.242513  0.037534   \n",
       "1      1.224006  1.642795  1.208214  ...  1.421441  0.675740  0.675950   \n",
       "2      0.043408  0.578898  0.093933  ...  0.533441  0.115090  1.045781   \n",
       "3      0.341222  0.130640  1.143972  ...  0.416955  0.161472  0.093268   \n",
       "4      0.617125  0.823682  0.415317  ...  0.472529  0.225281  0.531409   \n",
       "...         ...       ...       ...  ...       ...       ...       ...   \n",
       "19357  0.595864  0.837790  0.093089  ...  0.759203  0.575962  0.221278   \n",
       "19358  0.786845  0.396517  0.284932  ...  1.371069  0.827320  0.137578   \n",
       "19359  0.130405  0.954999  1.017067  ...  0.221125  1.060654  0.293468   \n",
       "19360  0.575204  0.513746  1.211341  ...  0.712718  0.779762  1.419385   \n",
       "19361  0.470871  1.013157  0.169987  ...  1.220105  0.270205  0.626930   \n",
       "\n",
       "          19355     19356     19357     19358     19359     19360     19361  \n",
       "0      0.395560  0.196382  0.345858  0.394911  0.158644  0.063014  0.268915  \n",
       "1      1.068968  0.771853  0.433809  1.156760  1.007441  1.357839  1.263485  \n",
       "2      0.539704  0.858709  0.216594  0.514242  0.157869  0.617419  1.070753  \n",
       "3      0.472580  0.375008  0.207296  0.077366  1.736055  0.147747  0.143386  \n",
       "4      0.748881  0.463386  0.390227  0.427151  0.427154  0.755179  0.797845  \n",
       "...         ...       ...       ...       ...       ...       ...       ...  \n",
       "19357  0.764409  0.129170  0.524057  0.706646  1.095503  0.515855  0.290108  \n",
       "19358  0.862616  0.060049  0.544975  0.871009  0.261818  0.569744  0.457713  \n",
       "19359  0.476597  0.313362  0.670562  0.392153  0.788289  0.648959  0.028911  \n",
       "19360  0.694908  0.120464  0.266302  2.226033  0.905019  0.198935  0.202964  \n",
       "19361  0.426139  0.425019  0.259615  0.072620  1.241073  0.513290  0.124793  \n",
       "\n",
       "[19362 rows x 19362 columns]"
      ]
     },
     "execution_count": 72,
     "metadata": {},
     "output_type": "execute_result"
    }
   ],
   "source": [
    "sub"
   ]
  },
  {
   "cell_type": "code",
   "execution_count": 73,
   "metadata": {
    "id": "LzRbMb3jGQ70"
   },
   "outputs": [
    {
     "data": {
      "text/html": [
       "<div>\n",
       "<style scoped>\n",
       "    .dataframe tbody tr th:only-of-type {\n",
       "        vertical-align: middle;\n",
       "    }\n",
       "\n",
       "    .dataframe tbody tr th {\n",
       "        vertical-align: top;\n",
       "    }\n",
       "\n",
       "    .dataframe thead th {\n",
       "        text-align: right;\n",
       "    }\n",
       "</style>\n",
       "<table border=\"1\" class=\"dataframe\">\n",
       "  <thead>\n",
       "    <tr style=\"text-align: right;\">\n",
       "      <th></th>\n",
       "      <th>0</th>\n",
       "      <th>1</th>\n",
       "      <th>2</th>\n",
       "      <th>3</th>\n",
       "      <th>4</th>\n",
       "      <th>5</th>\n",
       "      <th>6</th>\n",
       "      <th>7</th>\n",
       "      <th>8</th>\n",
       "      <th>9</th>\n",
       "      <th>...</th>\n",
       "      <th>19352</th>\n",
       "      <th>19353</th>\n",
       "      <th>19354</th>\n",
       "      <th>19355</th>\n",
       "      <th>19356</th>\n",
       "      <th>19357</th>\n",
       "      <th>19358</th>\n",
       "      <th>19359</th>\n",
       "      <th>19360</th>\n",
       "      <th>19361</th>\n",
       "    </tr>\n",
       "  </thead>\n",
       "  <tbody>\n",
       "    <tr>\n",
       "      <th>0</th>\n",
       "      <td>0.008614</td>\n",
       "      <td>0.104411</td>\n",
       "      <td>0.035331</td>\n",
       "      <td>0.004351</td>\n",
       "      <td>0.125731</td>\n",
       "      <td>0.006646</td>\n",
       "      <td>0.002732</td>\n",
       "      <td>0.076411</td>\n",
       "      <td>0.031750</td>\n",
       "      <td>0.010598</td>\n",
       "      <td>...</td>\n",
       "      <td>0.081005</td>\n",
       "      <td>0.032843</td>\n",
       "      <td>0.006426</td>\n",
       "      <td>0.056715</td>\n",
       "      <td>0.042070</td>\n",
       "      <td>0.048493</td>\n",
       "      <td>0.039753</td>\n",
       "      <td>0.027238</td>\n",
       "      <td>0.009750</td>\n",
       "      <td>0.041272</td>\n",
       "    </tr>\n",
       "    <tr>\n",
       "      <th>1</th>\n",
       "      <td>0.120160</td>\n",
       "      <td>0.146473</td>\n",
       "      <td>0.166109</td>\n",
       "      <td>0.128621</td>\n",
       "      <td>0.141392</td>\n",
       "      <td>0.161536</td>\n",
       "      <td>0.163559</td>\n",
       "      <td>0.159909</td>\n",
       "      <td>0.154212</td>\n",
       "      <td>0.213644</td>\n",
       "      <td>...</td>\n",
       "      <td>0.167004</td>\n",
       "      <td>0.233934</td>\n",
       "      <td>0.106818</td>\n",
       "      <td>0.127327</td>\n",
       "      <td>0.164895</td>\n",
       "      <td>0.087360</td>\n",
       "      <td>0.234578</td>\n",
       "      <td>0.139371</td>\n",
       "      <td>0.150351</td>\n",
       "      <td>0.139694</td>\n",
       "    </tr>\n",
       "    <tr>\n",
       "      <th>2</th>\n",
       "      <td>0.106969</td>\n",
       "      <td>0.036622</td>\n",
       "      <td>0.257859</td>\n",
       "      <td>0.072979</td>\n",
       "      <td>0.022664</td>\n",
       "      <td>0.005220</td>\n",
       "      <td>0.090684</td>\n",
       "      <td>0.005734</td>\n",
       "      <td>0.056510</td>\n",
       "      <td>0.014686</td>\n",
       "      <td>...</td>\n",
       "      <td>0.048596</td>\n",
       "      <td>0.014988</td>\n",
       "      <td>0.166805</td>\n",
       "      <td>0.084277</td>\n",
       "      <td>0.100178</td>\n",
       "      <td>0.037816</td>\n",
       "      <td>0.049317</td>\n",
       "      <td>0.026640</td>\n",
       "      <td>0.078813</td>\n",
       "      <td>0.124066</td>\n",
       "    </tr>\n",
       "    <tr>\n",
       "      <th>3</th>\n",
       "      <td>0.151930</td>\n",
       "      <td>0.074290</td>\n",
       "      <td>0.229488</td>\n",
       "      <td>0.099472</td>\n",
       "      <td>0.110397</td>\n",
       "      <td>0.038477</td>\n",
       "      <td>0.094787</td>\n",
       "      <td>0.043030</td>\n",
       "      <td>0.026004</td>\n",
       "      <td>0.171340</td>\n",
       "      <td>...</td>\n",
       "      <td>0.043144</td>\n",
       "      <td>0.031239</td>\n",
       "      <td>0.023530</td>\n",
       "      <td>0.092015</td>\n",
       "      <td>0.078130</td>\n",
       "      <td>0.030606</td>\n",
       "      <td>0.009536</td>\n",
       "      <td>0.233051</td>\n",
       "      <td>0.026641</td>\n",
       "      <td>0.039831</td>\n",
       "    </tr>\n",
       "    <tr>\n",
       "      <th>4</th>\n",
       "      <td>0.122429</td>\n",
       "      <td>0.109263</td>\n",
       "      <td>0.097460</td>\n",
       "      <td>0.061586</td>\n",
       "      <td>0.097956</td>\n",
       "      <td>0.075305</td>\n",
       "      <td>0.129212</td>\n",
       "      <td>0.116631</td>\n",
       "      <td>0.086137</td>\n",
       "      <td>0.130546</td>\n",
       "      <td>...</td>\n",
       "      <td>0.103006</td>\n",
       "      <td>0.061845</td>\n",
       "      <td>0.097016</td>\n",
       "      <td>0.098323</td>\n",
       "      <td>0.058340</td>\n",
       "      <td>0.070661</td>\n",
       "      <td>0.087213</td>\n",
       "      <td>0.102799</td>\n",
       "      <td>0.094492</td>\n",
       "      <td>0.095086</td>\n",
       "    </tr>\n",
       "    <tr>\n",
       "      <th>...</th>\n",
       "      <td>...</td>\n",
       "      <td>...</td>\n",
       "      <td>...</td>\n",
       "      <td>...</td>\n",
       "      <td>...</td>\n",
       "      <td>...</td>\n",
       "      <td>...</td>\n",
       "      <td>...</td>\n",
       "      <td>...</td>\n",
       "      <td>...</td>\n",
       "      <td>...</td>\n",
       "      <td>...</td>\n",
       "      <td>...</td>\n",
       "      <td>...</td>\n",
       "      <td>...</td>\n",
       "      <td>...</td>\n",
       "      <td>...</td>\n",
       "      <td>...</td>\n",
       "      <td>...</td>\n",
       "      <td>...</td>\n",
       "      <td>...</td>\n",
       "    </tr>\n",
       "    <tr>\n",
       "      <th>19357</th>\n",
       "      <td>0.151988</td>\n",
       "      <td>0.131972</td>\n",
       "      <td>0.113491</td>\n",
       "      <td>0.041720</td>\n",
       "      <td>0.130942</td>\n",
       "      <td>0.012330</td>\n",
       "      <td>0.062457</td>\n",
       "      <td>0.083616</td>\n",
       "      <td>0.077189</td>\n",
       "      <td>0.012768</td>\n",
       "      <td>...</td>\n",
       "      <td>0.069828</td>\n",
       "      <td>0.096317</td>\n",
       "      <td>0.031659</td>\n",
       "      <td>0.128943</td>\n",
       "      <td>0.017327</td>\n",
       "      <td>0.105050</td>\n",
       "      <td>0.073478</td>\n",
       "      <td>0.174238</td>\n",
       "      <td>0.057746</td>\n",
       "      <td>0.037083</td>\n",
       "    </tr>\n",
       "    <tr>\n",
       "      <th>19358</th>\n",
       "      <td>0.084288</td>\n",
       "      <td>0.128272</td>\n",
       "      <td>0.087148</td>\n",
       "      <td>0.064393</td>\n",
       "      <td>0.100415</td>\n",
       "      <td>0.071435</td>\n",
       "      <td>0.081408</td>\n",
       "      <td>0.101986</td>\n",
       "      <td>0.053965</td>\n",
       "      <td>0.042326</td>\n",
       "      <td>...</td>\n",
       "      <td>0.148940</td>\n",
       "      <td>0.102977</td>\n",
       "      <td>0.026503</td>\n",
       "      <td>0.146086</td>\n",
       "      <td>0.010594</td>\n",
       "      <td>0.127995</td>\n",
       "      <td>0.089107</td>\n",
       "      <td>0.081514</td>\n",
       "      <td>0.083230</td>\n",
       "      <td>0.066965</td>\n",
       "    </tr>\n",
       "    <tr>\n",
       "      <th>19359</th>\n",
       "      <td>0.098614</td>\n",
       "      <td>0.019371</td>\n",
       "      <td>0.140802</td>\n",
       "      <td>0.028183</td>\n",
       "      <td>0.006429</td>\n",
       "      <td>0.056250</td>\n",
       "      <td>0.052809</td>\n",
       "      <td>0.012977</td>\n",
       "      <td>0.085487</td>\n",
       "      <td>0.112860</td>\n",
       "      <td>...</td>\n",
       "      <td>0.017560</td>\n",
       "      <td>0.175020</td>\n",
       "      <td>0.032931</td>\n",
       "      <td>0.062390</td>\n",
       "      <td>0.037298</td>\n",
       "      <td>0.111467</td>\n",
       "      <td>0.035802</td>\n",
       "      <td>0.095949</td>\n",
       "      <td>0.067726</td>\n",
       "      <td>0.002929</td>\n",
       "    </tr>\n",
       "    <tr>\n",
       "      <th>19360</th>\n",
       "      <td>0.005237</td>\n",
       "      <td>0.043657</td>\n",
       "      <td>0.362022</td>\n",
       "      <td>0.151432</td>\n",
       "      <td>0.041549</td>\n",
       "      <td>0.162544</td>\n",
       "      <td>0.021478</td>\n",
       "      <td>0.084562</td>\n",
       "      <td>0.040189</td>\n",
       "      <td>0.278050</td>\n",
       "      <td>...</td>\n",
       "      <td>0.083109</td>\n",
       "      <td>0.208610</td>\n",
       "      <td>0.298788</td>\n",
       "      <td>0.077864</td>\n",
       "      <td>0.012261</td>\n",
       "      <td>0.040226</td>\n",
       "      <td>0.291466</td>\n",
       "      <td>0.162699</td>\n",
       "      <td>0.018136</td>\n",
       "      <td>0.024882</td>\n",
       "    </tr>\n",
       "    <tr>\n",
       "      <th>19361</th>\n",
       "      <td>0.056521</td>\n",
       "      <td>0.039829</td>\n",
       "      <td>0.140247</td>\n",
       "      <td>0.056291</td>\n",
       "      <td>0.076579</td>\n",
       "      <td>0.080115</td>\n",
       "      <td>0.002579</td>\n",
       "      <td>0.081741</td>\n",
       "      <td>0.099885</td>\n",
       "      <td>0.035853</td>\n",
       "      <td>...</td>\n",
       "      <td>0.167570</td>\n",
       "      <td>0.045701</td>\n",
       "      <td>0.070500</td>\n",
       "      <td>0.054759</td>\n",
       "      <td>0.042742</td>\n",
       "      <td>0.042520</td>\n",
       "      <td>0.009369</td>\n",
       "      <td>0.270485</td>\n",
       "      <td>0.059134</td>\n",
       "      <td>0.012174</td>\n",
       "    </tr>\n",
       "  </tbody>\n",
       "</table>\n",
       "<p>19362 rows × 19362 columns</p>\n",
       "</div>"
      ],
      "text/plain": [
       "          0         1         2         3         4         5         6      \\\n",
       "0      0.008614  0.104411  0.035331  0.004351  0.125731  0.006646  0.002732   \n",
       "1      0.120160  0.146473  0.166109  0.128621  0.141392  0.161536  0.163559   \n",
       "2      0.106969  0.036622  0.257859  0.072979  0.022664  0.005220  0.090684   \n",
       "3      0.151930  0.074290  0.229488  0.099472  0.110397  0.038477  0.094787   \n",
       "4      0.122429  0.109263  0.097460  0.061586  0.097956  0.075305  0.129212   \n",
       "...         ...       ...       ...       ...       ...       ...       ...   \n",
       "19357  0.151988  0.131972  0.113491  0.041720  0.130942  0.012330  0.062457   \n",
       "19358  0.084288  0.128272  0.087148  0.064393  0.100415  0.071435  0.081408   \n",
       "19359  0.098614  0.019371  0.140802  0.028183  0.006429  0.056250  0.052809   \n",
       "19360  0.005237  0.043657  0.362022  0.151432  0.041549  0.162544  0.021478   \n",
       "19361  0.056521  0.039829  0.140247  0.056291  0.076579  0.080115  0.002579   \n",
       "\n",
       "          7         8         9      ...     19352     19353     19354  \\\n",
       "0      0.076411  0.031750  0.010598  ...  0.081005  0.032843  0.006426   \n",
       "1      0.159909  0.154212  0.213644  ...  0.167004  0.233934  0.106818   \n",
       "2      0.005734  0.056510  0.014686  ...  0.048596  0.014988  0.166805   \n",
       "3      0.043030  0.026004  0.171340  ...  0.043144  0.031239  0.023530   \n",
       "4      0.116631  0.086137  0.130546  ...  0.103006  0.061845  0.097016   \n",
       "...         ...       ...       ...  ...       ...       ...       ...   \n",
       "19357  0.083616  0.077189  0.012768  ...  0.069828  0.096317  0.031659   \n",
       "19358  0.101986  0.053965  0.042326  ...  0.148940  0.102977  0.026503   \n",
       "19359  0.012977  0.085487  0.112860  ...  0.017560  0.175020  0.032931   \n",
       "19360  0.084562  0.040189  0.278050  ...  0.083109  0.208610  0.298788   \n",
       "19361  0.081741  0.099885  0.035853  ...  0.167570  0.045701  0.070500   \n",
       "\n",
       "          19355     19356     19357     19358     19359     19360     19361  \n",
       "0      0.056715  0.042070  0.048493  0.039753  0.027238  0.009750  0.041272  \n",
       "1      0.127327  0.164895  0.087360  0.234578  0.139371  0.150351  0.139694  \n",
       "2      0.084277  0.100178  0.037816  0.049317  0.026640  0.078813  0.124066  \n",
       "3      0.092015  0.078130  0.030606  0.009536  0.233051  0.026641  0.039831  \n",
       "4      0.098323  0.058340  0.070661  0.087213  0.102799  0.094492  0.095086  \n",
       "...         ...       ...       ...       ...       ...       ...       ...  \n",
       "19357  0.128943  0.017327  0.105050  0.073478  0.174238  0.057746  0.037083  \n",
       "19358  0.146086  0.010594  0.127995  0.089107  0.081514  0.083230  0.066965  \n",
       "19359  0.062390  0.037298  0.111467  0.035802  0.095949  0.067726  0.002929  \n",
       "19360  0.077864  0.012261  0.040226  0.291466  0.162699  0.018136  0.024882  \n",
       "19361  0.054759  0.042742  0.042520  0.009369  0.270485  0.059134  0.012174  \n",
       "\n",
       "[19362 rows x 19362 columns]"
      ]
     },
     "execution_count": 73,
     "metadata": {},
     "output_type": "execute_result"
    }
   ],
   "source": [
    "sub = abs(result_test - result_predict)/(result_test)\n",
    "sub"
   ]
  },
  {
   "cell_type": "code",
   "execution_count": 74,
   "metadata": {},
   "outputs": [
    {
     "data": {
      "text/plain": [
       "<matplotlib.lines.Line2D at 0x23b423f07c8>"
      ]
     },
     "execution_count": 74,
     "metadata": {},
     "output_type": "execute_result"
    },
    {
     "data": {
      "image/png": "[encoded data removed]",
      "text/plain": [
       "<Figure size 432x288 with 1 Axes>"
      ]
     },
     "metadata": {
      "needs_background": "light"
     },
     "output_type": "display_data"
    }
   ],
   "source": [
    "suboptimality = np.diag(sub)\n",
    "#plt.plot(suboptimality[48:72])\n",
    "plt.xlabel('number of components')\n",
    "plt.ylabel('element wise suboptimality')\n",
    "plt.title('F*-F^/')\n",
    "plt.axhline(y=0.15, color='r', linestyle='-')"
   ]
  },
  {
   "cell_type": "code",
   "execution_count": 75,
   "metadata": {},
   "outputs": [
    {
     "data": {
      "text/plain": [
       "(19362,)"
      ]
     },
     "execution_count": 75,
     "metadata": {},
     "output_type": "execute_result"
    }
   ],
   "source": [
    "suboptimality.shape"
   ]
  },
  {
   "cell_type": "code",
   "execution_count": 76,
   "metadata": {},
   "outputs": [
    {
     "data": {
      "text/plain": [
       "0.07001520354089254"
      ]
     },
     "execution_count": 76,
     "metadata": {},
     "output_type": "execute_result"
    }
   ],
   "source": [
    "#Calculating the suboptimality for T=20, two tank model, batch normalization, activation = sigmoid, ReLU\n",
    "#loss= binary cross entropy, pumps =4 \n",
    "T = np.mean(suboptimality)\n",
    "T"
   ]
  },
  {
   "cell_type": "code",
   "execution_count": null,
   "metadata": {},
   "outputs": [],
   "source": []
  },
  {
   "cell_type": "code",
   "execution_count": null,
   "metadata": {},
   "outputs": [],
   "source": []
  }
 ],
 "metadata": {
  "colab": {
   "collapsed_sections": [],
   "name": "FinalCodeDL.ipynb",
   "provenance": [],
   "toc_visible": true
  },
  "kernelspec": {
   "display_name": "Python 3",
   "language": "python",
   "name": "python3"
  },
  "language_info": {
   "codemirror_mode": {
    "name": "ipython",
    "version": 3
   },
   "file_extension": ".py",
   "mimetype": "text/x-python",
   "name": "python",
   "nbconvert_exporter": "python",
   "pygments_lexer": "ipython3",
   "version": "3.7.6"
  }
 },
 "nbformat": 4,
 "nbformat_minor": 1
}
