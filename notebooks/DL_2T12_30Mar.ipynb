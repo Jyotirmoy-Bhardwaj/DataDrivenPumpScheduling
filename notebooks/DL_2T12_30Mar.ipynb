{
 "cells": [
  {
   "cell_type": "code",
   "execution_count": 1,
   "metadata": {
    "colab": {
     "base_uri": "https://localhost:8080/",
     "height": 35
    },
    "id": "3UAv55q5WBcM",
    "outputId": "3c021aa0-bd4d-494f-f943-eef9218e7517"
   },
   "outputs": [
    {
     "name": "stderr",
     "output_type": "stream",
     "text": [
      "Using TensorFlow backend.\n"
     ]
    }
   ],
   "source": [
    "#We are testing a DL model for Mixed integer formulation for Water distribution network.\n",
    "# The input data such as water demand and time-ahead dynamic energy prices are obtained from Singh et al (2019) paper.\n",
    "# We computed the time ahead pump switching using MATALB Gurobi solver\n",
    "# We obtained the time ahead pump switching for 2048 hours (85.33 days)\n",
    "# We train_test the neural network in the ratio of 80-20.\n",
    "# The nn is trained using ReLu and SoftMax (as the output is integer values)\n",
    "\n",
    "#In our  case y is (z)\n",
    "\n",
    "import numpy as np\n",
    "import pandas as pd   #data analysis and manipulation library\n",
    "import seaborn as sns #Python statistical data visualization library.\n",
    "import matplotlib.pyplot as plt\n",
    "from sklearn import model_selection #Tuning the hyperparameters, cross validation, model persistance are the important aspects of this.\n",
    "from sklearn.model_selection import train_test_split #ML library to data analysis\n",
    "from sklearn.metrics import accuracy_score, r2_score\n",
    "import sklearn.metrics as metrics\n",
    "from openpyxl import Workbook, load_workbook\n",
    "from openpyxl.utils.dataframe import dataframe_to_rows\n",
    "\n",
    "\n",
    "from sklearn.decomposition import PCA #dimensionality reduction\n",
    "\n",
    "%matplotlib inline\n",
    "\n",
    "#Libraries for Deep learning framework from Keras\n",
    "\n",
    "import tensorflow as tf\n",
    "from tensorflow.keras.models import Sequential\n",
    "from tensorflow.keras.layers import Dense, Activation\n",
    "from tensorflow.keras.layers import BatchNormalization\n",
    "\n",
    "import keras\n",
    "import keras.utils\n",
    "from keras import utils as np_utils\n",
    "from keras.models import Sequential\n",
    "\n",
    "from tensorflow.keras import layers\n",
    "from tensorflow.keras import utils as np_utils\n",
    "from tensorflow.keras import models \n",
    "from tensorflow.keras.models import Sequential\n",
    "from tensorflow.keras.layers import Activation, LeakyReLU, PReLU, ELU #Import activation functions from keras.layers\n",
    "from tensorflow.keras.layers import Dropout #Import dropout library, the objective of dropout is to prevent overfitting of data, However, we have to be careful while setting the dropout rate.\n",
    "from tensorflow.keras.optimizers import SGD, RMSprop\n",
    "from tensorflow.keras.callbacks import LearningRateScheduler #Learning rate scheduler, Here call back is an object that can perform\n",
    "                                                # at various actions at different stages of training \n",
    "from tensorflow.keras.callbacks import History #We can use the data collected from history to  [accuracy, loss, val_accuracy, val_loss]\n",
    "\n",
    "\n",
    "\n",
    "import io #Deal with various types of input output\n",
    "import os #Talk with os, like changing and modifying dirctories\n",
    "import requests #Allow you to send HTTP/1.1, headers, form data, multipart files r = requests.get(‘https://github.com/timeline.json’)\n",
    "\n",
    "\n",
    "import warnings\n",
    "warnings.simplefilter(action='ignore', category=FutureWarning)\n",
    "warnings.filterwarnings('ignore')\n",
    "warnings.filterwarnings('ignore', category=DeprecationWarning) #Deprecated warning: it is a base category of warning about deprecated features\n",
    "\n",
    "\n",
    "import dill\n",
    "# dill.dump_session('notebook_env.db')\n",
    "\n",
    "\n"
   ]
  },
  {
   "cell_type": "code",
   "execution_count": 2,
   "metadata": {
    "colab": {
     "base_uri": "https://localhost:8080/",
     "height": 35
    },
    "id": "IpVFTXeQXCXK",
    "outputId": "27426a81-8e08-46b7-8f2c-c8deaf83a9a4"
   },
   "outputs": [
    {
     "data": {
      "text/plain": [
       "(193619, 75)"
      ]
     },
     "execution_count": 2,
     "metadata": {},
     "output_type": "execute_result"
    }
   ],
   "source": [
    "import io\n",
    "#inputs = pd.read_csv(io.BytesIO(uploaded['1.csv']))\n",
    "\n",
    "inputs=pd.read_csv(r'C:\\Users\\jyotib18\\OPS_Data\\2T12Ts5\\feasible_input_log.csv')\n",
    "inputs=inputs.dropna()\n",
    "\n",
    "\n",
    "# Dataset is now stored in a Pandas Dataframe\n",
    "inputs.shape"
   ]
  },
  {
   "cell_type": "code",
   "execution_count": 3,
   "metadata": {
    "colab": {
     "base_uri": "https://localhost:8080/",
     "height": 35
    },
    "id": "JJOS8FKYX-NI",
    "outputId": "1b70258b-b9d3-487b-c10f-9a84707063e3"
   },
   "outputs": [
    {
     "data": {
      "text/plain": [
       "pandas.core.frame.DataFrame"
      ]
     },
     "execution_count": 3,
     "metadata": {},
     "output_type": "execute_result"
    }
   ],
   "source": [
    "type(inputs)"
   ]
  },
  {
   "cell_type": "code",
   "execution_count": 4,
   "metadata": {
    "colab": {
     "base_uri": "https://localhost:8080/",
     "height": 267
    },
    "id": "7kjRvcIjYBcE",
    "outputId": "fc4ba7fd-6de7-44fa-fddc-9bbd367a8a2d"
   },
   "outputs": [
    {
     "data": {
      "text/plain": [
       "<bound method NDFrame.head of          170.36   184.93  0  1  1.1  0.1  3  0.2  1.2  1.3  ...  47.818  \\\n",
       "0       188.680   95.997  0  0    1    0  4    0    1    1  ...  40.997   \n",
       "1        69.425   78.392  0  0    1    1  1    0    0    0  ...  39.418   \n",
       "2       108.830   69.571  1  1    0    0  2    0    0    1  ...  42.353   \n",
       "3       196.590  154.030  1  0    0    1  2    0    0    1  ...  30.652   \n",
       "4       143.160  100.200  0  0    0    0  2    1    0    0  ...  34.814   \n",
       "...         ...      ... .. ..  ...  ... ..  ...  ...  ...  ...     ...   \n",
       "193614  105.530   44.108  0  0    1    1  2    0    0    1  ...  38.873   \n",
       "193615  156.140  175.500  0  0    1    0  3    1    1    0  ...  46.673   \n",
       "193616  164.760   48.545  0  1    0    0  4    1    1    1  ...  45.461   \n",
       "193617  152.950  169.290  1  1    1    1  2    0    0    0  ...  43.121   \n",
       "193618   93.005  164.140  1  1    0    0  3    1    1    0  ...  47.009   \n",
       "\n",
       "        49.186  40.944  32.772  32.986   35.15  46.814  35.086  46.286   34.87  \n",
       "0       32.899  47.061  42.441  37.019  40.265  38.036  31.519  34.798  32.466  \n",
       "1       34.610  46.886  33.895  34.518  33.414  34.553  38.714  36.222  48.468  \n",
       "2       47.189  46.110  41.534  33.658  34.799  47.730  30.573  39.798  33.359  \n",
       "3       41.224  47.637  43.384  33.809  37.378  39.215  49.633  33.128  47.110  \n",
       "4       43.522  35.781  43.436  43.903  31.360  35.096  34.481  43.357  46.888  \n",
       "...        ...     ...     ...     ...     ...     ...     ...     ...     ...  \n",
       "193614  43.925  45.904  32.489  36.552  42.274  36.781  42.748  49.653  49.403  \n",
       "193615  49.782  32.178  46.541  30.276  39.246  35.929  38.957  37.951  37.795  \n",
       "193616  38.478  43.418  47.597  38.226  43.497  34.303  42.571  37.691  45.118  \n",
       "193617  36.369  39.802  32.721  43.570  34.551  36.117  34.702  41.056  37.087  \n",
       "193618  30.440  46.920  35.495  45.421  43.309  41.785  43.464  44.798  37.136  \n",
       "\n",
       "[193619 rows x 75 columns]>"
      ]
     },
     "execution_count": 4,
     "metadata": {},
     "output_type": "execute_result"
    }
   ],
   "source": [
    "inputs.head"
   ]
  },
  {
   "cell_type": "code",
   "execution_count": 5,
   "metadata": {
    "colab": {
     "base_uri": "https://localhost:8080/",
     "height": 35
    },
    "id": "3K06d0z3YLHZ",
    "outputId": "2f18508a-5444-4967-a6c7-42e5cfdeb656"
   },
   "outputs": [
    {
     "data": {
      "text/plain": [
       "(193619, 48)"
      ]
     },
     "execution_count": 5,
     "metadata": {},
     "output_type": "execute_result"
    }
   ],
   "source": [
    "import io\n",
    "outputs = pd.read_csv(r'C:\\Users\\jyotib18\\OPS_Data\\2T12Ts5\\feasible_output_log.csv')\n",
    "# Dataset is now stored in a Pandas Dataframe\n",
    "outputs=outputs.dropna()\n",
    "outputs.shape"
   ]
  },
  {
   "cell_type": "code",
   "execution_count": 6,
   "metadata": {
    "colab": {
     "base_uri": "https://localhost:8080/",
     "height": 267
    },
    "id": "c_Y34U9Eo9RK",
    "outputId": "a0beb83e-4aeb-4f67-e98b-175ffcb61b9b"
   },
   "outputs": [
    {
     "data": {
      "text/plain": [
       "<bound method NDFrame.head of         0   -0  -0.1  -0.2  -0.3  -0.4  -0.5  -0.6  -0.7    1  ...  -0.27  \\\n",
       "0       0  0.0   0.0   0.0   1.0   0.0   0.0   0.0   0.0  0.0  ...    0.0   \n",
       "1       0 -0.0  -0.0  -0.0  -0.0  -0.0  -0.0   1.0  -0.0 -0.0  ...    0.0   \n",
       "2       1 -0.0  -0.0  -0.0  -0.0  -0.0   1.0  -0.0   1.0 -0.0  ...    0.0   \n",
       "3       1  0.0   0.0   0.0   1.0  -0.0  -0.0   1.0   0.0  0.0  ...    0.0   \n",
       "4       0  1.0  -0.0  -0.0  -0.0   1.0  -0.0   1.0  -0.0 -0.0  ...    0.0   \n",
       "...    ..  ...   ...   ...   ...   ...   ...   ...   ...  ...  ...    ...   \n",
       "193614  0 -0.0  -0.0  -0.0   0.0   1.0   0.0   0.0   1.0  0.0  ...   -0.0   \n",
       "193615  0  0.0   0.0   1.0   0.0   1.0   0.0   1.0   0.0  0.0  ...    0.0   \n",
       "193616  0  1.0   1.0  -0.0   1.0  -0.0  -0.0  -0.0  -0.0 -0.0  ...   -0.0   \n",
       "193617  1  0.0  -0.0   0.0   1.0  -0.0   0.0   1.0   0.0  0.0  ...   -0.0   \n",
       "193618  1 -0.0   1.0  -0.0   1.0  -0.0  -0.0  -0.0  -0.0 -0.0  ...   -0.0   \n",
       "\n",
       "        1.6  -0.28  -0.29  -0.30  -0.31  -0.32  1.7  -0.33  0.5  \n",
       "0       0.0    0.0    0.0    1.0    0.0    1.0  0.0    1.0    0  \n",
       "1       1.0   -0.0   -0.0    0.0    1.0   -0.0  0.0    0.0    0  \n",
       "2       1.0   -0.0   -0.0    0.0   -0.0   -0.0  0.0    0.0    0  \n",
       "3       0.0    1.0   -0.0    0.0   -0.0    0.0  0.0    1.0    0  \n",
       "4       0.0    1.0   -0.0    0.0    0.0   -0.0  0.0    1.0    0  \n",
       "...     ...    ...    ...    ...    ...    ...  ...    ...  ...  \n",
       "193614 -0.0    0.0   -0.0    0.0    1.0    1.0  0.0    0.0    0  \n",
       "193615  0.0    0.0    0.0    0.0    0.0    0.0  0.0    0.0    0  \n",
       "193616 -0.0   -0.0    1.0    1.0    1.0   -0.0 -0.0   -0.0    0  \n",
       "193617  0.0    1.0    1.0    0.0   -0.0    0.0  0.0    0.0    0  \n",
       "193618 -0.0   -0.0   -0.0   -0.0    1.0   -0.0 -0.0    1.0    0  \n",
       "\n",
       "[193619 rows x 48 columns]>"
      ]
     },
     "execution_count": 6,
     "metadata": {},
     "output_type": "execute_result"
    }
   ],
   "source": [
    "outputs.head"
   ]
  },
  {
   "cell_type": "code",
   "execution_count": 7,
   "metadata": {
    "colab": {
     "base_uri": "https://localhost:8080/",
     "height": 142
    },
    "id": "7Q5rdfEcYUpm",
    "outputId": "e1c8aace-b467-4903-93de-00041281f93e"
   },
   "outputs": [
    {
     "data": {
      "text/plain": [
       "array([[188.68 ,  95.997,   0.   , ...,  31.519,  34.798,  32.466],\n",
       "       [ 69.425,  78.392,   0.   , ...,  38.714,  36.222,  48.468],\n",
       "       [108.83 ,  69.571,   1.   , ...,  30.573,  39.798,  33.359],\n",
       "       ...,\n",
       "       [164.76 ,  48.545,   0.   , ...,  42.571,  37.691,  45.118],\n",
       "       [152.95 , 169.29 ,   1.   , ...,  34.702,  41.056,  37.087],\n",
       "       [ 93.005, 164.14 ,   1.   , ...,  43.464,  44.798,  37.136]])"
      ]
     },
     "execution_count": 7,
     "metadata": {},
     "output_type": "execute_result"
    }
   ],
   "source": [
    "x = inputs.values #converting data frame to array frame\n",
    "x"
   ]
  },
  {
   "cell_type": "code",
   "execution_count": 8,
   "metadata": {
    "colab": {
     "base_uri": "https://localhost:8080/",
     "height": 35
    },
    "id": "u-1JFtEPZMI-",
    "outputId": "1a6530ce-97d3-43c1-e22d-afa1cc4cc523"
   },
   "outputs": [
    {
     "data": {
      "text/plain": [
       "pandas.core.frame.DataFrame"
      ]
     },
     "execution_count": 8,
     "metadata": {},
     "output_type": "execute_result"
    }
   ],
   "source": [
    "type(outputs)"
   ]
  },
  {
   "cell_type": "code",
   "execution_count": 9,
   "metadata": {
    "colab": {
     "base_uri": "https://localhost:8080/",
     "height": 142
    },
    "id": "ftCpb4JaZOCm",
    "outputId": "d1adf403-a25c-406b-af25-602b9fc6363a"
   },
   "outputs": [
    {
     "data": {
      "text/plain": [
       "array([[ 0.,  0.,  0., ...,  0.,  1.,  0.],\n",
       "       [ 0., -0., -0., ...,  0.,  0.,  0.],\n",
       "       [ 1., -0., -0., ...,  0.,  0.,  0.],\n",
       "       ...,\n",
       "       [ 0.,  1.,  1., ..., -0., -0.,  0.],\n",
       "       [ 1.,  0., -0., ...,  0.,  0.,  0.],\n",
       "       [ 1., -0.,  1., ..., -0.,  1.,  0.]])"
      ]
     },
     "execution_count": 9,
     "metadata": {},
     "output_type": "execute_result"
    }
   ],
   "source": [
    "y = outputs.values # converting dataframe \"outputc\" in array form i.e. 'y' is now in array form \n",
    "y # y is combination of power assignments and channel assignments both."
   ]
  },
  {
   "cell_type": "code",
   "execution_count": 10,
   "metadata": {
    "colab": {
     "base_uri": "https://localhost:8080/",
     "height": 35
    },
    "id": "ChIBpH6HZQxg",
    "outputId": "18f59c85-a710-4dfa-997d-b35308e72991"
   },
   "outputs": [
    {
     "data": {
      "text/plain": [
       "(193619, 48)"
      ]
     },
     "execution_count": 10,
     "metadata": {},
     "output_type": "execute_result"
    }
   ],
   "source": [
    "y.shape"
   ]
  },
  {
   "cell_type": "code",
   "execution_count": 11,
   "metadata": {},
   "outputs": [
    {
     "data": {
      "text/plain": [
       "(193619, 75)"
      ]
     },
     "execution_count": 11,
     "metadata": {},
     "output_type": "execute_result"
    }
   ],
   "source": [
    "x.shape"
   ]
  },
  {
   "cell_type": "code",
   "execution_count": 12,
   "metadata": {
    "colab": {
     "base_uri": "https://localhost:8080/",
     "height": 35
    },
    "id": "abgDkl9qZTMj",
    "outputId": "2d246909-8eff-48b5-f5d5-2a3ac593b867"
   },
   "outputs": [
    {
     "data": {
      "text/plain": [
       "numpy.ndarray"
      ]
     },
     "execution_count": 12,
     "metadata": {},
     "output_type": "execute_result"
    }
   ],
   "source": [
    "type(y)"
   ]
  },
  {
   "cell_type": "code",
   "execution_count": 13,
   "metadata": {
    "colab": {
     "base_uri": "https://localhost:8080/",
     "height": 142
    },
    "id": "feOJ4F4eZVDY",
    "outputId": "50399f6d-8241-46ee-c374-b53b7e17226b"
   },
   "outputs": [],
   "source": [
    "#y[0]"
   ]
  },
  {
   "cell_type": "code",
   "execution_count": 14,
   "metadata": {
    "colab": {
     "base_uri": "https://localhost:8080/",
     "height": 71
    },
    "id": "kL_w5EAOZXE9",
    "outputId": "e61df404-dd57-44dd-ed66-5e1662d55204"
   },
   "outputs": [],
   "source": [
    "#y[0:50, 0] # First row and initial 50 columns of y "
   ]
  },
  {
   "cell_type": "code",
   "execution_count": 15,
   "metadata": {
    "id": "Jt2OQ-dMZZ1x"
   },
   "outputs": [],
   "source": [
    "# Splitting data for training and testing \n",
    "# Here both x and y are in array form (non-scaled)\n",
    "\n",
    "from sklearn.model_selection import train_test_split\n",
    "x_train, x_test, y_train, y_test = train_test_split(x, y, test_size=0.1, shuffle=False, random_state=42) # old\n",
    "#x_train, x_test, y_train, y_test = train_test_split(x, y, test_size=0.2, shuffle=True)"
   ]
  },
  {
   "cell_type": "code",
   "execution_count": 16,
   "metadata": {
    "id": "gBhAhKzuZehe"
   },
   "outputs": [],
   "source": [
    "# Feature Scaling\n",
    "from sklearn.preprocessing import StandardScaler\n",
    "sc = StandardScaler()\n",
    "x_train = sc.fit_transform(x_train)\n",
    "x_test = sc.transform(x_test)"
   ]
  },
  {
   "cell_type": "code",
   "execution_count": 17,
   "metadata": {},
   "outputs": [],
   "source": [
    "#Building neural network\n",
    "\n",
    "\n",
    "model = tf.keras.Sequential()\n",
    "\n",
    "\n",
    "model.add(Dense(20, input_dim=x.shape[1], activation='relu', kernel_initializer='random_normal')) # Input layer and 1st hidden layer\n",
    "model.add(BatchNormalization())\n",
    "\n",
    "\n",
    "#model.add(Dense(20, input_dim=x.shape[1], kernel_initializer='random_normal')) # Input layer and 1st hidden layer\n",
    "#model.add(LeakyReLU(alpha=0.1)) # Leaky Relu for 1st hidden layer\n",
    "#model.add(BatchNormalization())\n",
    "\n",
    "\n",
    "model.add(Dense(20, input_dim=x.shape[1], activation='relu', kernel_initializer='random_normal'))\n",
    "#model.add(Dense(100,  kernel_initializer='random_normal')) # 2nd Hidden layer\n",
    "model.add(BatchNormalization())\n",
    "#model.add(LeakyReLU(alpha=0.1)) # Leaky Relu for 2nd hidden layer\n",
    "\n",
    "\n",
    "#model.add(Dense(40, kernel_initializer='random_normal')) # 3rd Hidden layer \n",
    "model.add(Dense(40, input_dim=x.shape[1], activation='relu', kernel_initializer='random_normal'))\n",
    "#model.add(LeakyReLU(alpha=0.1)) # Leaky Relu for 3rd hidden layer\n",
    "model.add(BatchNormalization())\n",
    "\n",
    "\n",
    "#model.add(Dense(60,  kernel_initializer='random_normal')) # 4th Hidden Layer \n",
    "model.add(Dense(60, input_dim=x.shape[1], activation='relu', kernel_initializer='random_normal'))\n",
    "#model.add(LeakyReLU(alpha=0.1)) # Leaky Relu for 4th hidden layer\n",
    "model.add(BatchNormalization())\n",
    "\n",
    "#model.add(Dense(80, kernel_initializer='random_normal')) # 5th Hidden Layer\n",
    "model.add(Dense(80, input_dim=x.shape[1], activation='relu', kernel_initializer='random_normal'))\n",
    "#model.add(LeakyReLU(alpha=0.1)) # Leaky Relu for 5th hidden layer\n",
    "model.add(BatchNormalization())\n",
    "\n",
    "#model.add(Dense(100, kernel_initializer='random_normal')) # 6th Hidden layer\n",
    "model.add(Dense(100, input_dim=x.shape[1], activation='relu', kernel_initializer='random_normal'))\n",
    "#model.add(LeakyReLU(alpha=0.1)) # Leaky Relu for 6th hidden layer\n",
    "model.add(BatchNormalization())\n",
    "\n",
    "#model.add(Dense(80, kernel_initializer='random_normal')) # 7th Hidden Layer \n",
    "model.add(Dense(80, input_dim=x.shape[1], activation='relu', kernel_initializer='random_normal'))\n",
    "#model.add(LeakyReLU(alpha=0.1)) # Leaky Relu for 4th hidden layer\n",
    "model.add(BatchNormalization())\n",
    "\n",
    "\n",
    "#model.add(Dense(60, kernel_initializer='random_normal')) # 7th Hidden Layer \n",
    "model.add(Dense(60, input_dim=x.shape[1], activation='relu', kernel_initializer='random_normal'))\n",
    "#model.add(LeakyReLU(alpha=0.1)) # Leaky Relu for 4th hidden layer\n",
    "model.add(BatchNormalization())\n",
    "\n",
    "model.add(Dense(40, input_dim=x.shape[1], activation='relu', kernel_initializer='random_normal'))\n",
    "#model.add(Dense(40, kernel_initializer='random_normal')) # 7th Hidden Layer \n",
    "#model.add(LeakyReLU(alpha=0.1)) # Leaky Relu for 4th hidden layer\n",
    "model.add(BatchNormalization())\n",
    "model.add(Dense(y.shape[1], activation='sigmoid', kernel_initializer='random_normal')) # Output Layer "
   ]
  },
  {
   "cell_type": "code",
   "execution_count": 18,
   "metadata": {},
   "outputs": [
    {
     "data": {
      "text/plain": [
       "75"
      ]
     },
     "execution_count": 18,
     "metadata": {},
     "output_type": "execute_result"
    }
   ],
   "source": [
    "x.shape[1]"
   ]
  },
  {
   "cell_type": "code",
   "execution_count": 19,
   "metadata": {
    "id": "xhwu9nzjaVYA"
   },
   "outputs": [
    {
     "data": {
      "text/plain": [
       "\"\\nfrom tensorflow.keras.callbacks import EarlyStopping\\nbce = tf.keras.losses.BinaryCrossentropy(reduction=tf.keras.losses.Reduction.NONE)\\n\\nmodel.compile(loss=bce, optimizer=keras.optimizers.Adam(), metrics=['accuracy'])\\n\\n#model.compile(optimizer='ADAM', loss= 'mean_squared_error' , metrics = ['accuracy']) \\n\\nmonitor = EarlyStopping(monitor='val_loss', min_delta=0.00001, patience=10, \\n                        verbose=1, mode='max', restore_best_weights=True)\\n\""
      ]
     },
     "execution_count": 19,
     "metadata": {},
     "output_type": "execute_result"
    }
   ],
   "source": [
    "# Compiling Neural network\n",
    "'''\n",
    "from tensorflow.keras.callbacks import EarlyStopping\n",
    "bce = tf.keras.losses.BinaryCrossentropy(reduction=tf.keras.losses.Reduction.NONE)\n",
    "\n",
    "model.compile(loss=bce, optimizer=keras.optimizers.Adam(), metrics=['accuracy'])\n",
    "\n",
    "#model.compile(optimizer='ADAM', loss= 'mean_squared_error' , metrics = ['accuracy']) \n",
    "\n",
    "monitor = EarlyStopping(monitor='val_loss', min_delta=0.00001, patience=10, \n",
    "                        verbose=1, mode='max', restore_best_weights=True)\n",
    "'''"
   ]
  },
  {
   "cell_type": "code",
   "execution_count": 20,
   "metadata": {},
   "outputs": [],
   "source": [
    "from tensorflow.keras.callbacks import LearningRateScheduler\n",
    "lrs = LearningRateScheduler(lambda x: 0.001)"
   ]
  },
  {
   "cell_type": "code",
   "execution_count": 21,
   "metadata": {},
   "outputs": [],
   "source": [
    "from tensorflow.keras.callbacks import EarlyStopping\n",
    "model.compile(optimizer='adam', loss=tf.keras.losses.BinaryCrossentropy(), metrics = ['mean_absolute_error']) \n",
    "#model.compile(optimizer='ADAM', loss='mean_squared_error', metrics = ['mean_absolute_error']) \n",
    "monitor = EarlyStopping(monitor='val_loss', min_delta=0.0001, patience=10, \n",
    "                        verbose=1, mode='auto', restore_best_weights=True)"
   ]
  },
  {
   "cell_type": "code",
   "execution_count": null,
   "metadata": {
    "colab": {
     "base_uri": "https://localhost:8080/",
     "height": 1000
    },
    "id": "sUm7vYpNaZhk",
    "outputId": "bb1cd85f-4a22-4777-8674-4e053a532b6e"
   },
   "outputs": [
    {
     "name": "stdout",
     "output_type": "stream",
     "text": [
      "Train on 174257 samples, validate on 19362 samples\n",
      "Epoch 1/1000\n",
      "WARNING:tensorflow:Entity <function Function._initialize_uninitialized_variables.<locals>.initialize_variables at 0x000002990B72FC18> could not be transformed and will be executed as-is. Please report this to the AutoGraph team. When filing the bug, set the verbosity to 10 (on Linux, `export AUTOGRAPH_VERBOSITY=10`) and attach the full output. Cause: module 'gast' has no attribute 'Index'\n",
      "WARNING: Entity <function Function._initialize_uninitialized_variables.<locals>.initialize_variables at 0x000002990B72FC18> could not be transformed and will be executed as-is. Please report this to the AutoGraph team. When filing the bug, set the verbosity to 10 (on Linux, `export AUTOGRAPH_VERBOSITY=10`) and attach the full output. Cause: module 'gast' has no attribute 'Index'\n",
      "174257/174257 - 5s - loss: 0.4522 - mean_absolute_error: 0.3183 - val_loss: 0.3651 - val_mean_absolute_error: 0.2351\n",
      "Epoch 2/1000\n",
      "174257/174257 - 3s - loss: 0.3053 - mean_absolute_error: 0.1905 - val_loss: 0.3036 - val_mean_absolute_error: 0.1849\n",
      "Epoch 3/1000\n",
      "174257/174257 - 3s - loss: 0.2891 - mean_absolute_error: 0.1796 - val_loss: 0.2901 - val_mean_absolute_error: 0.1769\n",
      "Epoch 4/1000\n",
      "174257/174257 - 2s - loss: 0.2827 - mean_absolute_error: 0.1757 - val_loss: 0.2821 - val_mean_absolute_error: 0.1742\n",
      "Epoch 5/1000\n",
      "174257/174257 - 3s - loss: 0.2788 - mean_absolute_error: 0.1736 - val_loss: 0.2783 - val_mean_absolute_error: 0.1729\n",
      "Epoch 6/1000\n",
      "174257/174257 - 3s - loss: 0.2763 - mean_absolute_error: 0.1723 - val_loss: 0.2756 - val_mean_absolute_error: 0.1721\n",
      "Epoch 7/1000\n",
      "174257/174257 - 3s - loss: 0.2740 - mean_absolute_error: 0.1712 - val_loss: 0.2736 - val_mean_absolute_error: 0.1701\n",
      "Epoch 8/1000\n",
      "174257/174257 - 3s - loss: 0.2723 - mean_absolute_error: 0.1703 - val_loss: 0.2723 - val_mean_absolute_error: 0.1714\n",
      "Epoch 9/1000\n",
      "174257/174257 - 3s - loss: 0.2711 - mean_absolute_error: 0.1697 - val_loss: 0.2708 - val_mean_absolute_error: 0.1703\n",
      "Epoch 10/1000\n",
      "174257/174257 - 3s - loss: 0.2701 - mean_absolute_error: 0.1691 - val_loss: 0.2691 - val_mean_absolute_error: 0.1682\n",
      "Epoch 11/1000\n",
      "174257/174257 - 2s - loss: 0.2693 - mean_absolute_error: 0.1687 - val_loss: 0.2701 - val_mean_absolute_error: 0.1718\n",
      "Epoch 12/1000\n",
      "174257/174257 - 2s - loss: 0.2683 - mean_absolute_error: 0.1684 - val_loss: 0.2684 - val_mean_absolute_error: 0.1720\n",
      "Epoch 13/1000\n",
      "174257/174257 - 3s - loss: 0.2667 - mean_absolute_error: 0.1678 - val_loss: 0.2660 - val_mean_absolute_error: 0.1679\n",
      "Epoch 14/1000\n",
      "174257/174257 - 3s - loss: 0.2655 - mean_absolute_error: 0.1674 - val_loss: 0.2654 - val_mean_absolute_error: 0.1684\n",
      "Epoch 15/1000\n",
      "174257/174257 - 3s - loss: 0.2648 - mean_absolute_error: 0.1671 - val_loss: 0.2630 - val_mean_absolute_error: 0.1668\n",
      "Epoch 16/1000\n",
      "174257/174257 - 3s - loss: 0.2642 - mean_absolute_error: 0.1668 - val_loss: 0.2628 - val_mean_absolute_error: 0.1665\n",
      "Epoch 17/1000\n",
      "174257/174257 - 3s - loss: 0.2637 - mean_absolute_error: 0.1666 - val_loss: 0.2628 - val_mean_absolute_error: 0.1659\n",
      "Epoch 18/1000\n",
      "174257/174257 - 3s - loss: 0.2634 - mean_absolute_error: 0.1665 - val_loss: 0.2627 - val_mean_absolute_error: 0.1664\n",
      "Epoch 19/1000\n",
      "174257/174257 - 3s - loss: 0.2631 - mean_absolute_error: 0.1663 - val_loss: 0.2618 - val_mean_absolute_error: 0.1650\n",
      "Epoch 20/1000\n",
      "174257/174257 - 3s - loss: 0.2629 - mean_absolute_error: 0.1663 - val_loss: 0.2626 - val_mean_absolute_error: 0.1643\n",
      "Epoch 21/1000\n",
      "174257/174257 - 3s - loss: 0.2626 - mean_absolute_error: 0.1661 - val_loss: 0.2610 - val_mean_absolute_error: 0.1666\n",
      "Epoch 22/1000\n",
      "174257/174257 - 3s - loss: 0.2624 - mean_absolute_error: 0.1660 - val_loss: 0.2611 - val_mean_absolute_error: 0.1656\n",
      "Epoch 23/1000\n",
      "174257/174257 - 2s - loss: 0.2622 - mean_absolute_error: 0.1659 - val_loss: 0.2616 - val_mean_absolute_error: 0.1638\n",
      "Epoch 24/1000\n",
      "174257/174257 - 3s - loss: 0.2621 - mean_absolute_error: 0.1659 - val_loss: 0.2613 - val_mean_absolute_error: 0.1636\n",
      "Epoch 25/1000\n",
      "174257/174257 - 2s - loss: 0.2620 - mean_absolute_error: 0.1658 - val_loss: 0.2604 - val_mean_absolute_error: 0.1660\n",
      "Epoch 26/1000\n",
      "174257/174257 - 2s - loss: 0.2618 - mean_absolute_error: 0.1657 - val_loss: 0.2607 - val_mean_absolute_error: 0.1654\n",
      "Epoch 27/1000\n",
      "174257/174257 - 3s - loss: 0.2616 - mean_absolute_error: 0.1657 - val_loss: 0.2602 - val_mean_absolute_error: 0.1658\n",
      "Epoch 28/1000\n",
      "174257/174257 - 3s - loss: 0.2614 - mean_absolute_error: 0.1655 - val_loss: 0.2605 - val_mean_absolute_error: 0.1650\n",
      "Epoch 29/1000\n",
      "174257/174257 - 3s - loss: 0.2614 - mean_absolute_error: 0.1655 - val_loss: 0.2606 - val_mean_absolute_error: 0.1661\n",
      "Epoch 30/1000\n",
      "174257/174257 - 3s - loss: 0.2613 - mean_absolute_error: 0.1655 - val_loss: 0.2602 - val_mean_absolute_error: 0.1646\n",
      "Epoch 31/1000\n",
      "174257/174257 - 3s - loss: 0.2613 - mean_absolute_error: 0.1655 - val_loss: 0.2605 - val_mean_absolute_error: 0.1636\n",
      "Epoch 32/1000\n",
      "174257/174257 - 3s - loss: 0.2611 - mean_absolute_error: 0.1653 - val_loss: 0.2598 - val_mean_absolute_error: 0.1655\n",
      "Epoch 33/1000\n",
      "174257/174257 - 3s - loss: 0.2609 - mean_absolute_error: 0.1653 - val_loss: 0.2600 - val_mean_absolute_error: 0.1651\n",
      "Epoch 34/1000\n",
      "174257/174257 - 2s - loss: 0.2610 - mean_absolute_error: 0.1653 - val_loss: 0.2601 - val_mean_absolute_error: 0.1628\n",
      "Epoch 35/1000\n",
      "174257/174257 - 3s - loss: 0.2609 - mean_absolute_error: 0.1653 - val_loss: 0.2598 - val_mean_absolute_error: 0.1652\n",
      "Epoch 36/1000\n",
      "174257/174257 - 2s - loss: 0.2607 - mean_absolute_error: 0.1652 - val_loss: 0.2599 - val_mean_absolute_error: 0.1662\n",
      "Epoch 37/1000\n",
      "174257/174257 - 2s - loss: 0.2607 - mean_absolute_error: 0.1652 - val_loss: 0.2603 - val_mean_absolute_error: 0.1645\n",
      "Epoch 38/1000\n",
      "174257/174257 - 2s - loss: 0.2606 - mean_absolute_error: 0.1651 - val_loss: 0.2597 - val_mean_absolute_error: 0.1666\n",
      "Epoch 39/1000\n",
      "174257/174257 - 2s - loss: 0.2606 - mean_absolute_error: 0.1651 - val_loss: 0.2595 - val_mean_absolute_error: 0.1638\n",
      "Epoch 40/1000\n",
      "174257/174257 - 3s - loss: 0.2605 - mean_absolute_error: 0.1651 - val_loss: 0.2598 - val_mean_absolute_error: 0.1619\n",
      "Epoch 41/1000\n"
     ]
    }
   ],
   "source": [
    "# Fitting Neural network to training set\n",
    "\n",
    "model_history=model.fit(x_train, y_train, validation_data=(x_test, y_test), batch_size=512, verbose=2, callbacks=[monitor, lrs], epochs=1000)"
   ]
  },
  {
   "cell_type": "code",
   "execution_count": null,
   "metadata": {
    "colab": {
     "base_uri": "https://localhost:8080/",
     "height": 142
    },
    "id": "AT8SOvaeap0x",
    "outputId": "c1eec1b2-94c5-4a80-bc87-7ed372b14acf"
   },
   "outputs": [],
   "source": [
    "y_train"
   ]
  },
  {
   "cell_type": "code",
   "execution_count": null,
   "metadata": {},
   "outputs": [],
   "source": [
    "y_test = np.asarray(y_test)\n",
    "x_test = np.asarray(x_test)\n",
    "y_test\n"
   ]
  },
  {
   "cell_type": "code",
   "execution_count": null,
   "metadata": {},
   "outputs": [],
   "source": [
    "y_test.shape"
   ]
  },
  {
   "cell_type": "code",
   "execution_count": null,
   "metadata": {
    "colab": {
     "base_uri": "https://localhost:8080/",
     "height": 53
    },
    "id": "jnvop5zhare2",
    "outputId": "f9e033be-f657-4367-e93a-750eee9cc444"
   },
   "outputs": [],
   "source": [
    "# To evaluate model test loss\n",
    "test_loss = model.evaluate(x_test, y_test)"
   ]
  },
  {
   "cell_type": "code",
   "execution_count": null,
   "metadata": {},
   "outputs": [],
   "source": [
    "x_test.shape"
   ]
  },
  {
   "cell_type": "code",
   "execution_count": null,
   "metadata": {},
   "outputs": [],
   "source": [
    "y_test.shape"
   ]
  },
  {
   "cell_type": "code",
   "execution_count": null,
   "metadata": {
    "colab": {
     "base_uri": "https://localhost:8080/",
     "height": 280
    },
    "id": "K6jxwKI-au9s",
    "outputId": "4824a9db-6941-4ac8-87d8-5d749bc8497d"
   },
   "outputs": [],
   "source": [
    "# To plot training loss only\n",
    "\n",
    "loss = model_history.history['loss']\n",
    "epochs = range(1, len(loss)+1)\n",
    "plt.plot(epochs, loss, 'ro', label='Training loss')\n",
    "plt.xlabel('epoch')\n",
    "plt.legend()\n",
    "plt.show()"
   ]
  },
  {
   "cell_type": "code",
   "execution_count": null,
   "metadata": {
    "colab": {
     "base_uri": "https://localhost:8080/",
     "height": 313
    },
    "id": "gr4ZQqHQayfv",
    "outputId": "b292d2fe-9161-4bfc-9b6f-fe09e9543f33"
   },
   "outputs": [],
   "source": [
    "# list all data in history\n",
    "\n",
    "print(model_history.history.keys())\n",
    "hfont = {'fontname':'Arial'}\n",
    "# summarize history for accuracy\n",
    "acc = model_history.history['mean_absolute_error']\n",
    "val_acc = model_history.history['val_mean_absolute_error']\n",
    "\n",
    "plt.plot(acc,color='red',linewidth=3)\n",
    "plt.plot(val_acc,color='blue',linewidth=3)\n",
    "#plt.title('model accuracy')\n",
    "plt.ylabel('Mean Absolute Error', fontsize=16, **hfont)\n",
    "plt.xlabel('Number of epochs', fontsize=16, **hfont)\n",
    "\n",
    "#ylim(top=0.2)  # adjust the top leaving bottom unchanged\n",
    "#ylim(bottom=0.05)  # adjust the bottom leaving top unchanged\n",
    "plt.legend(['Training (ReLU), T=20', 'Testing (ReLU), T=20'], loc='upper right', prop={\"size\":14})\n",
    "plt.ylim(top=0.185)  # adjust the top leaving bottom unchanged\n",
    "plt.grid()\n",
    "plt.savefig('accuracy_3_layer.pdf')\n",
    "plt.show()"
   ]
  },
  {
   "cell_type": "code",
   "execution_count": null,
   "metadata": {
    "colab": {
     "base_uri": "https://localhost:8080/",
     "height": 295
    },
    "id": "pgrdmzrca2id",
    "outputId": "7698718b-fba5-415a-c5a5-abfbfe868c6c"
   },
   "outputs": [],
   "source": [
    "# summarize history for loss\n",
    "\n",
    "loss = model_history.history['loss']\n",
    "val_loss = model_history.history['val_loss']\n",
    "plt.plot(loss)\n",
    "plt.plot(val_loss)\n",
    "plt.title('Model loss')\n",
    "plt.ylabel('loss')\n",
    "plt.xlabel('epoch')\n",
    "plt.legend(['train', 'test'], loc='upper right')\n",
    "plt.savefig('loss_3_layer.pdf')\n",
    "plt.grid()\n",
    "plt.show()"
   ]
  },
  {
   "cell_type": "code",
   "execution_count": null,
   "metadata": {
    "colab": {
     "base_uri": "https://localhost:8080/",
     "height": 249
    },
    "id": "V_KxSfNKa666",
    "outputId": "c668ae3d-01ef-4869-e191-af2122733da1"
   },
   "outputs": [],
   "source": [
    "# Making the predictions for testing\n",
    "\n",
    "# Predicting the Test set results\n",
    "y_pred = model.predict(x_test) \n",
    "y_pred"
   ]
  },
  {
   "cell_type": "code",
   "execution_count": null,
   "metadata": {
    "colab": {
     "base_uri": "https://localhost:8080/",
     "height": 142
    },
    "id": "nTiknlOLaTPp",
    "outputId": "70722f3f-835d-4abe-ca27-4cd0d3b285f1"
   },
   "outputs": [],
   "source": [
    "y_test.shape\n"
   ]
  },
  {
   "cell_type": "code",
   "execution_count": null,
   "metadata": {
    "id": "5x9nZKCHa9ZI"
   },
   "outputs": [],
   "source": [
    "y_pred.shape"
   ]
  },
  {
   "cell_type": "code",
   "execution_count": null,
   "metadata": {
    "id": "ACY5x1V7a_vo"
   },
   "outputs": [],
   "source": [
    "# Evaluating the model # Test error\n",
    "\n",
    "# Measure MSE error  \n",
    "mse_test = metrics.mean_squared_error(y_test, y_pred)\n",
    "print(\"Test Mean Squared error (MSE): {}\".format(mse_test))\n",
    "\n",
    "# Measure RMSE error \n",
    "rmse_test = np.sqrt(metrics.mean_squared_error(y_test, y_pred))\n",
    "print(\"Test Root mean squared error (RMSE): {}\".format(rmse_test))\n",
    "\n",
    "# Measure MAE error\n",
    "mae_test = metrics.mean_absolute_error(y_test, y_pred)\n",
    "print(\"Test Mean absolute error (MAE): {}\".format(mae_test))"
   ]
  },
  {
   "cell_type": "code",
   "execution_count": null,
   "metadata": {
    "id": "EpTj4zULbQMd"
   },
   "outputs": [],
   "source": [
    "# Making the predictions for training\n",
    "\n",
    "# Predicting the Training set results\n",
    "y_pred_train = model.predict(x_train) \n",
    "y_pred_train"
   ]
  },
  {
   "cell_type": "code",
   "execution_count": null,
   "metadata": {
    "id": "Of9BhiCTbU01"
   },
   "outputs": [],
   "source": [
    "y_pred_train.shape "
   ]
  },
  {
   "cell_type": "code",
   "execution_count": null,
   "metadata": {
    "id": "FWK7_bNJbXME"
   },
   "outputs": [],
   "source": [
    "# Evaluating the model # Training error\n",
    "\n",
    "# Measure MSE error  \n",
    "mse_train = metrics.mean_squared_error(y_train, y_pred_train)\n",
    "print(\"Training Mean Squared error (MSE): {}\".format(mse_train))\n",
    "\n",
    "# Measure RMSE error \n",
    "rmse_train = np.sqrt(metrics.mean_squared_error(y_train, y_pred_train))\n",
    "print(\"Training Root mean squared error (RMSE): {}\".format(rmse_train))\n",
    "\n",
    "# Measure MAE error\n",
    "mae_train = metrics.mean_absolute_error(y_train, y_pred_train)\n",
    "print(\"Training Mean absolute error (MAE): {}\".format(mae_train))"
   ]
  },
  {
   "cell_type": "code",
   "execution_count": null,
   "metadata": {
    "id": "1Yw2ek-lRAmD"
   },
   "outputs": [],
   "source": [
    "y_pred_flat = y_pred.flatten()\n",
    "y_pred_flat"
   ]
  },
  {
   "cell_type": "code",
   "execution_count": null,
   "metadata": {
    "id": "zrHf4K-yRWEW"
   },
   "outputs": [],
   "source": [
    "y_test_flat = y_test.flatten()\n",
    "y_test_flat"
   ]
  },
  {
   "cell_type": "code",
   "execution_count": null,
   "metadata": {
    "id": "3sCT93VyRYOz"
   },
   "outputs": [],
   "source": [
    "# Regression score for test\n",
    "\n",
    "r2_score_test = metrics.r2_score(y_test_flat, y_pred_flat)\n",
    "print(\"R2 Score Test: {}\".format(r2_score_test))"
   ]
  },
  {
   "cell_type": "code",
   "execution_count": null,
   "metadata": {
    "id": "5oZLTaS6Rdpb"
   },
   "outputs": [],
   "source": [
    "y_pred_train_flat = y_pred_train.flatten()\n",
    "y_pred_train_flat"
   ]
  },
  {
   "cell_type": "code",
   "execution_count": null,
   "metadata": {
    "id": "imceUpMlRfrV"
   },
   "outputs": [],
   "source": [
    "y_train_flat = y_train.flatten()\n",
    "y_train_flat"
   ]
  },
  {
   "cell_type": "code",
   "execution_count": null,
   "metadata": {
    "id": "IywAjABTRjex"
   },
   "outputs": [],
   "source": [
    "# Regression score for training\n",
    "\n",
    "r2_score_train = metrics.r2_score(y_train_flat, y_pred_train_flat)\n",
    "print(\"R2 Score Train: {}\".format(r2_score_train))"
   ]
  },
  {
   "cell_type": "code",
   "execution_count": null,
   "metadata": {
    "id": "hr_f0cdyWpil"
   },
   "outputs": [],
   "source": [
    "######################### Constraint verification for test data ##########################"
   ]
  },
  {
   "cell_type": "code",
   "execution_count": null,
   "metadata": {
    "colab": {
     "base_uri": "https://localhost:8080/",
     "height": 249
    },
    "id": "aS9k-9lwW0hY",
    "outputId": "32c16051-3a86-49a8-d7cb-77e547ad3e64"
   },
   "outputs": [],
   "source": [
    "y_pred = model.predict(x_test)\n",
    "y_pred"
   ]
  },
  {
   "cell_type": "code",
   "execution_count": null,
   "metadata": {
    "colab": {
     "base_uri": "https://localhost:8080/",
     "height": 249
    },
    "id": "qdcimHOXZsH2",
    "outputId": "1585d70d-b16d-4e2a-d7d5-6f381a4521fd"
   },
   "outputs": [],
   "source": [
    "x_test"
   ]
  },
  {
   "cell_type": "code",
   "execution_count": null,
   "metadata": {
    "colab": {
     "base_uri": "https://localhost:8080/",
     "height": 35
    },
    "id": "ruqLSKwaZ06X",
    "outputId": "42dd9de3-1395-4349-8ec3-f163ef502a0e"
   },
   "outputs": [],
   "source": [
    "x_test.shape"
   ]
  },
  {
   "cell_type": "code",
   "execution_count": null,
   "metadata": {
    "colab": {
     "base_uri": "https://localhost:8080/",
     "height": 35
    },
    "id": "fOj5D4GRW7Ac",
    "outputId": "e4223fa4-dd8e-400f-eefc-bbd0178e4d99"
   },
   "outputs": [],
   "source": [
    "y_test.shape"
   ]
  },
  {
   "cell_type": "code",
   "execution_count": null,
   "metadata": {},
   "outputs": [],
   "source": [
    "y_pred"
   ]
  },
  {
   "cell_type": "code",
   "execution_count": null,
   "metadata": {
    "colab": {
     "base_uri": "https://localhost:8080/",
     "height": 142
    },
    "id": "Yn9ruPcpOQq0",
    "outputId": "c187ee9b-7905-455c-cee3-fa098f0966e1"
   },
   "outputs": [],
   "source": [
    "#round-off the y_pred\n",
    "\n",
    "import numpy as np\n",
    "a_list = np.array(y_pred)\n",
    "y_pred_binary = np.round(a_list)\n",
    "print(y_pred_binary)\n",
    "\n"
   ]
  },
  {
   "cell_type": "code",
   "execution_count": null,
   "metadata": {
    "colab": {
     "base_uri": "https://localhost:8080/",
     "height": 35
    },
    "id": "zus7h7n3PMDh",
    "outputId": "ce6a354b-6dfa-40b8-c6c3-adead6f2d051"
   },
   "outputs": [],
   "source": [
    "y_pred_binary.shape"
   ]
  },
  {
   "cell_type": "code",
   "execution_count": null,
   "metadata": {
    "colab": {
     "base_uri": "https://localhost:8080/",
     "height": 142
    },
    "id": "RKVmQiPemWnf",
    "outputId": "8fa5f012-e7b4-4262-e8c9-06ad35d44c13"
   },
   "outputs": [],
   "source": [
    "y_pred_binary"
   ]
  },
  {
   "cell_type": "code",
   "execution_count": null,
   "metadata": {},
   "outputs": [],
   "source": [
    "y_test"
   ]
  },
  {
   "cell_type": "code",
   "execution_count": null,
   "metadata": {
    "colab": {
     "base_uri": "https://localhost:8080/",
     "height": 35
    },
    "id": "0Y2CI1jdPzWz",
    "outputId": "7de20c4e-215b-40c2-b415-72ad1edead13"
   },
   "outputs": [],
   "source": [
    "len(y_pred_binary)"
   ]
  },
  {
   "cell_type": "code",
   "execution_count": null,
   "metadata": {
    "colab": {
     "base_uri": "https://localhost:8080/",
     "height": 35
    },
    "id": "W0EhQiatZWyj",
    "outputId": "67776725-788b-47d7-a3bd-288348bd211c"
   },
   "outputs": [],
   "source": [
    "inputs.shape"
   ]
  },
  {
   "cell_type": "code",
   "execution_count": null,
   "metadata": {},
   "outputs": [],
   "source": [
    "x_test"
   ]
  },
  {
   "cell_type": "code",
   "execution_count": null,
   "metadata": {},
   "outputs": [],
   "source": [
    "x_p = pd.DataFrame(x_test)\n",
    "#pi = x_p.iloc[:, 27:50]\n",
    "#pi\n",
    "x_p.head"
   ]
  },
  {
   "cell_type": "code",
   "execution_count": null,
   "metadata": {},
   "outputs": [],
   "source": [
    "#In the next cells, we are going to compute the suboptimality of the DNN solution vs others "
   ]
  },
  {
   "cell_type": "code",
   "execution_count": null,
   "metadata": {},
   "outputs": [],
   "source": [
    "x_pi = pd.DataFrame(x_test)\n",
    "x_pi = x_pi.iloc[:, 19:31]\n",
    "x_pi #Saving the energy prize"
   ]
  },
  {
   "cell_type": "code",
   "execution_count": null,
   "metadata": {},
   "outputs": [],
   "source": [
    "#saving the test and predicted switching\n",
    "y_test= pd.DataFrame(y_test)\n",
    "y_train= pd.DataFrame(y_train)\n",
    "y_pred= pd.DataFrame(y_pred)\n",
    "y_pred\n"
   ]
  },
  {
   "cell_type": "code",
   "execution_count": null,
   "metadata": {
    "id": "ZQpsT-B6aMra"
   },
   "outputs": [],
   "source": [
    "'''\n",
    "x_p = pd.DataFrame(inputs.values)            #Energy price of inputs\n",
    "x_p = x_p.iloc[65544:81881, 18:50]            # Saving the Energy price\n",
    "x_p.index = range(len(x_p))\n",
    "x_p.columns = range(x_p.shape[1])\n",
    "\n",
    "\n",
    "y_test= pd.DataFrame(y_test)\n",
    "y_test = y_test.iloc[0:16377, 0:14]\n",
    "y_test.index = range(len(y_test))\n",
    "y_test.columns = range(y_test.shape[1])\n",
    "\n",
    "y_pred= pd.DataFrame(y_pred_binary)\n",
    "y_pred = y_pred.iloc[0:16377, 0:14]\n",
    "y_pred.index = range(len(y_pred))\n",
    "y_pred.columns = range(y_pred.shape[1])\n",
    "'''\n",
    "#testing = pd.concat([x_pi, y_test, y_pred], axis=1)\n",
    "#testing.to_excel('testing.xlsx', index = False)"
   ]
  },
  {
   "cell_type": "code",
   "execution_count": null,
   "metadata": {
    "id": "cmavpKE-GMCX"
   },
   "outputs": [],
   "source": [
    "concat_x_pi =  pd.concat([x_pi, x_pi, x_pi, x_pi], ignore_index=True, axis=1)\n",
    "concat_x_pi= pd.DataFrame(concat_x_pi)\n",
    "#concat_x_pi.index = new_index\n",
    "concat_x_pi = concat_x_pi.T\n"
   ]
  },
  {
   "cell_type": "code",
   "execution_count": null,
   "metadata": {},
   "outputs": [],
   "source": [
    "concat_x_pi = abs(concat_x_pi)\n",
    "concat_x_pi.shape"
   ]
  },
  {
   "cell_type": "code",
   "execution_count": null,
   "metadata": {
    "colab": {
     "base_uri": "https://localhost:8080/",
     "height": 35
    },
    "id": "kyDfSEAnHTYC",
    "outputId": "a6daab74-55ac-445e-8835-2a1869120f5f"
   },
   "outputs": [],
   "source": [
    "y_pred.shape\n"
   ]
  },
  {
   "cell_type": "code",
   "execution_count": null,
   "metadata": {
    "colab": {
     "base_uri": "https://localhost:8080/",
     "height": 427
    },
    "id": "8M0aZBT7HFzP",
    "outputId": "2ae09b1c-2193-41da-e402-43a5475e2eeb"
   },
   "outputs": [],
   "source": [
    "result_predict = y_pred.dot(concat_x_pi);\n",
    "result_predict.shape"
   ]
  },
  {
   "cell_type": "code",
   "execution_count": null,
   "metadata": {},
   "outputs": [],
   "source": [
    "result_test = y_test.dot(concat_x_pi);\n",
    "result_test.shape"
   ]
  },
  {
   "cell_type": "code",
   "execution_count": null,
   "metadata": {
    "id": "2_iywgm_0Ivw"
   },
   "outputs": [],
   "source": [
    "sub = abs(result_test - result_predict)\n"
   ]
  },
  {
   "cell_type": "code",
   "execution_count": null,
   "metadata": {
    "id": "LzRbMb3jGQ70"
   },
   "outputs": [],
   "source": [
    "sub = abs(result_test - result_predict)/(result_test)\n",
    "sub"
   ]
  },
  {
   "cell_type": "code",
   "execution_count": null,
   "metadata": {},
   "outputs": [],
   "source": [
    "suboptimality = np.diag(sub)\n",
    "#plt.plot(suboptimality[48:72])\n",
    "plt.xlabel('number of components')\n",
    "plt.ylabel('element wise suboptimality')\n",
    "plt.title('F*-F^/')\n",
    "plt.axhline(y=0.15, color='r', linestyle='-')"
   ]
  },
  {
   "cell_type": "code",
   "execution_count": null,
   "metadata": {},
   "outputs": [],
   "source": [
    "suboptimality.shape"
   ]
  },
  {
   "cell_type": "code",
   "execution_count": null,
   "metadata": {},
   "outputs": [],
   "source": [
    "#Calculating the suboptimality for T=20, two tank model, batch normalization, activation = sigmoid, ReLU\n",
    "#loss= binary cross entropy, pumps =4 \n",
    "T = np.mean(suboptimality)\n",
    "T"
   ]
  }
 ],
 "metadata": {
  "colab": {
   "collapsed_sections": [],
   "name": "FinalCodeDL.ipynb",
   "provenance": [],
   "toc_visible": true
  },
  "kernelspec": {
   "display_name": "Python 3",
   "language": "python",
   "name": "python3"
  },
  "language_info": {
   "codemirror_mode": {
    "name": "ipython",
    "version": 3
   },
   "file_extension": ".py",
   "mimetype": "text/x-python",
   "name": "python",
   "nbconvert_exporter": "python",
   "pygments_lexer": "ipython3",
   "version": "3.7.6"
  }
 },
 "nbformat": 4,
 "nbformat_minor": 4
}
