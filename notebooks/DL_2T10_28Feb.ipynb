{
 "cells": [
  {
   "cell_type": "code",
   "execution_count": 1,
   "metadata": {
    "id": "qLTVIvmEV0bJ"
   },
   "outputs": [
    {
     "name": "stderr",
     "output_type": "stream",
     "text": [
      "Using TensorFlow backend.\n"
     ]
    }
   ],
   "source": [
    "#We are testing a DL model for Mixed integer formulation for Water distribution network.\n",
    "# The input data such as water demand and time-ahead dynamic energy prices are obtained from Singh et al (2019) paper.\n",
    "# We computed the time ahead pump switching using MATALB Gurobi solver\n",
    "# We obtained the time ahead pump switching for 2048 hours (85.33 days)\n",
    "# We train_test the neural network in the ratio of 80-20.\n",
    "# The nn is trained using ReLu and SoftMax (as the output is integer values)\n",
    "\n",
    "#In our  case y is (z)\n",
    "\n",
    "import numpy as np\n",
    "import pandas as pd   #data analysis and manipulation library\n",
    "import seaborn as sns #Python statistical data visualization library.\n",
    "import matplotlib.pyplot as plt\n",
    "from sklearn import model_selection #Tuning the hyperparameters, cross validation, model persistance are the important aspects of this.\n",
    "from sklearn.model_selection import train_test_split #ML library to data analysis\n",
    "from sklearn.metrics import accuracy_score, r2_score\n",
    "import sklearn.metrics as metrics\n",
    "from openpyxl import Workbook, load_workbook\n",
    "from openpyxl.utils.dataframe import dataframe_to_rows\n",
    "\n",
    "\n",
    "from sklearn.decomposition import PCA #dimensionality reduction\n",
    "\n",
    "%matplotlib inline\n",
    "\n",
    "#Libraries for Deep learning framework from Keras\n",
    "\n",
    "import tensorflow as tf\n",
    "from tensorflow.keras.models import Sequential\n",
    "from tensorflow.keras.layers import Dense, Activation\n",
    "from tensorflow.keras.layers import BatchNormalization\n",
    "\n",
    "import keras\n",
    "import keras.utils\n",
    "from keras import utils as np_utils\n",
    "from keras.models import Sequential\n",
    "\n",
    "from tensorflow.keras import layers\n",
    "from tensorflow.keras import utils as np_utils\n",
    "from tensorflow.keras import models \n",
    "from tensorflow.keras.models import Sequential\n",
    "from tensorflow.keras.layers import Activation, LeakyReLU, PReLU, ELU #Import activation functions from keras.layers\n",
    "from tensorflow.keras.layers import Dropout #Import dropout library, the objective of dropout is to prevent overfitting of data, However, we have to be careful while setting the dropout rate.\n",
    "from tensorflow.keras.optimizers import SGD, RMSprop\n",
    "from tensorflow.keras.callbacks import LearningRateScheduler #Learning rate scheduler, Here call back is an object that can perform\n",
    "                                                # at various actions at different stages of training \n",
    "from tensorflow.keras.callbacks import History #We can use the data collected from history to  [accuracy, loss, val_accuracy, val_loss]\n",
    "\n",
    "\n",
    "\n",
    "import io #Deal with various types of input output\n",
    "import os #Talk with os, like changing and modifying dirctories\n",
    "import requests #Allow you to send HTTP/1.1, headers, form data, multipart files r = requests.get(‘https://github.com/timeline.json’)\n",
    "\n",
    "\n",
    "import warnings\n",
    "warnings.simplefilter(action='ignore', category=FutureWarning)\n",
    "warnings.filterwarnings('ignore')\n",
    "warnings.filterwarnings('ignore', category=DeprecationWarning) #Deprecated warning: it is a base category of warning about deprecated features\n",
    "\n",
    "\n",
    "import dill\n",
    "# dill.dump_session('notebook_env.db')\n"
   ]
  },
  {
   "cell_type": "code",
   "execution_count": 2,
   "metadata": {
    "colab": {
     "base_uri": "https://localhost:8080/",
     "height": 35
    },
    "id": "3UAv55q5WBcM",
    "outputId": "3c021aa0-bd4d-494f-f943-eef9218e7517"
   },
   "outputs": [
    {
     "data": {
      "text/plain": [
       "'C:\\\\Users\\\\jyotib18\\\\OneDrive - Universitetet i Agder\\\\Data Files From Rahul'"
      ]
     },
     "execution_count": 2,
     "metadata": {},
     "output_type": "execute_result"
    }
   ],
   "source": [
    "pwd\n"
   ]
  },
  {
   "cell_type": "code",
   "execution_count": 3,
   "metadata": {
    "colab": {
     "base_uri": "https://localhost:8080/",
     "height": 35
    },
    "id": "IpVFTXeQXCXK",
    "outputId": "27426a81-8e08-46b7-8f2c-c8deaf83a9a4"
   },
   "outputs": [
    {
     "data": {
      "text/plain": [
       "(187030, 63)"
      ]
     },
     "execution_count": 3,
     "metadata": {},
     "output_type": "execute_result"
    }
   ],
   "source": [
    "import io\n",
    "#inputs = pd.read_csv(io.BytesIO(uploaded['1.csv']))\n",
    "\n",
    "inputs=pd.read_csv(r'C:\\Users\\jyotib18\\OPS_Data\\2T10Ts5\\feasible_input_log.csv')\n",
    "inputs=inputs.dropna()\n",
    "\n",
    "\n",
    "# Dataset is now stored in a Pandas Dataframe\n",
    "inputs.shape"
   ]
  },
  {
   "cell_type": "code",
   "execution_count": 4,
   "metadata": {
    "colab": {
     "base_uri": "https://localhost:8080/",
     "height": 35
    },
    "id": "JJOS8FKYX-NI",
    "outputId": "1b70258b-b9d3-487b-c10f-9a84707063e3"
   },
   "outputs": [
    {
     "data": {
      "text/plain": [
       "pandas.core.frame.DataFrame"
      ]
     },
     "execution_count": 4,
     "metadata": {},
     "output_type": "execute_result"
    }
   ],
   "source": [
    "type(inputs)"
   ]
  },
  {
   "cell_type": "code",
   "execution_count": 5,
   "metadata": {
    "colab": {
     "base_uri": "https://localhost:8080/",
     "height": 267
    },
    "id": "7kjRvcIjYBcE",
    "outputId": "fc4ba7fd-6de7-44fa-fddc-9bbd367a8a2d"
   },
   "outputs": [
    {
     "data": {
      "text/plain": [
       "<bound method NDFrame.head of         82.588  76.983  1  1.1  0  1.2  4  0.1  1.3  1.4  ...   14.311  \\\n",
       "0       47.980  70.289  1    1  0    0  3    1    1    1  ...   9.4275   \n",
       "1       48.068  68.472  0    0  0    1  1    0    1    0  ...   6.3192   \n",
       "2       58.047  67.258  1    0  0    0  0    0    0    0  ...   5.5174   \n",
       "3       80.493  80.657  1    1  0    0  5    1    1    1  ...   6.1528   \n",
       "4       66.843  65.017  0    1  0    0  3    1    1    0  ...  11.7370   \n",
       "...        ...     ... ..  ... ..  ... ..  ...  ...  ...  ...      ...   \n",
       "187025  81.582  43.692  1    1  0    0  4    1    1    1  ...  17.8660   \n",
       "187026  41.892  93.675  0    0  1    1  1    1    0    0  ...  14.3480   \n",
       "187027  52.809  54.443  1    1  0    0  1    0    0    0  ...  12.9560   \n",
       "187028  61.490  53.179  1    0  1    1  4    1    1    1  ...  11.6330   \n",
       "187029  99.098  98.227  0    1  0    0  3    0    1    0  ...   9.2793   \n",
       "\n",
       "          10.979  10.157    10.56    12.716    13.39    5.8478   16.819  \\\n",
       "0        5.84400  15.297  18.3230  16.66400  15.6600  18.72900  14.1230   \n",
       "1       10.92800  13.200  17.2080   5.45880   3.0288  13.71700   1.4884   \n",
       "2        3.62170  14.991  19.6770   3.74840  16.4070   1.71120  16.3430   \n",
       "3       14.90300  13.922  17.6350   6.55910   7.8821   9.04420  11.7280   \n",
       "4        9.52800   9.416  17.7910  16.28000   2.6115   5.89340   7.6703   \n",
       "...          ...     ...      ...       ...      ...       ...      ...   \n",
       "187025   0.55402  12.953  16.4460   0.22895  17.4630  10.58400   4.7600   \n",
       "187026  10.72400  14.367  19.2250  17.61900  19.8830   0.20452  11.0100   \n",
       "187027  10.96300  18.047   6.4060   4.36510   1.5472  17.76400  14.2620   \n",
       "187028  19.79100  15.451   1.2256  18.50500   5.8526   4.59570   6.4388   \n",
       "187029  18.46800  16.582  15.5120  10.44100  15.8100  13.68500   1.5657   \n",
       "\n",
       "         7.3665   11.923  \n",
       "0       13.5700  18.3950  \n",
       "1       14.4280   7.9445  \n",
       "2        8.3626   2.8701  \n",
       "3        6.5210   4.2418  \n",
       "4        5.0588   6.9382  \n",
       "...         ...      ...  \n",
       "187025   5.0012  18.6290  \n",
       "187026  16.2050   6.1766  \n",
       "187027   4.4822  13.6470  \n",
       "187028   7.3219   7.1430  \n",
       "187029   5.8528   5.9131  \n",
       "\n",
       "[187030 rows x 63 columns]>"
      ]
     },
     "execution_count": 5,
     "metadata": {},
     "output_type": "execute_result"
    }
   ],
   "source": [
    "inputs.head"
   ]
  },
  {
   "cell_type": "code",
   "execution_count": 6,
   "metadata": {
    "colab": {
     "base_uri": "https://localhost:8080/",
     "height": 35
    },
    "id": "3K06d0z3YLHZ",
    "outputId": "2f18508a-5444-4967-a6c7-42e5cfdeb656"
   },
   "outputs": [
    {
     "data": {
      "text/plain": [
       "(187030, 40)"
      ]
     },
     "execution_count": 6,
     "metadata": {},
     "output_type": "execute_result"
    }
   ],
   "source": [
    "import io\n",
    "outputs = pd.read_csv(r'C:\\Users\\jyotib18\\OPS_Data\\2T10Ts5\\feasible_output_log.csv')\n",
    "# Dataset is now stored in a Pandas Dataframe\n",
    "outputs=outputs.dropna()\n",
    "outputs.shape"
   ]
  },
  {
   "cell_type": "code",
   "execution_count": 7,
   "metadata": {
    "colab": {
     "base_uri": "https://localhost:8080/",
     "height": 267
    },
    "id": "c_Y34U9Eo9RK",
    "outputId": "a0beb83e-4aeb-4f67-e98b-175ffcb61b9b"
   },
   "outputs": [
    {
     "data": {
      "text/plain": [
       "<bound method NDFrame.head of         1   -0  -0.1  -0.2  -0.3  -0.4  1.1  -0.5  -0.6  0  ...  1.4  -0.22  \\\n",
       "0       1  0.0   0.0   0.0   0.0   1.0  0.0   1.0   1.0  0  ...    0      0   \n",
       "1       0  0.0   0.0   1.0  -0.0   0.0 -0.0   0.0   0.0  0  ...    1      0   \n",
       "2       1  0.0  -0.0   1.0  -0.0   0.0  0.0   0.0   0.0  0  ...    0      0   \n",
       "3       1 -0.0  -0.0   0.0  -0.0  -0.0 -0.0   1.0  -0.0  0  ...    0      0   \n",
       "4       0 -0.0  -0.0   0.0  -0.0  -0.0 -0.0   1.0  -0.0  0  ...    0      0   \n",
       "...    ..  ...   ...   ...   ...   ...  ...   ...   ... ..  ...  ...    ...   \n",
       "187025  1  0.0  -0.0   0.0   0.0  -0.0  1.0  -0.0   0.0  0  ...    0      0   \n",
       "187026  0  0.0  -0.0   0.0   0.0  -0.0 -0.0  -0.0   1.0  0  ...    1      1   \n",
       "187027  1  0.0   1.0   0.0   0.0   1.0 -0.0  -0.0   0.0  0  ...    0      0   \n",
       "187028  1  0.0   0.0   1.0   0.0   0.0  0.0   0.0   0.0  0  ...    1      0   \n",
       "187029  0  0.0  -0.0   0.0   0.0   1.0  0.0   0.0   0.0  0  ...    0      0   \n",
       "\n",
       "        -0.23  -0.24  -0.25  -0.26  -0.27  -0.28  -0.29  0.4  \n",
       "0         0.0    0.0    0.0    0.0    0.0    0.0    0.0    0  \n",
       "1         0.0   -0.0    0.0    0.0    0.0    0.0    0.0    0  \n",
       "2         0.0    1.0    0.0    0.0    0.0    0.0    1.0    0  \n",
       "3         0.0   -0.0    0.0   -0.0    0.0    0.0    0.0    0  \n",
       "4         0.0   -0.0    0.0   -0.0    0.0    0.0    0.0    0  \n",
       "...       ...    ...    ...    ...    ...    ...    ...  ...  \n",
       "187025   -0.0    1.0   -0.0    0.0    0.0    0.0    0.0    0  \n",
       "187026    1.0    0.0   -0.0    0.0    0.0    0.0    0.0    0  \n",
       "187027    1.0    0.0   -0.0    0.0    1.0    0.0    0.0    0  \n",
       "187028    0.0    0.0    0.0    0.0    0.0    0.0    1.0    0  \n",
       "187029   -0.0    0.0    0.0    0.0    0.0    0.0    0.0    0  \n",
       "\n",
       "[187030 rows x 40 columns]>"
      ]
     },
     "execution_count": 7,
     "metadata": {},
     "output_type": "execute_result"
    }
   ],
   "source": [
    "outputs.head"
   ]
  },
  {
   "cell_type": "code",
   "execution_count": 8,
   "metadata": {
    "colab": {
     "base_uri": "https://localhost:8080/",
     "height": 142
    },
    "id": "7Q5rdfEcYUpm",
    "outputId": "e1c8aace-b467-4903-93de-00041281f93e"
   },
   "outputs": [
    {
     "data": {
      "text/plain": [
       "array([[47.98  , 70.289 ,  1.    , ..., 14.123 , 13.57  , 18.395 ],\n",
       "       [48.068 , 68.472 ,  0.    , ...,  1.4884, 14.428 ,  7.9445],\n",
       "       [58.047 , 67.258 ,  1.    , ..., 16.343 ,  8.3626,  2.8701],\n",
       "       ...,\n",
       "       [52.809 , 54.443 ,  1.    , ..., 14.262 ,  4.4822, 13.647 ],\n",
       "       [61.49  , 53.179 ,  1.    , ...,  6.4388,  7.3219,  7.143 ],\n",
       "       [99.098 , 98.227 ,  0.    , ...,  1.5657,  5.8528,  5.9131]])"
      ]
     },
     "execution_count": 8,
     "metadata": {},
     "output_type": "execute_result"
    }
   ],
   "source": [
    "x = inputs.values #converting data frame to array frame\n",
    "x"
   ]
  },
  {
   "cell_type": "code",
   "execution_count": 9,
   "metadata": {
    "colab": {
     "base_uri": "https://localhost:8080/",
     "height": 35
    },
    "id": "u-1JFtEPZMI-",
    "outputId": "1a6530ce-97d3-43c1-e22d-afa1cc4cc523"
   },
   "outputs": [
    {
     "data": {
      "text/plain": [
       "pandas.core.frame.DataFrame"
      ]
     },
     "execution_count": 9,
     "metadata": {},
     "output_type": "execute_result"
    }
   ],
   "source": [
    "type(outputs)"
   ]
  },
  {
   "cell_type": "code",
   "execution_count": 10,
   "metadata": {
    "colab": {
     "base_uri": "https://localhost:8080/",
     "height": 142
    },
    "id": "ftCpb4JaZOCm",
    "outputId": "d1adf403-a25c-406b-af25-602b9fc6363a"
   },
   "outputs": [
    {
     "data": {
      "text/plain": [
       "array([[ 1.,  0.,  0., ...,  0.,  0.,  0.],\n",
       "       [ 0.,  0.,  0., ...,  0.,  0.,  0.],\n",
       "       [ 1.,  0., -0., ...,  0.,  1.,  0.],\n",
       "       ...,\n",
       "       [ 1.,  0.,  1., ...,  0.,  0.,  0.],\n",
       "       [ 1.,  0.,  0., ...,  0.,  1.,  0.],\n",
       "       [ 0.,  0., -0., ...,  0.,  0.,  0.]])"
      ]
     },
     "execution_count": 10,
     "metadata": {},
     "output_type": "execute_result"
    }
   ],
   "source": [
    "y = outputs.values # converting dataframe \"outputc\" in array form i.e. 'y' is now in array form \n",
    "y # y is combination of power assignments and channel assignments both."
   ]
  },
  {
   "cell_type": "code",
   "execution_count": 11,
   "metadata": {
    "colab": {
     "base_uri": "https://localhost:8080/",
     "height": 35
    },
    "id": "ChIBpH6HZQxg",
    "outputId": "18f59c85-a710-4dfa-997d-b35308e72991"
   },
   "outputs": [
    {
     "data": {
      "text/plain": [
       "(187030, 40)"
      ]
     },
     "execution_count": 11,
     "metadata": {},
     "output_type": "execute_result"
    }
   ],
   "source": [
    "y.shape"
   ]
  },
  {
   "cell_type": "code",
   "execution_count": 12,
   "metadata": {},
   "outputs": [
    {
     "data": {
      "text/plain": [
       "(187030, 63)"
      ]
     },
     "execution_count": 12,
     "metadata": {},
     "output_type": "execute_result"
    }
   ],
   "source": [
    "x.shape"
   ]
  },
  {
   "cell_type": "code",
   "execution_count": 13,
   "metadata": {
    "colab": {
     "base_uri": "https://localhost:8080/",
     "height": 35
    },
    "id": "abgDkl9qZTMj",
    "outputId": "2d246909-8eff-48b5-f5d5-2a3ac593b867"
   },
   "outputs": [
    {
     "data": {
      "text/plain": [
       "numpy.ndarray"
      ]
     },
     "execution_count": 13,
     "metadata": {},
     "output_type": "execute_result"
    }
   ],
   "source": [
    "type(y)"
   ]
  },
  {
   "cell_type": "code",
   "execution_count": 14,
   "metadata": {
    "colab": {
     "base_uri": "https://localhost:8080/",
     "height": 142
    },
    "id": "feOJ4F4eZVDY",
    "outputId": "50399f6d-8241-46ee-c374-b53b7e17226b"
   },
   "outputs": [],
   "source": [
    "#y[0]"
   ]
  },
  {
   "cell_type": "code",
   "execution_count": 15,
   "metadata": {
    "colab": {
     "base_uri": "https://localhost:8080/",
     "height": 71
    },
    "id": "kL_w5EAOZXE9",
    "outputId": "e61df404-dd57-44dd-ed66-5e1662d55204"
   },
   "outputs": [],
   "source": [
    "#y[0:50, 0] # First row and initial 50 columns of y "
   ]
  },
  {
   "cell_type": "code",
   "execution_count": 16,
   "metadata": {
    "id": "Jt2OQ-dMZZ1x"
   },
   "outputs": [],
   "source": [
    "# Splitting data for training and testing \n",
    "# Here both x and y are in array form (non-scaled)\n",
    "\n",
    "from sklearn.model_selection import train_test_split\n",
    "x_train, x_test, y_train, y_test = train_test_split(x, y, test_size=0.1, shuffle=False, random_state=42) # old\n",
    "#x_train, x_test, y_train, y_test = train_test_split(x, y, test_size=0.2, shuffle=True)"
   ]
  },
  {
   "cell_type": "code",
   "execution_count": 17,
   "metadata": {
    "id": "gBhAhKzuZehe"
   },
   "outputs": [],
   "source": [
    "# Feature Scaling\n",
    "from sklearn.preprocessing import StandardScaler\n",
    "sc = StandardScaler()\n",
    "x_train = sc.fit_transform(x_train)\n",
    "x_test = sc.transform(x_test)"
   ]
  },
  {
   "cell_type": "code",
   "execution_count": 18,
   "metadata": {},
   "outputs": [
    {
     "data": {
      "text/plain": [
       "(168327, 63)"
      ]
     },
     "execution_count": 18,
     "metadata": {},
     "output_type": "execute_result"
    }
   ],
   "source": [
    "x_train.shape"
   ]
  },
  {
   "cell_type": "code",
   "execution_count": 19,
   "metadata": {},
   "outputs": [
    {
     "data": {
      "text/plain": [
       "63"
      ]
     },
     "execution_count": 19,
     "metadata": {},
     "output_type": "execute_result"
    }
   ],
   "source": [
    "x.shape[1]"
   ]
  },
  {
   "cell_type": "code",
   "execution_count": 20,
   "metadata": {},
   "outputs": [],
   "source": [
    "#Building neural network\n",
    "\n",
    "\n",
    "model = tf.keras.Sequential()\n",
    "\n",
    "\n",
    "model.add(Dense(20, input_dim=x.shape[1], activation='relu', kernel_initializer='random_normal')) # Input layer and 1st hidden layer\n",
    "model.add(BatchNormalization())\n",
    "\n",
    "\n",
    "#model.add(Dense(20, input_dim=x.shape[1], kernel_initializer='random_normal')) # Input layer and 1st hidden layer\n",
    "#model.add(LeakyReLU(alpha=0.1)) # Leaky Relu for 1st hidden layer\n",
    "#model.add(BatchNormalization())\n",
    "\n",
    "\n",
    "model.add(Dense(20, input_dim=x.shape[1], activation='relu', kernel_initializer='random_normal'))\n",
    "#model.add(Dense(100,  kernel_initializer='random_normal')) # 2nd Hidden layer\n",
    "model.add(BatchNormalization())\n",
    "#model.add(LeakyReLU(alpha=0.1)) # Leaky Relu for 2nd hidden layer\n",
    "\n",
    "\n",
    "#model.add(Dense(40, kernel_initializer='random_normal')) # 3rd Hidden layer \n",
    "model.add(Dense(40, input_dim=x.shape[1], activation='relu', kernel_initializer='random_normal'))\n",
    "#model.add(LeakyReLU(alpha=0.1)) # Leaky Relu for 3rd hidden layer\n",
    "model.add(BatchNormalization())\n",
    "\n",
    "\n",
    "#model.add(Dense(60,  kernel_initializer='random_normal')) # 4th Hidden Layer \n",
    "model.add(Dense(60, input_dim=x.shape[1], activation='relu', kernel_initializer='random_normal'))\n",
    "#model.add(LeakyReLU(alpha=0.1)) # Leaky Relu for 4th hidden layer\n",
    "model.add(BatchNormalization())\n",
    "\n",
    "#model.add(Dense(80, kernel_initializer='random_normal')) # 5th Hidden Layer\n",
    "model.add(Dense(80, input_dim=x.shape[1], activation='relu', kernel_initializer='random_normal'))\n",
    "#model.add(LeakyReLU(alpha=0.1)) # Leaky Relu for 5th hidden layer\n",
    "model.add(BatchNormalization())\n",
    "\n",
    "#model.add(Dense(100, kernel_initializer='random_normal')) # 6th Hidden layer\n",
    "model.add(Dense(100, input_dim=x.shape[1], activation='relu', kernel_initializer='random_normal'))\n",
    "#model.add(LeakyReLU(alpha=0.1)) # Leaky Relu for 6th hidden layer\n",
    "model.add(BatchNormalization())\n",
    "\n",
    "#model.add(Dense(80, kernel_initializer='random_normal')) # 7th Hidden Layer \n",
    "model.add(Dense(80, input_dim=x.shape[1], activation='relu', kernel_initializer='random_normal'))\n",
    "#model.add(LeakyReLU(alpha=0.1)) # Leaky Relu for 4th hidden layer\n",
    "model.add(BatchNormalization())\n",
    "\n",
    "\n",
    "#model.add(Dense(60, kernel_initializer='random_normal')) # 7th Hidden Layer \n",
    "model.add(Dense(60, input_dim=x.shape[1], activation='relu', kernel_initializer='random_normal'))\n",
    "#model.add(LeakyReLU(alpha=0.1)) # Leaky Relu for 4th hidden layer\n",
    "model.add(BatchNormalization())\n",
    "\n",
    "model.add(Dense(40, input_dim=x.shape[1], activation='relu', kernel_initializer='random_normal'))\n",
    "#model.add(Dense(40, kernel_initializer='random_normal')) # 7th Hidden Layer \n",
    "#model.add(LeakyReLU(alpha=0.1)) # Leaky Relu for 4th hidden layer\n",
    "model.add(BatchNormalization())\n",
    "\n",
    "\n",
    "\n",
    "model.add(Dense(y.shape[1], activation='sigmoid', kernel_initializer='random_normal')) # Output Layer "
   ]
  },
  {
   "cell_type": "code",
   "execution_count": 21,
   "metadata": {},
   "outputs": [
    {
     "data": {
      "text/plain": [
       "63"
      ]
     },
     "execution_count": 21,
     "metadata": {},
     "output_type": "execute_result"
    }
   ],
   "source": [
    "x.shape[1]"
   ]
  },
  {
   "cell_type": "code",
   "execution_count": 22,
   "metadata": {
    "id": "xhwu9nzjaVYA"
   },
   "outputs": [
    {
     "data": {
      "text/plain": [
       "\"\\nfrom tensorflow.keras.callbacks import EarlyStopping\\nbce = tf.keras.losses.BinaryCrossentropy(reduction=tf.keras.losses.Reduction.NONE)\\n\\nmodel.compile(loss=bce, optimizer=keras.optimizers.Adam(), metrics=['accuracy'])\\n\\n#model.compile(optimizer='ADAM', loss= 'mean_squared_error' , metrics = ['accuracy']) \\n\\nmonitor = EarlyStopping(monitor='val_loss', min_delta=0.00001, patience=10, \\n                        verbose=1, mode='max', restore_best_weights=True)\\n\""
      ]
     },
     "execution_count": 22,
     "metadata": {},
     "output_type": "execute_result"
    }
   ],
   "source": [
    "# Compiling Neural network\n",
    "'''\n",
    "from tensorflow.keras.callbacks import EarlyStopping\n",
    "bce = tf.keras.losses.BinaryCrossentropy(reduction=tf.keras.losses.Reduction.NONE)\n",
    "\n",
    "model.compile(loss=bce, optimizer=keras.optimizers.Adam(), metrics=['accuracy'])\n",
    "\n",
    "#model.compile(optimizer='ADAM', loss= 'mean_squared_error' , metrics = ['accuracy']) \n",
    "\n",
    "monitor = EarlyStopping(monitor='val_loss', min_delta=0.00001, patience=10, \n",
    "                        verbose=1, mode='max', restore_best_weights=True)\n",
    "'''"
   ]
  },
  {
   "cell_type": "code",
   "execution_count": 23,
   "metadata": {},
   "outputs": [],
   "source": [
    "from tensorflow.keras.callbacks import LearningRateScheduler\n",
    "lrs = LearningRateScheduler(lambda x: 0.001)"
   ]
  },
  {
   "cell_type": "code",
   "execution_count": 24,
   "metadata": {},
   "outputs": [],
   "source": [
    "from tensorflow.keras.callbacks import EarlyStopping\n",
    "model.compile(optimizer='adam', loss=tf.keras.losses.BinaryCrossentropy(), metrics = ['mean_absolute_error']) \n",
    "#model.compile(optimizer='ADAM', loss='mean_squared_error', metrics = ['mean_absolute_error']) \n",
    "monitor = EarlyStopping(monitor='val_loss', min_delta=0.0001, patience=10, \n",
    "                        verbose=1, mode='auto', restore_best_weights=True)"
   ]
  },
  {
   "cell_type": "code",
   "execution_count": 25,
   "metadata": {
    "colab": {
     "base_uri": "https://localhost:8080/",
     "height": 1000
    },
    "id": "sUm7vYpNaZhk",
    "outputId": "bb1cd85f-4a22-4777-8674-4e053a532b6e"
   },
   "outputs": [
    {
     "name": "stdout",
     "output_type": "stream",
     "text": [
      "Train on 168327 samples, validate on 18703 samples\n",
      "Epoch 1/1000\n",
      "168327/168327 - 5s - loss: 0.3668 - mean_absolute_error: 0.2621 - val_loss: 0.2239 - val_mean_absolute_error: 0.1250\n",
      "Epoch 2/1000\n",
      "168327/168327 - 2s - loss: 0.1869 - mean_absolute_error: 0.1072 - val_loss: 0.1814 - val_mean_absolute_error: 0.1055\n",
      "Epoch 3/1000\n",
      "168327/168327 - 2s - loss: 0.1675 - mean_absolute_error: 0.0974 - val_loss: 0.1664 - val_mean_absolute_error: 0.0972\n",
      "Epoch 4/1000\n",
      "168327/168327 - 2s - loss: 0.1587 - mean_absolute_error: 0.0934 - val_loss: 0.1600 - val_mean_absolute_error: 0.0980\n",
      "Epoch 5/1000\n",
      "168327/168327 - 2s - loss: 0.1530 - mean_absolute_error: 0.0911 - val_loss: 0.1522 - val_mean_absolute_error: 0.0925\n",
      "Epoch 6/1000\n",
      "168327/168327 - 2s - loss: 0.1496 - mean_absolute_error: 0.0896 - val_loss: 0.1498 - val_mean_absolute_error: 0.0928\n",
      "Epoch 7/1000\n",
      "168327/168327 - 2s - loss: 0.1475 - mean_absolute_error: 0.0889 - val_loss: 0.1488 - val_mean_absolute_error: 0.0934\n",
      "Epoch 8/1000\n",
      "168327/168327 - 2s - loss: 0.1455 - mean_absolute_error: 0.0882 - val_loss: 0.1459 - val_mean_absolute_error: 0.0908\n",
      "Epoch 9/1000\n",
      "168327/168327 - 2s - loss: 0.1440 - mean_absolute_error: 0.0876 - val_loss: 0.1442 - val_mean_absolute_error: 0.0899\n",
      "Epoch 10/1000\n",
      "168327/168327 - 2s - loss: 0.1429 - mean_absolute_error: 0.0871 - val_loss: 0.1427 - val_mean_absolute_error: 0.0890\n",
      "Epoch 11/1000\n",
      "168327/168327 - 2s - loss: 0.1418 - mean_absolute_error: 0.0867 - val_loss: 0.1423 - val_mean_absolute_error: 0.0895\n",
      "Epoch 12/1000\n",
      "168327/168327 - 2s - loss: 0.1409 - mean_absolute_error: 0.0863 - val_loss: 0.1414 - val_mean_absolute_error: 0.0883\n",
      "Epoch 13/1000\n",
      "168327/168327 - 2s - loss: 0.1398 - mean_absolute_error: 0.0859 - val_loss: 0.1395 - val_mean_absolute_error: 0.0875\n",
      "Epoch 14/1000\n",
      "168327/168327 - 2s - loss: 0.1391 - mean_absolute_error: 0.0857 - val_loss: 0.1398 - val_mean_absolute_error: 0.0877\n",
      "Epoch 15/1000\n",
      "168327/168327 - 2s - loss: 0.1385 - mean_absolute_error: 0.0854 - val_loss: 0.1388 - val_mean_absolute_error: 0.0877\n",
      "Epoch 16/1000\n",
      "168327/168327 - 2s - loss: 0.1379 - mean_absolute_error: 0.0852 - val_loss: 0.1381 - val_mean_absolute_error: 0.0872\n",
      "Epoch 17/1000\n",
      "168327/168327 - 2s - loss: 0.1375 - mean_absolute_error: 0.0851 - val_loss: 0.1376 - val_mean_absolute_error: 0.0874\n",
      "Epoch 18/1000\n",
      "168327/168327 - 2s - loss: 0.1370 - mean_absolute_error: 0.0849 - val_loss: 0.1364 - val_mean_absolute_error: 0.0855\n",
      "Epoch 19/1000\n",
      "168327/168327 - 2s - loss: 0.1365 - mean_absolute_error: 0.0847 - val_loss: 0.1378 - val_mean_absolute_error: 0.0878\n",
      "Epoch 20/1000\n",
      "168327/168327 - 2s - loss: 0.1362 - mean_absolute_error: 0.0846 - val_loss: 0.1360 - val_mean_absolute_error: 0.0856\n",
      "Epoch 21/1000\n",
      "168327/168327 - 3s - loss: 0.1359 - mean_absolute_error: 0.0845 - val_loss: 0.1359 - val_mean_absolute_error: 0.0852\n",
      "Epoch 22/1000\n",
      "168327/168327 - 3s - loss: 0.1359 - mean_absolute_error: 0.0844 - val_loss: 0.1360 - val_mean_absolute_error: 0.0858\n",
      "Epoch 23/1000\n",
      "168327/168327 - 2s - loss: 0.1354 - mean_absolute_error: 0.0842 - val_loss: 0.1356 - val_mean_absolute_error: 0.0868\n",
      "Epoch 24/1000\n",
      "168327/168327 - 2s - loss: 0.1353 - mean_absolute_error: 0.0842 - val_loss: 0.1354 - val_mean_absolute_error: 0.0851\n",
      "Epoch 25/1000\n",
      "168327/168327 - 2s - loss: 0.1351 - mean_absolute_error: 0.0841 - val_loss: 0.1352 - val_mean_absolute_error: 0.0861\n",
      "Epoch 26/1000\n",
      "168327/168327 - 3s - loss: 0.1350 - mean_absolute_error: 0.0840 - val_loss: 0.1350 - val_mean_absolute_error: 0.0853\n",
      "Epoch 27/1000\n",
      "168327/168327 - 3s - loss: 0.1348 - mean_absolute_error: 0.0840 - val_loss: 0.1348 - val_mean_absolute_error: 0.0850\n",
      "Epoch 28/1000\n",
      "168327/168327 - 3s - loss: 0.1345 - mean_absolute_error: 0.0839 - val_loss: 0.1352 - val_mean_absolute_error: 0.0858\n",
      "Epoch 29/1000\n",
      "168327/168327 - 2s - loss: 0.1344 - mean_absolute_error: 0.0838 - val_loss: 0.1351 - val_mean_absolute_error: 0.0874\n",
      "Epoch 30/1000\n",
      "168327/168327 - 2s - loss: 0.1343 - mean_absolute_error: 0.0838 - val_loss: 0.1344 - val_mean_absolute_error: 0.0850\n",
      "Epoch 31/1000\n",
      "168327/168327 - 2s - loss: 0.1342 - mean_absolute_error: 0.0837 - val_loss: 0.1350 - val_mean_absolute_error: 0.0861\n",
      "Epoch 32/1000\n",
      "168327/168327 - 2s - loss: 0.1340 - mean_absolute_error: 0.0836 - val_loss: 0.1341 - val_mean_absolute_error: 0.0840\n",
      "Epoch 33/1000\n",
      "168327/168327 - 2s - loss: 0.1339 - mean_absolute_error: 0.0835 - val_loss: 0.1343 - val_mean_absolute_error: 0.0849\n",
      "Epoch 34/1000\n",
      "168327/168327 - 2s - loss: 0.1338 - mean_absolute_error: 0.0835 - val_loss: 0.1344 - val_mean_absolute_error: 0.0850\n",
      "Epoch 35/1000\n",
      "168327/168327 - 2s - loss: 0.1337 - mean_absolute_error: 0.0834 - val_loss: 0.1338 - val_mean_absolute_error: 0.0838\n",
      "Epoch 36/1000\n",
      "168327/168327 - 2s - loss: 0.1335 - mean_absolute_error: 0.0834 - val_loss: 0.1340 - val_mean_absolute_error: 0.0864\n",
      "Epoch 37/1000\n",
      "168327/168327 - 2s - loss: 0.1336 - mean_absolute_error: 0.0834 - val_loss: 0.1340 - val_mean_absolute_error: 0.0824\n",
      "Epoch 38/1000\n",
      "168327/168327 - 2s - loss: 0.1333 - mean_absolute_error: 0.0833 - val_loss: 0.1339 - val_mean_absolute_error: 0.0824\n",
      "Epoch 39/1000\n",
      "168327/168327 - 2s - loss: 0.1333 - mean_absolute_error: 0.0833 - val_loss: 0.1334 - val_mean_absolute_error: 0.0846\n",
      "Epoch 40/1000\n",
      "168327/168327 - 2s - loss: 0.1332 - mean_absolute_error: 0.0832 - val_loss: 0.1335 - val_mean_absolute_error: 0.0829\n",
      "Epoch 41/1000\n",
      "168327/168327 - 2s - loss: 0.1331 - mean_absolute_error: 0.0832 - val_loss: 0.1335 - val_mean_absolute_error: 0.0839\n",
      "Epoch 42/1000\n",
      "168327/168327 - 2s - loss: 0.1330 - mean_absolute_error: 0.0831 - val_loss: 0.1335 - val_mean_absolute_error: 0.0854\n",
      "Epoch 43/1000\n",
      "168327/168327 - 2s - loss: 0.1329 - mean_absolute_error: 0.0831 - val_loss: 0.1334 - val_mean_absolute_error: 0.0860\n",
      "Epoch 44/1000\n",
      "168327/168327 - 2s - loss: 0.1328 - mean_absolute_error: 0.0830 - val_loss: 0.1332 - val_mean_absolute_error: 0.0849\n",
      "Epoch 45/1000\n",
      "168327/168327 - 2s - loss: 0.1327 - mean_absolute_error: 0.0830 - val_loss: 0.1333 - val_mean_absolute_error: 0.0836\n",
      "Epoch 46/1000\n",
      "168327/168327 - 2s - loss: 0.1326 - mean_absolute_error: 0.0829 - val_loss: 0.1337 - val_mean_absolute_error: 0.0824\n",
      "Epoch 47/1000\n",
      "168327/168327 - 2s - loss: 0.1325 - mean_absolute_error: 0.0829 - val_loss: 0.1332 - val_mean_absolute_error: 0.0821\n",
      "Epoch 48/1000\n",
      "168327/168327 - 2s - loss: 0.1325 - mean_absolute_error: 0.0828 - val_loss: 0.1330 - val_mean_absolute_error: 0.0837\n",
      "Epoch 49/1000\n",
      "168327/168327 - 2s - loss: 0.1324 - mean_absolute_error: 0.0828 - val_loss: 0.1335 - val_mean_absolute_error: 0.0823\n",
      "Epoch 50/1000\n",
      "168327/168327 - 2s - loss: 0.1322 - mean_absolute_error: 0.0827 - val_loss: 0.1330 - val_mean_absolute_error: 0.0835\n",
      "Epoch 51/1000\n",
      "168327/168327 - 2s - loss: 0.1323 - mean_absolute_error: 0.0827 - val_loss: 0.1328 - val_mean_absolute_error: 0.0850\n",
      "Epoch 52/1000\n",
      "168327/168327 - 2s - loss: 0.1321 - mean_absolute_error: 0.0827 - val_loss: 0.1325 - val_mean_absolute_error: 0.0827\n",
      "Epoch 53/1000\n",
      "168327/168327 - 2s - loss: 0.1320 - mean_absolute_error: 0.0826 - val_loss: 0.1325 - val_mean_absolute_error: 0.0830\n",
      "Epoch 54/1000\n",
      "168327/168327 - 2s - loss: 0.1319 - mean_absolute_error: 0.0826 - val_loss: 0.1327 - val_mean_absolute_error: 0.0848\n",
      "Epoch 55/1000\n",
      "168327/168327 - 2s - loss: 0.1320 - mean_absolute_error: 0.0826 - val_loss: 0.1325 - val_mean_absolute_error: 0.0827\n",
      "Epoch 56/1000\n",
      "168327/168327 - 2s - loss: 0.1319 - mean_absolute_error: 0.0825 - val_loss: 0.1328 - val_mean_absolute_error: 0.0843\n",
      "Epoch 57/1000\n",
      "168327/168327 - 2s - loss: 0.1318 - mean_absolute_error: 0.0825 - val_loss: 0.1327 - val_mean_absolute_error: 0.0827\n",
      "Epoch 58/1000\n",
      "168327/168327 - 2s - loss: 0.1318 - mean_absolute_error: 0.0825 - val_loss: 0.1330 - val_mean_absolute_error: 0.0826\n",
      "Epoch 59/1000\n",
      "168327/168327 - 2s - loss: 0.1316 - mean_absolute_error: 0.0824 - val_loss: 0.1325 - val_mean_absolute_error: 0.0826\n",
      "Epoch 60/1000\n",
      "168327/168327 - 2s - loss: 0.1316 - mean_absolute_error: 0.0824 - val_loss: 0.1323 - val_mean_absolute_error: 0.0836\n",
      "Epoch 61/1000\n",
      "168327/168327 - 2s - loss: 0.1314 - mean_absolute_error: 0.0823 - val_loss: 0.1325 - val_mean_absolute_error: 0.0841\n",
      "Epoch 62/1000\n",
      "168327/168327 - 2s - loss: 0.1315 - mean_absolute_error: 0.0823 - val_loss: 0.1322 - val_mean_absolute_error: 0.0834\n",
      "Epoch 63/1000\n",
      "168327/168327 - 2s - loss: 0.1315 - mean_absolute_error: 0.0823 - val_loss: 0.1321 - val_mean_absolute_error: 0.0818\n"
     ]
    },
    {
     "name": "stdout",
     "output_type": "stream",
     "text": [
      "Epoch 64/1000\n",
      "168327/168327 - 2s - loss: 0.1314 - mean_absolute_error: 0.0823 - val_loss: 0.1324 - val_mean_absolute_error: 0.0831\n",
      "Epoch 65/1000\n",
      "168327/168327 - 2s - loss: 0.1312 - mean_absolute_error: 0.0822 - val_loss: 0.1323 - val_mean_absolute_error: 0.0831\n",
      "Epoch 66/1000\n",
      "168327/168327 - 2s - loss: 0.1312 - mean_absolute_error: 0.0822 - val_loss: 0.1320 - val_mean_absolute_error: 0.0825\n",
      "Epoch 67/1000\n",
      "168327/168327 - 2s - loss: 0.1312 - mean_absolute_error: 0.0822 - val_loss: 0.1324 - val_mean_absolute_error: 0.0836\n",
      "Epoch 68/1000\n",
      "168327/168327 - 2s - loss: 0.1311 - mean_absolute_error: 0.0821 - val_loss: 0.1320 - val_mean_absolute_error: 0.0830\n",
      "Epoch 69/1000\n",
      "168327/168327 - 2s - loss: 0.1311 - mean_absolute_error: 0.0821 - val_loss: 0.1321 - val_mean_absolute_error: 0.0814\n",
      "Epoch 70/1000\n",
      "168327/168327 - 2s - loss: 0.1311 - mean_absolute_error: 0.0821 - val_loss: 0.1320 - val_mean_absolute_error: 0.0828\n",
      "Epoch 71/1000\n",
      "168327/168327 - 2s - loss: 0.1311 - mean_absolute_error: 0.0821 - val_loss: 0.1322 - val_mean_absolute_error: 0.0833\n",
      "Epoch 72/1000\n",
      "168327/168327 - 2s - loss: 0.1311 - mean_absolute_error: 0.0821 - val_loss: 0.1327 - val_mean_absolute_error: 0.0841\n",
      "Epoch 73/1000\n",
      "Restoring model weights from the end of the best epoch.\n",
      "168327/168327 - 2s - loss: 0.1309 - mean_absolute_error: 0.0820 - val_loss: 0.1322 - val_mean_absolute_error: 0.0837\n",
      "Epoch 00073: early stopping\n"
     ]
    }
   ],
   "source": [
    "# Fitting Neural network to training set\n",
    "\n",
    "model_history=model.fit(x_train, y_train, validation_data=(x_test, y_test), batch_size=512, verbose=2, callbacks=[monitor, lrs], epochs=1000)"
   ]
  },
  {
   "cell_type": "code",
   "execution_count": null,
   "metadata": {},
   "outputs": [],
   "source": []
  },
  {
   "cell_type": "code",
   "execution_count": 26,
   "metadata": {
    "colab": {
     "base_uri": "https://localhost:8080/",
     "height": 142
    },
    "id": "AT8SOvaeap0x",
    "outputId": "c1eec1b2-94c5-4a80-bc87-7ed372b14acf"
   },
   "outputs": [
    {
     "data": {
      "text/plain": [
       "array([[ 1.,  0.,  0., ...,  0.,  0.,  0.],\n",
       "       [ 0.,  0.,  0., ...,  0.,  0.,  0.],\n",
       "       [ 1.,  0., -0., ...,  0.,  1.,  0.],\n",
       "       ...,\n",
       "       [ 0., -0.,  0., ...,  1.,  0.,  0.],\n",
       "       [ 0., -0.,  0., ..., -0.,  0.,  0.],\n",
       "       [ 1.,  0.,  0., ..., -0.,  0.,  0.]])"
      ]
     },
     "execution_count": 26,
     "metadata": {},
     "output_type": "execute_result"
    }
   ],
   "source": [
    "y_train"
   ]
  },
  {
   "cell_type": "code",
   "execution_count": 27,
   "metadata": {},
   "outputs": [
    {
     "data": {
      "text/plain": [
       "array([[ 0., -0.,  0., ..., -0.,  1.,  0.],\n",
       "       [ 1.,  0.,  0., ...,  1.,  0.,  0.],\n",
       "       [ 0.,  0.,  0., ...,  0.,  0.,  0.],\n",
       "       ...,\n",
       "       [ 1.,  0.,  1., ...,  0.,  0.,  0.],\n",
       "       [ 1.,  0.,  0., ...,  0.,  1.,  0.],\n",
       "       [ 0.,  0., -0., ...,  0.,  0.,  0.]])"
      ]
     },
     "execution_count": 27,
     "metadata": {},
     "output_type": "execute_result"
    }
   ],
   "source": [
    "y_test = np.asarray(y_test)\n",
    "x_test = np.asarray(x_test)\n",
    "y_test\n"
   ]
  },
  {
   "cell_type": "code",
   "execution_count": 28,
   "metadata": {},
   "outputs": [
    {
     "data": {
      "text/plain": [
       "(18703, 40)"
      ]
     },
     "execution_count": 28,
     "metadata": {},
     "output_type": "execute_result"
    }
   ],
   "source": [
    "y_test.shape"
   ]
  },
  {
   "cell_type": "code",
   "execution_count": 29,
   "metadata": {
    "colab": {
     "base_uri": "https://localhost:8080/",
     "height": 53
    },
    "id": "jnvop5zhare2",
    "outputId": "f9e033be-f657-4367-e93a-750eee9cc444"
   },
   "outputs": [
    {
     "name": "stdout",
     "output_type": "stream",
     "text": [
      "\r",
      "18703/1 [==================================================================================================================================================================================================================================================================================================================================================================================================================================================================================================================================================================================================================================================================================================================================================================================================================================================================================================================================================================================================================================================================================================================================================================================================================================================================================================================================================================================================================================================================================================================================================================================================================================================================================================================================================================================================================================================================================================================================================================================================================================================================================================================================================================================================================================================================================================================================================================================================================================================================================================================================================================================================================================================================================================================================================================================================================================================================================================================================================================================================================================================================================================================================================================================================================================================================================================================================================================================================================================================================================================================================================================================================================================================================================================================================================================================================================================================================================================================================================================================================================================================================================================================================================================================================================================================================================================================================================================================================================================================================================================================================================================================================================================================================================================================================================================================================================================================================================================================================================================================================================================================================================================================================================================================================================================================================================================================================================================================================================================================================================================================================================================================================================================================================================================================================================================================================================================================================================================================================================================================================================================================================================================================================================================================================================================================================================================================================================================================================================================================================================================================================================================================================================================================================================================================================================================================================================================================================================================================================================================================================================================================================================================================================================================================================================================================================================================================================================================================================================================================================================================================================================================================================================================================================================================================================================================================================================================================================================================================================================================================================================================================================================================================================================================================================================================================================================================================================================================================================================================================================================================================================================================================================================================================================================================================================================================================================================================================================================================================================================================================================================================================================================================================================================================================================================================================================================================================================================================================================================================================================================================================================================================================================================================================================================================================================================================================================================================================================================================================================================================================================================================================================================================================================================================================================================================================================================================================================================================================================================================================================================================================================================================================================================================================================================================================================================================================================================================================================================================================================================================================================================================================================================================================================================================================================================================================================================================================================================================================================================================================================================================================================================================================================================================================================================================================================================================================================================================================================================================================================================================================================================================================================================================================================================================================================================================================================================================================================================================================================================================================================================================================================================================================================================================================================================================================================================================================================================================================================================================================================================================================================================================================================================================================================================================================================================================================================================================================================================================================================================================================================================================================================================================================================================================================================================================================================================================================================================================================================================================================================================================================================================================================================================================================================================================================================================================================================================================================================================================================================================================================================================================================================================================================================================================================================================================================================================================================================================================================================================================================================================================================================================================================================================================================================================================================================================================================================================================================================================================================================================================================================================================================================================================================================================================================================================================================================================================================================================================================================================================================================================================================================================================================================================================================================================================================================================================================================================================================================================================================================================================================================================================================================================================================================================================================================================================================================================================================================================================================================================================================================================================================================================================================================================================================================================================================================================================================================================================================================================================================================================================================================================================================================================================================================================================================================================================================================================================================================================================================================================================================================================================================================================================================================================================================================================================================================================================================================================================================================================================================================================================================================================================================================================================================================================================================================================================================================================================================================================================================================================================================================================================================================================================================================================================================================================================================================================================================================================================================================================================================================================================================================================================================================================================================================================================================================================================================================================================================================================================================================================================================================================================================================================================================================================================================================================================================================================================================================================================================================================================================================================================================================================================================================================================================================================================================================================================================================================================================================================================================================================================================================================================================================================================================================================================================================================================================================================================================================================================================================================================================================================================================================================================================================================================================================================================================================================================================================================================================================================================================================================================================================================================================================================================================================================================================================================================================================================================================================================================================================================================================================================================================================================================================================================================================================================================================================================================================================================================================================================================================================================================================================================================================================================================================================================================================================================================================================================================================================================================================================================================================================================================================================================================================================================================================================================================================================================================================================================================================================================================================================================================================================================================================================================================================================================================================================================================================================================================================================================================================================================================================================================================================================================================================================================================================================================================================================================================================================================================================================================================================================================================================================================================================================================================================================================================================================================================================================================================================================================================================================================================================================================================================================================================================================================================================================================================================================================================================================================================================================================================================================================================================================================================================================================================================================================================================================================================================================================================================================================================================================================================================================================================================================================================================================================================================================================================================================================================================================================================================================================================================================================================================================================================================================================================================================================================================================================================================================================================================================================================================================================================================================================================================================================================================================================================================================================================================================================================================================================================================================================================================================================================================================================================================================================================================================================================================================================================================================================================================================================================================================================================================================================================================================================================================================================================================================================================================================================================================================================================================================================================================================================================================================================================================================================================================================================================================================================================================================================================================================================================================================================================================================================================================================================================================================================================================================================================================================================================================================================================================================================================================================================================================================================================================================================================================================================================================================================================================================================================================================================================================================================================================================================================================================================================================================================================================================================================================================================================================================================================================================================================================================================================================================================================================================================================================================================================================================================================================================================================================================================================================================================================================================================================================================================================================================================================================================================================================================================================================================================================================================================================================================================================================================================================================================================================================================================================================================================================================================================================================================================================================================================================================================================================================================================================================================================================================================================================================================================================================================================================================================================================================================================================================================================================================================================================================================================================================================================================================================================================================================================================================================================================================================================================================================================================================================================================================================================================================================================================================================================================================================================================================================================================================================================================================================================================================================================================================================================================================================================================================================================================================================================================================================================================================================================================================================================================================================================================================================================================================================================================================================================================================================================================================================================================================================================================================================================================================================================================================================================================================================================================================================================================================================================================================================================================================================================================================================================================================================================================================================================================================================================================================================================================================================================================================================================================================================================================================================================================================================================================================================================================================================================================================================================================================================================================================================================================================================================================================================================================================================================================================================================================================================================================================================================================================================================================================================================================================================================================================================================================================================================================================================================================================================================================================================================================================================================================================================================================================================================================================================================================================================================================================================================================================================================================================================================================================================================================================================================================================================================================================================================================================================================================================================================================================================================================================================================================================================================================================================================================================================================================================================================================================================================================================================================================================================================================================================================================================================================================================================================================================================================================================================================================================================================================================================================================================================================================================================================================================================================================================================================================================================================================================================================================================================================================================================================================================================================================================================================================================================================================================================================================================================================================================================================================================================================================================================================================================================================================================================================================================================================================================================================================================================================================================================================================================================================================================================================================================================================================================================================================================================================================================================================================================================================================================================================================================================================================================================================================================================================================================================================================================================================================================================================================================================================================================================================================================================================================================================================================================================================================================================================================================================================================================================================================================================================================================================================================================================================================================================================================================================================================================================================================================================================================================================================================================================================================================================================================================================================================================================================================================================================================================================================================================================================================================================================================================================================================================================================================================================================================================================================================================================================================================================================================================================================================================================================================================================================================================================================================================================================================================================================================================================================================================================================================================================================================================================================================================================================================================================================================================================================================================================================================================================================================================================================================================================================================================================================================================================================================================================================================================================================================================================================================================================================================================================================================================================================================================================================================================================================================================================================================================================================================================================================================================================================================================================================================================================================================================================================================================================================================================================================================================================================================================================================================================================================================================================================================================================================================================================================================================================================================================================================================================================================================================================================================================================================================================================================================================================================================================================================================================================================================================================================================================================================================================================================================================================================================================================================================================================================================================================================================================================================================================================================================================================================================================================================================================================================================================================================================================================================================================================================================================================================================================================================================================================================================================================================================================================================================================================================================================================================================================================================================================================================================================================================================================================================================================================================================================================================================================================================================================================================================================================================================================================================================================================================================================================================================================================================================================================================================================================================================================================================================================================================================================================================================================================================================================================================================================================================================================================================================================================================================================================================================================================================================================================================================================================================================================================================================================================================================================================================================================================================================================================================================================================================================================================================================================================================================================================================================================================================================================================================================================================================================================================================================================================================================================================================================================================================================================================================================================================================================================================================================================================================================================================================================================================================================================================================================================================================================================================================================================================================================================================================================================================================================================================================================================================================================================================================================================================================================================================================================================================================================================================================================================================================================================================================================================================================================================================================================================================================================================================================================================================================================================================================================================================================================================================================================================================================================================================================================================================================================================================================================================================================================================================================================================================================================================================================================================================================================================================================================================================================================================================================================================================================================================================================================================================================================================================================================================================================================================================================================================================================================================================================================================================================================================================================================================================================================================================================================================================================================================================================================================================================================================================================================================================================================================================================================================================================================================================================================================================================================================================================================================================================================================================================================================================================================================================================================================================================================================================================================================================================================================================================================================================================================================================================================================================================================================================================================================================================================================================================================================================================================================================================================================================================================================================================================================================================================================================================================================================================================================================================================================================================================================================================================================================================================================================================================================================================================================================================================================================================================================================================================================================================================================================================================================================================================================================================================================================================================================================================================================================================================================================================================================================================================================================================================================================================================================================================================================================================================================================================================================================================================================================================================================================================================================================================================================================================================================================================================================================================================================================================================================================================================================================================================================================================================================================================================================================================================================================================================================================================================================================================================================================================================================================================================================================================================================================================================================================================================================================================================================================================================================================================================================================================================================================================================================================================================================================================================================================================================================================================================================================================================================================================================================================================================================================================================================================================================================================================================================================================================================================================================================================================================================================================================================================================================================================================================================================================================================================================================================================================================================================================================================================================================================================================================================================================================================================================================================================================================================================================================================================================================================================================================================================================================================================================================================================================================================================================================================================================================================================================================================================================================================================================================================================================================================================================================================================================================================================================================================================================================================================================================================================================================================================================================================================================================================================================================================================================================================================================================================================================================================================================================================================================================================================================================================================================================================================================================================================================================================================================================================================================================================================================================================================================================================================================================================================================================================================================================================================================================================================================================================================================================================================================================================================================================================================================================================================================================================================================================================================================================================================================================================================================================================================================================================================================================================================================================================================================================================================================================================================================================================================================================================================================================================================================================================================================================================================================================================================================================================================================================================================================================================================================================================================================================================================================================================================================================================================================================================================================================================================================================================================================================================================================================================================================================================================================================================================================================================================================================================================================================================================================================================================================================================================================================================================================================================================================================================================================================================================================================================================================================================================================================================================================================================================================================================================================================================================================================================================================================================================================================================================================================================================================================================================================================================================================================================================================================================================================================================================================================================================================================================================================================================================================================================================================================================================================================================================================================================================================================================================================================================================================================================================================================================================================================================================================================================================================================================================================================================================================================================================================================================================================================================================================================================================================================================================================================================================================================================================================================================================================================================================================================================================================================================================================================================================================================================================================================================================================================================================================================================================================================================================================================================================================================================================================================================================================================================================================================================================================================================================================================================================================================================================================================================================================================================================================================================================================================================================================================================================================================================================================================================================================================================================================================================================================================================================================================================================================================================================================================================================================================================================================================================================================================================================================================================================================================================================================================================================================================================================================================================================================================================================================================================================================================================================================================================================================================================================================================================================================================================================================================================================================================================================================================================================================================================================================================================================================================================================================================================================================================================================================================================================================================================================================================================================================================================================================================================================================================================================================================================================================================================================================================================================================================================================================================================================================================================================================================================================================================================================================================================================================================================================================================================================================================================================================================================================================================================================================================================================================================================================================================================================================================================================================================================================================================================================================================================================================================================================================================================================================================================================================================================================================================================================================================================================================================================================================================================================================================================================================================================================================================================================================================================================================================================================================================================================================================================================================================================================================================================================================================================================================================================================================================================================================================================================================================================================================================================================================================================================================================================================================================================================================================================================================================================================================================================================================================================================================================================================================================================================================================================================================================================================================================================================================================================================================================================================================================================================================================================================================================================================================================================================================================================================================================================================================================================================================================================================================================================================================================================================================================================================================================================================================================================================================================================================================================================================================================================================================================================================================================================================================================================================================================================================================================================================================================================================================================================================================================================================================================================================================================================================================================================================================================================================================================================================================================================================================================================================================================================================================================================================================================================================================================================================================================================================================================================================================================================================================================================================================================================================================================================================================================================================================================================================================================================================================================================================================================================================================================================================================================================================================================================================================================================================================================================================================================================================================================================================================================================================================================================================================================================================================================================================================================================================================================================================================================================================================================================================================================================================================================================================================================================================================================================================================================================================================================================================================================================================================================================================================================================================================================================================================================================================================================================================================================================================================================================================================================================================================================================================================================================================================================================================================================================================================================================================================================================================================================================================================================================================================================================================================================================================================================================================================================================================================================================================================================================================================================================================================================================================================================================================================================================================================================================================================================================================================================================================================================================================================================================================================================================================================================================================================================================================================================================================================================================================================================================================================================================================================================================================================================================================================================================================================================================================================================================================================================================================================================================================================================================================================================================================================================================================================================================================================================================================================================================================================================================================================================================================================================================================================================================================================================================================================================================================================================================================================================================================================================================================================================================================================================================================================================================================================================================================================================================================================================================================================================================================================================================================================================================================================================================================================================================================================================================================================================================================================================================================================================================================================================================================================================================================================================================================================================================================================================================================================================================================================================================================================================================================================================================================================================================================================================================================================================================================================================================================================================================================================================================================================================================================================================================================================================================================================================================================================================================================================================================================================================================================================================================================================================================================================================================================================================================================================================================================================================================================================================================================================================================================================================================================================================================================================================================================================================================================================================================================================================================================================================================================================================================================================================================================================================================================================================================================================================================================================================================================================================================================================================================================================================================================================================================================================================================================================================================================================================================================================================================================================================================================================================================================================================================================================================================================================================================================================================================================================================================================================================================================================================================================================================================================================================================================================================================================================================================================================================================================================================================================================================================================================================================================================================================================================================================================================================================================================================================================================================================================================================================================================================================================================================================================================================================================================================================================================================================================================================================================================================================================================================================================================================================================================================================================================================================================================================================================================================================================================================================================================================================================================================================================================================================================================================================================================================================================================================================================================================================================================================================================================================================================================================================================================================================================================================================================================================================================================================================================================================================================================================================================================================================================================================================================================================================================================================================================================================================================================================================================================================================================================================================================================================================================================================================================================================================================================================================================================================================================================================================================================================================================================================================================================================================================================================================================================================================================================================================================================================================================================================================================================================================================================================================================================================================================================================================================================================================================================================================================================================================================================================================================================================================================================================================================================================================================================================================================================================================================================================================================================================================================================================================================================================================================================================================================================================================================================================================================================================================================================================================================================================================================================================================================================================================================================================================================================================================================================================================================================================================================================================================================================================================================================================================================================================================================================================================================================================================================================================================================================================================================================================================================================================================================================================================================================================================================================================================================================================================================================================================================================================================================================================================================================================================================================================================================================================================================================================================================================================================================================================================================================================================================================================================================================================================================================================================================================================================================================================================================================================================================================================================================================================================================================================================================================================================================================================================================================================================================================================================================================================================================================================================================================================================================================================================================================================================================================================================================================================================================================================================================================================================================================================================================================================================================================================================================================================================================================================================================================================================================================================================================================================================================================================================================================================================================================================================================================================================================================================================================================================================================================================================================================================================================================================================================================================================================================================================================================================================================================================================================================================================================================================================================================================================================================================================================================================================================================================================================================================================================================================================================================================================================================================================================================================================================================================================================================================================================================================================================================================================================================================================================================================================================================================================================================================================================================================================================================================================================================================================================================================================================================================================================================================================================================================================================================================================================================================================================================================================================================================================================================================================================================================================================================================================================================================================================================================================================================================================================================================================================================================================================================================================================================================================================================================================================================================================================================================================================================================================================================================================================================================================================================================================================================================================================================================================================================================================================================================================================================================================================================================================================================================================================================================================================================================================================================================================================================================================================================================================================================================================================================================================================================================================================================================================================================================================================================================================================================================================================================================================================================================================================================================================================================================================================================================================================================================================================================================================================================================================================================================================================================================================================================================================================================================================================================================================================================================================================================================================================================================================================================================================================================================================================================================================================================================================================================================================================================================================================================================================================================================================================================================================================================================================================================================================================================================================================================================================================================================================================================================================================================================================================================================================================================================================================================================================================================================================================================================================================================================================================================================================================================================================================================================================================================================================================================================================================================================================================================================================================================================================================================================================================================================================================================================================================================================================================================================================================================================================================================================================================================================================================================================================================================================================================================================================================================================================================================================================================================================================================================================================================================================================================================================================================================================================================================================================================================================================================================================================================================================================================================================================================================================================================================================================================================================================================================================================================================================================================================================================================================================================================================================================================================================================================================================================================================================================================================================================================================================================================================================================================================================================================================================================================================================================================================================================================================================================================================================================================================================================================================================================================================================================================================================================================================================================================================================================================================================================================================================================================================================================================================================================================================================================================================================================================================================================================================================================================================================================================================================================================================================================================================================================================================================================================================================================================================================================================================================================================================================================================================================================================================================================================================================================================================================================================================================================================================================================================================================================================================================================================================================================================================================================================================================================================================================================================================================================================================================================================================================================================================================================================================================================================================================================================================================================================================================================================================================================================================================================================================================================================================================================================================================================================================================================================================================================================================================================================================================================================================================================================================================================================================================================================================================================================================================================================================================================================================================================================================================================================================================================================================================================================================================================================================================================================================================================================================================================================================================================================================================================================================================================================================================================================================================================================================================================================================================================================================================================================================================================================================================================================================================================================================================================================================================================================================================================================================================================================================================================================================================================================================================================================================================================================================================================================================================================================================================================================================================================================================================================================================================================================================================================================================================================================================================================================================================================================================================================================================================================================================================================================================================================================================================================================================================================================================================================================================================================================================================================================================================================================================================================================================================================================================================================================================================================================================================================================================================================================================================================================================================================================================================================================================================================================================================================================================================================================================================================================================================================================================================================================================================================================================================================================================================================================================================================================================================================================================================================================================================================================================================================================================================================================================================================================================================================================================================================================================================================================================================================================================================================================================================================================================================================================================================================================================================================================================================================================================================================================================================================================================================================================================================================================================================================================================================================================================================================================================================================================================================================================================================================================================================================================================================================================================================================================================================================================================================================================================================================================================================================================================================================================================================================================================================================================================================================================================================================================================================================================================================================================================================================================================================================================================================================================================================================================================================================================================================================================================================================================================================================================================================================================================================================================================================================================================================================================================================================================================================================================================================================================================================================================================================================================================================================================================================================================================================================================================================================================================================================================================================================================================================================================================================================================================================================================================================================================================================================================================================================================================================================================================================================================================================================================================================================================================================================================================================================================================================================================================================================================================================================================================================================================================================================================================================================================================================================================================================================================================================================================================================================================================================================================================================================================================================================================================================================================================================================================================================================================================================================================================================================================================================================================================================================================================================================================================================================================================================================================================================================================================================================================================================================================================================================================================================================================================================================================================================================================================================================================================================================================================================================================================================================================================================================================================================================================================================================================================================================================================================================================================================================================================================================================================================================================================================================================================================================================================================================================================================================================================================================================================================================================================================================================================================================================================================================================================================================================================================================================================================================================================================================================================================================================================================================================================================================================================================================================================================================================================================================================================================================================================================================================================================================================================================================================================================================================================================================================================================================================================================================================================================================================================================================================================================================================================================================================================================================================================================================================================================================================================================================================================================================================================================================================================================================================================================================================================================================================================================================================================================================================================================================================================================================================================================================================================================================================================================================================================================================================================================================================================================================================================================================================================================================================================================================================================================================================================================================================================================================================================================================================================================================================================================================================================================================================================================================================================================================================================================================================================================================================================================================================================================================================================================================================================================================================================================================================================================================================================================================================================================================================================================================================================================================================================================================================================================================================================================================================================================================================================================================================================================================================================================================================================================================================================================================================================================================================================================================================================================================================================================================================================================================================================================================================================================================================================================================================================================================================================================================================================================================================================================================================================================================================================================================================================================================================================================================================================================================================================================================================================================================================================================================================================================================================================================================================================================================================================================================================================================================================================================================================================================================================================================================================================================================================================================================================================================================================================================================================================================================================================================================================================================================================================================================================================================================================================================================================================================================================================================================================================================================================================================================================================================================================================================================================================================================================================================================================================================================================================================================================================================================================================================================================================================================================================================================================================================================================================================================================================================================================================================================================================================================================================================================================================================================================================================================================================================================================================================================================================================================================================================================================================================================================================================================================================================================================================================================================================================================================================================================================================================================================================================================================================================================================================================================================================================================================================================================================================================================================================================================================================================================================================================================================================================================================================================================================================================================================================================================================================================================================================================================================================================================================================================================================================================================================================================================================================================================================================================================================================================================================================================================================================================================================================================================================================================================================================================================================================================================================================================================================================================================================================================================================================================================================================================================================================================================================================================================================================================================================================================================================================================================================================================================================================================================================================================================================================================================================================================================================================================================================================================================================================================================================================================================================================================================================================================================================================================================================================================================================================================================================================================================================================================================================================================================================================================================================================================================================================================================================================================================================================================================================================================================================================================================================================================================================================================================================================================================================================================================================================================================================================================================================================================================================================================================================================================================================================================================================================================================================================================================================================================================================================================================================================================================================================================================================================================================================================================================================================================================================================================================================================================================================================================================================================================================================================================================================================================================================================================================================================================================================================================================================================================================================================================================================================================================================================================================================================================================================================================================================================================================================================================================================================================================================================================================================================================================================================================================================================================================================================================================================================================================================================================================================================================================================================================================================================================================================================================================================================================================================================================================================================================================================================================================================================================================================================================================================================================================================================================================================================================================================================================================================================================================================================================================================================================================================================================================================================================================================================================================================================================================================================================================================================================================================================================================================================================================================================================================================================================================================================================================================================================================================================================================================================================================================================================================================================================================================================================================================================================================================================================================================================================================================================================================================================================================================================================================================================================================================================================================================================================================================================================================================================================================================================================================================================================================================================================================================================================================================================================================================================================================================================================================================================================================================================================================================================================================================================================================================================================================================================================================================================================================================================================================================================================================================================================================================================================================================================================================================================================================================================================================================================================================================================================================================================================================================================================================================================================================================================================================================================================================================================================================================================================================================================================================================================================================================================================================================================================================================================================================================================================================================================================================================================================================================================================================================================================================================================================================================================================================================================================================================================================================================================================================================================================================================================================================================================================================================================================================================================================================================================================================================================================================================================================================================================================================================================================================================================================================================================================================================================================================================================================================================================================================================================================================================================================================================================================================================================================================================================================================================================================================================================================================================================================================================================================================================================================================================================================================================================================================================================================================================================================================================================================================================================================================================================================================================================================================================================================================================================================================================================================================================================================================================================================================================================================================================================================================================================================================================================================================================================================================================================================================================================================================================================================================================================================================================================================================================================================================================================================================================================================================================================================================================================================================================================================================================================================================================================================================================================================================================================================================================================================================================================================================================================================================================================================================================================================================================================================================================================================================================================================================================================================================================================================================================================================================================================================================================================================================================================================================================================================================================================================================================================================================================================================================================================================================================================================================================================================================================================================================================================================================================================================================================================================================================================================================================================================================================================================================================================================================================================================================================================================================================================================================================================================================================================================================================================================================================================================================================================================================================================================================================================================================================================================================================================================================================================================================================================================================================================================================================================================================================================================================================================================================================================================================================================================================================================================================================================================================================================================================================================================================================================================================================================================================================================================================================================================================================================================================================================================================================================================================================================================================================================================================================================================================================================================================================================================================================================================================================================================================================================================================================================================================================================================================================================================================================================================================================================================================================================================================================================================================================================================================================================================================================================================================================================================================================================================================================================================================================================================================================================================================================================================================================================================================================================================================================================================================================================================================================================================================================================================================================================================================================================================================================================================================================================================================================================================================================================================================================================================================================================================================================================================================================================================================================================================================================================================================================================================================================================================================================================================================================================================================================================================================================================================================================================================================================================================================================================================================================================================================================================================================================================================================================================================================================================================================================================================================================================================================================================================================================================================================================================================================================================================================================================================================================================================================================================================================================================================================================================================================================================================================================================================================================================================================================================================================================================================================================================================================================================================================================================================================================================================================================================================================================================================================================================================================================================================================================================================================================================================================================================================================================================================================================================================================================================================================================================================================================================================================================================================================================================================================================================================================================================================================================================================================================================================================================================================================================================================================================================================================================================================================================================================================================================================================================================================================================================================================================================================================================================================================================================================================================================================================================================================================================================================================================================================================================================================================================================================================================================================================================================================================================================================================================================================================================================================================================================================================================================================================================================================================================================================================================================================================================================================================================================================================================================================================================================================================================================================================================================================================================================================================================================================================================================================================================================================================================================================================================================================================================================================================================================================================================================================================================================================================================================================================================================================================================================================================================================================================================================================================================================================================================================================================================================================================================================================================================================================================================================================================================================================================================================================================================================================================================================================================================================================================================================================================================================================================================================================================================================================================================================================================================================================================================================================================================================================================================================================================================================================================================================================================================================================================================================================================================================================================================================================================================================================================================================================================================================================================================================================================================================================================================================================================================================================================================================================================================================================================================================================================================================================================================================================================================================================================================================================================================================================================================================================================================================================================================================================================================================================================================================================================================================================================================================================================================================================================================================================================================================================================================================================================================================================================================================================================================================================================================================================================================================================================================================================================================================================================================================================================================================================================================================================================================================================================================================================================================================================================================================================================================================================================================================================================================================================================================================================================================================================================================================================================================================================================================================================================================================================================================================================================================================================================================================================================================================================================================================================================================================================================================================================================================================================================================================================================================================================================================================================================================================================================================================================================================================================================================================================================================================================================================================================================================================================================================================================================================================================================================================================================================================================================================================================================================================================================================================================================================================================================================================================================================================================================================================================================================================================================================================================================================================================================================================================================================================================================================================================================================================================================================================================================================================================================================================================================================================================================================================================================================================================================================================================================================================================================================================================================================================================================================================================================================================================================================================================================================================================================================================================================================================================================================================================================================================================================================================================================================================================================================================================================================================================================================================================================================================================================================================================================================================================================================================================================================================================================================================================================================================================================================================================================================================================================================================================================================================================================================================================================================================================================================================================================================================================================================================================================================================================================================================================================================================================================================================================================================================================================================================================================================================================================================================================================================================================================================================================================================================================================================================================================================================================================================================================================================================================================================================================================================================================================================================================================================================================================================================================================================================================================================================================================================================================================================================================================================================================================================================================================================================================================================================================================================================================================================================================================================================================================================================================================================================================================================================================================================================================================================================================================================================================================================================================================================================================================================================================================================================================================================================================================================================================================================================================================================================================================================================================================================================================================================================================================================================================================================================================================================================================================================================================================================================================================================================================================================================================================================================================================================================================================================================================================================================================================================================================================================================================================================================================================================================================================================================================================================================================================================================================================================================================================================================================================================================================================================================================================================================================================================================================================================================================================================================================================================================================================================================================================================================================================================================================================================================================================================================================================================================================================================================================================================================================================================================================================================================================================================================================================================================================================================================================================================================================================================================================================================================================================================================================================================================================================================================================================================================================================================================================================================================================================================================================================================================================================================================================================================================================================================================================================================================================================================================================================================================================================================================================================================================================================================================================================================================================================================================================================================================================================================================================================================================================================================================================================================================================================================================================================================================================================================================================================================================================================================================================================================================================================================================================================================================================================================================================================================================================================================================================================================================================================================================================================================================================================================================================================================================================================================================================================================================================================================================================================================================================================================================================================================================================================================================================================================================================================================================================================================================================================================================================================================================================================================================================================================================================================================================================================================================================================================================================================================================================================================================================================================================================================================================================================================================================================================================================================================================================================================================================================================================================================================================================================================================================================================================================================================================================================================================================================================================================================================================================================================================================================================================================================================================================================================================================================================================================================================================================================================================================================================================================================================================================================================================================================================================================================================================================================================================================================================================================================================================================================================================================================================================================================================================================================================================================================================================================================================================================================================================================================================================================================================================================================================================================================================================================================================================================================================================================================================================================================================================================================================================================================================================================================================================================================================================================================================================================================================================================================================================================================================================================================================================================================================================================================================================================================================================================================================================================================================================================================================================================================================================================================================================================================================================================================================================================================================================================================================================================================================================================================================================================================================================================================================================================================================================================================================================================================================================================================================================================================================================================================================================================================================================================================================================================================================================================================================================================================================================================================================================================================================================================================================================================================================================================================================================================================================================================================================================================================================================================================================================================================================================================================================================================================================================================================================================================================================================================================================================================================================================================================================================================================================================================================================================================================================================================================================================================================================================================================================================================================================================================================================================================================================================================================================================================================================================================================================================================================================================================================================================================================================================================================================================================================================================================================================================================================================================================================================================================================================================================================================================================================================================================================================================================================================================================================================================================================================================================================================================================================================================================================================================================================================================================================================================================================================================================================================================================================================================================================================================================================================================================================================================================================================================================================================================================================================================================================================================================================================================================================================================================================================================================================================================================================================================================================================================================================================================================================================================================================================================================================================================================================================================================================================================================================================================================================================================================================================================================================================================================================================================================================================================================================================================================================================================================================================================================================================================================================================================================================================================================================================================================================================================================================================================================================================================================================================================================================================================================================================================================================================================================================================================================================================================================================================================================================================================================================================================================================================================================================================================================================================================================================================================================================================================================================================================================================================================================================================================================================================================================================================================================================================================================================================================================================================================================================================================================================================================================================================================================================================================================================================================================================================================================================================================================================================================================================================================================================================================================================================================================================================================================================================================================================================================================================================================================================================================================================================================================================================================================================================================================================================================================================================================================================================================================================================================================================================================================================================================================================================================================================================================================================================================================================================================================================================================================================================================================================================================================================================================================================================================================================================================================================================================================================================================================================================================================================================================================================================================================================================================================================================================================================================================================================================================================================================================================================================================================================================================================================================================================================================================================================================================================================================================================================================================================================================================================================================================================================================================================================================================================================================================================================================================================================================================================================================================================================================================================================================================================================================================================================================================================================================================================================================================================================================================================================================================================================================================================================================================================================================================================================================================================================================================================================================================================================================================================================================================================================================================================================================================================================================================================================================================================================================================================================================================================================================================================================================================================================================================================================================================================================================================================================================================================================================================================================================================================================================================================================================================================================================================================================================================================================================================================================================================================================================================================================================================================================================================================================================================================================================================================================================================================================================================================================================================================================================================================================================================================================================================================================================================================================================================================================================================================================================================================================================================================================================================================================================================================================================================================================================================================================================================================================================================================================================================================================================================================================================================================================================================================================================================================================================================================================================================================================================================================================================================================================================================================================================================================================================================================================================================================================================================================================================================================================================================================================================================================================================================================================================================================================================================================================================================================================================================================================================================================================================================================================================================================================================================================================================================================================================================================================================================================================================================================================================================================================================================================================================================================================================================================================================================================================================================================================================================================================================================================================================================================================================================================================================================================================================================================================================================================================================================================================================================================================================================================================================================================================================================================================================================================================================================================================================================================================================================================================================================================================================================================================================================================================================================================================================================================================================================================================================================================================================================================================================================================================================================================================================================================================================================================================================================================================================================================================================================================================================================================================================================================================================================================================================================================================================================================================================================================================================================================================================================================================================================================================================================================================================================================================================================================================================================================================================================================================================================================================================================================================================================================================================================================================================================================================================================================================================================================================================================================================================================================================================================================================================================================================================================================================================================================================================================================================================================================================================================================================================================================================================================================================================================================================================================================================================================================================================================================================================================================================================================================================================================================================================================================================================================================================================================================================================================================================================================================================================================================================================================================================================================================================================================================================================================================================================================================================================================================================================================================================================================================================================================================================================================================================================================================================================================================================================================================================================================================================================================================================================================================================================================================================================================================================================================================================================================================================================================================================================================================================================================================================================================================================================================================================================================================================================================================================================================================================================================================================================================================================================================================================================================================================================================================================================================================================================================================================================================================================================================================================================================================================================================================================================================================================================================================================================================================================================================================================================================================================================================================================================================================================================================================================================================================================================================================================================================================================================================================================================================================================================================================================================================================================================================================================================================================================================================================================================================================================================================================================================================================================================================================================================================================================================================================================================================================================================================================================================================================================================================================================================================================================================================================================================================================================================================================================================================================================================================================================================================================================================================================================================================================================================================================================================================================================================================================================================================================================================================================================================================================================================================================================================================================================================================================================================================================================================================================================================================================================================================================================================================================================================================================================================================================================================================================================================================================================================================================================================================================================================================================================================================================================================================================================================================================================================================================================================================================================================================================================================================================================================================================================================================================================================================================================================================================================================================================================================================================================================================================================================================================================================================================================================================================================================================================================================================================================================================================================================================================================================================================================================================================================================================================================================================================================================================================================================================================================================================================================================================================================================================================================================================================================================================================================================================================================================================================================================================================================================================================================================================================================================================================================================================================================================================================================================================================================================================================================================================================================================================================================================================================================================================================================================================================================================================================================================================================================================================================================================================================================================================================================================================================================================================================================================================================================================================================================================================================================================================================================================================================================================================================================================================================================================================================================================================================================================================================================================================================================================================================================================================================================================================================================================================================================================================================================================================================================================================================================================================================================================================================================================================================================================================================================================================================================================================================================================================================================================================================================================================================================================================================================================================================================================================================================================================================================================================================================================================================================================================================================================================================================================================================================================================================================================================================================================================================================================================================================================================================================================================================================================================================================================================================================================================================================================================================================================================================================================================================================================================================================================================================================================================================================================================================================================================================================================================================================================================================================================================================================================================================================================================================================================================================================================================================================================================================================================================================================================================================================================================================================================================================================================================================================================================================================================================================================================================================================================================================================================================================================================================================================================================================================================================================================================================================================================================================================================================================================================================================================================================================================================================================================================================================================================================================================================================================================================================================================================================================================================================================================================================================================================================================================================================================================================================================================================================================================================================================================================================================================================================================================================================================================================================================================================================================================================================================================================================================================================================================================================================================================================================================================================================================================================================================================================================================================================================================================================================================================================================================================================================================================================================================================================================================================================================================================================================================================================================================================================================================================================================================================================================================================================================================================================================================================================================================================================================================================================================================================================================================================================================================================================================================================================================================================================================================================================================================================================================================================================================================================================================================================================================================================================================================================================================================================================================================================================================================================================================================================================================================================================================================================================================================================================================================================================================================================================================================================================================================================================================================================================================================================================================================================================================================================================================================================================================================================================================================================================================================================================================================================================================================================================================================================================================================================================================================================================================================================================================================================================================================================================================================================================================================================================================================================================================================================================================================================================================================================================================================================================================================================================================================================================================================================================================================================================================================================================================================================================================================================================================================================================================================================================================================================================================================================================================================================================================================================================================================================================================================================================================================================================================================================================================================================================================================================================================================================================================================================================================================================================================================================================================================================================================================================================================================================================================================================================================================================================================================================================================================================================================================================================================================================================================================================================================================================================================================================================================================================================================================================================================================================================================================================================================================================================================================================================================================================================================================================================================================================================================================================================================================================================================================================================================================================================================================================================================================================================================================================================================================================================================================================================================================================================================================================================================================================================================================================================================================================================================================================================================================================================================================================================================================================================================================================================================================================================================================================================================================================================================================================================================================================================================================================================================================================================================================================================================================================================================================================================================================================================================================================================================================================================================================================================================================================================================================================================================================================================================================================================================================================================================================================================================================================================================================================================================================================================================================================================================================================================================================================================================================================================================================================================================================================================================================================================================================================================================================================================================================================================================================================================================================================================================================================================================================================================================================================================================================================================================================================================================================================================================================================================================================================================================================================================================================================================================================================================================================================================================================================================================================================================================================================================================================================================================================================================================================================================================================================================================================================================================================================================================================================================================================================================================================================================================================================================================================================================================================================================================================================================================================================================================================================================================================================================================================================================================================================================================================================================================================================================================================================================================================================================================================================================================================================================================================================================================================================================================================================================================================================================================================================================================================================================================================================================================================================================================================================================================================================================================================================================================================================================================================================================================================================================================================================================================================================================================================================================================================================================================================================================================================================================================================================================================================================================================================================================================================================================================================================================================================================================================================================================================================================================================================================================================================================================================================================================================================================================================================================================================================================================================================================================================================================================================================================================================================================================================================================================================================================================================================================================================================================================================================================================================================================================================================================================================================================================================================================================================================================================================================================================================================================================================================================================================================================================================================================================================================================================================================================================================================================================================================================================================================================================================================================================================================================================================================================================================================================================================================================================================================================================================================================================================================================================================================================================================================================================================================================================================================================================================================================================================================================================================================================================================================================================================================================================================================================================================================================================================================================================================================================================================================================================================================================================================================================================================================================================================================================================================================================================================================================================================================================================================================================================================================================================================================================================================================================================================================================================================================================================================================================================================================================================================================================================================================================================================================================================================================================================================================================================================================================================================================================================================================================================================================================================================================================================================================================================================================================================================================================================================================================================================================================================================================================================================================================================================================================================================================================================================================================================================================================================================================================================================================================================================================================================================================================================================================================================================================================================================================================================================================================================================================================================================================================================================================================================================================================================================================================================================================================================================================================================================================================================================================================================================================================================================================================================================================================================================================================================================================================================================================================================================================================================================================================================================================================================================================================================================================================================================================================================================================================================================================================================================================================================================================================================================================================================================================================================================================================================================================================================================================================================================================================================================================================================================================================================================================================================================================================================================================================================================================================================================================================================================================================================================================================================================================================================================================================================================================================================================================================================================================================================================================================================================================================================================================================================================================================================================================================================================================================================================================================================================================================================================================================================================================================================================================================================================================================================================================================================================================================================================================================================================================================================================================================================================================================================================================================================================================================================================================================================================================================================================================================================================================================================================================================================================================================================================================================================================================================================================================================================================================================================================================================================================================================================================================================================================================================================================================================================================================================================================================================================================================================================================================================================================================================================================================================================================================================================================================================================================================================================================================================================================================================================================================================================================================================================================================================================================================================================================================================================================================================================================================================================================================================================================================================================================================================================================================================================================================================================================================================================================================================================================================================================================================================================================================================================================================================================================================================================================================================================================================================================================================================================================================================================================================================================================================================================================================================================================================================================================================================================================================================================================================================================================================================================================================================================================================================================================================================================================================================================================================================================================================================================================================================================================================================================================================================================================================================================================================================================================================================================================================================================================================================================================================================================================================================================================================================================================================================================================================================================================================================================================================================================================================================================================================================================================================================================================================================================================================================================================================================================================================================================================================================================================================================================================================================================================================================================================================================================================================================================================================================================================================================================================================================================================================================================================================================================================================================================================================================================================================================================================================================================================================================================================================================================================================================================================================================================================================================================================================================================================================================================================================================================================================================================================================================================================================================================================================================================================================================================================================================================================================================================================================================================================================================================================================================================================================================================================================================================================================================================================================================================================================================================================================================================================================================================================================================================================================================================================================================================================================================================================================================================================================================================================================================================================================================================================================================================================================================================================================================================================================================================================================================================================================================================================================================================================================================================================================================================================================================================================================================================================================================================================================================================================================================================================================================================================================================================================================================================================================================================================================================================================================================================================================================================================================================================================================================================================================================================================================================================================================================================================================================================================================================================================================================================================================================================================================================================================================================================================================================================================================================================================================================================================================================================================================================================================================================================================================================================================================================================================================================================================================================================================================================================================================================================================================================================================================================================================================================================================================================================================================================================================================================================================================================================================================================================================================================================================================================================================================================================================================================================================================================================================================================================================================================================================================================================================================================================================================================================================================================================================================================================================================================================================================================================================================================================================================================================================================================================================================================================================================================================================================================================================================================================================================================================================================================================================================================================================================================================================================================================================================================================================================================================================================================================================================================================================================================================================================================================================================================================================================================================================================================================================================================================================================================================================================================================================================================================================================================================================================================================================================================================================================================================================================================================================================================================================================================================================================================================================================================================================================================================================================================================================================================================================================================================================================================================================================================================================================================================================================================================================================================================================================================================================================================================================================================================================================================================================================================================================================================================================================================================================================================================================================================================================================================================================================================================================================================================================================================================================================================================================================================================================================================================================================================================================================================================================================================================================================================================================================================================================================================================================================================================================================================================================================================================================================================================================================================================================================================================================================================================================================================================================================================================================================================================================================================================================================================================================================================================================================================================================================================================================================================================================================================================================================================================================================================================================================================================================================================================================================================================================================================================================================================================================================================================================================================================================================================================================================================================================================================================================================================================================================================================================================================================================================================================================================================================================================================================================================================================================================================================================================================================================================================================================================================================================================================================================================================================================================================================================================================================================================================================================================================================================================================================================================================================================================================================================================================================================================================================================================================================================================================================================================================================================================================================================================================================================================================================================================================================================================================================================================================================================================================================================================================================================================================================================================================================================================================================================================================================================================================================================================================================================================================================================================================================================================================================================================================================================================================================================================================================================================================================================================================================================================================================================================================================================================================================================================================================================================================================================================================================================================================================================================================================================================================================================================================================================================================================================================================================================================================================================================================================================================================================================================================================================================================================================================================================================================================================================================================================================================================================================================================================================================================================================================================================================================================================================================================================================================================================================================================================================================================================================================================================================================================================================================================================================================================================================================================================================================================================================================================================================================================================================================================================================================================================================================================================================================================================================================================================================================================================================================================================================================================================================================================================================================================================================================================================================================================================================================================================================================================================================================================================================================================================================================================================================================================================================================================================================================================================================================================================================================================================================================================================================================================================================================================================================================================================================================================================================================================================================================================================================================================================================================================================================================================================================================================================================================================================================================================================================================================================================================================================================================================================================================================================================================================================================================================================================================================================================================================================================================================================================================================================================================================================================================================================================================================================================================================================================================================================================================================================================================================================================================================================================================================================================================================================================================================================================================================================================================================================================================================================================================================================================================================================================================================================================================================================================================================================================================================================================================================================================================================================================================================================================================================================================================================================================================================================================================================================================================================================================================================================================================================================================================================================================================================================================================================================================================================================================================================================================================================================================================================================================================================================================================================================================================================================================================================================================================================================================================================================================================================================================================================================================================================================================================================================================================================================================================================================================================================================================================================================================================================================================================================================================================================================================================================================================================================================================================================================================================================================================================================================================================================================================================================================================================================================================================================================================================================================================================================================================================================================================================================================================================================================================================================================================================================================================================================================================================================================================================================================================================================================================================================================================================================================================================================================================================================================================================================================================================================================================================================================================================================================================================================================================================================================================================================================================================================================================================================================================================================================================================================================================================================================================================================================================================================================================================================================================================================================================================================================================================================================================================================================================================================================================================================================================================================================================================================================================================================================================================================================================================================================================================================================================================================================================================================================================================================================================================================================================================================================================================================================================================================================================================================================================================================================================================================================================================================================================================================================================================================================================================================================================================================================================================================================================================================================================================================================================================================================================================================================================================================================================================================================================================================================================================================================================================================================================================================================================================================================================================================================================================================================================================================================================================================================================================================================================================================================================================================================================================================================================================================================================================================================================================================================================================================================================================================================================================================================================================================================================================================================================================================================================================================================================================================================================================================================================================================================================================================================================================================================================================================================================================================================================================================================================================================================================================================================================================================================================================================================================================================================================================================================================================================================================================================================================================================================================================================================================================================================================================================================================================================================================================================================================================================================================================================================================================================================================================================================================================================================================================================================================================================================================================================================================================================================================================================================================================================================================================================================================================================================================================================================================================================================================================================================================================================================================================================================================================================================================================================================================================================================================================================================================================================================================================================================================================================================================================================================================================================================================================================================================================================================================================================================================================================================================================================================================================================================================================================================================================================================================================================================================================================================================================================================================================================================================================================================================================================================================================================================================================================================================================================================================================================================================================================================================================================================================================================================================================================================================================================================================================================================================================================================================================================================================================================================================================================================================================================================================================================================================================================================================================================================================================================================================================================================================================================================================================================================================================================================================================================================================================================================================================================================================================================================================================================================================================================================================================================================================================================================================================================================================================================================================================================================================================================================================================================================================================================================================================================================================================================================================================================================================================================================================================================================================================================================================================================================================================================================================================================================================================================================================================================================================================================================================================================================================================================================================================================================================================================================================================================================================================================================================================================================================================================================================================================================================================================================================================================================================================================================================================================================================================================================================================================================================================================================================================================================================================================================================================================================================================================================================================================================================================================================================================================================================================================================================================================================================================================================================================================================================================================================================================================================================================================================================================================================================================================================================================================================================================================================================================================================================================================================================================================================================================================================================================================================================================================================================================================================================================================================================================================================================================================================================================================================================================================================================================================================================================================================================================================================================================================================================================================================================================================================================================================================================================================================================================================================================================================================================================================================================================================================================================================================================================================================================================================================================================================================================================================================================================================================================================================================================================================================================================================================================================================================================================================================================================================================================================================================================================================================================================================================================================================================================================================================================================================================================================================================================================================================================================================================================================================================================================================================================================================================================================================================================================================================================================================================================================================================================================================================================================================================================================================================================================================================================================================================================================================================================================================================================================================================================================================================================================================================================================================================================================================================================================================================================================================================================================================================================================================================================================================================================================================================================================================================================================================================================================================================================================================================================================================================================================================================================================================================================================================================================================================================================================================================================================================================================================================================================================================================================================================================================================================================================================================================================================================================================================================================================================================================================================================================================================================================================================================================================================================================================================================================================================================================================================================================================================================================================================================================================================================================================================================================================================================================================================================================================================================================================================================================================================================================================================================================================================================================================================================================================================================================================================================================================================================================================================================================================================================================================================================================================================================================================================================================================================================================================================================================================================================================================================================================================================================================================================================================================================================================================================================================================================================================================================================================================================================================================================================================================================================================================================================================================================================================================================================================================================================================================================================================================================================================================================================================================================================================================================================================================================================================================================================================================================================================================================================================================================================================================================================================================================================================================================================================================================================================================================================================================================================================================================================================================================================================================================================================================================================================================================================================================================================================================================================================================================================================================================================================================================================================================================================================================================================================================================================================================================================================================================================================================================================================================================================================================================================================================================================================================================================================================================================================================================================================================================================================================================================================================================================================================================================================================================================================================================================================================================================================================================================================================================================================================================================================================================================================================================================================================================================================================================================================================================================================================================================================================================================================================================================================================================================================================================================================================================================================================================================================================================================================================================================================================================================================================================================================================================================================================================================================================================================================================================================================================================================================================================================================================================================================================================================================================================================================================================================================================================================================================================================================================================================================================================================================================================================================================================================================================================================================================================================================================================================================================================================================================================================================================================================================================================================================================================================================================================================================================================================================================================================================================================================================================================================================================================================================================================================================================================================================================================================================================================================================================================================================================================================================================================================================================================================================================================================================================================================================================================================================================================================================================================================================================================================================================================================================================================================================================================================================================================================================================================================================================================================================================================================================================================================================================================================================================================================================================================================================================================================================================================================================================================================================================================================================================================================================================================================================================================================================================================================================================================================================================================================================================================================================================================================================================================================================================================================================================================================================================================================================================================================================================================================================================================================================================================================================================================================================================================================================================================================================================================================================================================================================================================================================================================================================================================================================================================================================================================================================================================================================================================================================================================================================================================================================================================================================================================================================================================================================================================================================================================================================================================================================================================================================================================================================================================================================================================================================================================================================================================================================================================================================================================================================================================================================================================================================================================================================================================================================================================================================================================================================================================================================================================================================================================================================================================================================================================================================================================================================================================================================================================================================================================================================================================================================================================================================================================================================================================================================================================================================================================================================================================================================================================================================================================================================================================================================================================================================================================================================================================================================================================================================================================================================================================================================================================================================================================================================================================================================================================================================================================================================================================================================================================================================================================================================================================================================================================================================================================================================================================================================================================================================================================================================================================================================================================================================================================================================================================================================================================================================================================================================================================================================================================================================================================================================================================================================================================================================================================================================================================================================================================================================================================================================================================================================================================================================================================================================================================================================================================================================================================================================================================================================================================================================================================================================================================================================================================================================================================================================================================================================================================================================================================================================================================================================================================================================================================================================================================================================================================================================================================================================================================================================================================================================================================================================================================================================================================================================================================================================================================================================================================================================================================================================================================================================================================================================================================================================================================================================================================================================================================================================================================================================================================================================================================================================================================================================================================================================================================================================================================================================================================================================================================================================================================================================================================================================================================================================================================================================================================================================================================================================================================================================================================================================================================================================================================================================================================================================================================================================================================================================================================================================================================================================================================================================================================================================================================================================================================================================================================================================================================================================================================================================================================================================================================================================================================================================================================================================================================================================================================================================================================================================================================================================================================================================================================================================================================================================================================================================================================================================================================================================================================================================================================================================================================================================================================================================================================================================================================================================================================================================================================================================================================================================================================================================================================================================================================================================================================================================================================================================================================================================================================================================================================================================================================================================================================================================================================================================================================================================================================================================================================================================================================================================================================================================================================================================================================================================================================================================================================================================================================================================================================================================================================================================================================================================================================================================================================================================================================================================================================================================================================================================================================================================================================================================================================================================================================================================================================================================================================================================================================================================================================================================================================================================================================================================================================================================================================================================================================================================================================================================================================================================================================================================================================================================================================================================================================================================================================================================================================================================================================================================================================================================================================================================================================================================================================================================================================================================================================================================================================================================================================================================================================================================================================================================================================================================================================================================================================================================================================================================================================================================================================================================================================================================================================================================================================================================================================================================================================================================================================================================================================================================================================================================================================================================================================================================================================================================================================================================================================================================================================================================================================================================================================================================================================================================================================================================================================================================================================================================================================================================================================================================================================================================================================================================================================================================================================================================================================================================================================================================================================================================================================================================================================================================================================================================================================================================================================================================================================================================================================================================================================================================================================================================================================================================================================================================================================================================================================================================================================================================================================================================================================================================================================================================================================================================================================================================================================================================================================================================================================================================================================================================================================================================================================================================================================================================================================================================================================================================================================================================================================================================================================================================================================================================================================================================================================================================================================================================================================================================================================================================================================================================================================================================================================================================================================================================================================================================================================================================================================================================================================================================================================================================================================================================================================================================================================================================================================================================================================================================================================================================================================================================================================================================================================================================================================================================================================================================================================================================================================================================================================================================================================================================================================================================================================================================================================================================================================================================================================================================================================================================================================================================================================================================================================================================================================================================================================================================================================================================================================================================================================================================================================================================================================================================================================================================================================================================================================================================================================================================================================================================================================================================================================================================================================================================================================================================================================================================================================================================================================================================================================================================================================================================================================================================================================================================================================================================================================================================================================================================================================================================================================================================================================================================================================================================================================================================================================================================================================================================================================================================================================================================================================================================================================================================================================================================================================================================================================================================================================================================================================================================================================================================================================================================================================================================================================================================================================================================================================================================================================================================================================================================================================================================================================================================================================================================================================================================================================================================================================================================================================================================================================================================================================================================================================================================================================================================================================================================================================================================================================================================================================================================================================================================================================================================================================================================================================================================================================================================================================================================================================================================================================================================================================================================================================================================================================================================================================================================================================================================================================================================================================================================================================================================================================================================================================================================================================================================================================================================================================================================================================================================================================================================================================================================================================================================================================================================================================================================================================================================================================================================================================================================================================================================================================================================================================================================================================================================================================================================================================================================================================================================================================================================================================================================================================================================================================================================================================================================================================================================================================================================================================================================================================================================================================================================================================================================================================================================================================================================================================================================================================================================================================================================================================================================================================================================================================================================================================================================================================================================================================================================================================================================================================================================================================================================================================================================================================================================================================================================================================================================================================================================================================================================================================================================================================================================================================================================================================================================================================================================================================================================================================================================================================================================================================================================================================================================================================================================================================================================================================================================================================================================================================================================================================================================================================================================================================================================================================================================================================================================================================================================================================================================================================================================================================================================================================================================================================================================================================================================================================================================================================================================================================================================================================================================================================================================================================================================================================================================================================================================================================================================================================================================================================================================================================================================================================================================================================================================================================================================================================================================================================================================================================================================================================================================================================================================================================================================================================================================================================================================================================================================================================================================================================================================================================================================================================================================================================================================================================================================================================================================================================================================================================================================================================================================================================================================================================================================================================================================================================================================================================================================================================================================================================================================================================================================================================================================================================================================================================================================================================================================================================================================================================================================================================================================================================================================================================================================================================================================================================================================================================================================================================================================================================================================================================================================================================================================================================================================================================================================================================================================================================================================================================================================================================================================================================================================================================================================================================================================================================================================================================================================================================================================================================================================================================================================================================================================================================================================================================================================================================================================================================================================================================================================================================================================================================================================================================================================================================================================================================================================================================================================================================================================================================================================================================================================================================================================================================================================================================================================================================================================================================================================================================================================================================================================================================================================================================================================================================================================================================================================================================================================================================================================================================================================================================================================================================================================================================================================================================================================================================================================================================================================================================================================================================================================================================================================================================================================================================================================================================================================================================================================================================================================================================================================================================================================================================================================================================================================================================================================================================================================================================================================================================================================================================================================================================================================================================================================================================================================================================================================================================================================================================================================================================================================================================================================================================================================================================================================================================================================================================================================================================================================================================================================================================================================================================================================================================================================================================================================================================================================================================================================================================================================================================================================================================================================================================================================================================================================================================================================================================================================================================================================================================================================================================================================================================================================================================================================================================================================================================================================================================================================================================================================================================================================================================================================================================================================================================================================================================================================================================================================================================================================================================================================================================================================================================================================================================================================================================================================================================================================================================================================================================================================================================================================================================================================================================================================================================================================================================================================================================================================================================================================================================================================================================================================================================================================================================================================================================================================================================================================================================================================================================================================================================================================================================================================================================================================================================================================================================================================================================================================================================================================================================================================================================================================================================================================================================================================================================================================================================================================================================================================================================================================================================================================================================================================================================================================================================================================================================================================================================================================================================================================================================================================================================================================================================================================================================================================================================================================================================================================================================================================================================================================================================================================================================================================================================================================================================================================================================================================================================================================================================================================================================================================================================================================================================================================================================================================================================================================================================================================================================================================================================================================================================================================================================================================================================================================================================================================================================================================================================================================================================================================================================================================================================================================================================================================================================================================================================================================================================================================================================================================================================================================================================================================================================================================================================================================================================================================================================================================================================================================================================================================================================================================================================================================================================================================================================================================================================================================================================================================================================================================================================================================================================================================================================================================================================================================================================================================================================================================================================================================================================================================================================================================================================================================================================================================================================================================================================================================================================================================================================================================================================================================================================================================================================================================================================================================================================================================================================================================================================================================================================================================================================================================================================================================================================================================================================================================================================================================================================================================================================================================================================================================================================================================================================================================================================================================================================================================================================================================================================================================================================================================================================================================================================================================================================================================================================================================================================================================================================================================================================================================================================================================================================================================================================================================================================================================================================================================================================================================================================================================================================================================================================================================================================================================================================================================================================================================================================================================================================================================================================================================================================================================================================================================================================================================================================================================================================================================================================================================================================================================================================================================================================================================================================================================================================================================================================================================================================================================================================================================================================================================================================================================================================================================================================================================================================================================================================================================================================================================================================================================================================================================================================================================================================================================================================================================================================================================================================================================================================================================================================================================================================================================================================================================================================================================================================================================================================================================================================================================================================================================================================================================================================================================================================================================================================================================================================================================================================================================================================================================================================================================================================================================================================================================================================================================================================================================================================================================================================================================================================================================================================================================================================================================================================================================================================================================================================================================================================================================================================================================================================================================================================================================================================================================================================================================================================================================================================================================================================================================================================================================================================================================================================================================================================================================================================================================================================================================================================================================================================================================================================================================================================================================================================================================================================================================================================================================================================================================================================================================================================================================================================================================================================================================================================================================================================================================================================================================================================================================================================================================================================================================================================================================================================================================================================================================================================================================================================================================================================================================================================================================================================================================================================================================================================================================================================================================================================================================================================================================================================================================================================================================================================================================================================================================================================================================================================================================================================================================================================================================================================================================================================================================================================================================================================================================================================================================================================================================================================================================================================================================================================================================================================================================================================================================================================================================================================================================================================================================================================================================================================================================================================================================================================================================================================================================================================================================================================================================================================================================================================================================================================================================================================================================================================================================================================================================================================================================================================================================================================================================================================================================================================================================================================================================================================================================================================================================================================================================================================================================================================================================================================================================================================================================================================================================================================================================================================================================================================================================================================================================================================================================================================================================================================================================================================================================================================================================================================================================================================================================================================================================================================================================================================================================================================================================================================================================================================================================================================================================================================================================================================================================================================================================================================================================================================================================================================================================================================================================================================================================================================================================================================================================================================================================================================================================================================================================================================================================================================================================================================================================================================================================================================================================================================================================================================================================================================================================================================================================================================================================================================================================================================================================================================================================================================================================================================================================================================================================================================================================================================================================================================================================================================================================================================================================================================================================================================================================================================================================================================================================================================================================================================================================================================================================================================================================================================================================================================================================================================================================================================================================================================================================================================================================================================================================================================================================================================================================================================================================================================================================================================================================================================================================================================================================================================================================================================================================================================================================================================================================================================================================================================================================================================================================================================================================================================================================================================================================================================================================================================================================================================================================================================================================================================================================================================================================================================================================================================================================================================================================================================================================================================================================================================================================================================================================================================================================================================================================================================================================================================================================================================================================================================================================================================================================================================================================================================================================================================================================================================================================================================================================================================================================================================================================================================================================================================================================================================================================================================================================================================================================================================================================================================================================================================================================================================================================================================================================================================================================================================================================================================================================================================================================================================================================================================================================================================================================================================================================================================================================================================================================================================================================================================================================================================================================================================================================================================================================================================================================================================================================================================================================================================================================================================================================================================================================================================================================================================================================================================================================================================================================================================================================================================================================================================================================================================================================================================================================================================================================================================================================================================================================================================================================================================================================================================================================================================================================================================================================================================================================================================================================================================================================================================================================================================================================================================================================================================================================================================================================================================================================================================================================================================================================================================================================================================================================================================================================================================================================================================================================================================================================================================================================================================================================================================================================================================================================================================================================================================================================================================================================================================================================================================================================================================================================================================================================================================================================================================================================================================================================================================================================================================================================================================================================================================================================================================================================================================================================================================================================================================================================================================================================================================================================================================================================================================================================================================================================================================================================================================================================================================================================================================================================================================================================================================================================================================================================================================================================================================================================================================================================================================================================================================================================================================================================================================================================================================================================================================================================================================================================================================================================================================================================================================================================================================================================================================================================================================================================================================================================================================================================================================================================================================================================================================================================================================================================================================================================================================================================================================================================================================================================================================================================================================================================================================================================================================================================================================================================================================================================================================================================================================================================================================================================================================================================================================================================================================================================================================================================================================================================================================================================================================================================================================================================================================================================================================================================================================================================================================================================================================================================================================================================================================================================================================================================================================================================================================================================================================================================================================================================================================================================================================================================================================================================================================================================================================================================================================================================================================================================================================================================================================================================================================================================================================================================================================================================================================================================================================================================================================================================================================================================================================================================================================================================================================================================================================================================================================================================================================================================================================================================================================================================================================================================================================================================================================================================================================================================================================================================================================================================================================================================================================================================================================================================================================================================================================================================================================================================================================================================================================================================================================================================================================================================================================================================================================================================================================================================================================================================================================================================================================================================================================================================================================================================================================================================================================================================================================================================================================================================================================================================================================================================================================================================================================================================================================================================================================================================================================================================================================================================================================================================================================================================================================================================================================================================================================================================================================================================================================================================================================================================================================================================================================================================================================================================================================================================================================================================================================================================================================================================================================================================================================================================================================================================================================================================================================================================================================================================================================================================================================================================================================================================================================================================================================================================================================================================================================================================================================================================================================================================================================================================================================================================================================================================================================================================================================================================================================================================================================================================================================================================================================================================================================================================================================================================================================================================================================================================================================================================================================================================================================================================================================================================================================================================================================================================================================================================================================================================================================================================================================================================================================================================================================================================================================================================================================================================================================================================================================================================================================================================================================================================================================================================================================================================================================================================================================================================================================================================================================================================================================================================================================================================================================================================================================================================================================================================================================================================================================================================================================================================================================================================================================================================================================================================================================================================================================================================================================================================================================================================================================================================================================================================================================================================================================================================================================================================================================================================================================================================================================================================================================================================================================================================================================================================================================================================================================================================================================================================================================================================================================================================================================================================================================================================================================================================================================================================================================================================================================================================================================================================================================================================================================================================================================================================================================================================================================================================================================================================================================================================================================================================================================================================================================================================================================================================================================================================================================================================================================================================================================================================================================================================================================================================================================================================================================================================================================================================================================================================================================================================================================================================================================================================================================================================================================================================================================================================================================================================================================================================================================================================================================================================================================================================================================================================================================================================================================================================================================================================================================================================================================================================================================================================================================================================================================================================================================================================================================================================================================================================================================================================================================================================================================================================================================================================================================================================================================================================================================================================================================================================================================================================================================================================================================================================================================================================================================================================================================================================================================================================================================================================================================================================================================================================================================================================================================================================================================================================================================================================================================================================================================================================================================================================================================================================================================================================================================================================================================================================================================================================================================================================================================================================================================================================================================================================================================================================================================================================================================================================================================================================================================================================================================================================================================================================================================================================================================================================================================================================================================================================================================================================================================================================================================================================================================================================================================================================================================================================================================================================================================================================================================================================================================================================================================================================================================================================================================================================================================================================================================================================================================================================================================================================================================================================================================================================================================================================================================================================================================================================================================================================================================================================================================================================================================================================================================================================================================================================================================================================================================================================================================================================================================================================================================================================================================================================================================================================================================================================================================================================================================================================================================================================================================================================================================================================================================================================================================================================================================================================================================================================================================================================================================================================================================================================================================================================================================================================================================================================================================================================================================================================================================================================================================================================================================================================================================================================================================================================================================================================================================================================================================================================================================================================================================================================================================================================================================================================================================================================================================================================================================================================================================================================================================================================================================================================================================================================================================================================================================================================================================================================================================================================================================================================================================================================================================================================================================================================================================================================================================================================================================================================================================================================================================================================================================================================================================================================================================================================================================================================================================================================================================================================================================================================================================================================================================================================================================================================================================================================================================================================================================================================================================================================================================================================================================================================================================================================================================================================================================================================================================================================================================================================================================================================================================================================================================================================================================================================================================================================================================================================================================================================================================================================================================================================================================================================================================================================================================================================================================================================================================================================================================================================================================================================================================================================================================================================================================================================================================================================================================================================================================================================================================================================================================================================================================================================================================================================================================================================================================================================================================================================================================================================================================================================================================================================================================================================================================================================================================================================================================================================================================================================================================================================================================================================================================================================================================================================================================================================================================================================================================================================================================================================================================================================================================================================================================================================================================================================================================================================================================================================================================================================================================================================================================================================================================================================================================================================================================================================================================================================================================================================================================================================================================================================================================================================================================================================================================================================================================================================================================================================================================================================================================================================================================================================================================================================================================================================================================================================================================================================================================================================================================================================================================================================================================================================================================================================================================================================================================================================================================================================================================================================================================================================================================================================================================================================================================================================================================================================================================================================================================================================================================================================================================================================================================================================================================================================================================================================================================================================================================================================================================================================================================================================================================================================================================================================================================================================================================================================================================================================================================================================================================================================================================================================================================================================================================================================================================================================================================================================================================================================================================================================================================================================================================================================================================================================================================================================================================================================================================================================================================================================================================================================================================================================================================================================================================================================================================================================================================================================================================================================================================================================================================================================================================================================================================================================================================================================================================================================================================================================================================================================================================================================================================================================================================================================================================================================================================================================================================================================================================================================================================================================================================================================================================================================================================================================================================================================================================================================================================================================================================================================================================================================================================================================================================================================================================================================================================================================================================================================================================================================================================================================================================================================================================================================================================================================================================================================================================================================================================================================================================================================================================================================================================================================================================================================================================================================================================================================================================================================================================================================================================================================================================================================================================================================================================================================================================================================================================================================================================================================================================================================================================================================================================================================================================================================================================================================================================================================================================================================================================================================================================================================================================================================================================================================================================================================================================================================================================================================================================================================================================================================================================================================================================================================================================================================================================================================================================================================================================================================================================================================================================================================================================================================================================================================================================================================================================================================================================================================================================================================================================================================================================================================================================================================================================================================================================================================================================================================================================================================================================================================================================================================================================================================================================================================================================================================================================================================================================================================================================================================================================================================================================================================================================================================================================================================================================================================================================================================================================================================================================================================================================================================================================================================================================================================================================================================================================================================================================================================================================================================================================================================================================================================================================================================================================================================================================================================================================================================================================================================================================================================================================================================================================================================================================================================================================================================================================================================================================================================================================================================================================================================================================================================================================================================================================================================================================================================================================================================================================================================================================================================================================================================================================================================================================================================================================================================================================================================================================================================================================================================================================================================================================================================================================================================================================================================================================================================================================================================================================================================================================================================================================================================================================================================================================================================================================================================================================================================================================================================================================================================================================================================================================================================================================================================================================================================================================================================================================================================================================================================================================================================================================================================================================================================================================================================================================================================================================================================================================================================================================================================================================================================================================================================================================================================================================================================================================================================================================================================================================================================================================================================================================================================================================================================================================================================================================================================================================================================================================================================================================================================================================================================================================================================================================================================================================================================================================================================================================================================================================================================================================================================================================================================================================================================================================================================================================================================================================================================================================================================================================================================================================================================================================================================================================================================================================================================================================================================================================================================================================================================================================================================================================================================================================================================================================================================================================================================================================================================================================================================================================================================================================================================================================================================================================================================================================================================================================================================================================================================================================================================================================================================================================================================================================================================================================================================================================================================================================================================================================================================================================================================================================================================================================================================================================================================================================================================================================================================================================================================================================================================================================================================================================================================================================================================================================================================================================================================================================================================================================================================================================================================================================================================================================================================================================================================================================================================================================================================================================================================================================================================================================================================================================================================================================================================================================================================================================================================================================================================================================================================================================================================================================================================================================================================================================================================================================================================================================================================================================================================================================================================================================================================================================================================================================================================================================================================================================================================================================================================================================================================================================================================================================================================================================================================================================================================================================================================================================================================================================================================================================================================================================================================================================================================================================================================================================================================================================================================================================================================================================================================================================================================================================================================================================================================================================================================================================================================================================================================================================================================================================================================================================================================================================================================================================================================================================================================================================================================================================================================================================================================================================================================================================================================================================================================================================================================================================================================================================================================================================================================================================================================================================================================================================================================================================================================================================================================================================================================================================================================================================================================================================================================================================================================================================================================================================================================================================================================================================================================================================================================================================================================================================================================================================================================================================================================================================================================================================================================================================================================================================================================================================================================================================================================================================================================================================================================================================================================================================================================================================================================================================================================================================================================================================================================================================================================================================================================================================================================================================================================================================================================================================================================================================================================================================================================================================================================================================================================================================================================================================================================================================================================================================================================================================================================================================================================================================================================================================================================================================================================================================================================================================================================================================================================================================================================================================================================================================================================================================================================================================================================================================================================================================================================================================================================================================================================================================================================================================================================================================================================================================================================================================================================================================================================================================================================================================================================================================================================================================================================================================================================================================================================================================================================================================================================================================================================================================================================================================================================================================================================================================================================================================================================================================================================================================================================================================================================================================================================================================================================================================================================================================================================================================================================================================================================================================================================================================================================================================================================================================================================================================================================================================================================================================================================================================================================================================================================================================================================================================================================================================================================================================================================================================================================================================================================================================================================================================================================================================================================================================================================================================================================================================================================================================================================================================================================================================================================================================================================================================================================================================================================================================================================================================================================================================================================================================================================================================================================================================================================================================================================================================================================================================================================================================================================================================================================================================================================================================================================================================================================================================================================================================================================================================================================================================================================================================================================================================================================================================================================================================================================================================================================================================================================================================================================================================================================================================================================================================================================================================================================================================================================================================================================================================================================================================================================================================================================================================================================================================================================================================================================================================================================================================================================================================================================================================================================================================================================================================================================================================================================================================================================================================================================================================================================================================================================================================================================================================================================================================================================================================================================================================================================================================================================================================================================================================================================================================================================================================================================================================================================================================================================================================================================================================================================================================================================================================================================================================================================================================================================================================================================================================================================================================================================================================================================================================================================================================================================================================================================================================================================================================================================================================================================================================================================================================================================================================================================================================================================================================================================================================================================================================================================================================================================================================================================================================================================================================================================================================================================================================================================================================================================================================================================================================================================================================================================================================================================================================================================================================================================================================================================================================================================================================================================================================================================================================================================================================================================================================================================================================================================================================================================================================================================================================================================================================================================================================================================================================================================================================================================================================================================================================================================================================================================================================================================================================================================================================================================================================================================================================================================================================================================================================================================================================================================================================================================================================================================================================================================================================================================================================================================================================================================================================================================================================================================================================================================================================================================================================================================================================================================================================================================================================================================================================================================================================================================================================================================================================================================================================================================================================================================================================================================================================================================================================================================================================================================================================================================================================================================================================================================================================================================================================================================================================================================================================================================================================================================================================================================================================================================================================================================================================================================================================================================================================================================================================================================================================================================================================================================================================================================================================================================================================================================================================================================================================================================================================================================================================================================================================================================================================================================================================================================================================================================================================================================================================================================================================================================================================================================================================================================================================================================================================================================================================================================================================================================================================================================================================================================================================================================================================================================================================================================================================================================================================================================================================================================================================================================================================================================================================================================================================================================================================================================================================================================================================================================================================================================================================================================================================================================================================================================================================================================================================================================================================================================================================================================================================================================================================================================================================================================================================================================================================================================================================================================================================================================================================================================================================================================================================================================================================================================================================================================================================================================================================================================================================================================================================================================================================================================================================================================================================================================================================================================================================================================================================================================================================================================================================================================================================================================================================================================================================================================================================================================================================================================================================================================================================================================================================================================================================================================================================================================================================================================================================================================================================================================================================================================================================================================================================================================================================================================================================================================================================================================================================================================================================================================================================================================================================================================================================================================================================================================================================================================================================================================================================================================================================================================================================================================================================================================================================================================================================================================================================================================================================================================================================================================================================================================================================================================================================================================================================================================================================================================================================================================================================================================================================================================================================================================================================================================================================================================================================================================================================================================================================================================================================================================================================================================================================================================================================================================================================================================================================================================================================================================================================================================================================================================================================================================================================================================================================================================================================================================================================================================================================================================================================================================================================================================================================================================================================================================================================================================================================================================================================================================================================================================================================================================================================================================================================================================================================================================================================================================================================================================================================================================================================================================================================================================================================================================================================================================================================================================================================================================================================================================================================================================================================================================================================================================================================================================================================================================================================================================================================================================================================================================================================================================================================================================================================================================================================================================================================================================================================================================================================================================================================================================================================================================================================================================================================================================================================================================================================================================================================================================================================================================================================================================================================================================================================================================================================================================================================================================================================================================================================================================================================================================================================================================================================================================================================================================================================================================================================================================================================================================================================================================================================================================================================================================================================================================================================================================================================================================================================================================================================================================================================================================================================================================================================================================================================================================================================================================================================================================================================================================================================================================================================================================================================================================================================================================================================================================================================================================================================================================================================================================================================================================================================================================================================================================================================================================================================================================================================================================================================================================================================================================================================================================================================================================================================================================================================================================================================================================================================================================================================================================================================================================================================================================================================================================================================================================================================================================================================================================================================================================================================================================================================================================================================================================================================================================================================================================================================================================================================================================================================================================================================================================================================================================================================================================================================================================================================================================================================================================================================================================================================================================================================================================================================================================================================================================================================================================================================================================================================================================================================================================================================================================================================================================================================================================================================================================================================================================================================================================================================================================================================================================================================================================================================================================================================================================================================================================================================================================================================================================================================================================================================================================================================================================================================================================================================================================================================================================================================================================================================================================================================================================================================================================================================================================================================================================================================================================================================================================================================================================================================================================================================================================================================================================================================================================================================================================================================================================================================================================================================================================================================================================================================================================================================================================================================================================================================================================================================================================================================================================================================================================================================================================================================================================================================================================================================================================================================================================================================================================================================================================================================================================================================================================================================================================================================================================================================================================================================================================================================================================================================================================================================================================================================================================================================================================================================================================================================================================================================================================================================================================================================================================================================================================================================================================================================================================================================================================================================================================================================================================================================================================================================================================================================================================================================================================================================================================================================================================================================================================================================================================================================================================================================================================================================================================================================================================================================================================================================================================================================================================================================================================================================================================================================================================================================================================================================================================================================================================================================================================================================================================================================================================================================================================================================================================================================================================================================================================================================================================================================================================================================================================================================================================================================================================================================================================================================================================================================================================================================================================================================================================================================================================================================================================================================================================================================================================================================================================================================================================================================================================================================================================================================================================================================================================================================================================================================================================================================================================================================================================================================================================================================================================================================================================================================================================================================================================================================================================================================================================================================================================================================================================================================================================================================================================================================================================================================================================================================================================================================================================================================================================================================================================================================================================================================================================================================================================================================================================================================================================================================================================================================================================================================================================================================================================================================================================================================================================================================================================================================================================================================================================================================================================================================================================================================================================================================================================================================================================================================================================================================================================================================================================================================================================================================================================================================================================================================================================================================================================================================================================================================================================================================================================================================================================================================================================================================================================================================================================================================================================================================================================================================================================================================================================================================================================================================================================================================================================================================================================================================================================================================================================================================================================================================================================================================================================================================================================================================================================================================================================================================================================================================================================================================================================================================================================================================================================================================================================================================================================================================================================================================================================================================================================================================================================================================================================================================================================================================================================================================================================================================================================================================================================================================================================================================================================================================================================================================================================================================================================================================================================================================================================================================================================================================================================================================================================================================================================================================================================================================================================================================================================================================================================================================================================================================================================================================================================================================================================================================================================================================================================================================================================================================================================================================================================================================================================================================================================================================================================================================================================================================================================================================================================================================================================================================================================================================================================================================================================================================================================================================================================================================================================================================================================================================================================================================================================================================================================================================================================================================================================================================================================================================================================================================================================================================================================================================================================================================================================================================================================================================================================================================================================================================================================================================================================================================================================================================================================================================================================================================================================================================================================================================================================================================================================================================================================================================================================================================================================================================================================================================================================================================================================================================================================================================================================================================================================================================================================================================================================================================================================================================================================================================================================================================================================================================================================================================================================================================================================================================================================================================================================================================================================================================================================================================================================================================================================================================================================================================================================================================================================================================================================================================================================================================================================================================================================================================================================================================================================================================================================================================================================================================================================================================================================================================================================================================================================================================================================================================================================================================================================================================================================================================================================================================================================================================================================================================================================================================================================================================================================================================================================================================================================================================================================================================================================================================================================================================================================================================================================================================================================================================================================================================================================================================================================================================================================================================================================================================================================================================================================================================================================================================================================================================================================================================================================================================================================================================================================================================================================================================================================================================================================================================================================================================================================================================================================================================================================================================================================================================================================================================================================================================================================================================================================================================================================================================================================================================================================================================================================================================================================================================================================================================================================================================================================================================================================================================================================================================================================================================================================================================================================================================================================================================================================================================================================================================================================================================================================================================================================================================================================================================================================================================================================================================================================================================================================================================================================================================================================================================================================================================================================================================================================================================================================================================================================================================================================================================================================================================================================================================================================================================================================================================================================================================================================================================================================================================================================================================================================================================================================================================================================================================================================================================================================================================================================================================================================================================================================================================================================================================================================================================================================================================================================================================================================================================================================================================================================================================================================================================================================================================================================================================================================================================================================================================================================================================================================================================================================================================================================================================================================================================================================================================================================================================================================================================================================================================================================================================================================================================================================================================================================================================================================================================================================================================================================================================================================================================================================================================================================================================================================================================================================================================================================================================================================================================================================================================================================================================================================================================================================================================================================================================================================================================================================================================================================================================================================================================================================================================================================================================================================================================================================================================================================================================================================================================================================================================================================================================================================================================================================================================================================================================================================================================================================================================================================================================================================================================================================================================================================================================================================================================================================================================================================================================================================================================================================================================================================================================================================================================================================================================================================================================================================================================================================================================================================================================================================================================================================================================================================================================================================================================================================================================================================================================================================================================================================================================================================================================================================================================================================================================================================================================================================================================================================================================================================================================================================================================================================================================================================================================================================================================================================================================================================================================================================================================================================================================================================================================================================================================================================================================================================================================================================================================================================================================================================================================================================================================================================================================================================================================================================================================================================================================================================================================================================================================================================================================================================================================================================================================================================================================================================================================================================================================================================================================================================================================================================================================================================================================================================================================================================================================================================================================================================================================================================================================================================================================================================================================================================================================================================================================================================================================================================================================================================================================================================================================================================================================================================================================================================================================================================================================================================================================================================================================================================================================================================================================================================================================================================================================================================================================================================================================================================================================================================================================================================================================================================================================================================================================================================================================================================================================================================================================================================================================================================================================================================================================================================================================================================================================================================================================================================================================================================================================================================================================================================================================================================================================================================================================================================================================================================================================================================================================================================================================================================================================================================================================================================================================================================================================================================================================================================================================================================================================================================================================================================================================================================================================================================================================================================================================================================================================================================================================================================================================================================================================================================================================================================================================================================================================================================================================================================================================================================================================================================================================================================================================================================================================================================================================================================================================================================================================================================================================================================================================================================================================================================================================================================================================================================================================================================================================================================================================================================================================================================================================================================================================================================================================================================================================================================================================================================================================================================================================================================================================================================================================================================================================================================================================================================================================================================================================================================================================================================================================================================================================================================================================================================================================================================================================================================================================================================================================================================================================================================================================================================================================================================================================================================================================================================================================================================================================================================================================================================================================================================================================================================================================================================================================================================================================================================================================================================================================================================================================================================================================================================================================================================================================================================================================================================================================================================================================================================================================================================================================================================================================================================================================================================================================================================================================================================================================================================================================================================================================================================================================================================================================================================================================================================================================================================================================================================================================================================================================================================================================================================================================================================================================================================================================================================================================================================================================================================================================================================================================================================================================================================================================================================================================================================================================================================================================================================================================================================================================================================================================================================================================================================================================================================================================================================================================================================================================================================================================================================================================================================================================================================================================================================================================================================================================================================================================================================================================================================================================================================================================================================================================================================================================================================================================================================================================================================================================================================================================================================================================================================================================================================================================================================================================================================================================================================================================================================================================================================================================================================================================================================================================================================================================================================================================================================================================================================================================================================================================================================================================================================================================================================================================================================================================================================================================================================================================================================================================================================================================================================================================================================================================================================================================================================================================================================================================================================================================================================================================================================================================================================================================================================================================================================================================================================================================================================================================================================================================================================================================================================================================================================================================================================================================================================================================================================================================================================================================================================================================================================================================================================================================================================================================================================================================================================================================================================================================================================================================================================================================================================================================================================================================================================================================================================================================================================================================================================================================================================================================================================================================================================================================================================================================================================================================================================================================================================================================================================================================================================================================================================================================================================================================================================================================================================================================================================================================================================================================================================================================================================================================================================================================================================================================================================================================================================================================================================================================================================================================================================================================================================================================================================================================================================================================================================================================================================================================================================================================================================================================================================================================================================================================================================================================================================================================================================================================================================================================================================================================================================================================================================================================================================================================================================================================================================================================================================================================================================================================================================================================================================================================================================================================================================================================================================================================================================================================================================================================================================================================================================================================================================================================================================================================================================================================================================================================================================================================================================================================================================================================================================================================================================================================================================================================================================================================================================================================================================================================================================================================================================================================================================================================================================================================================================================================================================================================================================================================================================================================================================================================================================================================================================================================================================================================================================================================================================================================================================================================================================================================================================================================================================================================================================================================================================================================================================================================================================================================================================================================================================================================================================================================================================================================================================================================================================================================================================================================================================================================================================================================================================================================================================================================================================================================================================================================================================================================================================================================================================================================================================================================================================================================================================================================================================================================================================================================================================================================================================================================================================================================================================================================================================================================================================================================================================================================================================================================================================================================================================================================================================================================================================================================================================================================================================================================================================================================================================================================================================================================================================================================================================================================================================================================================================================================================================================================================================================================================================================================================================================================================================================================================================================================================================================================================================================================================================================================================================================================================================================================================================================================================================================================================================================================================================================================================================================================================================================================================================================================================================================================================================================================================================================================================================================================================================================================================================================================================================================================================================================================================================================================================================================================================================================================================================================================================================================================================================================================================================================================================================================================================================================================================================================================================================================================================================================================================================================================================================================================================================================================================================================================================================================================================================================================================================================================================================================================================================================================================================================================================================================================================================================================================================================================================================================================================================================================================================================================================================================================================================================================================================================================================================================================================================================================================================================================================================================================================================================================================================================================================================================================================================================================================================================================================================================================================================================================================================================================================================================================================================================================================================================================================================================================================================================================================================================================================================================================================================================================================================================================================================================================================================================================================================================================================================================================================================================================================================================================================================================================================================================================================================================================================================================================================================================================================================================================================================================================================================================================================================================================================================================================================================================================================================================================================================================================================================================================================================================================================================================================================================================================================================================================================================================================================================================================================================================================================================================================================================================================================================================================================================================================================================================================================================================================================================================================================================================================================================================================================================================================================================================================================================================================================================================================================================================================================================================================================================================================================================================================================================================================================================================================================================================================================================================================================================================================================================================================================================================================================================================================================================================================================================================================================================================================================================================================================================================================================================================================================================================================================================================================================================================================================================================================================================================================================================================================================================================================================================================================================================================================================================================================================================================================================================================================================================================================================================================================================================================================================================================================================================================================================================================================================================================================================================================================================================================================================================================================================================================================================================================================================================================================================================================================================================================================================================================================================================================================================================================================================================================================================================================================================================================================================================================================================================================================================================================================================================================================================================================================================================================================================================================================================================================================================================================================================================================================================================================================================================================================================================================================================================================================================================================================================================================================================================================================================================================================================================================================================================================================================================================================================================================================================================================================================================================================================================================================================================================================================================================================================================================================================================================================================================================================================================================================================================================================================================================================================================================================================================================================================================================================================================================================================================================================================================================================================================================================================================================================================================================================================================================================================================================================================================================================================================================================================================================================================================================================================================================================================================================================================================================================================================================================================================================================================================================================================================================================================================================================================================================================================================================================================================================================================================================================================================================================================================================================================================================================================================================================================================================================================================================================================================================================================================================================================================================================================================================================================================================================================================================================================================================================================================================================================================================================================================================================================================================================================================================================================================================================================================================================================================================================================================================================================================================================================================================================================================================================================================================================================================================================================================================================================================================================================================================================================================================================================================================================================================================================================================================================================================================================================================================================================================================================================================================================================================================================================================================================================================================================================================================================================================================================================================================================================================================================================================================================================================================================================================================================================================================================================================================================================================================================================================================================================================================================================================================================================================================================================================================================================================================================================================================================================================================================================================================================================================================================================================================================================================================================================================================================================================================================================================================================================================================================================================================================================================================================================================================================================================================================================================================================================================================================================================================================================================================================================================================================================================================================================================================================================================================================================================================================================================================================================================================================================================================================================================================================================================================================================================================================================================================================================================================================================================================================================================================================================================================================================================================================================================================================================================================================================================================================================================================================================================================================================================================================================================================================================================================================================================================================================================================================================================================================================================================================================================================================================================================================================================================================================================================================================================================================================================================================================================================================================================================================================================================================================================================================================================================================================================================================================================================================================================================================================================================================================================================================================================================================================================================================================================================================================================================================================================================================================================================================================================================================================================================================================================================================================================================================================================================================================================================================================================================================================================================================================================================================================================================================================================================================================================================================================================================================================================================================================================================================================================================================================================================================================================================================================================================================================================================================================================================================================================================================================================================================================================================================================================================================================================================================================================================================================================================================================================================================================================================================================================================================================================================================================================================================================================================================================================================================================================================================================================================================================================================================================================] - 1s 30us/sample - loss: 0.1400 - mean_absolute_error: 0.0818\n"
     ]
    },
    {
     "data": {
      "text/plain": [
       "[0.1320859374873735, 0.08176206]"
      ]
     },
     "execution_count": 29,
     "metadata": {},
     "output_type": "execute_result"
    }
   ],
   "source": [
    "# To evaluate model test loss\n",
    "\n",
    "test_loss = model.evaluate(x_test, y_test)\n"
   ]
  },
  {
   "cell_type": "code",
   "execution_count": 30,
   "metadata": {},
   "outputs": [
    {
     "data": {
      "text/plain": [
       "(18703, 63)"
      ]
     },
     "execution_count": 30,
     "metadata": {},
     "output_type": "execute_result"
    }
   ],
   "source": [
    "\n",
    "x_test.shape"
   ]
  },
  {
   "cell_type": "code",
   "execution_count": 31,
   "metadata": {},
   "outputs": [
    {
     "data": {
      "text/plain": [
       "(18703, 40)"
      ]
     },
     "execution_count": 31,
     "metadata": {},
     "output_type": "execute_result"
    }
   ],
   "source": [
    "y_test.shape"
   ]
  },
  {
   "cell_type": "code",
   "execution_count": 32,
   "metadata": {
    "colab": {
     "base_uri": "https://localhost:8080/",
     "height": 280
    },
    "id": "K6jxwKI-au9s",
    "outputId": "4824a9db-6941-4ac8-87d8-5d749bc8497d"
   },
   "outputs": [
    {
     "data": {
      "image/png": "[encoded data removed]",
      "text/plain": [
       "<Figure size 432x288 with 1 Axes>"
      ]
     },
     "metadata": {
      "needs_background": "light"
     },
     "output_type": "display_data"
    }
   ],
   "source": [
    "# To plot training loss only\n",
    "\n",
    "loss = model_history.history['loss']\n",
    "epochs = range(1, len(loss)+1)\n",
    "plt.plot(epochs, loss, 'ro', label='Training loss')\n",
    "plt.xlabel('epoch')\n",
    "plt.legend()\n",
    "plt.show()"
   ]
  },
  {
   "cell_type": "code",
   "execution_count": 33,
   "metadata": {
    "colab": {
     "base_uri": "https://localhost:8080/",
     "height": 313
    },
    "id": "gr4ZQqHQayfv",
    "outputId": "b292d2fe-9161-4bfc-9b6f-fe09e9543f33"
   },
   "outputs": [
    {
     "name": "stdout",
     "output_type": "stream",
     "text": [
      "dict_keys(['loss', 'mean_absolute_error', 'val_loss', 'val_mean_absolute_error', 'lr'])\n"
     ]
    },
    {
     "data": {
      "image/png": "[encoded data removed]",
      "text/plain": [
       "<Figure size 432x288 with 1 Axes>"
      ]
     },
     "metadata": {
      "needs_background": "light"
     },
     "output_type": "display_data"
    }
   ],
   "source": [
    "# list all data in history\n",
    "\n",
    "print(model_history.history.keys())\n",
    "\n",
    "# summarize history for accuracy\n",
    "acc = model_history.history['mean_absolute_error']\n",
    "val_acc = model_history.history['val_mean_absolute_error']\n",
    "\n",
    "plt.plot(acc)\n",
    "plt.plot(val_acc)\n",
    "plt.title('model accuracy')\n",
    "plt.ylabel('Mean Absolute Error')\n",
    "plt.xlabel('epoch')\n",
    "plt.legend(['train', 'test'], loc='upper right')\n",
    "plt.savefig('accuracy_3_layer.pdf')\n",
    "plt.show()"
   ]
  },
  {
   "cell_type": "code",
   "execution_count": 34,
   "metadata": {
    "colab": {
     "base_uri": "https://localhost:8080/",
     "height": 295
    },
    "id": "pgrdmzrca2id",
    "outputId": "7698718b-fba5-415a-c5a5-abfbfe868c6c"
   },
   "outputs": [
    {
     "data": {
      "image/png": "[encoded data removed]",
      "text/plain": [
       "<Figure size 432x288 with 1 Axes>"
      ]
     },
     "metadata": {
      "needs_background": "light"
     },
     "output_type": "display_data"
    }
   ],
   "source": [
    "# summarize history for loss\n",
    "\n",
    "loss = model_history.history['loss']\n",
    "val_loss = model_history.history['val_loss']\n",
    "plt.plot(loss)\n",
    "plt.plot(val_loss)\n",
    "plt.title('model loss')\n",
    "plt.ylabel('loss')\n",
    "plt.xlabel('epoch')\n",
    "plt.legend(['train', 'test'], loc='upper right')\n",
    "plt.savefig('loss_3_layer.pdf')\n",
    "plt.show()"
   ]
  },
  {
   "cell_type": "code",
   "execution_count": 35,
   "metadata": {
    "colab": {
     "base_uri": "https://localhost:8080/",
     "height": 249
    },
    "id": "V_KxSfNKa666",
    "outputId": "c668ae3d-01ef-4869-e191-af2122733da1"
   },
   "outputs": [
    {
     "data": {
      "text/plain": [
       "array([[5.9306622e-06, 3.6190838e-02, 1.0842085e-03, ..., 2.9847920e-03,\n",
       "        3.1510919e-02, 5.9604645e-08],\n",
       "       [9.9999976e-01, 1.0976195e-04, 2.5063753e-04, ..., 2.4162856e-01,\n",
       "        4.1386485e-04, 0.0000000e+00],\n",
       "       [2.0613372e-03, 1.4975667e-04, 8.5914135e-04, ..., 2.5689602e-05,\n",
       "        1.6590953e-04, 0.0000000e+00],\n",
       "       ...,\n",
       "       [9.9999809e-01, 7.4476004e-05, 5.0411654e-01, ..., 2.8884798e-01,\n",
       "        1.9622356e-02, 8.9406967e-08],\n",
       "       [9.9999303e-01, 4.7206879e-05, 2.7090311e-04, ..., 1.1287928e-03,\n",
       "        5.2627200e-01, 0.0000000e+00],\n",
       "       [0.0000000e+00, 3.2213330e-04, 2.0523667e-03, ..., 1.7222762e-04,\n",
       "        5.3998828e-04, 0.0000000e+00]], dtype=float32)"
      ]
     },
     "execution_count": 35,
     "metadata": {},
     "output_type": "execute_result"
    }
   ],
   "source": [
    "# Making the predictions for testing\n",
    "\n",
    "# Predicting the Test set results\n",
    "y_pred = model.predict(x_test) \n",
    "y_pred"
   ]
  },
  {
   "cell_type": "code",
   "execution_count": 36,
   "metadata": {
    "colab": {
     "base_uri": "https://localhost:8080/",
     "height": 142
    },
    "id": "nTiknlOLaTPp",
    "outputId": "70722f3f-835d-4abe-ca27-4cd0d3b285f1"
   },
   "outputs": [
    {
     "data": {
      "text/plain": [
       "(18703, 40)"
      ]
     },
     "execution_count": 36,
     "metadata": {},
     "output_type": "execute_result"
    }
   ],
   "source": [
    "y_test.shape\n"
   ]
  },
  {
   "cell_type": "code",
   "execution_count": 37,
   "metadata": {
    "id": "5x9nZKCHa9ZI"
   },
   "outputs": [
    {
     "data": {
      "text/plain": [
       "(18703, 40)"
      ]
     },
     "execution_count": 37,
     "metadata": {},
     "output_type": "execute_result"
    }
   ],
   "source": [
    "y_pred.shape"
   ]
  },
  {
   "cell_type": "code",
   "execution_count": 38,
   "metadata": {
    "id": "ACY5x1V7a_vo"
   },
   "outputs": [
    {
     "name": "stdout",
     "output_type": "stream",
     "text": [
      "Test Mean Squared error (MSE): 0.04146675172241139\n",
      "Test Root mean squared error (RMSE): 0.20363386683558163\n",
      "Test Mean absolute error (MAE): 0.0817620964657452\n"
     ]
    }
   ],
   "source": [
    "# Evaluating the model # Test error\n",
    "\n",
    "# Measure MSE error  \n",
    "mse_test = metrics.mean_squared_error(y_test, y_pred)\n",
    "print(\"Test Mean Squared error (MSE): {}\".format(mse_test))\n",
    "\n",
    "# Measure RMSE error \n",
    "rmse_test = np.sqrt(metrics.mean_squared_error(y_test, y_pred))\n",
    "print(\"Test Root mean squared error (RMSE): {}\".format(rmse_test))\n",
    "\n",
    "# Measure MAE error\n",
    "mae_test = metrics.mean_absolute_error(y_test, y_pred)\n",
    "print(\"Test Mean absolute error (MAE): {}\".format(mae_test))"
   ]
  },
  {
   "cell_type": "code",
   "execution_count": 39,
   "metadata": {
    "id": "EpTj4zULbQMd"
   },
   "outputs": [
    {
     "data": {
      "text/plain": [
       "array([[9.9999988e-01, 1.5599370e-02, 9.0257525e-03, ..., 2.3545361e-01,\n",
       "        1.2655810e-01, 1.4901161e-07],\n",
       "       [2.7328730e-05, 8.4158480e-03, 6.5199733e-03, ..., 9.3281269e-05,\n",
       "        1.8170476e-04, 0.0000000e+00],\n",
       "       [9.9999952e-01, 2.3707747e-04, 5.4224163e-02, ..., 1.7341971e-04,\n",
       "        3.0887800e-01, 1.1920929e-07],\n",
       "       ...,\n",
       "       [1.7881393e-07, 2.8622150e-04, 8.6253881e-04, ..., 2.9533413e-01,\n",
       "        1.9319603e-01, 5.9604645e-08],\n",
       "       [1.7881393e-07, 4.6193600e-05, 1.7246893e-01, ..., 1.2513995e-04,\n",
       "        3.8167778e-01, 0.0000000e+00],\n",
       "       [9.9999917e-01, 8.5145235e-05, 2.0062417e-02, ..., 2.3202282e-01,\n",
       "        3.7442267e-02, 0.0000000e+00]], dtype=float32)"
      ]
     },
     "execution_count": 39,
     "metadata": {},
     "output_type": "execute_result"
    }
   ],
   "source": [
    "# Making the predictions for training\n",
    "\n",
    "# Predicting the Training set results\n",
    "y_pred_train = model.predict(x_train) \n",
    "y_pred_train"
   ]
  },
  {
   "cell_type": "code",
   "execution_count": 40,
   "metadata": {
    "id": "Of9BhiCTbU01"
   },
   "outputs": [
    {
     "data": {
      "text/plain": [
       "(168327, 40)"
      ]
     },
     "execution_count": 40,
     "metadata": {},
     "output_type": "execute_result"
    }
   ],
   "source": [
    "y_pred_train.shape "
   ]
  },
  {
   "cell_type": "code",
   "execution_count": 41,
   "metadata": {
    "id": "FWK7_bNJbXME"
   },
   "outputs": [
    {
     "name": "stdout",
     "output_type": "stream",
     "text": [
      "Training Mean Squared error (MSE): 0.040761744045230086\n",
      "Training Root mean squared error (RMSE): 0.2018953789595742\n",
      "Training Mean absolute error (MAE): 0.08103900973067393\n"
     ]
    }
   ],
   "source": [
    "# Evaluating the model # Training error\n",
    "\n",
    "# Measure MSE error  \n",
    "mse_train = metrics.mean_squared_error(y_train, y_pred_train)\n",
    "print(\"Training Mean Squared error (MSE): {}\".format(mse_train))\n",
    "\n",
    "# Measure RMSE error \n",
    "rmse_train = np.sqrt(metrics.mean_squared_error(y_train, y_pred_train))\n",
    "print(\"Training Root mean squared error (RMSE): {}\".format(rmse_train))\n",
    "\n",
    "# Measure MAE error\n",
    "mae_train = metrics.mean_absolute_error(y_train, y_pred_train)\n",
    "print(\"Training Mean absolute error (MAE): {}\".format(mae_train))"
   ]
  },
  {
   "cell_type": "code",
   "execution_count": 42,
   "metadata": {
    "id": "1Yw2ek-lRAmD"
   },
   "outputs": [
    {
     "data": {
      "text/plain": [
       "array([5.9306622e-06, 3.6190838e-02, 1.0842085e-03, ..., 1.7222762e-04,\n",
       "       5.3998828e-04, 0.0000000e+00], dtype=float32)"
      ]
     },
     "execution_count": 42,
     "metadata": {},
     "output_type": "execute_result"
    }
   ],
   "source": [
    "y_pred_flat = y_pred.flatten()\n",
    "y_pred_flat"
   ]
  },
  {
   "cell_type": "code",
   "execution_count": 43,
   "metadata": {
    "id": "zrHf4K-yRWEW"
   },
   "outputs": [
    {
     "data": {
      "text/plain": [
       "array([ 0., -0.,  0., ...,  0.,  0.,  0.])"
      ]
     },
     "execution_count": 43,
     "metadata": {},
     "output_type": "execute_result"
    }
   ],
   "source": [
    "y_test_flat = y_test.flatten()\n",
    "y_test_flat"
   ]
  },
  {
   "cell_type": "code",
   "execution_count": 44,
   "metadata": {
    "id": "3sCT93VyRYOz"
   },
   "outputs": [
    {
     "name": "stdout",
     "output_type": "stream",
     "text": [
      "R2 Score Test: 0.5831363476819516\n"
     ]
    }
   ],
   "source": [
    "# Regression score for test\n",
    "\n",
    "r2_score_test = metrics.r2_score(y_test_flat, y_pred_flat)\n",
    "print(\"R2 Score Test: {}\".format(r2_score_test))"
   ]
  },
  {
   "cell_type": "code",
   "execution_count": 45,
   "metadata": {
    "id": "5oZLTaS6Rdpb"
   },
   "outputs": [
    {
     "data": {
      "text/plain": [
       "array([0.9999999 , 0.01559937, 0.00902575, ..., 0.23202282, 0.03744227,\n",
       "       0.        ], dtype=float32)"
      ]
     },
     "execution_count": 45,
     "metadata": {},
     "output_type": "execute_result"
    }
   ],
   "source": [
    "y_pred_train_flat = y_pred_train.flatten()\n",
    "y_pred_train_flat"
   ]
  },
  {
   "cell_type": "code",
   "execution_count": 46,
   "metadata": {
    "id": "imceUpMlRfrV"
   },
   "outputs": [
    {
     "data": {
      "text/plain": [
       "array([ 1.,  0.,  0., ..., -0.,  0.,  0.])"
      ]
     },
     "execution_count": 46,
     "metadata": {},
     "output_type": "execute_result"
    }
   ],
   "source": [
    "y_train_flat = y_train.flatten()\n",
    "y_train_flat"
   ]
  },
  {
   "cell_type": "code",
   "execution_count": 47,
   "metadata": {
    "id": "IywAjABTRjex"
   },
   "outputs": [
    {
     "name": "stdout",
     "output_type": "stream",
     "text": [
      "R2 Score Train: 0.5899234651096414\n"
     ]
    }
   ],
   "source": [
    "# Regression score for training\n",
    "\n",
    "r2_score_train = metrics.r2_score(y_train_flat, y_pred_train_flat)\n",
    "print(\"R2 Score Train: {}\".format(r2_score_train))"
   ]
  },
  {
   "cell_type": "code",
   "execution_count": 48,
   "metadata": {
    "id": "hr_f0cdyWpil"
   },
   "outputs": [],
   "source": [
    "######################### Constraint verification for test data ##########################"
   ]
  },
  {
   "cell_type": "code",
   "execution_count": 49,
   "metadata": {
    "colab": {
     "base_uri": "https://localhost:8080/",
     "height": 249
    },
    "id": "aS9k-9lwW0hY",
    "outputId": "32c16051-3a86-49a8-d7cb-77e547ad3e64"
   },
   "outputs": [
    {
     "data": {
      "text/plain": [
       "array([[5.9306622e-06, 3.6190838e-02, 1.0842085e-03, ..., 2.9847920e-03,\n",
       "        3.1510919e-02, 5.9604645e-08],\n",
       "       [9.9999976e-01, 1.0976195e-04, 2.5063753e-04, ..., 2.4162856e-01,\n",
       "        4.1386485e-04, 0.0000000e+00],\n",
       "       [2.0613372e-03, 1.4975667e-04, 8.5914135e-04, ..., 2.5689602e-05,\n",
       "        1.6590953e-04, 0.0000000e+00],\n",
       "       ...,\n",
       "       [9.9999809e-01, 7.4476004e-05, 5.0411654e-01, ..., 2.8884798e-01,\n",
       "        1.9622356e-02, 8.9406967e-08],\n",
       "       [9.9999303e-01, 4.7206879e-05, 2.7090311e-04, ..., 1.1287928e-03,\n",
       "        5.2627200e-01, 0.0000000e+00],\n",
       "       [0.0000000e+00, 3.2213330e-04, 2.0523667e-03, ..., 1.7222762e-04,\n",
       "        5.3998828e-04, 0.0000000e+00]], dtype=float32)"
      ]
     },
     "execution_count": 49,
     "metadata": {},
     "output_type": "execute_result"
    }
   ],
   "source": [
    "y_pred = model.predict(x_test)\n",
    "y_pred"
   ]
  },
  {
   "cell_type": "code",
   "execution_count": 50,
   "metadata": {
    "colab": {
     "base_uri": "https://localhost:8080/",
     "height": 249
    },
    "id": "qdcimHOXZsH2",
    "outputId": "1585d70d-b16d-4e2a-d7d5-6f381a4521fd"
   },
   "outputs": [
    {
     "data": {
      "text/plain": [
       "array([[-0.83839253, -1.55717957, -1.00560602, ...,  1.35191339,\n",
       "        -0.1859795 , -0.99071186],\n",
       "       [ 0.83598577, -0.50980026,  0.99442523, ..., -0.42138119,\n",
       "        -1.03891498,  0.27230524],\n",
       "       [ 0.72469778, -0.30243105, -1.00560602, ...,  0.15458595,\n",
       "        -1.33651337,  1.03037881],\n",
       "       ...,\n",
       "       [-1.01967666, -0.91888959,  0.99442523, ...,  0.734206  ,\n",
       "        -0.95680813,  0.63020743],\n",
       "       [-0.50905774, -0.99326947,  0.99442523, ..., -0.62017979,\n",
       "        -0.46553376, -0.49650887],\n",
       "       [ 1.70305562,  1.65757287, -1.00560602, ..., -1.46383166,\n",
       "        -0.7196913 , -0.70956981]])"
      ]
     },
     "execution_count": 50,
     "metadata": {},
     "output_type": "execute_result"
    }
   ],
   "source": [
    "x_test"
   ]
  },
  {
   "cell_type": "code",
   "execution_count": 51,
   "metadata": {
    "colab": {
     "base_uri": "https://localhost:8080/",
     "height": 35
    },
    "id": "ruqLSKwaZ06X",
    "outputId": "42dd9de3-1395-4349-8ec3-f163ef502a0e"
   },
   "outputs": [
    {
     "data": {
      "text/plain": [
       "(18703, 63)"
      ]
     },
     "execution_count": 51,
     "metadata": {},
     "output_type": "execute_result"
    }
   ],
   "source": [
    "x_test.shape"
   ]
  },
  {
   "cell_type": "code",
   "execution_count": 52,
   "metadata": {
    "colab": {
     "base_uri": "https://localhost:8080/",
     "height": 35
    },
    "id": "fOj5D4GRW7Ac",
    "outputId": "e4223fa4-dd8e-400f-eefc-bbd0178e4d99"
   },
   "outputs": [
    {
     "data": {
      "text/plain": [
       "(18703, 40)"
      ]
     },
     "execution_count": 52,
     "metadata": {},
     "output_type": "execute_result"
    }
   ],
   "source": [
    "y_test.shape"
   ]
  },
  {
   "cell_type": "code",
   "execution_count": 53,
   "metadata": {},
   "outputs": [
    {
     "data": {
      "text/plain": [
       "array([[5.9306622e-06, 3.6190838e-02, 1.0842085e-03, ..., 2.9847920e-03,\n",
       "        3.1510919e-02, 5.9604645e-08],\n",
       "       [9.9999976e-01, 1.0976195e-04, 2.5063753e-04, ..., 2.4162856e-01,\n",
       "        4.1386485e-04, 0.0000000e+00],\n",
       "       [2.0613372e-03, 1.4975667e-04, 8.5914135e-04, ..., 2.5689602e-05,\n",
       "        1.6590953e-04, 0.0000000e+00],\n",
       "       ...,\n",
       "       [9.9999809e-01, 7.4476004e-05, 5.0411654e-01, ..., 2.8884798e-01,\n",
       "        1.9622356e-02, 8.9406967e-08],\n",
       "       [9.9999303e-01, 4.7206879e-05, 2.7090311e-04, ..., 1.1287928e-03,\n",
       "        5.2627200e-01, 0.0000000e+00],\n",
       "       [0.0000000e+00, 3.2213330e-04, 2.0523667e-03, ..., 1.7222762e-04,\n",
       "        5.3998828e-04, 0.0000000e+00]], dtype=float32)"
      ]
     },
     "execution_count": 53,
     "metadata": {},
     "output_type": "execute_result"
    }
   ],
   "source": [
    "y_pred"
   ]
  },
  {
   "cell_type": "code",
   "execution_count": 54,
   "metadata": {
    "colab": {
     "base_uri": "https://localhost:8080/",
     "height": 142
    },
    "id": "Yn9ruPcpOQq0",
    "outputId": "c187ee9b-7905-455c-cee3-fa098f0966e1"
   },
   "outputs": [
    {
     "name": "stdout",
     "output_type": "stream",
     "text": [
      "[[0. 0. 0. ... 0. 0. 0.]\n",
      " [1. 0. 0. ... 0. 0. 0.]\n",
      " [0. 0. 0. ... 0. 0. 0.]\n",
      " ...\n",
      " [1. 0. 1. ... 0. 0. 0.]\n",
      " [1. 0. 0. ... 0. 1. 0.]\n",
      " [0. 0. 0. ... 0. 0. 0.]]\n"
     ]
    }
   ],
   "source": [
    "#round-off the y_pred\n",
    "\n",
    "import numpy as np\n",
    "a_list = np.array(y_pred)\n",
    "y_pred_binary = np.round(a_list)\n",
    "print(y_pred_binary)\n",
    "\n"
   ]
  },
  {
   "cell_type": "code",
   "execution_count": 55,
   "metadata": {
    "colab": {
     "base_uri": "https://localhost:8080/",
     "height": 35
    },
    "id": "zus7h7n3PMDh",
    "outputId": "ce6a354b-6dfa-40b8-c6c3-adead6f2d051"
   },
   "outputs": [
    {
     "data": {
      "text/plain": [
       "(18703, 40)"
      ]
     },
     "execution_count": 55,
     "metadata": {},
     "output_type": "execute_result"
    }
   ],
   "source": [
    "y_pred_binary.shape"
   ]
  },
  {
   "cell_type": "code",
   "execution_count": 56,
   "metadata": {
    "colab": {
     "base_uri": "https://localhost:8080/",
     "height": 142
    },
    "id": "RKVmQiPemWnf",
    "outputId": "8fa5f012-e7b4-4262-e8c9-06ad35d44c13"
   },
   "outputs": [
    {
     "data": {
      "text/plain": [
       "array([[0., 0., 0., ..., 0., 0., 0.],\n",
       "       [1., 0., 0., ..., 0., 0., 0.],\n",
       "       [0., 0., 0., ..., 0., 0., 0.],\n",
       "       ...,\n",
       "       [1., 0., 1., ..., 0., 0., 0.],\n",
       "       [1., 0., 0., ..., 0., 1., 0.],\n",
       "       [0., 0., 0., ..., 0., 0., 0.]], dtype=float32)"
      ]
     },
     "execution_count": 56,
     "metadata": {},
     "output_type": "execute_result"
    }
   ],
   "source": [
    "y_pred_binary"
   ]
  },
  {
   "cell_type": "code",
   "execution_count": 57,
   "metadata": {},
   "outputs": [
    {
     "data": {
      "text/plain": [
       "array([[ 0., -0.,  0., ..., -0.,  1.,  0.],\n",
       "       [ 1.,  0.,  0., ...,  1.,  0.,  0.],\n",
       "       [ 0.,  0.,  0., ...,  0.,  0.,  0.],\n",
       "       ...,\n",
       "       [ 1.,  0.,  1., ...,  0.,  0.,  0.],\n",
       "       [ 1.,  0.,  0., ...,  0.,  1.,  0.],\n",
       "       [ 0.,  0., -0., ...,  0.,  0.,  0.]])"
      ]
     },
     "execution_count": 57,
     "metadata": {},
     "output_type": "execute_result"
    }
   ],
   "source": [
    "y_test"
   ]
  },
  {
   "cell_type": "code",
   "execution_count": 58,
   "metadata": {
    "colab": {
     "base_uri": "https://localhost:8080/",
     "height": 35
    },
    "id": "0Y2CI1jdPzWz",
    "outputId": "7de20c4e-215b-40c2-b415-72ad1edead13"
   },
   "outputs": [
    {
     "data": {
      "text/plain": [
       "18703"
      ]
     },
     "execution_count": 58,
     "metadata": {},
     "output_type": "execute_result"
    }
   ],
   "source": [
    "len(y_pred_binary)"
   ]
  },
  {
   "cell_type": "code",
   "execution_count": null,
   "metadata": {},
   "outputs": [],
   "source": []
  },
  {
   "cell_type": "code",
   "execution_count": 59,
   "metadata": {
    "colab": {
     "base_uri": "https://localhost:8080/",
     "height": 35
    },
    "id": "W0EhQiatZWyj",
    "outputId": "67776725-788b-47d7-a3bd-288348bd211c"
   },
   "outputs": [
    {
     "data": {
      "text/plain": [
       "(187030, 63)"
      ]
     },
     "execution_count": 59,
     "metadata": {},
     "output_type": "execute_result"
    }
   ],
   "source": [
    "inputs.shape"
   ]
  },
  {
   "cell_type": "code",
   "execution_count": 60,
   "metadata": {},
   "outputs": [
    {
     "data": {
      "text/plain": [
       "array([[-0.83839253, -1.55717957, -1.00560602, ...,  1.35191339,\n",
       "        -0.1859795 , -0.99071186],\n",
       "       [ 0.83598577, -0.50980026,  0.99442523, ..., -0.42138119,\n",
       "        -1.03891498,  0.27230524],\n",
       "       [ 0.72469778, -0.30243105, -1.00560602, ...,  0.15458595,\n",
       "        -1.33651337,  1.03037881],\n",
       "       ...,\n",
       "       [-1.01967666, -0.91888959,  0.99442523, ...,  0.734206  ,\n",
       "        -0.95680813,  0.63020743],\n",
       "       [-0.50905774, -0.99326947,  0.99442523, ..., -0.62017979,\n",
       "        -0.46553376, -0.49650887],\n",
       "       [ 1.70305562,  1.65757287, -1.00560602, ..., -1.46383166,\n",
       "        -0.7196913 , -0.70956981]])"
      ]
     },
     "execution_count": 60,
     "metadata": {},
     "output_type": "execute_result"
    }
   ],
   "source": [
    "x_test"
   ]
  },
  {
   "cell_type": "code",
   "execution_count": 61,
   "metadata": {},
   "outputs": [
    {
     "data": {
      "text/plain": [
       "<bound method NDFrame.head of              0         1         2         3        4         5         6   \\\n",
       "0     -0.838393 -1.557180 -1.005606  0.994413  0.99984 -1.002897  0.446322   \n",
       "1      0.835986 -0.509800  0.994425  0.994413  0.99984  0.997111 -0.449168   \n",
       "2      0.724698 -0.302431 -1.005606  0.994413  0.99984  0.997111  0.446322   \n",
       "3     -0.620757  1.112611  0.994425 -1.005618  0.99984 -1.002897  0.446322   \n",
       "4     -0.725811  1.248013 -1.005606 -1.005618  0.99984 -1.002897 -0.449168   \n",
       "...         ...       ...       ...       ...      ...       ...       ...   \n",
       "18698  0.672759 -1.551530  0.994425  0.994413 -1.00016 -1.002897  1.341813   \n",
       "18699 -1.661818  1.389711 -1.005606 -1.005618  0.99984  0.997111 -1.344659   \n",
       "18700 -1.019677 -0.918890  0.994425  0.994413 -1.00016 -1.002897 -1.344659   \n",
       "18701 -0.509058 -0.993269  0.994425 -1.005618  0.99984  0.997111  1.341813   \n",
       "18702  1.703056  1.657573 -1.005606  0.994413 -1.00016 -1.002897  0.446322   \n",
       "\n",
       "             7         8         9   ...        53        54        55  \\\n",
       "0     -0.997265  0.998213  1.000767  ...  0.967772  0.067991  1.024022   \n",
       "1     -0.997265  0.998213 -0.999234  ...  0.076765 -0.535011 -1.209591   \n",
       "2      1.002742 -1.001790  1.000767  ... -0.044648 -1.602171 -1.423792   \n",
       "3      1.002742  0.998213 -0.999234  ... -1.348761 -0.436680  0.372319   \n",
       "4     -0.997265  0.998213 -0.999234  ... -0.161114 -0.385157  0.367301   \n",
       "...         ...       ...       ...  ...       ...       ...       ...   \n",
       "18698  1.002742  0.998213  1.000767  ...  1.360259 -1.637638  0.510932   \n",
       "18699  1.002742 -1.001790 -0.999234  ...  0.751723  0.124834  0.755623   \n",
       "18700 -0.997265 -1.001790 -0.999234  ...  0.510939  0.166253  1.392444   \n",
       "18701  1.002742  0.998213  1.000767  ...  0.282089  1.696158  0.943208   \n",
       "18702 -0.997265  0.998213 -0.999234  ... -0.125048  1.466880  1.138927   \n",
       "\n",
       "             56        57        58        59        60        61        62  \n",
       "0     -0.191591 -1.664794 -0.513004  0.744337  1.351913 -0.185979 -0.990712  \n",
       "1     -0.994253 -0.690923 -0.168373  1.040773 -0.421381 -1.038915  0.272305  \n",
       "2      0.643498  1.016089 -0.868433 -0.361473  0.154586 -1.336513  1.030379  \n",
       "3     -0.598268 -0.463225  0.808807 -0.813550  0.703736  0.944971  0.687548  \n",
       "4      0.531543  1.541454  1.208401  0.602782 -0.881961 -1.314110 -1.364344  \n",
       "...         ...       ...       ...       ...       ...       ...       ...  \n",
       "18698  1.116447 -1.692795  1.291297  0.102320 -0.910821 -0.867020  1.493261  \n",
       "18699  1.598062  1.317460  1.710101 -1.693855  0.171206  1.071262 -0.663923  \n",
       "18700 -0.623536 -0.976819 -1.463083  1.344823  0.734206 -0.956808  0.630207  \n",
       "18701 -1.521326  1.470828 -0.717993 -0.933959 -0.620180 -0.465534 -0.496509  \n",
       "18702  0.954580  0.074933  1.005230  0.638950 -1.463832 -0.719691 -0.709570  \n",
       "\n",
       "[18703 rows x 63 columns]>"
      ]
     },
     "execution_count": 61,
     "metadata": {},
     "output_type": "execute_result"
    }
   ],
   "source": [
    "x_p = pd.DataFrame(x_test)\n",
    "#pi = x_p.iloc[:, 27:50]\n",
    "#pi\n",
    "x_p.head"
   ]
  },
  {
   "cell_type": "code",
   "execution_count": 62,
   "metadata": {},
   "outputs": [],
   "source": [
    "#In the next cells, we are going to compute the suboptimality of the DNN solution vs others "
   ]
  },
  {
   "cell_type": "code",
   "execution_count": 63,
   "metadata": {},
   "outputs": [
    {
     "data": {
      "text/html": [
       "<div>\n",
       "<style scoped>\n",
       "    .dataframe tbody tr th:only-of-type {\n",
       "        vertical-align: middle;\n",
       "    }\n",
       "\n",
       "    .dataframe tbody tr th {\n",
       "        vertical-align: top;\n",
       "    }\n",
       "\n",
       "    .dataframe thead th {\n",
       "        text-align: right;\n",
       "    }\n",
       "</style>\n",
       "<table border=\"1\" class=\"dataframe\">\n",
       "  <thead>\n",
       "    <tr style=\"text-align: right;\">\n",
       "      <th></th>\n",
       "      <th>22</th>\n",
       "      <th>23</th>\n",
       "      <th>24</th>\n",
       "      <th>25</th>\n",
       "      <th>26</th>\n",
       "      <th>27</th>\n",
       "      <th>28</th>\n",
       "      <th>29</th>\n",
       "      <th>30</th>\n",
       "      <th>31</th>\n",
       "    </tr>\n",
       "  </thead>\n",
       "  <tbody>\n",
       "    <tr>\n",
       "      <th>0</th>\n",
       "      <td>1.436827</td>\n",
       "      <td>1.477008</td>\n",
       "      <td>1.592472</td>\n",
       "      <td>1.407117</td>\n",
       "      <td>1.460301</td>\n",
       "      <td>-0.953531</td>\n",
       "      <td>0.590049</td>\n",
       "      <td>0.947032</td>\n",
       "      <td>-0.892796</td>\n",
       "      <td>0.912653</td>\n",
       "    </tr>\n",
       "    <tr>\n",
       "      <th>1</th>\n",
       "      <td>1.433092</td>\n",
       "      <td>1.075428</td>\n",
       "      <td>-1.246236</td>\n",
       "      <td>0.572912</td>\n",
       "      <td>-0.885290</td>\n",
       "      <td>-0.827791</td>\n",
       "      <td>0.850654</td>\n",
       "      <td>-1.600819</td>\n",
       "      <td>0.019092</td>\n",
       "      <td>0.007825</td>\n",
       "    </tr>\n",
       "    <tr>\n",
       "      <th>2</th>\n",
       "      <td>-1.669098</td>\n",
       "      <td>-1.731818</td>\n",
       "      <td>-0.590283</td>\n",
       "      <td>0.556112</td>\n",
       "      <td>0.232510</td>\n",
       "      <td>1.373958</td>\n",
       "      <td>-1.562149</td>\n",
       "      <td>0.809067</td>\n",
       "      <td>-1.140378</td>\n",
       "      <td>0.629472</td>\n",
       "    </tr>\n",
       "    <tr>\n",
       "      <th>3</th>\n",
       "      <td>0.349327</td>\n",
       "      <td>0.900835</td>\n",
       "      <td>-0.068693</td>\n",
       "      <td>-0.946797</td>\n",
       "      <td>-0.446211</td>\n",
       "      <td>1.063818</td>\n",
       "      <td>1.044286</td>\n",
       "      <td>0.470062</td>\n",
       "      <td>-1.183769</td>\n",
       "      <td>0.811963</td>\n",
       "    </tr>\n",
       "    <tr>\n",
       "      <th>4</th>\n",
       "      <td>0.286691</td>\n",
       "      <td>-1.122938</td>\n",
       "      <td>0.989075</td>\n",
       "      <td>-0.865415</td>\n",
       "      <td>1.711368</td>\n",
       "      <td>1.331934</td>\n",
       "      <td>-1.526390</td>\n",
       "      <td>0.659634</td>\n",
       "      <td>1.010912</td>\n",
       "      <td>0.071081</td>\n",
       "    </tr>\n",
       "    <tr>\n",
       "      <th>...</th>\n",
       "      <td>...</td>\n",
       "      <td>...</td>\n",
       "      <td>...</td>\n",
       "      <td>...</td>\n",
       "      <td>...</td>\n",
       "      <td>...</td>\n",
       "      <td>...</td>\n",
       "      <td>...</td>\n",
       "      <td>...</td>\n",
       "      <td>...</td>\n",
       "    </tr>\n",
       "    <tr>\n",
       "      <th>18698</th>\n",
       "      <td>1.400138</td>\n",
       "      <td>-1.462493</td>\n",
       "      <td>-0.661555</td>\n",
       "      <td>1.214181</td>\n",
       "      <td>-0.846511</td>\n",
       "      <td>1.493603</td>\n",
       "      <td>-1.356181</td>\n",
       "      <td>1.416009</td>\n",
       "      <td>1.731667</td>\n",
       "      <td>1.623033</td>\n",
       "    </tr>\n",
       "    <tr>\n",
       "      <th>18699</th>\n",
       "      <td>-1.273182</td>\n",
       "      <td>-1.661704</td>\n",
       "      <td>1.148288</td>\n",
       "      <td>-0.767310</td>\n",
       "      <td>0.957281</td>\n",
       "      <td>1.031519</td>\n",
       "      <td>0.170165</td>\n",
       "      <td>-0.536493</td>\n",
       "      <td>-0.372901</td>\n",
       "      <td>1.057017</td>\n",
       "    </tr>\n",
       "    <tr>\n",
       "      <th>18700</th>\n",
       "      <td>-0.136444</td>\n",
       "      <td>-0.823294</td>\n",
       "      <td>-0.850133</td>\n",
       "      <td>-0.024660</td>\n",
       "      <td>0.218852</td>\n",
       "      <td>0.501712</td>\n",
       "      <td>-1.677787</td>\n",
       "      <td>-0.852735</td>\n",
       "      <td>-0.788099</td>\n",
       "      <td>0.371247</td>\n",
       "    </tr>\n",
       "    <tr>\n",
       "      <th>18701</th>\n",
       "      <td>0.218510</td>\n",
       "      <td>0.868166</td>\n",
       "      <td>1.605128</td>\n",
       "      <td>-1.526221</td>\n",
       "      <td>0.708599</td>\n",
       "      <td>1.144044</td>\n",
       "      <td>-1.450359</td>\n",
       "      <td>1.642939</td>\n",
       "      <td>-0.793597</td>\n",
       "      <td>-0.311751</td>\n",
       "    </tr>\n",
       "    <tr>\n",
       "      <th>18702</th>\n",
       "      <td>-0.990990</td>\n",
       "      <td>0.615522</td>\n",
       "      <td>1.527760</td>\n",
       "      <td>0.553299</td>\n",
       "      <td>0.899766</td>\n",
       "      <td>-0.476722</td>\n",
       "      <td>0.623709</td>\n",
       "      <td>0.675967</td>\n",
       "      <td>0.061234</td>\n",
       "      <td>-1.254169</td>\n",
       "    </tr>\n",
       "  </tbody>\n",
       "</table>\n",
       "<p>18703 rows × 10 columns</p>\n",
       "</div>"
      ],
      "text/plain": [
       "             22        23        24        25        26        27        28  \\\n",
       "0      1.436827  1.477008  1.592472  1.407117  1.460301 -0.953531  0.590049   \n",
       "1      1.433092  1.075428 -1.246236  0.572912 -0.885290 -0.827791  0.850654   \n",
       "2     -1.669098 -1.731818 -0.590283  0.556112  0.232510  1.373958 -1.562149   \n",
       "3      0.349327  0.900835 -0.068693 -0.946797 -0.446211  1.063818  1.044286   \n",
       "4      0.286691 -1.122938  0.989075 -0.865415  1.711368  1.331934 -1.526390   \n",
       "...         ...       ...       ...       ...       ...       ...       ...   \n",
       "18698  1.400138 -1.462493 -0.661555  1.214181 -0.846511  1.493603 -1.356181   \n",
       "18699 -1.273182 -1.661704  1.148288 -0.767310  0.957281  1.031519  0.170165   \n",
       "18700 -0.136444 -0.823294 -0.850133 -0.024660  0.218852  0.501712 -1.677787   \n",
       "18701  0.218510  0.868166  1.605128 -1.526221  0.708599  1.144044 -1.450359   \n",
       "18702 -0.990990  0.615522  1.527760  0.553299  0.899766 -0.476722  0.623709   \n",
       "\n",
       "             29        30        31  \n",
       "0      0.947032 -0.892796  0.912653  \n",
       "1     -1.600819  0.019092  0.007825  \n",
       "2      0.809067 -1.140378  0.629472  \n",
       "3      0.470062 -1.183769  0.811963  \n",
       "4      0.659634  1.010912  0.071081  \n",
       "...         ...       ...       ...  \n",
       "18698  1.416009  1.731667  1.623033  \n",
       "18699 -0.536493 -0.372901  1.057017  \n",
       "18700 -0.852735 -0.788099  0.371247  \n",
       "18701  1.642939 -0.793597 -0.311751  \n",
       "18702  0.675967  0.061234 -1.254169  \n",
       "\n",
       "[18703 rows x 10 columns]"
      ]
     },
     "execution_count": 63,
     "metadata": {},
     "output_type": "execute_result"
    }
   ],
   "source": [
    "x_pi = pd.DataFrame(x_test)\n",
    "x_pi = x_pi.iloc[:, 22:32]\n",
    "x_pi #Saving the energy prize"
   ]
  },
  {
   "cell_type": "code",
   "execution_count": 64,
   "metadata": {},
   "outputs": [
    {
     "data": {
      "text/html": [
       "<div>\n",
       "<style scoped>\n",
       "    .dataframe tbody tr th:only-of-type {\n",
       "        vertical-align: middle;\n",
       "    }\n",
       "\n",
       "    .dataframe tbody tr th {\n",
       "        vertical-align: top;\n",
       "    }\n",
       "\n",
       "    .dataframe thead th {\n",
       "        text-align: right;\n",
       "    }\n",
       "</style>\n",
       "<table border=\"1\" class=\"dataframe\">\n",
       "  <thead>\n",
       "    <tr style=\"text-align: right;\">\n",
       "      <th></th>\n",
       "      <th>0</th>\n",
       "      <th>1</th>\n",
       "      <th>2</th>\n",
       "      <th>3</th>\n",
       "      <th>4</th>\n",
       "      <th>5</th>\n",
       "      <th>6</th>\n",
       "      <th>7</th>\n",
       "      <th>8</th>\n",
       "      <th>9</th>\n",
       "      <th>...</th>\n",
       "      <th>30</th>\n",
       "      <th>31</th>\n",
       "      <th>32</th>\n",
       "      <th>33</th>\n",
       "      <th>34</th>\n",
       "      <th>35</th>\n",
       "      <th>36</th>\n",
       "      <th>37</th>\n",
       "      <th>38</th>\n",
       "      <th>39</th>\n",
       "    </tr>\n",
       "  </thead>\n",
       "  <tbody>\n",
       "    <tr>\n",
       "      <th>0</th>\n",
       "      <td>0.000006</td>\n",
       "      <td>0.036191</td>\n",
       "      <td>0.001084</td>\n",
       "      <td>0.417521</td>\n",
       "      <td>0.015894</td>\n",
       "      <td>0.130103</td>\n",
       "      <td>0.380297</td>\n",
       "      <td>0.002662</td>\n",
       "      <td>0.010086</td>\n",
       "      <td>2.384186e-07</td>\n",
       "      <td>...</td>\n",
       "      <td>1.490116e-07</td>\n",
       "      <td>0.054377</td>\n",
       "      <td>0.000427</td>\n",
       "      <td>0.624760</td>\n",
       "      <td>0.020878</td>\n",
       "      <td>0.086539</td>\n",
       "      <td>0.362347</td>\n",
       "      <td>0.002985</td>\n",
       "      <td>0.031511</td>\n",
       "      <td>5.960464e-08</td>\n",
       "    </tr>\n",
       "    <tr>\n",
       "      <th>1</th>\n",
       "      <td>1.000000</td>\n",
       "      <td>0.000110</td>\n",
       "      <td>0.000251</td>\n",
       "      <td>0.193257</td>\n",
       "      <td>0.016395</td>\n",
       "      <td>0.001994</td>\n",
       "      <td>0.006163</td>\n",
       "      <td>0.331242</td>\n",
       "      <td>0.000261</td>\n",
       "      <td>0.000000e+00</td>\n",
       "      <td>...</td>\n",
       "      <td>9.999942e-01</td>\n",
       "      <td>0.000248</td>\n",
       "      <td>0.000351</td>\n",
       "      <td>0.441322</td>\n",
       "      <td>0.029269</td>\n",
       "      <td>0.004158</td>\n",
       "      <td>0.009929</td>\n",
       "      <td>0.241629</td>\n",
       "      <td>0.000414</td>\n",
       "      <td>0.000000e+00</td>\n",
       "    </tr>\n",
       "    <tr>\n",
       "      <th>2</th>\n",
       "      <td>0.002061</td>\n",
       "      <td>0.000150</td>\n",
       "      <td>0.000859</td>\n",
       "      <td>0.000052</td>\n",
       "      <td>0.003292</td>\n",
       "      <td>0.286300</td>\n",
       "      <td>0.386616</td>\n",
       "      <td>0.000127</td>\n",
       "      <td>0.000057</td>\n",
       "      <td>0.000000e+00</td>\n",
       "      <td>...</td>\n",
       "      <td>9.999985e-01</td>\n",
       "      <td>0.000232</td>\n",
       "      <td>0.000825</td>\n",
       "      <td>0.000057</td>\n",
       "      <td>0.003473</td>\n",
       "      <td>0.188852</td>\n",
       "      <td>0.132029</td>\n",
       "      <td>0.000026</td>\n",
       "      <td>0.000166</td>\n",
       "      <td>0.000000e+00</td>\n",
       "    </tr>\n",
       "    <tr>\n",
       "      <th>3</th>\n",
       "      <td>0.999999</td>\n",
       "      <td>0.000059</td>\n",
       "      <td>0.347226</td>\n",
       "      <td>0.000464</td>\n",
       "      <td>0.254375</td>\n",
       "      <td>0.034518</td>\n",
       "      <td>0.007791</td>\n",
       "      <td>0.197208</td>\n",
       "      <td>0.159063</td>\n",
       "      <td>0.000000e+00</td>\n",
       "      <td>...</td>\n",
       "      <td>4.179180e-04</td>\n",
       "      <td>0.000185</td>\n",
       "      <td>0.218987</td>\n",
       "      <td>0.000312</td>\n",
       "      <td>0.170964</td>\n",
       "      <td>0.043078</td>\n",
       "      <td>0.005081</td>\n",
       "      <td>0.173281</td>\n",
       "      <td>0.239430</td>\n",
       "      <td>2.980232e-08</td>\n",
       "    </tr>\n",
       "    <tr>\n",
       "      <th>4</th>\n",
       "      <td>0.000001</td>\n",
       "      <td>0.000086</td>\n",
       "      <td>0.482813</td>\n",
       "      <td>0.117094</td>\n",
       "      <td>0.000469</td>\n",
       "      <td>0.048661</td>\n",
       "      <td>0.657871</td>\n",
       "      <td>0.000376</td>\n",
       "      <td>0.064168</td>\n",
       "      <td>5.960464e-08</td>\n",
       "      <td>...</td>\n",
       "      <td>4.321337e-06</td>\n",
       "      <td>0.000195</td>\n",
       "      <td>0.384965</td>\n",
       "      <td>0.177739</td>\n",
       "      <td>0.000853</td>\n",
       "      <td>0.031438</td>\n",
       "      <td>0.400836</td>\n",
       "      <td>0.000111</td>\n",
       "      <td>0.089682</td>\n",
       "      <td>8.940697e-08</td>\n",
       "    </tr>\n",
       "    <tr>\n",
       "      <th>...</th>\n",
       "      <td>...</td>\n",
       "      <td>...</td>\n",
       "      <td>...</td>\n",
       "      <td>...</td>\n",
       "      <td>...</td>\n",
       "      <td>...</td>\n",
       "      <td>...</td>\n",
       "      <td>...</td>\n",
       "      <td>...</td>\n",
       "      <td>...</td>\n",
       "      <td>...</td>\n",
       "      <td>...</td>\n",
       "      <td>...</td>\n",
       "      <td>...</td>\n",
       "      <td>...</td>\n",
       "      <td>...</td>\n",
       "      <td>...</td>\n",
       "      <td>...</td>\n",
       "      <td>...</td>\n",
       "      <td>...</td>\n",
       "      <td>...</td>\n",
       "    </tr>\n",
       "    <tr>\n",
       "      <th>18698</th>\n",
       "      <td>0.999999</td>\n",
       "      <td>0.019072</td>\n",
       "      <td>0.002544</td>\n",
       "      <td>0.403452</td>\n",
       "      <td>0.001213</td>\n",
       "      <td>0.000084</td>\n",
       "      <td>0.176048</td>\n",
       "      <td>0.000062</td>\n",
       "      <td>0.000038</td>\n",
       "      <td>0.000000e+00</td>\n",
       "      <td>...</td>\n",
       "      <td>1.680851e-05</td>\n",
       "      <td>0.015794</td>\n",
       "      <td>0.003468</td>\n",
       "      <td>0.468044</td>\n",
       "      <td>0.000569</td>\n",
       "      <td>0.000069</td>\n",
       "      <td>0.136990</td>\n",
       "      <td>0.000019</td>\n",
       "      <td>0.000203</td>\n",
       "      <td>0.000000e+00</td>\n",
       "    </tr>\n",
       "    <tr>\n",
       "      <th>18699</th>\n",
       "      <td>0.000126</td>\n",
       "      <td>0.024359</td>\n",
       "      <td>0.294195</td>\n",
       "      <td>0.076449</td>\n",
       "      <td>0.191808</td>\n",
       "      <td>0.177252</td>\n",
       "      <td>0.220510</td>\n",
       "      <td>0.081384</td>\n",
       "      <td>0.093044</td>\n",
       "      <td>3.129244e-06</td>\n",
       "      <td>...</td>\n",
       "      <td>9.999998e-01</td>\n",
       "      <td>0.050630</td>\n",
       "      <td>0.373681</td>\n",
       "      <td>0.080933</td>\n",
       "      <td>0.276470</td>\n",
       "      <td>0.255721</td>\n",
       "      <td>0.314108</td>\n",
       "      <td>0.160489</td>\n",
       "      <td>0.237268</td>\n",
       "      <td>3.159046e-06</td>\n",
       "    </tr>\n",
       "    <tr>\n",
       "      <th>18700</th>\n",
       "      <td>0.999998</td>\n",
       "      <td>0.000074</td>\n",
       "      <td>0.504117</td>\n",
       "      <td>0.004228</td>\n",
       "      <td>0.017080</td>\n",
       "      <td>0.109707</td>\n",
       "      <td>0.453632</td>\n",
       "      <td>0.118613</td>\n",
       "      <td>0.003104</td>\n",
       "      <td>5.960464e-08</td>\n",
       "      <td>...</td>\n",
       "      <td>4.866421e-04</td>\n",
       "      <td>0.000159</td>\n",
       "      <td>0.275143</td>\n",
       "      <td>0.006447</td>\n",
       "      <td>0.015791</td>\n",
       "      <td>0.082032</td>\n",
       "      <td>0.300696</td>\n",
       "      <td>0.288848</td>\n",
       "      <td>0.019622</td>\n",
       "      <td>8.940697e-08</td>\n",
       "    </tr>\n",
       "    <tr>\n",
       "      <th>18701</th>\n",
       "      <td>0.999993</td>\n",
       "      <td>0.000047</td>\n",
       "      <td>0.000271</td>\n",
       "      <td>0.151443</td>\n",
       "      <td>0.000119</td>\n",
       "      <td>0.003161</td>\n",
       "      <td>0.000233</td>\n",
       "      <td>0.000808</td>\n",
       "      <td>0.060348</td>\n",
       "      <td>0.000000e+00</td>\n",
       "      <td>...</td>\n",
       "      <td>9.999998e-01</td>\n",
       "      <td>0.000025</td>\n",
       "      <td>0.000038</td>\n",
       "      <td>0.624365</td>\n",
       "      <td>0.000078</td>\n",
       "      <td>0.001211</td>\n",
       "      <td>0.000117</td>\n",
       "      <td>0.001129</td>\n",
       "      <td>0.526272</td>\n",
       "      <td>0.000000e+00</td>\n",
       "    </tr>\n",
       "    <tr>\n",
       "      <th>18702</th>\n",
       "      <td>0.000000</td>\n",
       "      <td>0.000322</td>\n",
       "      <td>0.002052</td>\n",
       "      <td>0.388002</td>\n",
       "      <td>0.000085</td>\n",
       "      <td>0.217753</td>\n",
       "      <td>0.000045</td>\n",
       "      <td>0.000235</td>\n",
       "      <td>0.000055</td>\n",
       "      <td>0.000000e+00</td>\n",
       "      <td>...</td>\n",
       "      <td>3.874302e-07</td>\n",
       "      <td>0.000267</td>\n",
       "      <td>0.000959</td>\n",
       "      <td>0.408102</td>\n",
       "      <td>0.000046</td>\n",
       "      <td>0.081501</td>\n",
       "      <td>0.000012</td>\n",
       "      <td>0.000172</td>\n",
       "      <td>0.000540</td>\n",
       "      <td>0.000000e+00</td>\n",
       "    </tr>\n",
       "  </tbody>\n",
       "</table>\n",
       "<p>18703 rows × 40 columns</p>\n",
       "</div>"
      ],
      "text/plain": [
       "             0         1         2         3         4         5         6   \\\n",
       "0      0.000006  0.036191  0.001084  0.417521  0.015894  0.130103  0.380297   \n",
       "1      1.000000  0.000110  0.000251  0.193257  0.016395  0.001994  0.006163   \n",
       "2      0.002061  0.000150  0.000859  0.000052  0.003292  0.286300  0.386616   \n",
       "3      0.999999  0.000059  0.347226  0.000464  0.254375  0.034518  0.007791   \n",
       "4      0.000001  0.000086  0.482813  0.117094  0.000469  0.048661  0.657871   \n",
       "...         ...       ...       ...       ...       ...       ...       ...   \n",
       "18698  0.999999  0.019072  0.002544  0.403452  0.001213  0.000084  0.176048   \n",
       "18699  0.000126  0.024359  0.294195  0.076449  0.191808  0.177252  0.220510   \n",
       "18700  0.999998  0.000074  0.504117  0.004228  0.017080  0.109707  0.453632   \n",
       "18701  0.999993  0.000047  0.000271  0.151443  0.000119  0.003161  0.000233   \n",
       "18702  0.000000  0.000322  0.002052  0.388002  0.000085  0.217753  0.000045   \n",
       "\n",
       "             7         8             9   ...            30        31  \\\n",
       "0      0.002662  0.010086  2.384186e-07  ...  1.490116e-07  0.054377   \n",
       "1      0.331242  0.000261  0.000000e+00  ...  9.999942e-01  0.000248   \n",
       "2      0.000127  0.000057  0.000000e+00  ...  9.999985e-01  0.000232   \n",
       "3      0.197208  0.159063  0.000000e+00  ...  4.179180e-04  0.000185   \n",
       "4      0.000376  0.064168  5.960464e-08  ...  4.321337e-06  0.000195   \n",
       "...         ...       ...           ...  ...           ...       ...   \n",
       "18698  0.000062  0.000038  0.000000e+00  ...  1.680851e-05  0.015794   \n",
       "18699  0.081384  0.093044  3.129244e-06  ...  9.999998e-01  0.050630   \n",
       "18700  0.118613  0.003104  5.960464e-08  ...  4.866421e-04  0.000159   \n",
       "18701  0.000808  0.060348  0.000000e+00  ...  9.999998e-01  0.000025   \n",
       "18702  0.000235  0.000055  0.000000e+00  ...  3.874302e-07  0.000267   \n",
       "\n",
       "             32        33        34        35        36        37        38  \\\n",
       "0      0.000427  0.624760  0.020878  0.086539  0.362347  0.002985  0.031511   \n",
       "1      0.000351  0.441322  0.029269  0.004158  0.009929  0.241629  0.000414   \n",
       "2      0.000825  0.000057  0.003473  0.188852  0.132029  0.000026  0.000166   \n",
       "3      0.218987  0.000312  0.170964  0.043078  0.005081  0.173281  0.239430   \n",
       "4      0.384965  0.177739  0.000853  0.031438  0.400836  0.000111  0.089682   \n",
       "...         ...       ...       ...       ...       ...       ...       ...   \n",
       "18698  0.003468  0.468044  0.000569  0.000069  0.136990  0.000019  0.000203   \n",
       "18699  0.373681  0.080933  0.276470  0.255721  0.314108  0.160489  0.237268   \n",
       "18700  0.275143  0.006447  0.015791  0.082032  0.300696  0.288848  0.019622   \n",
       "18701  0.000038  0.624365  0.000078  0.001211  0.000117  0.001129  0.526272   \n",
       "18702  0.000959  0.408102  0.000046  0.081501  0.000012  0.000172  0.000540   \n",
       "\n",
       "                 39  \n",
       "0      5.960464e-08  \n",
       "1      0.000000e+00  \n",
       "2      0.000000e+00  \n",
       "3      2.980232e-08  \n",
       "4      8.940697e-08  \n",
       "...             ...  \n",
       "18698  0.000000e+00  \n",
       "18699  3.159046e-06  \n",
       "18700  8.940697e-08  \n",
       "18701  0.000000e+00  \n",
       "18702  0.000000e+00  \n",
       "\n",
       "[18703 rows x 40 columns]"
      ]
     },
     "execution_count": 64,
     "metadata": {},
     "output_type": "execute_result"
    }
   ],
   "source": [
    "#saving the test and predicted switching\n",
    "y_test= pd.DataFrame(y_test)\n",
    "y_train= pd.DataFrame(y_train)\n",
    "y_pred= pd.DataFrame(y_pred)\n",
    "y_pred\n"
   ]
  },
  {
   "cell_type": "code",
   "execution_count": 65,
   "metadata": {
    "id": "ZQpsT-B6aMra"
   },
   "outputs": [
    {
     "data": {
      "text/plain": [
       "'\\nx_p = pd.DataFrame(inputs.values)            #Energy price of inputs\\nx_p = x_p.iloc[65544:81881, 18:50]            # Saving the Energy price\\nx_p.index = range(len(x_p))\\nx_p.columns = range(x_p.shape[1])\\n\\n\\ny_test= pd.DataFrame(y_test)\\ny_test = y_test.iloc[0:16377, 0:14]\\ny_test.index = range(len(y_test))\\ny_test.columns = range(y_test.shape[1])\\n\\ny_pred= pd.DataFrame(y_pred_binary)\\ny_pred = y_pred.iloc[0:16377, 0:14]\\ny_pred.index = range(len(y_pred))\\ny_pred.columns = range(y_pred.shape[1])\\n'"
      ]
     },
     "execution_count": 65,
     "metadata": {},
     "output_type": "execute_result"
    }
   ],
   "source": [
    "'''\n",
    "x_p = pd.DataFrame(inputs.values)            #Energy price of inputs\n",
    "x_p = x_p.iloc[65544:81881, 18:50]            # Saving the Energy price\n",
    "x_p.index = range(len(x_p))\n",
    "x_p.columns = range(x_p.shape[1])\n",
    "\n",
    "\n",
    "y_test= pd.DataFrame(y_test)\n",
    "y_test = y_test.iloc[0:16377, 0:14]\n",
    "y_test.index = range(len(y_test))\n",
    "y_test.columns = range(y_test.shape[1])\n",
    "\n",
    "y_pred= pd.DataFrame(y_pred_binary)\n",
    "y_pred = y_pred.iloc[0:16377, 0:14]\n",
    "y_pred.index = range(len(y_pred))\n",
    "y_pred.columns = range(y_pred.shape[1])\n",
    "'''\n",
    "#testing = pd.concat([x_pi, y_test, y_pred], axis=1)\n",
    "#testing.to_excel('testing.xlsx', index = False)"
   ]
  },
  {
   "cell_type": "code",
   "execution_count": 66,
   "metadata": {
    "id": "cmavpKE-GMCX"
   },
   "outputs": [],
   "source": [
    "concat_x_pi =  pd.concat([x_pi, x_pi, x_pi, x_pi], ignore_index=True, axis=1)\n",
    "concat_x_pi= pd.DataFrame(concat_x_pi)\n",
    "#concat_x_pi.index = new_index\n",
    "concat_x_pi = concat_x_pi.T\n"
   ]
  },
  {
   "cell_type": "code",
   "execution_count": 67,
   "metadata": {},
   "outputs": [
    {
     "data": {
      "text/plain": [
       "(40, 18703)"
      ]
     },
     "execution_count": 67,
     "metadata": {},
     "output_type": "execute_result"
    }
   ],
   "source": [
    "concat_x_pi = abs(concat_x_pi)\n",
    "concat_x_pi.shape"
   ]
  },
  {
   "cell_type": "code",
   "execution_count": 68,
   "metadata": {
    "colab": {
     "base_uri": "https://localhost:8080/",
     "height": 35
    },
    "id": "kyDfSEAnHTYC",
    "outputId": "a6daab74-55ac-445e-8835-2a1869120f5f"
   },
   "outputs": [
    {
     "data": {
      "text/plain": [
       "(18703, 40)"
      ]
     },
     "execution_count": 68,
     "metadata": {},
     "output_type": "execute_result"
    }
   ],
   "source": [
    "y_pred.shape\n"
   ]
  },
  {
   "cell_type": "code",
   "execution_count": 69,
   "metadata": {},
   "outputs": [],
   "source": [
    "y_pred = y_pred"
   ]
  },
  {
   "cell_type": "code",
   "execution_count": 70,
   "metadata": {},
   "outputs": [
    {
     "data": {
      "text/html": [
       "<div>\n",
       "<style scoped>\n",
       "    .dataframe tbody tr th:only-of-type {\n",
       "        vertical-align: middle;\n",
       "    }\n",
       "\n",
       "    .dataframe tbody tr th {\n",
       "        vertical-align: top;\n",
       "    }\n",
       "\n",
       "    .dataframe thead th {\n",
       "        text-align: right;\n",
       "    }\n",
       "</style>\n",
       "<table border=\"1\" class=\"dataframe\">\n",
       "  <thead>\n",
       "    <tr style=\"text-align: right;\">\n",
       "      <th></th>\n",
       "      <th>0</th>\n",
       "      <th>1</th>\n",
       "      <th>2</th>\n",
       "      <th>3</th>\n",
       "      <th>4</th>\n",
       "      <th>5</th>\n",
       "      <th>6</th>\n",
       "      <th>7</th>\n",
       "      <th>8</th>\n",
       "      <th>9</th>\n",
       "      <th>...</th>\n",
       "      <th>30</th>\n",
       "      <th>31</th>\n",
       "      <th>32</th>\n",
       "      <th>33</th>\n",
       "      <th>34</th>\n",
       "      <th>35</th>\n",
       "      <th>36</th>\n",
       "      <th>37</th>\n",
       "      <th>38</th>\n",
       "      <th>39</th>\n",
       "    </tr>\n",
       "  </thead>\n",
       "  <tbody>\n",
       "    <tr>\n",
       "      <th>0</th>\n",
       "      <td>0.000006</td>\n",
       "      <td>0.036191</td>\n",
       "      <td>0.001084</td>\n",
       "      <td>0.417521</td>\n",
       "      <td>0.015894</td>\n",
       "      <td>0.130103</td>\n",
       "      <td>0.380297</td>\n",
       "      <td>0.002662</td>\n",
       "      <td>0.010086</td>\n",
       "      <td>2.384186e-07</td>\n",
       "      <td>...</td>\n",
       "      <td>1.490116e-07</td>\n",
       "      <td>0.054377</td>\n",
       "      <td>0.000427</td>\n",
       "      <td>0.624760</td>\n",
       "      <td>0.020878</td>\n",
       "      <td>0.086539</td>\n",
       "      <td>0.362347</td>\n",
       "      <td>0.002985</td>\n",
       "      <td>0.031511</td>\n",
       "      <td>5.960464e-08</td>\n",
       "    </tr>\n",
       "    <tr>\n",
       "      <th>1</th>\n",
       "      <td>1.000000</td>\n",
       "      <td>0.000110</td>\n",
       "      <td>0.000251</td>\n",
       "      <td>0.193257</td>\n",
       "      <td>0.016395</td>\n",
       "      <td>0.001994</td>\n",
       "      <td>0.006163</td>\n",
       "      <td>0.331242</td>\n",
       "      <td>0.000261</td>\n",
       "      <td>0.000000e+00</td>\n",
       "      <td>...</td>\n",
       "      <td>9.999942e-01</td>\n",
       "      <td>0.000248</td>\n",
       "      <td>0.000351</td>\n",
       "      <td>0.441322</td>\n",
       "      <td>0.029269</td>\n",
       "      <td>0.004158</td>\n",
       "      <td>0.009929</td>\n",
       "      <td>0.241629</td>\n",
       "      <td>0.000414</td>\n",
       "      <td>0.000000e+00</td>\n",
       "    </tr>\n",
       "    <tr>\n",
       "      <th>2</th>\n",
       "      <td>0.002061</td>\n",
       "      <td>0.000150</td>\n",
       "      <td>0.000859</td>\n",
       "      <td>0.000052</td>\n",
       "      <td>0.003292</td>\n",
       "      <td>0.286300</td>\n",
       "      <td>0.386616</td>\n",
       "      <td>0.000127</td>\n",
       "      <td>0.000057</td>\n",
       "      <td>0.000000e+00</td>\n",
       "      <td>...</td>\n",
       "      <td>9.999985e-01</td>\n",
       "      <td>0.000232</td>\n",
       "      <td>0.000825</td>\n",
       "      <td>0.000057</td>\n",
       "      <td>0.003473</td>\n",
       "      <td>0.188852</td>\n",
       "      <td>0.132029</td>\n",
       "      <td>0.000026</td>\n",
       "      <td>0.000166</td>\n",
       "      <td>0.000000e+00</td>\n",
       "    </tr>\n",
       "    <tr>\n",
       "      <th>3</th>\n",
       "      <td>0.999999</td>\n",
       "      <td>0.000059</td>\n",
       "      <td>0.347226</td>\n",
       "      <td>0.000464</td>\n",
       "      <td>0.254375</td>\n",
       "      <td>0.034518</td>\n",
       "      <td>0.007791</td>\n",
       "      <td>0.197208</td>\n",
       "      <td>0.159063</td>\n",
       "      <td>0.000000e+00</td>\n",
       "      <td>...</td>\n",
       "      <td>4.179180e-04</td>\n",
       "      <td>0.000185</td>\n",
       "      <td>0.218987</td>\n",
       "      <td>0.000312</td>\n",
       "      <td>0.170964</td>\n",
       "      <td>0.043078</td>\n",
       "      <td>0.005081</td>\n",
       "      <td>0.173281</td>\n",
       "      <td>0.239430</td>\n",
       "      <td>2.980232e-08</td>\n",
       "    </tr>\n",
       "    <tr>\n",
       "      <th>4</th>\n",
       "      <td>0.000001</td>\n",
       "      <td>0.000086</td>\n",
       "      <td>0.482813</td>\n",
       "      <td>0.117094</td>\n",
       "      <td>0.000469</td>\n",
       "      <td>0.048661</td>\n",
       "      <td>0.657871</td>\n",
       "      <td>0.000376</td>\n",
       "      <td>0.064168</td>\n",
       "      <td>5.960464e-08</td>\n",
       "      <td>...</td>\n",
       "      <td>4.321337e-06</td>\n",
       "      <td>0.000195</td>\n",
       "      <td>0.384965</td>\n",
       "      <td>0.177739</td>\n",
       "      <td>0.000853</td>\n",
       "      <td>0.031438</td>\n",
       "      <td>0.400836</td>\n",
       "      <td>0.000111</td>\n",
       "      <td>0.089682</td>\n",
       "      <td>8.940697e-08</td>\n",
       "    </tr>\n",
       "    <tr>\n",
       "      <th>...</th>\n",
       "      <td>...</td>\n",
       "      <td>...</td>\n",
       "      <td>...</td>\n",
       "      <td>...</td>\n",
       "      <td>...</td>\n",
       "      <td>...</td>\n",
       "      <td>...</td>\n",
       "      <td>...</td>\n",
       "      <td>...</td>\n",
       "      <td>...</td>\n",
       "      <td>...</td>\n",
       "      <td>...</td>\n",
       "      <td>...</td>\n",
       "      <td>...</td>\n",
       "      <td>...</td>\n",
       "      <td>...</td>\n",
       "      <td>...</td>\n",
       "      <td>...</td>\n",
       "      <td>...</td>\n",
       "      <td>...</td>\n",
       "      <td>...</td>\n",
       "    </tr>\n",
       "    <tr>\n",
       "      <th>18698</th>\n",
       "      <td>0.999999</td>\n",
       "      <td>0.019072</td>\n",
       "      <td>0.002544</td>\n",
       "      <td>0.403452</td>\n",
       "      <td>0.001213</td>\n",
       "      <td>0.000084</td>\n",
       "      <td>0.176048</td>\n",
       "      <td>0.000062</td>\n",
       "      <td>0.000038</td>\n",
       "      <td>0.000000e+00</td>\n",
       "      <td>...</td>\n",
       "      <td>1.680851e-05</td>\n",
       "      <td>0.015794</td>\n",
       "      <td>0.003468</td>\n",
       "      <td>0.468044</td>\n",
       "      <td>0.000569</td>\n",
       "      <td>0.000069</td>\n",
       "      <td>0.136990</td>\n",
       "      <td>0.000019</td>\n",
       "      <td>0.000203</td>\n",
       "      <td>0.000000e+00</td>\n",
       "    </tr>\n",
       "    <tr>\n",
       "      <th>18699</th>\n",
       "      <td>0.000126</td>\n",
       "      <td>0.024359</td>\n",
       "      <td>0.294195</td>\n",
       "      <td>0.076449</td>\n",
       "      <td>0.191808</td>\n",
       "      <td>0.177252</td>\n",
       "      <td>0.220510</td>\n",
       "      <td>0.081384</td>\n",
       "      <td>0.093044</td>\n",
       "      <td>3.129244e-06</td>\n",
       "      <td>...</td>\n",
       "      <td>9.999998e-01</td>\n",
       "      <td>0.050630</td>\n",
       "      <td>0.373681</td>\n",
       "      <td>0.080933</td>\n",
       "      <td>0.276470</td>\n",
       "      <td>0.255721</td>\n",
       "      <td>0.314108</td>\n",
       "      <td>0.160489</td>\n",
       "      <td>0.237268</td>\n",
       "      <td>3.159046e-06</td>\n",
       "    </tr>\n",
       "    <tr>\n",
       "      <th>18700</th>\n",
       "      <td>0.999998</td>\n",
       "      <td>0.000074</td>\n",
       "      <td>0.504117</td>\n",
       "      <td>0.004228</td>\n",
       "      <td>0.017080</td>\n",
       "      <td>0.109707</td>\n",
       "      <td>0.453632</td>\n",
       "      <td>0.118613</td>\n",
       "      <td>0.003104</td>\n",
       "      <td>5.960464e-08</td>\n",
       "      <td>...</td>\n",
       "      <td>4.866421e-04</td>\n",
       "      <td>0.000159</td>\n",
       "      <td>0.275143</td>\n",
       "      <td>0.006447</td>\n",
       "      <td>0.015791</td>\n",
       "      <td>0.082032</td>\n",
       "      <td>0.300696</td>\n",
       "      <td>0.288848</td>\n",
       "      <td>0.019622</td>\n",
       "      <td>8.940697e-08</td>\n",
       "    </tr>\n",
       "    <tr>\n",
       "      <th>18701</th>\n",
       "      <td>0.999993</td>\n",
       "      <td>0.000047</td>\n",
       "      <td>0.000271</td>\n",
       "      <td>0.151443</td>\n",
       "      <td>0.000119</td>\n",
       "      <td>0.003161</td>\n",
       "      <td>0.000233</td>\n",
       "      <td>0.000808</td>\n",
       "      <td>0.060348</td>\n",
       "      <td>0.000000e+00</td>\n",
       "      <td>...</td>\n",
       "      <td>9.999998e-01</td>\n",
       "      <td>0.000025</td>\n",
       "      <td>0.000038</td>\n",
       "      <td>0.624365</td>\n",
       "      <td>0.000078</td>\n",
       "      <td>0.001211</td>\n",
       "      <td>0.000117</td>\n",
       "      <td>0.001129</td>\n",
       "      <td>0.526272</td>\n",
       "      <td>0.000000e+00</td>\n",
       "    </tr>\n",
       "    <tr>\n",
       "      <th>18702</th>\n",
       "      <td>0.000000</td>\n",
       "      <td>0.000322</td>\n",
       "      <td>0.002052</td>\n",
       "      <td>0.388002</td>\n",
       "      <td>0.000085</td>\n",
       "      <td>0.217753</td>\n",
       "      <td>0.000045</td>\n",
       "      <td>0.000235</td>\n",
       "      <td>0.000055</td>\n",
       "      <td>0.000000e+00</td>\n",
       "      <td>...</td>\n",
       "      <td>3.874302e-07</td>\n",
       "      <td>0.000267</td>\n",
       "      <td>0.000959</td>\n",
       "      <td>0.408102</td>\n",
       "      <td>0.000046</td>\n",
       "      <td>0.081501</td>\n",
       "      <td>0.000012</td>\n",
       "      <td>0.000172</td>\n",
       "      <td>0.000540</td>\n",
       "      <td>0.000000e+00</td>\n",
       "    </tr>\n",
       "  </tbody>\n",
       "</table>\n",
       "<p>18703 rows × 40 columns</p>\n",
       "</div>"
      ],
      "text/plain": [
       "             0         1         2         3         4         5         6   \\\n",
       "0      0.000006  0.036191  0.001084  0.417521  0.015894  0.130103  0.380297   \n",
       "1      1.000000  0.000110  0.000251  0.193257  0.016395  0.001994  0.006163   \n",
       "2      0.002061  0.000150  0.000859  0.000052  0.003292  0.286300  0.386616   \n",
       "3      0.999999  0.000059  0.347226  0.000464  0.254375  0.034518  0.007791   \n",
       "4      0.000001  0.000086  0.482813  0.117094  0.000469  0.048661  0.657871   \n",
       "...         ...       ...       ...       ...       ...       ...       ...   \n",
       "18698  0.999999  0.019072  0.002544  0.403452  0.001213  0.000084  0.176048   \n",
       "18699  0.000126  0.024359  0.294195  0.076449  0.191808  0.177252  0.220510   \n",
       "18700  0.999998  0.000074  0.504117  0.004228  0.017080  0.109707  0.453632   \n",
       "18701  0.999993  0.000047  0.000271  0.151443  0.000119  0.003161  0.000233   \n",
       "18702  0.000000  0.000322  0.002052  0.388002  0.000085  0.217753  0.000045   \n",
       "\n",
       "             7         8             9   ...            30        31  \\\n",
       "0      0.002662  0.010086  2.384186e-07  ...  1.490116e-07  0.054377   \n",
       "1      0.331242  0.000261  0.000000e+00  ...  9.999942e-01  0.000248   \n",
       "2      0.000127  0.000057  0.000000e+00  ...  9.999985e-01  0.000232   \n",
       "3      0.197208  0.159063  0.000000e+00  ...  4.179180e-04  0.000185   \n",
       "4      0.000376  0.064168  5.960464e-08  ...  4.321337e-06  0.000195   \n",
       "...         ...       ...           ...  ...           ...       ...   \n",
       "18698  0.000062  0.000038  0.000000e+00  ...  1.680851e-05  0.015794   \n",
       "18699  0.081384  0.093044  3.129244e-06  ...  9.999998e-01  0.050630   \n",
       "18700  0.118613  0.003104  5.960464e-08  ...  4.866421e-04  0.000159   \n",
       "18701  0.000808  0.060348  0.000000e+00  ...  9.999998e-01  0.000025   \n",
       "18702  0.000235  0.000055  0.000000e+00  ...  3.874302e-07  0.000267   \n",
       "\n",
       "             32        33        34        35        36        37        38  \\\n",
       "0      0.000427  0.624760  0.020878  0.086539  0.362347  0.002985  0.031511   \n",
       "1      0.000351  0.441322  0.029269  0.004158  0.009929  0.241629  0.000414   \n",
       "2      0.000825  0.000057  0.003473  0.188852  0.132029  0.000026  0.000166   \n",
       "3      0.218987  0.000312  0.170964  0.043078  0.005081  0.173281  0.239430   \n",
       "4      0.384965  0.177739  0.000853  0.031438  0.400836  0.000111  0.089682   \n",
       "...         ...       ...       ...       ...       ...       ...       ...   \n",
       "18698  0.003468  0.468044  0.000569  0.000069  0.136990  0.000019  0.000203   \n",
       "18699  0.373681  0.080933  0.276470  0.255721  0.314108  0.160489  0.237268   \n",
       "18700  0.275143  0.006447  0.015791  0.082032  0.300696  0.288848  0.019622   \n",
       "18701  0.000038  0.624365  0.000078  0.001211  0.000117  0.001129  0.526272   \n",
       "18702  0.000959  0.408102  0.000046  0.081501  0.000012  0.000172  0.000540   \n",
       "\n",
       "                 39  \n",
       "0      5.960464e-08  \n",
       "1      0.000000e+00  \n",
       "2      0.000000e+00  \n",
       "3      2.980232e-08  \n",
       "4      8.940697e-08  \n",
       "...             ...  \n",
       "18698  0.000000e+00  \n",
       "18699  3.159046e-06  \n",
       "18700  8.940697e-08  \n",
       "18701  0.000000e+00  \n",
       "18702  0.000000e+00  \n",
       "\n",
       "[18703 rows x 40 columns]"
      ]
     },
     "execution_count": 70,
     "metadata": {},
     "output_type": "execute_result"
    }
   ],
   "source": [
    "y_pred"
   ]
  },
  {
   "cell_type": "code",
   "execution_count": 71,
   "metadata": {
    "colab": {
     "base_uri": "https://localhost:8080/",
     "height": 427
    },
    "id": "8M0aZBT7HFzP",
    "outputId": "2ae09b1c-2193-41da-e402-43a5475e2eeb"
   },
   "outputs": [
    {
     "data": {
      "text/plain": [
       "(18703, 18703)"
      ]
     },
     "execution_count": 71,
     "metadata": {},
     "output_type": "execute_result"
    }
   ],
   "source": [
    "result_predict = y_pred.dot(concat_x_pi);\n",
    "result_predict.shape"
   ]
  },
  {
   "cell_type": "code",
   "execution_count": 72,
   "metadata": {},
   "outputs": [
    {
     "data": {
      "text/plain": [
       "(18703, 18703)"
      ]
     },
     "execution_count": 72,
     "metadata": {},
     "output_type": "execute_result"
    }
   ],
   "source": [
    "result_test = y_test.dot(concat_x_pi);\n",
    "result_test.shape"
   ]
  },
  {
   "cell_type": "code",
   "execution_count": 73,
   "metadata": {
    "id": "2_iywgm_0Ivw"
   },
   "outputs": [],
   "source": [
    "sub = abs(result_test - result_predict)\n"
   ]
  },
  {
   "cell_type": "code",
   "execution_count": 74,
   "metadata": {},
   "outputs": [
    {
     "data": {
      "text/html": [
       "<div>\n",
       "<style scoped>\n",
       "    .dataframe tbody tr th:only-of-type {\n",
       "        vertical-align: middle;\n",
       "    }\n",
       "\n",
       "    .dataframe tbody tr th {\n",
       "        vertical-align: top;\n",
       "    }\n",
       "\n",
       "    .dataframe thead th {\n",
       "        text-align: right;\n",
       "    }\n",
       "</style>\n",
       "<table border=\"1\" class=\"dataframe\">\n",
       "  <thead>\n",
       "    <tr style=\"text-align: right;\">\n",
       "      <th></th>\n",
       "      <th>0</th>\n",
       "      <th>1</th>\n",
       "      <th>2</th>\n",
       "      <th>3</th>\n",
       "      <th>4</th>\n",
       "      <th>5</th>\n",
       "      <th>6</th>\n",
       "      <th>7</th>\n",
       "      <th>8</th>\n",
       "      <th>9</th>\n",
       "      <th>...</th>\n",
       "      <th>18693</th>\n",
       "      <th>18694</th>\n",
       "      <th>18695</th>\n",
       "      <th>18696</th>\n",
       "      <th>18697</th>\n",
       "      <th>18698</th>\n",
       "      <th>18699</th>\n",
       "      <th>18700</th>\n",
       "      <th>18701</th>\n",
       "      <th>18702</th>\n",
       "    </tr>\n",
       "  </thead>\n",
       "  <tbody>\n",
       "    <tr>\n",
       "      <th>0</th>\n",
       "      <td>0.332843</td>\n",
       "      <td>0.781165</td>\n",
       "      <td>0.335104</td>\n",
       "      <td>0.247813</td>\n",
       "      <td>0.476768</td>\n",
       "      <td>0.339251</td>\n",
       "      <td>0.366489</td>\n",
       "      <td>0.413989</td>\n",
       "      <td>1.673105</td>\n",
       "      <td>0.871970</td>\n",
       "      <td>...</td>\n",
       "      <td>1.883984</td>\n",
       "      <td>1.059762</td>\n",
       "      <td>0.561775</td>\n",
       "      <td>0.312994</td>\n",
       "      <td>1.770565</td>\n",
       "      <td>0.523233</td>\n",
       "      <td>0.508952</td>\n",
       "      <td>1.280159</td>\n",
       "      <td>0.663477</td>\n",
       "      <td>0.616355</td>\n",
       "    </tr>\n",
       "    <tr>\n",
       "      <th>1</th>\n",
       "      <td>0.810679</td>\n",
       "      <td>0.253849</td>\n",
       "      <td>0.292522</td>\n",
       "      <td>0.571229</td>\n",
       "      <td>0.409513</td>\n",
       "      <td>0.088831</td>\n",
       "      <td>0.976229</td>\n",
       "      <td>0.185721</td>\n",
       "      <td>0.805611</td>\n",
       "      <td>0.582779</td>\n",
       "      <td>...</td>\n",
       "      <td>0.862572</td>\n",
       "      <td>0.977743</td>\n",
       "      <td>0.107466</td>\n",
       "      <td>0.524658</td>\n",
       "      <td>0.527838</td>\n",
       "      <td>0.684995</td>\n",
       "      <td>0.428521</td>\n",
       "      <td>0.066911</td>\n",
       "      <td>0.902183</td>\n",
       "      <td>0.276915</td>\n",
       "    </tr>\n",
       "    <tr>\n",
       "      <th>2</th>\n",
       "      <td>0.107618</td>\n",
       "      <td>0.033278</td>\n",
       "      <td>0.042741</td>\n",
       "      <td>0.064775</td>\n",
       "      <td>0.028449</td>\n",
       "      <td>0.070751</td>\n",
       "      <td>0.074028</td>\n",
       "      <td>0.002700</td>\n",
       "      <td>0.215261</td>\n",
       "      <td>0.048567</td>\n",
       "      <td>...</td>\n",
       "      <td>0.171956</td>\n",
       "      <td>0.041027</td>\n",
       "      <td>0.019988</td>\n",
       "      <td>0.174838</td>\n",
       "      <td>0.126515</td>\n",
       "      <td>0.106255</td>\n",
       "      <td>0.211984</td>\n",
       "      <td>0.194384</td>\n",
       "      <td>0.002866</td>\n",
       "      <td>0.011494</td>\n",
       "    </tr>\n",
       "    <tr>\n",
       "      <th>3</th>\n",
       "      <td>0.039062</td>\n",
       "      <td>0.916379</td>\n",
       "      <td>0.228072</td>\n",
       "      <td>0.152207</td>\n",
       "      <td>0.242725</td>\n",
       "      <td>0.511517</td>\n",
       "      <td>0.321316</td>\n",
       "      <td>0.754250</td>\n",
       "      <td>0.122528</td>\n",
       "      <td>0.003637</td>\n",
       "      <td>...</td>\n",
       "      <td>0.833018</td>\n",
       "      <td>0.112734</td>\n",
       "      <td>0.542163</td>\n",
       "      <td>0.423181</td>\n",
       "      <td>0.962547</td>\n",
       "      <td>0.196058</td>\n",
       "      <td>0.108678</td>\n",
       "      <td>0.313286</td>\n",
       "      <td>0.776387</td>\n",
       "      <td>0.305995</td>\n",
       "    </tr>\n",
       "    <tr>\n",
       "      <th>4</th>\n",
       "      <td>0.081191</td>\n",
       "      <td>0.380902</td>\n",
       "      <td>0.004306</td>\n",
       "      <td>0.483265</td>\n",
       "      <td>0.055566</td>\n",
       "      <td>0.527363</td>\n",
       "      <td>0.769828</td>\n",
       "      <td>0.287320</td>\n",
       "      <td>0.950779</td>\n",
       "      <td>0.119282</td>\n",
       "      <td>...</td>\n",
       "      <td>0.183917</td>\n",
       "      <td>0.468384</td>\n",
       "      <td>0.662632</td>\n",
       "      <td>0.203774</td>\n",
       "      <td>0.060137</td>\n",
       "      <td>0.429334</td>\n",
       "      <td>0.010784</td>\n",
       "      <td>0.527298</td>\n",
       "      <td>0.070166</td>\n",
       "      <td>0.483386</td>\n",
       "    </tr>\n",
       "    <tr>\n",
       "      <th>...</th>\n",
       "      <td>...</td>\n",
       "      <td>...</td>\n",
       "      <td>...</td>\n",
       "      <td>...</td>\n",
       "      <td>...</td>\n",
       "      <td>...</td>\n",
       "      <td>...</td>\n",
       "      <td>...</td>\n",
       "      <td>...</td>\n",
       "      <td>...</td>\n",
       "      <td>...</td>\n",
       "      <td>...</td>\n",
       "      <td>...</td>\n",
       "      <td>...</td>\n",
       "      <td>...</td>\n",
       "      <td>...</td>\n",
       "      <td>...</td>\n",
       "      <td>...</td>\n",
       "      <td>...</td>\n",
       "      <td>...</td>\n",
       "      <td>...</td>\n",
       "    </tr>\n",
       "    <tr>\n",
       "      <th>18698</th>\n",
       "      <td>0.496388</td>\n",
       "      <td>0.358081</td>\n",
       "      <td>0.545730</td>\n",
       "      <td>0.543886</td>\n",
       "      <td>0.643331</td>\n",
       "      <td>0.313730</td>\n",
       "      <td>0.844132</td>\n",
       "      <td>0.141441</td>\n",
       "      <td>0.371795</td>\n",
       "      <td>0.751733</td>\n",
       "      <td>...</td>\n",
       "      <td>0.840324</td>\n",
       "      <td>0.902702</td>\n",
       "      <td>0.167855</td>\n",
       "      <td>0.623517</td>\n",
       "      <td>0.690771</td>\n",
       "      <td>0.682362</td>\n",
       "      <td>0.183207</td>\n",
       "      <td>0.466566</td>\n",
       "      <td>0.819513</td>\n",
       "      <td>0.302390</td>\n",
       "    </tr>\n",
       "    <tr>\n",
       "      <th>18699</th>\n",
       "      <td>0.539168</td>\n",
       "      <td>0.232987</td>\n",
       "      <td>1.013832</td>\n",
       "      <td>0.599607</td>\n",
       "      <td>0.542195</td>\n",
       "      <td>0.032452</td>\n",
       "      <td>0.035457</td>\n",
       "      <td>0.240297</td>\n",
       "      <td>0.457835</td>\n",
       "      <td>0.447678</td>\n",
       "      <td>...</td>\n",
       "      <td>0.776169</td>\n",
       "      <td>0.092778</td>\n",
       "      <td>0.593054</td>\n",
       "      <td>0.764750</td>\n",
       "      <td>0.130515</td>\n",
       "      <td>0.643037</td>\n",
       "      <td>1.025001</td>\n",
       "      <td>0.069173</td>\n",
       "      <td>0.655730</td>\n",
       "      <td>0.238991</td>\n",
       "    </tr>\n",
       "    <tr>\n",
       "      <th>18700</th>\n",
       "      <td>0.405218</td>\n",
       "      <td>0.368520</td>\n",
       "      <td>0.170784</td>\n",
       "      <td>0.169675</td>\n",
       "      <td>0.044842</td>\n",
       "      <td>0.309284</td>\n",
       "      <td>0.009397</td>\n",
       "      <td>0.419108</td>\n",
       "      <td>0.557256</td>\n",
       "      <td>0.015083</td>\n",
       "      <td>...</td>\n",
       "      <td>0.957718</td>\n",
       "      <td>0.033321</td>\n",
       "      <td>0.078869</td>\n",
       "      <td>0.182209</td>\n",
       "      <td>1.278280</td>\n",
       "      <td>0.411791</td>\n",
       "      <td>0.792356</td>\n",
       "      <td>0.727891</td>\n",
       "      <td>0.343714</td>\n",
       "      <td>0.271005</td>\n",
       "    </tr>\n",
       "    <tr>\n",
       "      <th>18701</th>\n",
       "      <td>0.819095</td>\n",
       "      <td>0.470048</td>\n",
       "      <td>0.032799</td>\n",
       "      <td>0.331925</td>\n",
       "      <td>0.334026</td>\n",
       "      <td>0.109227</td>\n",
       "      <td>0.665019</td>\n",
       "      <td>0.332922</td>\n",
       "      <td>0.597733</td>\n",
       "      <td>0.624015</td>\n",
       "      <td>...</td>\n",
       "      <td>1.193448</td>\n",
       "      <td>1.110179</td>\n",
       "      <td>0.064395</td>\n",
       "      <td>0.769630</td>\n",
       "      <td>0.744833</td>\n",
       "      <td>0.347980</td>\n",
       "      <td>0.492912</td>\n",
       "      <td>0.272024</td>\n",
       "      <td>0.956552</td>\n",
       "      <td>0.433828</td>\n",
       "    </tr>\n",
       "    <tr>\n",
       "      <th>18702</th>\n",
       "      <td>0.060925</td>\n",
       "      <td>0.261219</td>\n",
       "      <td>0.633122</td>\n",
       "      <td>0.244229</td>\n",
       "      <td>0.454928</td>\n",
       "      <td>0.184811</td>\n",
       "      <td>0.168423</td>\n",
       "      <td>0.020334</td>\n",
       "      <td>0.044395</td>\n",
       "      <td>0.492771</td>\n",
       "      <td>...</td>\n",
       "      <td>0.379836</td>\n",
       "      <td>0.202418</td>\n",
       "      <td>0.450559</td>\n",
       "      <td>0.545801</td>\n",
       "      <td>0.004288</td>\n",
       "      <td>0.394258</td>\n",
       "      <td>0.302139</td>\n",
       "      <td>0.312522</td>\n",
       "      <td>0.008605</td>\n",
       "      <td>0.038056</td>\n",
       "    </tr>\n",
       "  </tbody>\n",
       "</table>\n",
       "<p>18703 rows × 18703 columns</p>\n",
       "</div>"
      ],
      "text/plain": [
       "          0         1         2         3         4         5         6      \\\n",
       "0      0.332843  0.781165  0.335104  0.247813  0.476768  0.339251  0.366489   \n",
       "1      0.810679  0.253849  0.292522  0.571229  0.409513  0.088831  0.976229   \n",
       "2      0.107618  0.033278  0.042741  0.064775  0.028449  0.070751  0.074028   \n",
       "3      0.039062  0.916379  0.228072  0.152207  0.242725  0.511517  0.321316   \n",
       "4      0.081191  0.380902  0.004306  0.483265  0.055566  0.527363  0.769828   \n",
       "...         ...       ...       ...       ...       ...       ...       ...   \n",
       "18698  0.496388  0.358081  0.545730  0.543886  0.643331  0.313730  0.844132   \n",
       "18699  0.539168  0.232987  1.013832  0.599607  0.542195  0.032452  0.035457   \n",
       "18700  0.405218  0.368520  0.170784  0.169675  0.044842  0.309284  0.009397   \n",
       "18701  0.819095  0.470048  0.032799  0.331925  0.334026  0.109227  0.665019   \n",
       "18702  0.060925  0.261219  0.633122  0.244229  0.454928  0.184811  0.168423   \n",
       "\n",
       "          7         8         9      ...     18693     18694     18695  \\\n",
       "0      0.413989  1.673105  0.871970  ...  1.883984  1.059762  0.561775   \n",
       "1      0.185721  0.805611  0.582779  ...  0.862572  0.977743  0.107466   \n",
       "2      0.002700  0.215261  0.048567  ...  0.171956  0.041027  0.019988   \n",
       "3      0.754250  0.122528  0.003637  ...  0.833018  0.112734  0.542163   \n",
       "4      0.287320  0.950779  0.119282  ...  0.183917  0.468384  0.662632   \n",
       "...         ...       ...       ...  ...       ...       ...       ...   \n",
       "18698  0.141441  0.371795  0.751733  ...  0.840324  0.902702  0.167855   \n",
       "18699  0.240297  0.457835  0.447678  ...  0.776169  0.092778  0.593054   \n",
       "18700  0.419108  0.557256  0.015083  ...  0.957718  0.033321  0.078869   \n",
       "18701  0.332922  0.597733  0.624015  ...  1.193448  1.110179  0.064395   \n",
       "18702  0.020334  0.044395  0.492771  ...  0.379836  0.202418  0.450559   \n",
       "\n",
       "          18696     18697     18698     18699     18700     18701     18702  \n",
       "0      0.312994  1.770565  0.523233  0.508952  1.280159  0.663477  0.616355  \n",
       "1      0.524658  0.527838  0.684995  0.428521  0.066911  0.902183  0.276915  \n",
       "2      0.174838  0.126515  0.106255  0.211984  0.194384  0.002866  0.011494  \n",
       "3      0.423181  0.962547  0.196058  0.108678  0.313286  0.776387  0.305995  \n",
       "4      0.203774  0.060137  0.429334  0.010784  0.527298  0.070166  0.483386  \n",
       "...         ...       ...       ...       ...       ...       ...       ...  \n",
       "18698  0.623517  0.690771  0.682362  0.183207  0.466566  0.819513  0.302390  \n",
       "18699  0.764750  0.130515  0.643037  1.025001  0.069173  0.655730  0.238991  \n",
       "18700  0.182209  1.278280  0.411791  0.792356  0.727891  0.343714  0.271005  \n",
       "18701  0.769630  0.744833  0.347980  0.492912  0.272024  0.956552  0.433828  \n",
       "18702  0.545801  0.004288  0.394258  0.302139  0.312522  0.008605  0.038056  \n",
       "\n",
       "[18703 rows x 18703 columns]"
      ]
     },
     "execution_count": 74,
     "metadata": {},
     "output_type": "execute_result"
    }
   ],
   "source": [
    "sub"
   ]
  },
  {
   "cell_type": "code",
   "execution_count": 75,
   "metadata": {
    "id": "LzRbMb3jGQ70"
   },
   "outputs": [
    {
     "data": {
      "text/html": [
       "<div>\n",
       "<style scoped>\n",
       "    .dataframe tbody tr th:only-of-type {\n",
       "        vertical-align: middle;\n",
       "    }\n",
       "\n",
       "    .dataframe tbody tr th {\n",
       "        vertical-align: top;\n",
       "    }\n",
       "\n",
       "    .dataframe thead th {\n",
       "        text-align: right;\n",
       "    }\n",
       "</style>\n",
       "<table border=\"1\" class=\"dataframe\">\n",
       "  <thead>\n",
       "    <tr style=\"text-align: right;\">\n",
       "      <th></th>\n",
       "      <th>0</th>\n",
       "      <th>1</th>\n",
       "      <th>2</th>\n",
       "      <th>3</th>\n",
       "      <th>4</th>\n",
       "      <th>5</th>\n",
       "      <th>6</th>\n",
       "      <th>7</th>\n",
       "      <th>8</th>\n",
       "      <th>9</th>\n",
       "      <th>...</th>\n",
       "      <th>18693</th>\n",
       "      <th>18694</th>\n",
       "      <th>18695</th>\n",
       "      <th>18696</th>\n",
       "      <th>18697</th>\n",
       "      <th>18698</th>\n",
       "      <th>18699</th>\n",
       "      <th>18700</th>\n",
       "      <th>18701</th>\n",
       "      <th>18702</th>\n",
       "    </tr>\n",
       "  </thead>\n",
       "  <tbody>\n",
       "    <tr>\n",
       "      <th>0</th>\n",
       "      <td>0.044177</td>\n",
       "      <td>0.160770</td>\n",
       "      <td>0.048114</td>\n",
       "      <td>0.051203</td>\n",
       "      <td>0.102596</td>\n",
       "      <td>0.147513</td>\n",
       "      <td>0.054325</td>\n",
       "      <td>0.091143</td>\n",
       "      <td>0.204046</td>\n",
       "      <td>0.121180</td>\n",
       "      <td>...</td>\n",
       "      <td>0.339247</td>\n",
       "      <td>0.164770</td>\n",
       "      <td>0.308045</td>\n",
       "      <td>0.076427</td>\n",
       "      <td>0.470762</td>\n",
       "      <td>0.061892</td>\n",
       "      <td>0.092783</td>\n",
       "      <td>0.794135</td>\n",
       "      <td>0.122253</td>\n",
       "      <td>0.169957</td>\n",
       "    </tr>\n",
       "    <tr>\n",
       "      <th>1</th>\n",
       "      <td>0.085258</td>\n",
       "      <td>0.029939</td>\n",
       "      <td>0.034023</td>\n",
       "      <td>0.151884</td>\n",
       "      <td>0.115772</td>\n",
       "      <td>0.034553</td>\n",
       "      <td>0.198513</td>\n",
       "      <td>0.020718</td>\n",
       "      <td>0.078075</td>\n",
       "      <td>0.068753</td>\n",
       "      <td>...</td>\n",
       "      <td>0.101838</td>\n",
       "      <td>0.153506</td>\n",
       "      <td>0.039779</td>\n",
       "      <td>0.142449</td>\n",
       "      <td>0.095279</td>\n",
       "      <td>0.072525</td>\n",
       "      <td>0.059817</td>\n",
       "      <td>0.046215</td>\n",
       "      <td>0.161989</td>\n",
       "      <td>0.048188</td>\n",
       "    </tr>\n",
       "    <tr>\n",
       "      <th>2</th>\n",
       "      <td>0.018383</td>\n",
       "      <td>0.005567</td>\n",
       "      <td>0.005381</td>\n",
       "      <td>0.020524</td>\n",
       "      <td>0.007651</td>\n",
       "      <td>0.034246</td>\n",
       "      <td>0.018356</td>\n",
       "      <td>0.000480</td>\n",
       "      <td>0.039830</td>\n",
       "      <td>0.006373</td>\n",
       "      <td>...</td>\n",
       "      <td>0.034676</td>\n",
       "      <td>0.007605</td>\n",
       "      <td>0.007984</td>\n",
       "      <td>0.059440</td>\n",
       "      <td>0.033876</td>\n",
       "      <td>0.015071</td>\n",
       "      <td>0.042218</td>\n",
       "      <td>0.075086</td>\n",
       "      <td>0.000882</td>\n",
       "      <td>0.002822</td>\n",
       "    </tr>\n",
       "    <tr>\n",
       "      <th>3</th>\n",
       "      <td>0.005728</td>\n",
       "      <td>0.182662</td>\n",
       "      <td>0.043021</td>\n",
       "      <td>0.063490</td>\n",
       "      <td>0.056649</td>\n",
       "      <td>0.161384</td>\n",
       "      <td>0.127098</td>\n",
       "      <td>0.146082</td>\n",
       "      <td>0.020647</td>\n",
       "      <td>0.000706</td>\n",
       "      <td>...</td>\n",
       "      <td>0.187635</td>\n",
       "      <td>0.048486</td>\n",
       "      <td>0.148123</td>\n",
       "      <td>0.164575</td>\n",
       "      <td>0.429127</td>\n",
       "      <td>0.032460</td>\n",
       "      <td>0.021628</td>\n",
       "      <td>0.147085</td>\n",
       "      <td>0.219050</td>\n",
       "      <td>0.068444</td>\n",
       "    </tr>\n",
       "    <tr>\n",
       "      <th>4</th>\n",
       "      <td>0.013994</td>\n",
       "      <td>0.067693</td>\n",
       "      <td>0.000721</td>\n",
       "      <td>0.187655</td>\n",
       "      <td>0.010449</td>\n",
       "      <td>0.101208</td>\n",
       "      <td>0.238309</td>\n",
       "      <td>0.065344</td>\n",
       "      <td>0.534861</td>\n",
       "      <td>0.020073</td>\n",
       "      <td>...</td>\n",
       "      <td>0.027343</td>\n",
       "      <td>0.109103</td>\n",
       "      <td>0.132986</td>\n",
       "      <td>0.061897</td>\n",
       "      <td>0.012724</td>\n",
       "      <td>0.078985</td>\n",
       "      <td>0.002758</td>\n",
       "      <td>0.101554</td>\n",
       "      <td>0.011086</td>\n",
       "      <td>0.091310</td>\n",
       "    </tr>\n",
       "    <tr>\n",
       "      <th>...</th>\n",
       "      <td>...</td>\n",
       "      <td>...</td>\n",
       "      <td>...</td>\n",
       "      <td>...</td>\n",
       "      <td>...</td>\n",
       "      <td>...</td>\n",
       "      <td>...</td>\n",
       "      <td>...</td>\n",
       "      <td>...</td>\n",
       "      <td>...</td>\n",
       "      <td>...</td>\n",
       "      <td>...</td>\n",
       "      <td>...</td>\n",
       "      <td>...</td>\n",
       "      <td>...</td>\n",
       "      <td>...</td>\n",
       "      <td>...</td>\n",
       "      <td>...</td>\n",
       "      <td>...</td>\n",
       "      <td>...</td>\n",
       "      <td>...</td>\n",
       "    </tr>\n",
       "    <tr>\n",
       "      <th>18698</th>\n",
       "      <td>0.079069</td>\n",
       "      <td>0.073639</td>\n",
       "      <td>0.090765</td>\n",
       "      <td>0.149562</td>\n",
       "      <td>0.167945</td>\n",
       "      <td>0.163946</td>\n",
       "      <td>0.160156</td>\n",
       "      <td>0.031394</td>\n",
       "      <td>0.064120</td>\n",
       "      <td>0.111705</td>\n",
       "      <td>...</td>\n",
       "      <td>0.130004</td>\n",
       "      <td>0.144055</td>\n",
       "      <td>0.107552</td>\n",
       "      <td>0.185651</td>\n",
       "      <td>0.154191</td>\n",
       "      <td>0.103627</td>\n",
       "      <td>0.043096</td>\n",
       "      <td>0.233284</td>\n",
       "      <td>0.165899</td>\n",
       "      <td>0.081457</td>\n",
       "    </tr>\n",
       "    <tr>\n",
       "      <th>18699</th>\n",
       "      <td>0.054795</td>\n",
       "      <td>0.029983</td>\n",
       "      <td>0.101695</td>\n",
       "      <td>0.110910</td>\n",
       "      <td>0.065593</td>\n",
       "      <td>0.005728</td>\n",
       "      <td>0.006402</td>\n",
       "      <td>0.033785</td>\n",
       "      <td>0.057584</td>\n",
       "      <td>0.047138</td>\n",
       "      <td>...</td>\n",
       "      <td>0.104350</td>\n",
       "      <td>0.014894</td>\n",
       "      <td>0.086702</td>\n",
       "      <td>0.144557</td>\n",
       "      <td>0.022020</td>\n",
       "      <td>0.062115</td>\n",
       "      <td>0.129941</td>\n",
       "      <td>0.013477</td>\n",
       "      <td>0.093583</td>\n",
       "      <td>0.038630</td>\n",
       "    </tr>\n",
       "    <tr>\n",
       "      <th>18700</th>\n",
       "      <td>0.053303</td>\n",
       "      <td>0.052368</td>\n",
       "      <td>0.022909</td>\n",
       "      <td>0.057631</td>\n",
       "      <td>0.008289</td>\n",
       "      <td>0.063018</td>\n",
       "      <td>0.002602</td>\n",
       "      <td>0.069180</td>\n",
       "      <td>0.134260</td>\n",
       "      <td>0.002084</td>\n",
       "      <td>...</td>\n",
       "      <td>0.143511</td>\n",
       "      <td>0.006899</td>\n",
       "      <td>0.015048</td>\n",
       "      <td>0.047247</td>\n",
       "      <td>0.295243</td>\n",
       "      <td>0.059054</td>\n",
       "      <td>0.131084</td>\n",
       "      <td>0.175283</td>\n",
       "      <td>0.055068</td>\n",
       "      <td>0.044153</td>\n",
       "    </tr>\n",
       "    <tr>\n",
       "      <th>18701</th>\n",
       "      <td>0.123910</td>\n",
       "      <td>0.096099</td>\n",
       "      <td>0.004893</td>\n",
       "      <td>0.104427</td>\n",
       "      <td>0.122068</td>\n",
       "      <td>0.062965</td>\n",
       "      <td>0.154507</td>\n",
       "      <td>0.060528</td>\n",
       "      <td>0.082100</td>\n",
       "      <td>0.102302</td>\n",
       "      <td>...</td>\n",
       "      <td>0.266501</td>\n",
       "      <td>0.261888</td>\n",
       "      <td>0.048135</td>\n",
       "      <td>0.500115</td>\n",
       "      <td>0.293502</td>\n",
       "      <td>0.048694</td>\n",
       "      <td>0.099382</td>\n",
       "      <td>0.222589</td>\n",
       "      <td>0.321493</td>\n",
       "      <td>0.120928</td>\n",
       "    </tr>\n",
       "    <tr>\n",
       "      <th>18702</th>\n",
       "      <td>0.016044</td>\n",
       "      <td>0.092180</td>\n",
       "      <td>0.175908</td>\n",
       "      <td>0.103490</td>\n",
       "      <td>0.183140</td>\n",
       "      <td>0.193667</td>\n",
       "      <td>0.051162</td>\n",
       "      <td>0.008500</td>\n",
       "      <td>0.011562</td>\n",
       "      <td>0.122070</td>\n",
       "      <td>...</td>\n",
       "      <td>0.126890</td>\n",
       "      <td>0.054255</td>\n",
       "      <td>0.401397</td>\n",
       "      <td>0.200864</td>\n",
       "      <td>0.001978</td>\n",
       "      <td>0.095975</td>\n",
       "      <td>0.098352</td>\n",
       "      <td>0.471506</td>\n",
       "      <td>0.002979</td>\n",
       "      <td>0.018830</td>\n",
       "    </tr>\n",
       "  </tbody>\n",
       "</table>\n",
       "<p>18703 rows × 18703 columns</p>\n",
       "</div>"
      ],
      "text/plain": [
       "          0         1         2         3         4         5         6      \\\n",
       "0      0.044177  0.160770  0.048114  0.051203  0.102596  0.147513  0.054325   \n",
       "1      0.085258  0.029939  0.034023  0.151884  0.115772  0.034553  0.198513   \n",
       "2      0.018383  0.005567  0.005381  0.020524  0.007651  0.034246  0.018356   \n",
       "3      0.005728  0.182662  0.043021  0.063490  0.056649  0.161384  0.127098   \n",
       "4      0.013994  0.067693  0.000721  0.187655  0.010449  0.101208  0.238309   \n",
       "...         ...       ...       ...       ...       ...       ...       ...   \n",
       "18698  0.079069  0.073639  0.090765  0.149562  0.167945  0.163946  0.160156   \n",
       "18699  0.054795  0.029983  0.101695  0.110910  0.065593  0.005728  0.006402   \n",
       "18700  0.053303  0.052368  0.022909  0.057631  0.008289  0.063018  0.002602   \n",
       "18701  0.123910  0.096099  0.004893  0.104427  0.122068  0.062965  0.154507   \n",
       "18702  0.016044  0.092180  0.175908  0.103490  0.183140  0.193667  0.051162   \n",
       "\n",
       "          7         8         9      ...     18693     18694     18695  \\\n",
       "0      0.091143  0.204046  0.121180  ...  0.339247  0.164770  0.308045   \n",
       "1      0.020718  0.078075  0.068753  ...  0.101838  0.153506  0.039779   \n",
       "2      0.000480  0.039830  0.006373  ...  0.034676  0.007605  0.007984   \n",
       "3      0.146082  0.020647  0.000706  ...  0.187635  0.048486  0.148123   \n",
       "4      0.065344  0.534861  0.020073  ...  0.027343  0.109103  0.132986   \n",
       "...         ...       ...       ...  ...       ...       ...       ...   \n",
       "18698  0.031394  0.064120  0.111705  ...  0.130004  0.144055  0.107552   \n",
       "18699  0.033785  0.057584  0.047138  ...  0.104350  0.014894  0.086702   \n",
       "18700  0.069180  0.134260  0.002084  ...  0.143511  0.006899  0.015048   \n",
       "18701  0.060528  0.082100  0.102302  ...  0.266501  0.261888  0.048135   \n",
       "18702  0.008500  0.011562  0.122070  ...  0.126890  0.054255  0.401397   \n",
       "\n",
       "          18696     18697     18698     18699     18700     18701     18702  \n",
       "0      0.076427  0.470762  0.061892  0.092783  0.794135  0.122253  0.169957  \n",
       "1      0.142449  0.095279  0.072525  0.059817  0.046215  0.161989  0.048188  \n",
       "2      0.059440  0.033876  0.015071  0.042218  0.075086  0.000882  0.002822  \n",
       "3      0.164575  0.429127  0.032460  0.021628  0.147085  0.219050  0.068444  \n",
       "4      0.061897  0.012724  0.078985  0.002758  0.101554  0.011086  0.091310  \n",
       "...         ...       ...       ...       ...       ...       ...       ...  \n",
       "18698  0.185651  0.154191  0.103627  0.043096  0.233284  0.165899  0.081457  \n",
       "18699  0.144557  0.022020  0.062115  0.129941  0.013477  0.093583  0.038630  \n",
       "18700  0.047247  0.295243  0.059054  0.131084  0.175283  0.055068  0.044153  \n",
       "18701  0.500115  0.293502  0.048694  0.099382  0.222589  0.321493  0.120928  \n",
       "18702  0.200864  0.001978  0.095975  0.098352  0.471506  0.002979  0.018830  \n",
       "\n",
       "[18703 rows x 18703 columns]"
      ]
     },
     "execution_count": 75,
     "metadata": {},
     "output_type": "execute_result"
    }
   ],
   "source": [
    "sub = abs(result_test - result_predict)/(result_test)\n",
    "sub"
   ]
  },
  {
   "cell_type": "code",
   "execution_count": 76,
   "metadata": {},
   "outputs": [
    {
     "data": {
      "text/plain": [
       "<matplotlib.lines.Line2D at 0x22a2c6f3208>"
      ]
     },
     "execution_count": 76,
     "metadata": {},
     "output_type": "execute_result"
    },
    {
     "data": {
      "image/png": "[encoded data removed]",
      "text/plain": [
       "<Figure size 432x288 with 1 Axes>"
      ]
     },
     "metadata": {
      "needs_background": "light"
     },
     "output_type": "display_data"
    }
   ],
   "source": [
    "suboptimality = np.diag(sub)\n",
    "#plt.plot(suboptimality[48:72])\n",
    "plt.xlabel('number of components')\n",
    "plt.ylabel('element wise suboptimality')\n",
    "plt.title('F*-F^/')\n",
    "plt.axhline(y=0.15, color='r', linestyle='-')"
   ]
  },
  {
   "cell_type": "code",
   "execution_count": 77,
   "metadata": {},
   "outputs": [
    {
     "data": {
      "text/plain": [
       "(18703,)"
      ]
     },
     "execution_count": 77,
     "metadata": {},
     "output_type": "execute_result"
    }
   ],
   "source": [
    "suboptimality.shape"
   ]
  },
  {
   "cell_type": "code",
   "execution_count": 78,
   "metadata": {},
   "outputs": [
    {
     "data": {
      "text/plain": [
       "0.13981318016718886"
      ]
     },
     "execution_count": 78,
     "metadata": {},
     "output_type": "execute_result"
    }
   ],
   "source": [
    "#Calculating the suboptimality for T=10, two tank model, batch normalization, activation = sigmoid, ReLu\n",
    "#loss= binary cross entropy, pumps =4 \n",
    "T = np.mean(suboptimality)\n",
    "T"
   ]
  },
  {
   "cell_type": "code",
   "execution_count": null,
   "metadata": {},
   "outputs": [],
   "source": []
  }
 ],
 "metadata": {
  "colab": {
   "collapsed_sections": [],
   "name": "FinalCodeDL.ipynb",
   "provenance": [],
   "toc_visible": true
  },
  "kernelspec": {
   "display_name": "Python 3",
   "language": "python",
   "name": "python3"
  },
  "language_info": {
   "codemirror_mode": {
    "name": "ipython",
    "version": 3
   },
   "file_extension": ".py",
   "mimetype": "text/x-python",
   "name": "python",
   "nbconvert_exporter": "python",
   "pygments_lexer": "ipython3",
   "version": "3.7.6"
  }
 },
 "nbformat": 4,
 "nbformat_minor": 1
}
